{
 "cells": [
  {
   "cell_type": "code",
   "execution_count": 62,
   "metadata": {
    "colab": {
     "base_uri": "https://localhost:8080/"
    },
    "executionInfo": {
     "elapsed": 11810,
     "status": "ok",
     "timestamp": 1640161279271,
     "user": {
      "displayName": "Antonius Ricky",
      "photoUrl": "https://lh3.googleusercontent.com/a/default-user=s64",
      "userId": "13788256783846812684"
     },
     "user_tz": -420
    },
    "id": "Go3V6Mh35YYP",
    "outputId": "a8eef122-f4f9-4e06-aa82-03d8e99d9e1e"
   },
   "outputs": [
    {
     "name": "stdout",
     "output_type": "stream",
     "text": [
      "Requirement already satisfied: pandas in /Users/minseokim/opt/anaconda3/lib/python3.9/site-packages (2.2.3)\n",
      "Requirement already satisfied: numpy>=1.22.4 in /Users/minseokim/opt/anaconda3/lib/python3.9/site-packages (from pandas) (1.24.0)\n",
      "Requirement already satisfied: python-dateutil>=2.8.2 in /Users/minseokim/opt/anaconda3/lib/python3.9/site-packages (from pandas) (2.8.2)\n",
      "Requirement already satisfied: pytz>=2020.1 in /Users/minseokim/opt/anaconda3/lib/python3.9/site-packages (from pandas) (2024.1)\n",
      "Requirement already satisfied: tzdata>=2022.7 in /Users/minseokim/opt/anaconda3/lib/python3.9/site-packages (from pandas) (2024.1)\n",
      "Requirement already satisfied: six>=1.5 in /Users/minseokim/opt/anaconda3/lib/python3.9/site-packages (from python-dateutil>=2.8.2->pandas) (1.16.0)\n",
      "Requirement already satisfied: pandas-datareader in /Users/minseokim/opt/anaconda3/lib/python3.9/site-packages (0.10.0)\n",
      "Requirement already satisfied: lxml in /Users/minseokim/opt/anaconda3/lib/python3.9/site-packages (from pandas-datareader) (4.9.1)\n",
      "Requirement already satisfied: pandas>=0.23 in /Users/minseokim/opt/anaconda3/lib/python3.9/site-packages (from pandas-datareader) (2.2.3)\n",
      "Requirement already satisfied: requests>=2.19.0 in /Users/minseokim/opt/anaconda3/lib/python3.9/site-packages (from pandas-datareader) (2.32.3)\n",
      "Requirement already satisfied: numpy>=1.22.4 in /Users/minseokim/opt/anaconda3/lib/python3.9/site-packages (from pandas>=0.23->pandas-datareader) (1.24.0)\n",
      "Requirement already satisfied: python-dateutil>=2.8.2 in /Users/minseokim/opt/anaconda3/lib/python3.9/site-packages (from pandas>=0.23->pandas-datareader) (2.8.2)\n",
      "Requirement already satisfied: pytz>=2020.1 in /Users/minseokim/opt/anaconda3/lib/python3.9/site-packages (from pandas>=0.23->pandas-datareader) (2024.1)\n",
      "Requirement already satisfied: tzdata>=2022.7 in /Users/minseokim/opt/anaconda3/lib/python3.9/site-packages (from pandas>=0.23->pandas-datareader) (2024.1)\n",
      "Requirement already satisfied: charset-normalizer<4,>=2 in /Users/minseokim/opt/anaconda3/lib/python3.9/site-packages (from requests>=2.19.0->pandas-datareader) (2.0.4)\n",
      "Requirement already satisfied: idna<4,>=2.5 in /Users/minseokim/opt/anaconda3/lib/python3.9/site-packages (from requests>=2.19.0->pandas-datareader) (3.3)\n",
      "Requirement already satisfied: urllib3<3,>=1.21.1 in /Users/minseokim/opt/anaconda3/lib/python3.9/site-packages (from requests>=2.19.0->pandas-datareader) (1.26.11)\n",
      "Requirement already satisfied: certifi>=2017.4.17 in /Users/minseokim/opt/anaconda3/lib/python3.9/site-packages (from requests>=2.19.0->pandas-datareader) (2022.9.24)\n",
      "Requirement already satisfied: six>=1.5 in /Users/minseokim/opt/anaconda3/lib/python3.9/site-packages (from python-dateutil>=2.8.2->pandas>=0.23->pandas-datareader) (1.16.0)\n",
      "Requirement already satisfied: yfinance in /Users/minseokim/opt/anaconda3/lib/python3.9/site-packages (0.2.43)\n",
      "Requirement already satisfied: pandas>=1.3.0 in /Users/minseokim/opt/anaconda3/lib/python3.9/site-packages (from yfinance) (2.2.3)\n",
      "Requirement already satisfied: numpy>=1.16.5 in /Users/minseokim/opt/anaconda3/lib/python3.9/site-packages (from yfinance) (1.24.0)\n",
      "Requirement already satisfied: requests>=2.31 in /Users/minseokim/opt/anaconda3/lib/python3.9/site-packages (from yfinance) (2.32.3)\n",
      "Requirement already satisfied: multitasking>=0.0.7 in /Users/minseokim/opt/anaconda3/lib/python3.9/site-packages (from yfinance) (0.0.11)\n",
      "Requirement already satisfied: lxml>=4.9.1 in /Users/minseokim/opt/anaconda3/lib/python3.9/site-packages (from yfinance) (4.9.1)\n",
      "Requirement already satisfied: platformdirs>=2.0.0 in /Users/minseokim/opt/anaconda3/lib/python3.9/site-packages (from yfinance) (2.5.2)\n",
      "Requirement already satisfied: pytz>=2022.5 in /Users/minseokim/opt/anaconda3/lib/python3.9/site-packages (from yfinance) (2024.1)\n",
      "Requirement already satisfied: frozendict>=2.3.4 in /Users/minseokim/opt/anaconda3/lib/python3.9/site-packages (from yfinance) (2.4.4)\n",
      "Requirement already satisfied: peewee>=3.16.2 in /Users/minseokim/opt/anaconda3/lib/python3.9/site-packages (from yfinance) (3.17.6)\n",
      "Requirement already satisfied: beautifulsoup4>=4.11.1 in /Users/minseokim/opt/anaconda3/lib/python3.9/site-packages (from yfinance) (4.11.1)\n",
      "Requirement already satisfied: html5lib>=1.1 in /Users/minseokim/opt/anaconda3/lib/python3.9/site-packages (from yfinance) (1.1)\n",
      "Requirement already satisfied: soupsieve>1.2 in /Users/minseokim/opt/anaconda3/lib/python3.9/site-packages (from beautifulsoup4>=4.11.1->yfinance) (2.3.1)\n",
      "Requirement already satisfied: six>=1.9 in /Users/minseokim/opt/anaconda3/lib/python3.9/site-packages (from html5lib>=1.1->yfinance) (1.16.0)\n",
      "Requirement already satisfied: webencodings in /Users/minseokim/opt/anaconda3/lib/python3.9/site-packages (from html5lib>=1.1->yfinance) (0.5.1)\n",
      "Requirement already satisfied: python-dateutil>=2.8.2 in /Users/minseokim/opt/anaconda3/lib/python3.9/site-packages (from pandas>=1.3.0->yfinance) (2.8.2)\n",
      "Requirement already satisfied: tzdata>=2022.7 in /Users/minseokim/opt/anaconda3/lib/python3.9/site-packages (from pandas>=1.3.0->yfinance) (2024.1)\n",
      "Requirement already satisfied: charset-normalizer<4,>=2 in /Users/minseokim/opt/anaconda3/lib/python3.9/site-packages (from requests>=2.31->yfinance) (2.0.4)\n",
      "Requirement already satisfied: idna<4,>=2.5 in /Users/minseokim/opt/anaconda3/lib/python3.9/site-packages (from requests>=2.31->yfinance) (3.3)\n",
      "Requirement already satisfied: urllib3<3,>=1.21.1 in /Users/minseokim/opt/anaconda3/lib/python3.9/site-packages (from requests>=2.31->yfinance) (1.26.11)\n",
      "Requirement already satisfied: certifi>=2017.4.17 in /Users/minseokim/opt/anaconda3/lib/python3.9/site-packages (from requests>=2.31->yfinance) (2022.9.24)\n"
     ]
    }
   ],
   "source": [
    "!pip install --upgrade pandas\n",
    "!pip install --upgrade pandas-datareader\n",
    "!pip install yfinance"
   ]
  },
  {
   "cell_type": "code",
   "execution_count": 63,
   "metadata": {
    "executionInfo": {
     "elapsed": 1136,
     "status": "ok",
     "timestamp": 1640161280392,
     "user": {
      "displayName": "Antonius Ricky",
      "photoUrl": "https://lh3.googleusercontent.com/a/default-user=s64",
      "userId": "13788256783846812684"
     },
     "user_tz": -420
    },
    "id": "thcpjP0J339B"
   },
   "outputs": [],
   "source": [
    "import numpy as np\n",
    "import pandas as pd\n",
    "from matplotlib import style\n",
    "import datetime\n",
    "import pandas_datareader.data as web\n",
    "from sklearn.pipeline import make_pipeline\n",
    "from sklearn.preprocessing import StandardScaler"
   ]
  },
  {
   "cell_type": "code",
   "execution_count": 93,
   "metadata": {
    "executionInfo": {
     "elapsed": 1542,
     "status": "ok",
     "timestamp": 1640161281923,
     "user": {
      "displayName": "Antonius Ricky",
      "photoUrl": "https://lh3.googleusercontent.com/a/default-user=s64",
      "userId": "13788256783846812684"
     },
     "user_tz": -420
    },
    "id": "7kYhiNz44gRH"
   },
   "outputs": [
    {
     "name": "stderr",
     "output_type": "stream",
     "text": [
      "[*********************100%***********************]  1 of 1 completed\n",
      "[*********************100%***********************]  1 of 1 completed\n",
      "[*********************100%***********************]  1 of 1 completed\n"
     ]
    }
   ],
   "source": [
    "import yfinance as yf\n",
    "import csv\n",
    "\n",
    "# Define the stock ticker and the date range\n",
    "ticker = 'BBCA.JK'\n",
    "train_start_date = '2010-01-04'\n",
    "train_end_date = '2019-12-01'\n",
    "\n",
    "test_start_date = '2020-01-02'\n",
    "test_end_date = '2022-12-01'\n",
    "\n",
    "validation_start_date = '2023-01-02'\n",
    "validation_end_date = datetime.date.today()\n",
    "\n",
    "# Get the data\n",
    "train_data = yf.download(ticker, start=train_start_date, end=train_end_date)\n",
    "\n",
    "train_data.to_csv('train_data.csv')\n",
    "\n",
    "\n",
    "# Get the stock data using yahoo API:\n",
    "# get 2009-2019 data to train our model\n",
    "#train_data = web.DataReader('BBCA.JK', 'yahoo', datetime.datetime(2010,1,4),datetime.datetime(2019,12,1)) \n",
    "\n",
    "# get 2020 data to present date to test the SVM model\n",
    "# test_data = web.DataReader('BBCA.JK', 'yahoo',  datetime.datetime(2020,1,2), datetime.date.today()) \n",
    "test_data = yf.download(ticker, start=test_start_date, end=test_end_date)\n",
    "validation_data = yf.download(ticker, start=validation_start_date, end=validation_end_date)\n",
    "#test_data = web.DataReader('BBCA.JK', 'yahoo',  datetime.datetime(2020,1,4), datetime.datetime(2021,12,1)) "
   ]
  },
  {
   "cell_type": "code",
   "execution_count": 65,
   "metadata": {
    "colab": {
     "base_uri": "https://localhost:8080/",
     "height": 450
    },
    "executionInfo": {
     "elapsed": 47,
     "status": "ok",
     "timestamp": 1640161281940,
     "user": {
      "displayName": "Antonius Ricky",
      "photoUrl": "https://lh3.googleusercontent.com/a/default-user=s64",
      "userId": "13788256783846812684"
     },
     "user_tz": -420
    },
    "id": "ISR4RsHQ5sFy",
    "outputId": "c7cf73c8-46e9-4573-b7e6-829776307be0"
   },
   "outputs": [
    {
     "data": {
      "text/html": [
       "<div>\n",
       "<style scoped>\n",
       "    .dataframe tbody tr th:only-of-type {\n",
       "        vertical-align: middle;\n",
       "    }\n",
       "\n",
       "    .dataframe tbody tr th {\n",
       "        vertical-align: top;\n",
       "    }\n",
       "\n",
       "    .dataframe thead th {\n",
       "        text-align: right;\n",
       "    }\n",
       "</style>\n",
       "<table border=\"1\" class=\"dataframe\">\n",
       "  <thead>\n",
       "    <tr style=\"text-align: right;\">\n",
       "      <th></th>\n",
       "      <th>Open</th>\n",
       "      <th>High</th>\n",
       "      <th>Low</th>\n",
       "      <th>Close</th>\n",
       "      <th>Adj Close</th>\n",
       "      <th>Volume</th>\n",
       "    </tr>\n",
       "    <tr>\n",
       "      <th>Date</th>\n",
       "      <th></th>\n",
       "      <th></th>\n",
       "      <th></th>\n",
       "      <th></th>\n",
       "      <th></th>\n",
       "      <th></th>\n",
       "    </tr>\n",
       "  </thead>\n",
       "  <tbody>\n",
       "    <tr>\n",
       "      <th>2010-01-04</th>\n",
       "      <td>1010.0</td>\n",
       "      <td>1010.0</td>\n",
       "      <td>965.0</td>\n",
       "      <td>1010.0</td>\n",
       "      <td>796.387817</td>\n",
       "      <td>77812500</td>\n",
       "    </tr>\n",
       "    <tr>\n",
       "      <th>2010-01-05</th>\n",
       "      <td>1020.0</td>\n",
       "      <td>1020.0</td>\n",
       "      <td>990.0</td>\n",
       "      <td>1020.0</td>\n",
       "      <td>804.272766</td>\n",
       "      <td>44442500</td>\n",
       "    </tr>\n",
       "    <tr>\n",
       "      <th>2010-01-06</th>\n",
       "      <td>990.0</td>\n",
       "      <td>1020.0</td>\n",
       "      <td>990.0</td>\n",
       "      <td>990.0</td>\n",
       "      <td>780.617615</td>\n",
       "      <td>27782500</td>\n",
       "    </tr>\n",
       "    <tr>\n",
       "      <th>2010-01-07</th>\n",
       "      <td>995.0</td>\n",
       "      <td>995.0</td>\n",
       "      <td>965.0</td>\n",
       "      <td>995.0</td>\n",
       "      <td>784.560242</td>\n",
       "      <td>38632500</td>\n",
       "    </tr>\n",
       "    <tr>\n",
       "      <th>2010-01-08</th>\n",
       "      <td>970.0</td>\n",
       "      <td>995.0</td>\n",
       "      <td>970.0</td>\n",
       "      <td>970.0</td>\n",
       "      <td>764.847595</td>\n",
       "      <td>27427500</td>\n",
       "    </tr>\n",
       "    <tr>\n",
       "      <th>...</th>\n",
       "      <td>...</td>\n",
       "      <td>...</td>\n",
       "      <td>...</td>\n",
       "      <td>...</td>\n",
       "      <td>...</td>\n",
       "      <td>...</td>\n",
       "    </tr>\n",
       "    <tr>\n",
       "      <th>2019-11-25</th>\n",
       "      <td>6330.0</td>\n",
       "      <td>6335.0</td>\n",
       "      <td>6275.0</td>\n",
       "      <td>6275.0</td>\n",
       "      <td>5610.080078</td>\n",
       "      <td>55133500</td>\n",
       "    </tr>\n",
       "    <tr>\n",
       "      <th>2019-11-26</th>\n",
       "      <td>6330.0</td>\n",
       "      <td>6330.0</td>\n",
       "      <td>6270.0</td>\n",
       "      <td>6285.0</td>\n",
       "      <td>5619.019043</td>\n",
       "      <td>192783500</td>\n",
       "    </tr>\n",
       "    <tr>\n",
       "      <th>2019-11-27</th>\n",
       "      <td>6270.0</td>\n",
       "      <td>6300.0</td>\n",
       "      <td>6240.0</td>\n",
       "      <td>6300.0</td>\n",
       "      <td>5632.430176</td>\n",
       "      <td>58833500</td>\n",
       "    </tr>\n",
       "    <tr>\n",
       "      <th>2019-11-28</th>\n",
       "      <td>6295.0</td>\n",
       "      <td>6295.0</td>\n",
       "      <td>6245.0</td>\n",
       "      <td>6250.0</td>\n",
       "      <td>5587.728027</td>\n",
       "      <td>44248000</td>\n",
       "    </tr>\n",
       "    <tr>\n",
       "      <th>2019-11-29</th>\n",
       "      <td>6230.0</td>\n",
       "      <td>6295.0</td>\n",
       "      <td>6225.0</td>\n",
       "      <td>6280.0</td>\n",
       "      <td>5614.549805</td>\n",
       "      <td>52954500</td>\n",
       "    </tr>\n",
       "  </tbody>\n",
       "</table>\n",
       "<p>2471 rows × 6 columns</p>\n",
       "</div>"
      ],
      "text/plain": [
       "              Open    High     Low   Close    Adj Close     Volume\n",
       "Date                                                              \n",
       "2010-01-04  1010.0  1010.0   965.0  1010.0   796.387817   77812500\n",
       "2010-01-05  1020.0  1020.0   990.0  1020.0   804.272766   44442500\n",
       "2010-01-06   990.0  1020.0   990.0   990.0   780.617615   27782500\n",
       "2010-01-07   995.0   995.0   965.0   995.0   784.560242   38632500\n",
       "2010-01-08   970.0   995.0   970.0   970.0   764.847595   27427500\n",
       "...            ...     ...     ...     ...          ...        ...\n",
       "2019-11-25  6330.0  6335.0  6275.0  6275.0  5610.080078   55133500\n",
       "2019-11-26  6330.0  6330.0  6270.0  6285.0  5619.019043  192783500\n",
       "2019-11-27  6270.0  6300.0  6240.0  6300.0  5632.430176   58833500\n",
       "2019-11-28  6295.0  6295.0  6245.0  6250.0  5587.728027   44248000\n",
       "2019-11-29  6230.0  6295.0  6225.0  6280.0  5614.549805   52954500\n",
       "\n",
       "[2471 rows x 6 columns]"
      ]
     },
     "execution_count": 65,
     "metadata": {},
     "output_type": "execute_result"
    }
   ],
   "source": [
    "train_data"
   ]
  },
  {
   "cell_type": "code",
   "execution_count": 66,
   "metadata": {
    "colab": {
     "base_uri": "https://localhost:8080/",
     "height": 450
    },
    "executionInfo": {
     "elapsed": 46,
     "status": "ok",
     "timestamp": 1640161281944,
     "user": {
      "displayName": "Antonius Ricky",
      "photoUrl": "https://lh3.googleusercontent.com/a/default-user=s64",
      "userId": "13788256783846812684"
     },
     "user_tz": -420
    },
    "id": "JqUd-cFmQcG-",
    "outputId": "bd824ba3-07ff-461c-c241-b1d728818bc3"
   },
   "outputs": [
    {
     "data": {
      "text/html": [
       "<div>\n",
       "<style scoped>\n",
       "    .dataframe tbody tr th:only-of-type {\n",
       "        vertical-align: middle;\n",
       "    }\n",
       "\n",
       "    .dataframe tbody tr th {\n",
       "        vertical-align: top;\n",
       "    }\n",
       "\n",
       "    .dataframe thead th {\n",
       "        text-align: right;\n",
       "    }\n",
       "</style>\n",
       "<table border=\"1\" class=\"dataframe\">\n",
       "  <thead>\n",
       "    <tr style=\"text-align: right;\">\n",
       "      <th></th>\n",
       "      <th>Open</th>\n",
       "      <th>High</th>\n",
       "      <th>Low</th>\n",
       "      <th>Close</th>\n",
       "      <th>Adj Close</th>\n",
       "      <th>Volume</th>\n",
       "    </tr>\n",
       "    <tr>\n",
       "      <th>Date</th>\n",
       "      <th></th>\n",
       "      <th></th>\n",
       "      <th></th>\n",
       "      <th></th>\n",
       "      <th></th>\n",
       "      <th></th>\n",
       "    </tr>\n",
       "  </thead>\n",
       "  <tbody>\n",
       "    <tr>\n",
       "      <th>2020-01-02</th>\n",
       "      <td>6695.0</td>\n",
       "      <td>6780.0</td>\n",
       "      <td>6680.0</td>\n",
       "      <td>6690.0</td>\n",
       "      <td>6000.031738</td>\n",
       "      <td>49445000</td>\n",
       "    </tr>\n",
       "    <tr>\n",
       "      <th>2020-01-03</th>\n",
       "      <td>6750.0</td>\n",
       "      <td>6800.0</td>\n",
       "      <td>6725.0</td>\n",
       "      <td>6800.0</td>\n",
       "      <td>6098.687500</td>\n",
       "      <td>47755500</td>\n",
       "    </tr>\n",
       "    <tr>\n",
       "      <th>2020-01-06</th>\n",
       "      <td>6720.0</td>\n",
       "      <td>6750.0</td>\n",
       "      <td>6690.0</td>\n",
       "      <td>6735.0</td>\n",
       "      <td>6040.391113</td>\n",
       "      <td>27300000</td>\n",
       "    </tr>\n",
       "    <tr>\n",
       "      <th>2020-01-07</th>\n",
       "      <td>6735.0</td>\n",
       "      <td>6770.0</td>\n",
       "      <td>6730.0</td>\n",
       "      <td>6740.0</td>\n",
       "      <td>6044.875488</td>\n",
       "      <td>45022500</td>\n",
       "    </tr>\n",
       "    <tr>\n",
       "      <th>2020-01-08</th>\n",
       "      <td>6670.0</td>\n",
       "      <td>6745.0</td>\n",
       "      <td>6670.0</td>\n",
       "      <td>6680.0</td>\n",
       "      <td>5991.063965</td>\n",
       "      <td>53692500</td>\n",
       "    </tr>\n",
       "    <tr>\n",
       "      <th>...</th>\n",
       "      <td>...</td>\n",
       "      <td>...</td>\n",
       "      <td>...</td>\n",
       "      <td>...</td>\n",
       "      <td>...</td>\n",
       "      <td>...</td>\n",
       "    </tr>\n",
       "    <tr>\n",
       "      <th>2022-11-24</th>\n",
       "      <td>8975.0</td>\n",
       "      <td>9000.0</td>\n",
       "      <td>8950.0</td>\n",
       "      <td>9000.0</td>\n",
       "      <td>8508.109375</td>\n",
       "      <td>53520800</td>\n",
       "    </tr>\n",
       "    <tr>\n",
       "      <th>2022-11-25</th>\n",
       "      <td>9000.0</td>\n",
       "      <td>9000.0</td>\n",
       "      <td>8900.0</td>\n",
       "      <td>8975.0</td>\n",
       "      <td>8484.474609</td>\n",
       "      <td>75048300</td>\n",
       "    </tr>\n",
       "    <tr>\n",
       "      <th>2022-11-28</th>\n",
       "      <td>9050.0</td>\n",
       "      <td>9100.0</td>\n",
       "      <td>8975.0</td>\n",
       "      <td>9025.0</td>\n",
       "      <td>8531.742188</td>\n",
       "      <td>96209700</td>\n",
       "    </tr>\n",
       "    <tr>\n",
       "      <th>2022-11-29</th>\n",
       "      <td>8975.0</td>\n",
       "      <td>9075.0</td>\n",
       "      <td>8925.0</td>\n",
       "      <td>8975.0</td>\n",
       "      <td>8484.474609</td>\n",
       "      <td>91562100</td>\n",
       "    </tr>\n",
       "    <tr>\n",
       "      <th>2022-11-30</th>\n",
       "      <td>8875.0</td>\n",
       "      <td>9400.0</td>\n",
       "      <td>8850.0</td>\n",
       "      <td>9300.0</td>\n",
       "      <td>8791.712891</td>\n",
       "      <td>644359600</td>\n",
       "    </tr>\n",
       "  </tbody>\n",
       "</table>\n",
       "<p>713 rows × 6 columns</p>\n",
       "</div>"
      ],
      "text/plain": [
       "              Open    High     Low   Close    Adj Close     Volume\n",
       "Date                                                              \n",
       "2020-01-02  6695.0  6780.0  6680.0  6690.0  6000.031738   49445000\n",
       "2020-01-03  6750.0  6800.0  6725.0  6800.0  6098.687500   47755500\n",
       "2020-01-06  6720.0  6750.0  6690.0  6735.0  6040.391113   27300000\n",
       "2020-01-07  6735.0  6770.0  6730.0  6740.0  6044.875488   45022500\n",
       "2020-01-08  6670.0  6745.0  6670.0  6680.0  5991.063965   53692500\n",
       "...            ...     ...     ...     ...          ...        ...\n",
       "2022-11-24  8975.0  9000.0  8950.0  9000.0  8508.109375   53520800\n",
       "2022-11-25  9000.0  9000.0  8900.0  8975.0  8484.474609   75048300\n",
       "2022-11-28  9050.0  9100.0  8975.0  9025.0  8531.742188   96209700\n",
       "2022-11-29  8975.0  9075.0  8925.0  8975.0  8484.474609   91562100\n",
       "2022-11-30  8875.0  9400.0  8850.0  9300.0  8791.712891  644359600\n",
       "\n",
       "[713 rows x 6 columns]"
      ]
     },
     "execution_count": 66,
     "metadata": {},
     "output_type": "execute_result"
    }
   ],
   "source": [
    "test_data"
   ]
  },
  {
   "cell_type": "code",
   "execution_count": 67,
   "metadata": {
    "executionInfo": {
     "elapsed": 45,
     "status": "ok",
     "timestamp": 1640161281946,
     "user": {
      "displayName": "Antonius Ricky",
      "photoUrl": "https://lh3.googleusercontent.com/a/default-user=s64",
      "userId": "13788256783846812684"
     },
     "user_tz": -420
    },
    "id": "KzhONdUmy5DE"
   },
   "outputs": [],
   "source": [
    "# sort by date\n",
    "train_data = train_data.sort_values('Date')\n",
    "test_data = test_data.sort_values('Date')\n",
    "\n",
    "# fix the date \n",
    "train_data.reset_index(inplace=True)\n",
    "train_data.set_index(\"Date\", inplace=True)\n",
    "test_data.reset_index(inplace=True)\n",
    "test_data.set_index(\"Date\", inplace=True)"
   ]
  },
  {
   "cell_type": "code",
   "execution_count": 68,
   "metadata": {
    "colab": {
     "base_uri": "https://localhost:8080/",
     "height": 450
    },
    "executionInfo": {
     "elapsed": 44,
     "status": "ok",
     "timestamp": 1640161281947,
     "user": {
      "displayName": "Antonius Ricky",
      "photoUrl": "https://lh3.googleusercontent.com/a/default-user=s64",
      "userId": "13788256783846812684"
     },
     "user_tz": -420
    },
    "id": "VmX1DsTASonl",
    "outputId": "3144febe-233f-4642-f6d1-020e2ab89896"
   },
   "outputs": [
    {
     "data": {
      "text/html": [
       "<div>\n",
       "<style scoped>\n",
       "    .dataframe tbody tr th:only-of-type {\n",
       "        vertical-align: middle;\n",
       "    }\n",
       "\n",
       "    .dataframe tbody tr th {\n",
       "        vertical-align: top;\n",
       "    }\n",
       "\n",
       "    .dataframe thead th {\n",
       "        text-align: right;\n",
       "    }\n",
       "</style>\n",
       "<table border=\"1\" class=\"dataframe\">\n",
       "  <thead>\n",
       "    <tr style=\"text-align: right;\">\n",
       "      <th></th>\n",
       "      <th>Open</th>\n",
       "      <th>High</th>\n",
       "      <th>Low</th>\n",
       "      <th>Close</th>\n",
       "      <th>Adj Close</th>\n",
       "      <th>Volume</th>\n",
       "    </tr>\n",
       "    <tr>\n",
       "      <th>Date</th>\n",
       "      <th></th>\n",
       "      <th></th>\n",
       "      <th></th>\n",
       "      <th></th>\n",
       "      <th></th>\n",
       "      <th></th>\n",
       "    </tr>\n",
       "  </thead>\n",
       "  <tbody>\n",
       "    <tr>\n",
       "      <th>2010-01-04</th>\n",
       "      <td>1010.0</td>\n",
       "      <td>1010.0</td>\n",
       "      <td>965.0</td>\n",
       "      <td>1010.0</td>\n",
       "      <td>796.387817</td>\n",
       "      <td>77812500</td>\n",
       "    </tr>\n",
       "    <tr>\n",
       "      <th>2010-01-05</th>\n",
       "      <td>1020.0</td>\n",
       "      <td>1020.0</td>\n",
       "      <td>990.0</td>\n",
       "      <td>1020.0</td>\n",
       "      <td>804.272766</td>\n",
       "      <td>44442500</td>\n",
       "    </tr>\n",
       "    <tr>\n",
       "      <th>2010-01-06</th>\n",
       "      <td>990.0</td>\n",
       "      <td>1020.0</td>\n",
       "      <td>990.0</td>\n",
       "      <td>990.0</td>\n",
       "      <td>780.617615</td>\n",
       "      <td>27782500</td>\n",
       "    </tr>\n",
       "    <tr>\n",
       "      <th>2010-01-07</th>\n",
       "      <td>995.0</td>\n",
       "      <td>995.0</td>\n",
       "      <td>965.0</td>\n",
       "      <td>995.0</td>\n",
       "      <td>784.560242</td>\n",
       "      <td>38632500</td>\n",
       "    </tr>\n",
       "    <tr>\n",
       "      <th>2010-01-08</th>\n",
       "      <td>970.0</td>\n",
       "      <td>995.0</td>\n",
       "      <td>970.0</td>\n",
       "      <td>970.0</td>\n",
       "      <td>764.847595</td>\n",
       "      <td>27427500</td>\n",
       "    </tr>\n",
       "    <tr>\n",
       "      <th>...</th>\n",
       "      <td>...</td>\n",
       "      <td>...</td>\n",
       "      <td>...</td>\n",
       "      <td>...</td>\n",
       "      <td>...</td>\n",
       "      <td>...</td>\n",
       "    </tr>\n",
       "    <tr>\n",
       "      <th>2019-11-25</th>\n",
       "      <td>6330.0</td>\n",
       "      <td>6335.0</td>\n",
       "      <td>6275.0</td>\n",
       "      <td>6275.0</td>\n",
       "      <td>5610.080078</td>\n",
       "      <td>55133500</td>\n",
       "    </tr>\n",
       "    <tr>\n",
       "      <th>2019-11-26</th>\n",
       "      <td>6330.0</td>\n",
       "      <td>6330.0</td>\n",
       "      <td>6270.0</td>\n",
       "      <td>6285.0</td>\n",
       "      <td>5619.019043</td>\n",
       "      <td>192783500</td>\n",
       "    </tr>\n",
       "    <tr>\n",
       "      <th>2019-11-27</th>\n",
       "      <td>6270.0</td>\n",
       "      <td>6300.0</td>\n",
       "      <td>6240.0</td>\n",
       "      <td>6300.0</td>\n",
       "      <td>5632.430176</td>\n",
       "      <td>58833500</td>\n",
       "    </tr>\n",
       "    <tr>\n",
       "      <th>2019-11-28</th>\n",
       "      <td>6295.0</td>\n",
       "      <td>6295.0</td>\n",
       "      <td>6245.0</td>\n",
       "      <td>6250.0</td>\n",
       "      <td>5587.728027</td>\n",
       "      <td>44248000</td>\n",
       "    </tr>\n",
       "    <tr>\n",
       "      <th>2019-11-29</th>\n",
       "      <td>6230.0</td>\n",
       "      <td>6295.0</td>\n",
       "      <td>6225.0</td>\n",
       "      <td>6280.0</td>\n",
       "      <td>5614.549805</td>\n",
       "      <td>52954500</td>\n",
       "    </tr>\n",
       "  </tbody>\n",
       "</table>\n",
       "<p>2471 rows × 6 columns</p>\n",
       "</div>"
      ],
      "text/plain": [
       "              Open    High     Low   Close    Adj Close     Volume\n",
       "Date                                                              \n",
       "2010-01-04  1010.0  1010.0   965.0  1010.0   796.387817   77812500\n",
       "2010-01-05  1020.0  1020.0   990.0  1020.0   804.272766   44442500\n",
       "2010-01-06   990.0  1020.0   990.0   990.0   780.617615   27782500\n",
       "2010-01-07   995.0   995.0   965.0   995.0   784.560242   38632500\n",
       "2010-01-08   970.0   995.0   970.0   970.0   764.847595   27427500\n",
       "...            ...     ...     ...     ...          ...        ...\n",
       "2019-11-25  6330.0  6335.0  6275.0  6275.0  5610.080078   55133500\n",
       "2019-11-26  6330.0  6330.0  6270.0  6285.0  5619.019043  192783500\n",
       "2019-11-27  6270.0  6300.0  6240.0  6300.0  5632.430176   58833500\n",
       "2019-11-28  6295.0  6295.0  6245.0  6250.0  5587.728027   44248000\n",
       "2019-11-29  6230.0  6295.0  6225.0  6280.0  5614.549805   52954500\n",
       "\n",
       "[2471 rows x 6 columns]"
      ]
     },
     "execution_count": 68,
     "metadata": {},
     "output_type": "execute_result"
    }
   ],
   "source": [
    "train_data"
   ]
  },
  {
   "cell_type": "code",
   "execution_count": 69,
   "metadata": {},
   "outputs": [
    {
     "data": {
      "text/html": [
       "<div>\n",
       "<style scoped>\n",
       "    .dataframe tbody tr th:only-of-type {\n",
       "        vertical-align: middle;\n",
       "    }\n",
       "\n",
       "    .dataframe tbody tr th {\n",
       "        vertical-align: top;\n",
       "    }\n",
       "\n",
       "    .dataframe thead th {\n",
       "        text-align: right;\n",
       "    }\n",
       "</style>\n",
       "<table border=\"1\" class=\"dataframe\">\n",
       "  <thead>\n",
       "    <tr style=\"text-align: right;\">\n",
       "      <th></th>\n",
       "      <th>Open</th>\n",
       "      <th>High</th>\n",
       "      <th>Low</th>\n",
       "      <th>Close</th>\n",
       "      <th>Adj Close</th>\n",
       "      <th>Volume</th>\n",
       "    </tr>\n",
       "    <tr>\n",
       "      <th>Date</th>\n",
       "      <th></th>\n",
       "      <th></th>\n",
       "      <th></th>\n",
       "      <th></th>\n",
       "      <th></th>\n",
       "      <th></th>\n",
       "    </tr>\n",
       "  </thead>\n",
       "  <tbody>\n",
       "    <tr>\n",
       "      <th>2020-01-02</th>\n",
       "      <td>6695.0</td>\n",
       "      <td>6780.0</td>\n",
       "      <td>6680.0</td>\n",
       "      <td>6690.0</td>\n",
       "      <td>6000.031738</td>\n",
       "      <td>49445000</td>\n",
       "    </tr>\n",
       "    <tr>\n",
       "      <th>2020-01-03</th>\n",
       "      <td>6750.0</td>\n",
       "      <td>6800.0</td>\n",
       "      <td>6725.0</td>\n",
       "      <td>6800.0</td>\n",
       "      <td>6098.687500</td>\n",
       "      <td>47755500</td>\n",
       "    </tr>\n",
       "    <tr>\n",
       "      <th>2020-01-06</th>\n",
       "      <td>6720.0</td>\n",
       "      <td>6750.0</td>\n",
       "      <td>6690.0</td>\n",
       "      <td>6735.0</td>\n",
       "      <td>6040.391113</td>\n",
       "      <td>27300000</td>\n",
       "    </tr>\n",
       "    <tr>\n",
       "      <th>2020-01-07</th>\n",
       "      <td>6735.0</td>\n",
       "      <td>6770.0</td>\n",
       "      <td>6730.0</td>\n",
       "      <td>6740.0</td>\n",
       "      <td>6044.875488</td>\n",
       "      <td>45022500</td>\n",
       "    </tr>\n",
       "    <tr>\n",
       "      <th>2020-01-08</th>\n",
       "      <td>6670.0</td>\n",
       "      <td>6745.0</td>\n",
       "      <td>6670.0</td>\n",
       "      <td>6680.0</td>\n",
       "      <td>5991.063965</td>\n",
       "      <td>53692500</td>\n",
       "    </tr>\n",
       "    <tr>\n",
       "      <th>...</th>\n",
       "      <td>...</td>\n",
       "      <td>...</td>\n",
       "      <td>...</td>\n",
       "      <td>...</td>\n",
       "      <td>...</td>\n",
       "      <td>...</td>\n",
       "    </tr>\n",
       "    <tr>\n",
       "      <th>2022-11-24</th>\n",
       "      <td>8975.0</td>\n",
       "      <td>9000.0</td>\n",
       "      <td>8950.0</td>\n",
       "      <td>9000.0</td>\n",
       "      <td>8508.109375</td>\n",
       "      <td>53520800</td>\n",
       "    </tr>\n",
       "    <tr>\n",
       "      <th>2022-11-25</th>\n",
       "      <td>9000.0</td>\n",
       "      <td>9000.0</td>\n",
       "      <td>8900.0</td>\n",
       "      <td>8975.0</td>\n",
       "      <td>8484.474609</td>\n",
       "      <td>75048300</td>\n",
       "    </tr>\n",
       "    <tr>\n",
       "      <th>2022-11-28</th>\n",
       "      <td>9050.0</td>\n",
       "      <td>9100.0</td>\n",
       "      <td>8975.0</td>\n",
       "      <td>9025.0</td>\n",
       "      <td>8531.742188</td>\n",
       "      <td>96209700</td>\n",
       "    </tr>\n",
       "    <tr>\n",
       "      <th>2022-11-29</th>\n",
       "      <td>8975.0</td>\n",
       "      <td>9075.0</td>\n",
       "      <td>8925.0</td>\n",
       "      <td>8975.0</td>\n",
       "      <td>8484.474609</td>\n",
       "      <td>91562100</td>\n",
       "    </tr>\n",
       "    <tr>\n",
       "      <th>2022-11-30</th>\n",
       "      <td>8875.0</td>\n",
       "      <td>9400.0</td>\n",
       "      <td>8850.0</td>\n",
       "      <td>9300.0</td>\n",
       "      <td>8791.712891</td>\n",
       "      <td>644359600</td>\n",
       "    </tr>\n",
       "  </tbody>\n",
       "</table>\n",
       "<p>713 rows × 6 columns</p>\n",
       "</div>"
      ],
      "text/plain": [
       "              Open    High     Low   Close    Adj Close     Volume\n",
       "Date                                                              \n",
       "2020-01-02  6695.0  6780.0  6680.0  6690.0  6000.031738   49445000\n",
       "2020-01-03  6750.0  6800.0  6725.0  6800.0  6098.687500   47755500\n",
       "2020-01-06  6720.0  6750.0  6690.0  6735.0  6040.391113   27300000\n",
       "2020-01-07  6735.0  6770.0  6730.0  6740.0  6044.875488   45022500\n",
       "2020-01-08  6670.0  6745.0  6670.0  6680.0  5991.063965   53692500\n",
       "...            ...     ...     ...     ...          ...        ...\n",
       "2022-11-24  8975.0  9000.0  8950.0  9000.0  8508.109375   53520800\n",
       "2022-11-25  9000.0  9000.0  8900.0  8975.0  8484.474609   75048300\n",
       "2022-11-28  9050.0  9100.0  8975.0  9025.0  8531.742188   96209700\n",
       "2022-11-29  8975.0  9075.0  8925.0  8975.0  8484.474609   91562100\n",
       "2022-11-30  8875.0  9400.0  8850.0  9300.0  8791.712891  644359600\n",
       "\n",
       "[713 rows x 6 columns]"
      ]
     },
     "execution_count": 69,
     "metadata": {},
     "output_type": "execute_result"
    }
   ],
   "source": [
    "test_data"
   ]
  },
  {
   "cell_type": "code",
   "execution_count": 70,
   "metadata": {
    "colab": {
     "base_uri": "https://localhost:8080/",
     "height": 405
    },
    "executionInfo": {
     "elapsed": 554,
     "status": "ok",
     "timestamp": 1640161282459,
     "user": {
      "displayName": "Antonius Ricky",
      "photoUrl": "https://lh3.googleusercontent.com/a/default-user=s64",
      "userId": "13788256783846812684"
     },
     "user_tz": -420
    },
    "id": "iTfQUuNb44zs",
    "outputId": "c7ebbb22-9782-4799-dc1c-417b9e6b1018"
   },
   "outputs": [
    {
     "data": {
      "image/png": "[encoded data removed]",
      "text/plain": [
       "<Figure size 1200x600 with 1 Axes>"
      ]
     },
     "metadata": {},
     "output_type": "display_data"
    }
   ],
   "source": [
    "from matplotlib import pyplot as plt\n",
    "\n",
    "style.use('seaborn')\n",
    "plt.figure(figsize = (12,6))\n",
    "plt.plot(train_data[\"Adj Close\"])\n",
    "plt.title(\"Stock Price Change\")\n",
    "plt.xlabel(\"Date\", fontsize = 12)\n",
    "plt.ylabel(\"Adjusted Close\", fontsize = 12)\n",
    "plt.show()"
   ]
  },
  {
   "cell_type": "code",
   "execution_count": 71,
   "metadata": {
    "colab": {
     "base_uri": "https://localhost:8080/",
     "height": 398
    },
    "executionInfo": {
     "elapsed": 551,
     "status": "ok",
     "timestamp": 1640161282991,
     "user": {
      "displayName": "Antonius Ricky",
      "photoUrl": "https://lh3.googleusercontent.com/a/default-user=s64",
      "userId": "13788256783846812684"
     },
     "user_tz": -420
    },
    "id": "spaogdvz0DDk",
    "outputId": "1dff6daf-8b19-49eb-c32a-8b5b28dd3f4d"
   },
   "outputs": [
    {
     "data": {
      "text/plain": [
       "<matplotlib.legend.Legend at 0x7fbbe18c9b50>"
      ]
     },
     "execution_count": 71,
     "metadata": {},
     "output_type": "execute_result"
    },
    {
     "data": {
      "image/png": "[encoded data removed]",
      "text/plain": [
       "<Figure size 1200x600 with 1 Axes>"
      ]
     },
     "metadata": {},
     "output_type": "display_data"
    }
   ],
   "source": [
    "# Rolling mean\n",
    "close_price = train_data['Adj Close']\n",
    "moving_avg = close_price.rolling(window=100).mean()\n",
    "\n",
    "plt.figure(figsize = (12,6))\n",
    "plt.title(\"Stock Price Change With Moving Average of 100 Days\")\n",
    "close_price.plot(label='Stock Price')\n",
    "moving_avg.plot(label='Moving AVG Price')\n",
    "plt.xlabel('Date')\n",
    "plt.ylabel('Adjusted Close Price')\n",
    "plt.legend()"
   ]
  },
  {
   "cell_type": "code",
   "execution_count": 72,
   "metadata": {
    "colab": {
     "base_uri": "https://localhost:8080/",
     "height": 419
    },
    "executionInfo": {
     "elapsed": 31,
     "status": "ok",
     "timestamp": 1640161282995,
     "user": {
      "displayName": "Antonius Ricky",
      "photoUrl": "https://lh3.googleusercontent.com/a/default-user=s64",
      "userId": "13788256783846812684"
     },
     "user_tz": -420
    },
    "id": "0-65YcKH-xji",
    "outputId": "2ae2c753-dcbf-400c-ea82-923fbd85fd8e"
   },
   "outputs": [
    {
     "data": {
      "text/html": [
       "<div>\n",
       "<style scoped>\n",
       "    .dataframe tbody tr th:only-of-type {\n",
       "        vertical-align: middle;\n",
       "    }\n",
       "\n",
       "    .dataframe tbody tr th {\n",
       "        vertical-align: top;\n",
       "    }\n",
       "\n",
       "    .dataframe thead th {\n",
       "        text-align: right;\n",
       "    }\n",
       "</style>\n",
       "<table border=\"1\" class=\"dataframe\">\n",
       "  <thead>\n",
       "    <tr style=\"text-align: right;\">\n",
       "      <th></th>\n",
       "      <th>Date</th>\n",
       "      <th>Open</th>\n",
       "      <th>High</th>\n",
       "      <th>Low</th>\n",
       "      <th>Close</th>\n",
       "      <th>Adj Close</th>\n",
       "      <th>Volume</th>\n",
       "    </tr>\n",
       "  </thead>\n",
       "  <tbody>\n",
       "    <tr>\n",
       "      <th>0</th>\n",
       "      <td>14613.0</td>\n",
       "      <td>1010.0</td>\n",
       "      <td>1010.0</td>\n",
       "      <td>965.0</td>\n",
       "      <td>1010.0</td>\n",
       "      <td>796.387817</td>\n",
       "      <td>77812500</td>\n",
       "    </tr>\n",
       "    <tr>\n",
       "      <th>1</th>\n",
       "      <td>14614.0</td>\n",
       "      <td>1020.0</td>\n",
       "      <td>1020.0</td>\n",
       "      <td>990.0</td>\n",
       "      <td>1020.0</td>\n",
       "      <td>804.272766</td>\n",
       "      <td>44442500</td>\n",
       "    </tr>\n",
       "    <tr>\n",
       "      <th>2</th>\n",
       "      <td>14615.0</td>\n",
       "      <td>990.0</td>\n",
       "      <td>1020.0</td>\n",
       "      <td>990.0</td>\n",
       "      <td>990.0</td>\n",
       "      <td>780.617615</td>\n",
       "      <td>27782500</td>\n",
       "    </tr>\n",
       "    <tr>\n",
       "      <th>3</th>\n",
       "      <td>14616.0</td>\n",
       "      <td>995.0</td>\n",
       "      <td>995.0</td>\n",
       "      <td>965.0</td>\n",
       "      <td>995.0</td>\n",
       "      <td>784.560242</td>\n",
       "      <td>38632500</td>\n",
       "    </tr>\n",
       "    <tr>\n",
       "      <th>4</th>\n",
       "      <td>14617.0</td>\n",
       "      <td>970.0</td>\n",
       "      <td>995.0</td>\n",
       "      <td>970.0</td>\n",
       "      <td>970.0</td>\n",
       "      <td>764.847595</td>\n",
       "      <td>27427500</td>\n",
       "    </tr>\n",
       "    <tr>\n",
       "      <th>...</th>\n",
       "      <td>...</td>\n",
       "      <td>...</td>\n",
       "      <td>...</td>\n",
       "      <td>...</td>\n",
       "      <td>...</td>\n",
       "      <td>...</td>\n",
       "      <td>...</td>\n",
       "    </tr>\n",
       "    <tr>\n",
       "      <th>2466</th>\n",
       "      <td>18225.0</td>\n",
       "      <td>6330.0</td>\n",
       "      <td>6335.0</td>\n",
       "      <td>6275.0</td>\n",
       "      <td>6275.0</td>\n",
       "      <td>5610.080078</td>\n",
       "      <td>55133500</td>\n",
       "    </tr>\n",
       "    <tr>\n",
       "      <th>2467</th>\n",
       "      <td>18226.0</td>\n",
       "      <td>6330.0</td>\n",
       "      <td>6330.0</td>\n",
       "      <td>6270.0</td>\n",
       "      <td>6285.0</td>\n",
       "      <td>5619.019043</td>\n",
       "      <td>192783500</td>\n",
       "    </tr>\n",
       "    <tr>\n",
       "      <th>2468</th>\n",
       "      <td>18227.0</td>\n",
       "      <td>6270.0</td>\n",
       "      <td>6300.0</td>\n",
       "      <td>6240.0</td>\n",
       "      <td>6300.0</td>\n",
       "      <td>5632.430176</td>\n",
       "      <td>58833500</td>\n",
       "    </tr>\n",
       "    <tr>\n",
       "      <th>2469</th>\n",
       "      <td>18228.0</td>\n",
       "      <td>6295.0</td>\n",
       "      <td>6295.0</td>\n",
       "      <td>6245.0</td>\n",
       "      <td>6250.0</td>\n",
       "      <td>5587.728027</td>\n",
       "      <td>44248000</td>\n",
       "    </tr>\n",
       "    <tr>\n",
       "      <th>2470</th>\n",
       "      <td>18229.0</td>\n",
       "      <td>6230.0</td>\n",
       "      <td>6295.0</td>\n",
       "      <td>6225.0</td>\n",
       "      <td>6280.0</td>\n",
       "      <td>5614.549805</td>\n",
       "      <td>52954500</td>\n",
       "    </tr>\n",
       "  </tbody>\n",
       "</table>\n",
       "<p>2471 rows × 7 columns</p>\n",
       "</div>"
      ],
      "text/plain": [
       "         Date    Open    High     Low   Close    Adj Close     Volume\n",
       "0     14613.0  1010.0  1010.0   965.0  1010.0   796.387817   77812500\n",
       "1     14614.0  1020.0  1020.0   990.0  1020.0   804.272766   44442500\n",
       "2     14615.0   990.0  1020.0   990.0   990.0   780.617615   27782500\n",
       "3     14616.0   995.0   995.0   965.0   995.0   784.560242   38632500\n",
       "4     14617.0   970.0   995.0   970.0   970.0   764.847595   27427500\n",
       "...       ...     ...     ...     ...     ...          ...        ...\n",
       "2466  18225.0  6330.0  6335.0  6275.0  6275.0  5610.080078   55133500\n",
       "2467  18226.0  6330.0  6330.0  6270.0  6285.0  5619.019043  192783500\n",
       "2468  18227.0  6270.0  6300.0  6240.0  6300.0  5632.430176   58833500\n",
       "2469  18228.0  6295.0  6295.0  6245.0  6250.0  5587.728027   44248000\n",
       "2470  18229.0  6230.0  6295.0  6225.0  6280.0  5614.549805   52954500\n",
       "\n",
       "[2471 rows x 7 columns]"
      ]
     },
     "execution_count": 72,
     "metadata": {},
     "output_type": "execute_result"
    }
   ],
   "source": [
    "import matplotlib.dates as mdates\n",
    "\n",
    "# change the dates into ints for training \n",
    "indxed_dates = train_data.copy()\n",
    "indxed_dates = indxed_dates.reset_index()\n",
    "\n",
    "# Store the original dates for plotting the predicitons\n",
    "actual_dates = indxed_dates['Date']\n",
    "\n",
    "# convert to ints\n",
    "indxed_dates['Date'] = indxed_dates['Date'].map(mdates.date2num)\n",
    "\n",
    "indxed_dates"
   ]
  },
  {
   "cell_type": "code",
   "execution_count": 73,
   "metadata": {
    "executionInfo": {
     "elapsed": 29,
     "status": "ok",
     "timestamp": 1640161282997,
     "user": {
      "displayName": "Antonius Ricky",
      "photoUrl": "https://lh3.googleusercontent.com/a/default-user=s64",
      "userId": "13788256783846812684"
     },
     "user_tz": -420
    },
    "id": "HPCOfb38vwHu"
   },
   "outputs": [],
   "source": [
    "# Use sklearn support vector regression to predicit our data:\n",
    "from sklearn.svm import SVR\n",
    "\n",
    "dates_data = indxed_dates['Date'].to_numpy()\n",
    "prices_data = train_data['Adj Close'].to_numpy()\n",
    "\n",
    "#Convert to 1d Vector\n",
    "dates_data = np.reshape(dates_data, (len(dates_data), 1))\n",
    "prices_data = np.reshape(prices_data, (len(prices_data), 1))"
   ]
  },
  {
   "cell_type": "code",
   "execution_count": 74,
   "metadata": {
    "colab": {
     "base_uri": "https://localhost:8080/"
    },
    "executionInfo": {
     "elapsed": 2028,
     "status": "ok",
     "timestamp": 1640161284997,
     "user": {
      "displayName": "Antonius Ricky",
      "photoUrl": "https://lh3.googleusercontent.com/a/default-user=s64",
      "userId": "13788256783846812684"
     },
     "user_tz": -420
    },
    "id": "uVH5zOF5jVM1",
    "outputId": "03a375d9-2f2f-4252-b84d-d01318809274"
   },
   "outputs": [
    {
     "name": "stderr",
     "output_type": "stream",
     "text": [
      "/Users/minseokim/opt/anaconda3/lib/python3.9/site-packages/sklearn/utils/validation.py:993: DataConversionWarning: A column-vector y was passed when a 1d array was expected. Please change the shape of y to (n_samples, ), for example using ravel().\n",
      "  y = column_or_1d(y, warn=True)\n"
     ]
    }
   ],
   "source": [
    "SVR_linear = make_pipeline(StandardScaler(), SVR(kernel='linear', C=1e4))\n",
    "SVR_linear.fit(dates_data, prices_data)\n",
    "SVR_linear_train = SVR_linear.predict(dates_data)"
   ]
  },
  {
   "cell_type": "code",
   "execution_count": 75,
   "metadata": {
    "colab": {
     "base_uri": "https://localhost:8080/"
    },
    "executionInfo": {
     "elapsed": 20,
     "status": "ok",
     "timestamp": 1640161285000,
     "user": {
      "displayName": "Antonius Ricky",
      "photoUrl": "https://lh3.googleusercontent.com/a/default-user=s64",
      "userId": "13788256783846812684"
     },
     "user_tz": -420
    },
    "id": "o--RRwzd9m4W",
    "outputId": "886ef834-e1b1-4ad0-bca6-25ea19879d67"
   },
   "outputs": [
    {
     "data": {
      "text/plain": [
       "array([ 480.5019837 ,  481.51568339,  482.52938306, ..., 4144.01262051,\n",
       "       4145.02632019, 4146.04001986])"
      ]
     },
     "execution_count": 75,
     "metadata": {},
     "output_type": "execute_result"
    }
   ],
   "source": [
    "SVR_linear_train"
   ]
  },
  {
   "cell_type": "code",
   "execution_count": 76,
   "metadata": {
    "colab": {
     "base_uri": "https://localhost:8080/"
    },
    "executionInfo": {
     "elapsed": 54075,
     "status": "ok",
     "timestamp": 1640161339059,
     "user": {
      "displayName": "Antonius Ricky",
      "photoUrl": "https://lh3.googleusercontent.com/a/default-user=s64",
      "userId": "13788256783846812684"
     },
     "user_tz": -420
    },
    "id": "xt8rEfZU3Aep",
    "outputId": "6f2e2ae2-3605-410d-af53-7df95e2186c7"
   },
   "outputs": [
    {
     "name": "stderr",
     "output_type": "stream",
     "text": [
      "/Users/minseokim/opt/anaconda3/lib/python3.9/site-packages/sklearn/utils/validation.py:993: DataConversionWarning: A column-vector y was passed when a 1d array was expected. Please change the shape of y to (n_samples, ), for example using ravel().\n",
      "  y = column_or_1d(y, warn=True)\n"
     ]
    }
   ],
   "source": [
    "SVR_rbfk = SVR(kernel= 'rbf', C= 1e4, gamma= 0.01)\n",
    "SVR_rbfk.fit(dates_data, prices_data)\n",
    "SVR_rbfk_train = SVR_rbfk.predict(dates_data)"
   ]
  },
  {
   "cell_type": "code",
   "execution_count": 77,
   "metadata": {
    "colab": {
     "base_uri": "https://localhost:8080/"
    },
    "executionInfo": {
     "elapsed": 30,
     "status": "ok",
     "timestamp": 1640161339061,
     "user": {
      "displayName": "Antonius Ricky",
      "photoUrl": "https://lh3.googleusercontent.com/a/default-user=s64",
      "userId": "13788256783846812684"
     },
     "user_tz": -420
    },
    "id": "7WZjR3el98Ti",
    "outputId": "7c2dabcf-abff-4084-f8d7-17735a39967f"
   },
   "outputs": [
    {
     "data": {
      "text/plain": [
       "array([ 797.14289095,  786.4072945 ,  780.71779447, ..., 5609.01426878,\n",
       "       5590.9003445 , 5559.4423861 ])"
      ]
     },
     "execution_count": 77,
     "metadata": {},
     "output_type": "execute_result"
    }
   ],
   "source": [
    "SVR_rbfk_train"
   ]
  },
  {
   "cell_type": "code",
   "execution_count": 78,
   "metadata": {
    "colab": {
     "base_uri": "https://localhost:8080/"
    },
    "executionInfo": {
     "elapsed": 1721,
     "status": "ok",
     "timestamp": 1640161340762,
     "user": {
      "displayName": "Antonius Ricky",
      "photoUrl": "https://lh3.googleusercontent.com/a/default-user=s64",
      "userId": "13788256783846812684"
     },
     "user_tz": -420
    },
    "id": "_BL6OA5QA-p6",
    "outputId": "a4e31394-2a54-4be8-e16c-e3accd6fa307"
   },
   "outputs": [
    {
     "name": "stderr",
     "output_type": "stream",
     "text": [
      "/Users/minseokim/opt/anaconda3/lib/python3.9/site-packages/sklearn/utils/validation.py:993: DataConversionWarning: A column-vector y was passed when a 1d array was expected. Please change the shape of y to (n_samples, ), for example using ravel().\n",
      "  y = column_or_1d(y, warn=True)\n"
     ]
    }
   ],
   "source": [
    "SVR_poly = make_pipeline(StandardScaler(), SVR(kernel='poly', C=1e3, degree=3, epsilon=0.1, coef0=1))\n",
    "SVR_poly.fit(dates_data, prices_data)\n",
    "SVR_poly_train = SVR_poly.predict(dates_data)"
   ]
  },
  {
   "cell_type": "code",
   "execution_count": 79,
   "metadata": {
    "colab": {
     "base_uri": "https://localhost:8080/"
    },
    "executionInfo": {
     "elapsed": 30,
     "status": "ok",
     "timestamp": 1640161340765,
     "user": {
      "displayName": "Antonius Ricky",
      "photoUrl": "https://lh3.googleusercontent.com/a/default-user=s64",
      "userId": "13788256783846812684"
     },
     "user_tz": -420
    },
    "id": "fISKPqaeTpKW",
    "outputId": "ae26e5f5-51e8-49f1-a58e-9ac6f7e310f9"
   },
   "outputs": [
    {
     "data": {
      "text/plain": [
       "array([ 730.99269641,  732.10922504,  733.22462882, ..., 5766.06077037,\n",
       "       5770.04207329, 5774.02608747])"
      ]
     },
     "execution_count": 79,
     "metadata": {},
     "output_type": "execute_result"
    }
   ],
   "source": [
    "SVR_poly_train"
   ]
  },
  {
   "cell_type": "code",
   "execution_count": 80,
   "metadata": {
    "colab": {
     "base_uri": "https://localhost:8080/",
     "height": 403
    },
    "executionInfo": {
     "elapsed": 29,
     "status": "ok",
     "timestamp": 1640161340770,
     "user": {
      "displayName": "Antonius Ricky",
      "photoUrl": "https://lh3.googleusercontent.com/a/default-user=s64",
      "userId": "13788256783846812684"
     },
     "user_tz": -420
    },
    "id": "CQQuW-9y22iG",
    "outputId": "32ac3cc8-4d44-44f8-f4ec-2126eaa477c8"
   },
   "outputs": [
    {
     "data": {
      "image/png": "[encoded data removed]",
      "text/plain": [
       "<Figure size 1200x600 with 1 Axes>"
      ]
     },
     "metadata": {},
     "output_type": "display_data"
    }
   ],
   "source": [
    "plt.figure(figsize = (12,6))\n",
    "plt.title('RBF - Stock Market Prediction Using 2014 - 2019 Data')\n",
    "plt.plot(dates_data, prices_data, color= 'red', label= 'Real Stock Price')\n",
    "plt.plot(actual_dates, SVR_rbfk_train, color= 'blue', label= 'RBF model Predicted Price') \n",
    "plt.plot(actual_dates, SVR_linear_train, color= 'green', label= 'Linear model Predicted Price') \n",
    "plt.plot(actual_dates, SVR_poly_train, color= 'yellow', label= 'Poly model Predicted Price') \n",
    "plt.xlabel('Date')\n",
    "plt.ylabel('Stock Price')\n",
    "plt.legend()\n",
    "plt.show()"
   ]
  },
  {
   "cell_type": "code",
   "execution_count": 81,
   "metadata": {
    "executionInfo": {
     "elapsed": 1044,
     "status": "ok",
     "timestamp": 1640161341790,
     "user": {
      "displayName": "Antonius Ricky",
      "photoUrl": "https://lh3.googleusercontent.com/a/default-user=s64",
      "userId": "13788256783846812684"
     },
     "user_tz": -420
    },
    "id": "hVVl55_8D18s"
   },
   "outputs": [],
   "source": [
    "# change the dates into ints for training \n",
    "test_indxed_dates = test_data.copy()\n",
    "test_indxed_dates = test_indxed_dates.reset_index()\n",
    "\n",
    "# Store the original dates for plotting the predicitons\n",
    "test_actual_dates = test_indxed_dates['Date']\n",
    "\n",
    "# convert to ints\n",
    "test_indxed_dates['Date'] = test_indxed_dates['Date'].map(mdates.date2num)"
   ]
  },
  {
   "cell_type": "code",
   "execution_count": 82,
   "metadata": {
    "colab": {
     "base_uri": "https://localhost:8080/",
     "height": 419
    },
    "executionInfo": {
     "elapsed": 102,
     "status": "ok",
     "timestamp": 1640161341796,
     "user": {
      "displayName": "Antonius Ricky",
      "photoUrl": "https://lh3.googleusercontent.com/a/default-user=s64",
      "userId": "13788256783846812684"
     },
     "user_tz": -420
    },
    "id": "81uyyUEDVquq",
    "outputId": "2598c020-bbcd-4ac1-df90-a163a4874e06"
   },
   "outputs": [
    {
     "data": {
      "text/html": [
       "<div>\n",
       "<style scoped>\n",
       "    .dataframe tbody tr th:only-of-type {\n",
       "        vertical-align: middle;\n",
       "    }\n",
       "\n",
       "    .dataframe tbody tr th {\n",
       "        vertical-align: top;\n",
       "    }\n",
       "\n",
       "    .dataframe thead th {\n",
       "        text-align: right;\n",
       "    }\n",
       "</style>\n",
       "<table border=\"1\" class=\"dataframe\">\n",
       "  <thead>\n",
       "    <tr style=\"text-align: right;\">\n",
       "      <th></th>\n",
       "      <th>Date</th>\n",
       "      <th>Open</th>\n",
       "      <th>High</th>\n",
       "      <th>Low</th>\n",
       "      <th>Close</th>\n",
       "      <th>Adj Close</th>\n",
       "      <th>Volume</th>\n",
       "    </tr>\n",
       "  </thead>\n",
       "  <tbody>\n",
       "    <tr>\n",
       "      <th>0</th>\n",
       "      <td>18263.0</td>\n",
       "      <td>6695.0</td>\n",
       "      <td>6780.0</td>\n",
       "      <td>6680.0</td>\n",
       "      <td>6690.0</td>\n",
       "      <td>6000.031738</td>\n",
       "      <td>49445000</td>\n",
       "    </tr>\n",
       "    <tr>\n",
       "      <th>1</th>\n",
       "      <td>18264.0</td>\n",
       "      <td>6750.0</td>\n",
       "      <td>6800.0</td>\n",
       "      <td>6725.0</td>\n",
       "      <td>6800.0</td>\n",
       "      <td>6098.687500</td>\n",
       "      <td>47755500</td>\n",
       "    </tr>\n",
       "    <tr>\n",
       "      <th>2</th>\n",
       "      <td>18267.0</td>\n",
       "      <td>6720.0</td>\n",
       "      <td>6750.0</td>\n",
       "      <td>6690.0</td>\n",
       "      <td>6735.0</td>\n",
       "      <td>6040.391113</td>\n",
       "      <td>27300000</td>\n",
       "    </tr>\n",
       "    <tr>\n",
       "      <th>3</th>\n",
       "      <td>18268.0</td>\n",
       "      <td>6735.0</td>\n",
       "      <td>6770.0</td>\n",
       "      <td>6730.0</td>\n",
       "      <td>6740.0</td>\n",
       "      <td>6044.875488</td>\n",
       "      <td>45022500</td>\n",
       "    </tr>\n",
       "    <tr>\n",
       "      <th>4</th>\n",
       "      <td>18269.0</td>\n",
       "      <td>6670.0</td>\n",
       "      <td>6745.0</td>\n",
       "      <td>6670.0</td>\n",
       "      <td>6680.0</td>\n",
       "      <td>5991.063965</td>\n",
       "      <td>53692500</td>\n",
       "    </tr>\n",
       "    <tr>\n",
       "      <th>...</th>\n",
       "      <td>...</td>\n",
       "      <td>...</td>\n",
       "      <td>...</td>\n",
       "      <td>...</td>\n",
       "      <td>...</td>\n",
       "      <td>...</td>\n",
       "      <td>...</td>\n",
       "    </tr>\n",
       "    <tr>\n",
       "      <th>708</th>\n",
       "      <td>19320.0</td>\n",
       "      <td>8975.0</td>\n",
       "      <td>9000.0</td>\n",
       "      <td>8950.0</td>\n",
       "      <td>9000.0</td>\n",
       "      <td>8508.109375</td>\n",
       "      <td>53520800</td>\n",
       "    </tr>\n",
       "    <tr>\n",
       "      <th>709</th>\n",
       "      <td>19321.0</td>\n",
       "      <td>9000.0</td>\n",
       "      <td>9000.0</td>\n",
       "      <td>8900.0</td>\n",
       "      <td>8975.0</td>\n",
       "      <td>8484.474609</td>\n",
       "      <td>75048300</td>\n",
       "    </tr>\n",
       "    <tr>\n",
       "      <th>710</th>\n",
       "      <td>19324.0</td>\n",
       "      <td>9050.0</td>\n",
       "      <td>9100.0</td>\n",
       "      <td>8975.0</td>\n",
       "      <td>9025.0</td>\n",
       "      <td>8531.742188</td>\n",
       "      <td>96209700</td>\n",
       "    </tr>\n",
       "    <tr>\n",
       "      <th>711</th>\n",
       "      <td>19325.0</td>\n",
       "      <td>8975.0</td>\n",
       "      <td>9075.0</td>\n",
       "      <td>8925.0</td>\n",
       "      <td>8975.0</td>\n",
       "      <td>8484.474609</td>\n",
       "      <td>91562100</td>\n",
       "    </tr>\n",
       "    <tr>\n",
       "      <th>712</th>\n",
       "      <td>19326.0</td>\n",
       "      <td>8875.0</td>\n",
       "      <td>9400.0</td>\n",
       "      <td>8850.0</td>\n",
       "      <td>9300.0</td>\n",
       "      <td>8791.712891</td>\n",
       "      <td>644359600</td>\n",
       "    </tr>\n",
       "  </tbody>\n",
       "</table>\n",
       "<p>713 rows × 7 columns</p>\n",
       "</div>"
      ],
      "text/plain": [
       "        Date    Open    High     Low   Close    Adj Close     Volume\n",
       "0    18263.0  6695.0  6780.0  6680.0  6690.0  6000.031738   49445000\n",
       "1    18264.0  6750.0  6800.0  6725.0  6800.0  6098.687500   47755500\n",
       "2    18267.0  6720.0  6750.0  6690.0  6735.0  6040.391113   27300000\n",
       "3    18268.0  6735.0  6770.0  6730.0  6740.0  6044.875488   45022500\n",
       "4    18269.0  6670.0  6745.0  6670.0  6680.0  5991.063965   53692500\n",
       "..       ...     ...     ...     ...     ...          ...        ...\n",
       "708  19320.0  8975.0  9000.0  8950.0  9000.0  8508.109375   53520800\n",
       "709  19321.0  9000.0  9000.0  8900.0  8975.0  8484.474609   75048300\n",
       "710  19324.0  9050.0  9100.0  8975.0  9025.0  8531.742188   96209700\n",
       "711  19325.0  8975.0  9075.0  8925.0  8975.0  8484.474609   91562100\n",
       "712  19326.0  8875.0  9400.0  8850.0  9300.0  8791.712891  644359600\n",
       "\n",
       "[713 rows x 7 columns]"
      ]
     },
     "execution_count": 82,
     "metadata": {},
     "output_type": "execute_result"
    }
   ],
   "source": [
    "test_indxed_dates"
   ]
  },
  {
   "cell_type": "code",
   "execution_count": 83,
   "metadata": {
    "executionInfo": {
     "elapsed": 101,
     "status": "ok",
     "timestamp": 1640161341798,
     "user": {
      "displayName": "Antonius Ricky",
      "photoUrl": "https://lh3.googleusercontent.com/a/default-user=s64",
      "userId": "13788256783846812684"
     },
     "user_tz": -420
    },
    "id": "v7TgNJfcEm3M"
   },
   "outputs": [],
   "source": [
    "test_dates_data = test_indxed_dates['Date'].to_numpy()\n",
    "test_prices_data = test_data['Adj Close'].to_numpy()\n",
    "\n",
    "#Convert to 1d Vector\n",
    "test_dates_data = np.reshape(test_dates_data, (len(test_dates_data), 1))\n",
    "test_prices_data = np.reshape(test_prices_data, (len(test_prices_data), 1))"
   ]
  },
  {
   "cell_type": "code",
   "execution_count": 84,
   "metadata": {
    "colab": {
     "base_uri": "https://localhost:8080/"
    },
    "executionInfo": {
     "elapsed": 104,
     "status": "ok",
     "timestamp": 1640161341802,
     "user": {
      "displayName": "Antonius Ricky",
      "photoUrl": "https://lh3.googleusercontent.com/a/default-user=s64",
      "userId": "13788256783846812684"
     },
     "user_tz": -420
    },
    "id": "-KRd6QaFmvTI",
    "outputId": "29b159f7-14b8-4a55-a2f6-12f134cade4f"
   },
   "outputs": [
    {
     "data": {
      "text/plain": [
       "array([2407.42549335, 2407.39492227, 2407.36713963, 2407.36521419,\n",
       "       2407.36429924, 2407.3638735 , 2407.3636795 , 2407.36353888,\n",
       "       2407.36353209, 2407.3635293 , 2407.36352817, 2407.36352773,\n",
       "       2407.36352747, 2407.36352746, 2407.36352746, 2407.36352746,\n",
       "       2407.36352746, 2407.36352746, 2407.36352746, 2407.36352746,\n",
       "       2407.36352746, 2407.36352746, 2407.36352746, 2407.36352746,\n",
       "       2407.36352746, 2407.36352746, 2407.36352746, 2407.36352746,\n",
       "       2407.36352746, 2407.36352746, 2407.36352746, 2407.36352746,\n",
       "       2407.36352746, 2407.36352746, 2407.36352746, 2407.36352746,\n",
       "       2407.36352746, 2407.36352746, 2407.36352746, 2407.36352746,\n",
       "       2407.36352746, 2407.36352746, 2407.36352746, 2407.36352746,\n",
       "       2407.36352746, 2407.36352746, 2407.36352746, 2407.36352746,\n",
       "       2407.36352746, 2407.36352746, 2407.36352746, 2407.36352746,\n",
       "       2407.36352746, 2407.36352746, 2407.36352746, 2407.36352746,\n",
       "       2407.36352746, 2407.36352746, 2407.36352746, 2407.36352746,\n",
       "       2407.36352746, 2407.36352746, 2407.36352746, 2407.36352746,\n",
       "       2407.36352746, 2407.36352746, 2407.36352746, 2407.36352746,\n",
       "       2407.36352746, 2407.36352746, 2407.36352746, 2407.36352746,\n",
       "       2407.36352746, 2407.36352746, 2407.36352746, 2407.36352746,\n",
       "       2407.36352746, 2407.36352746, 2407.36352746, 2407.36352746,\n",
       "       2407.36352746, 2407.36352746, 2407.36352746, 2407.36352746,\n",
       "       2407.36352746, 2407.36352746, 2407.36352746, 2407.36352746,\n",
       "       2407.36352746, 2407.36352746, 2407.36352746, 2407.36352746,\n",
       "       2407.36352746, 2407.36352746, 2407.36352746, 2407.36352746,\n",
       "       2407.36352746, 2407.36352746, 2407.36352746, 2407.36352746,\n",
       "       2407.36352746, 2407.36352746, 2407.36352746, 2407.36352746,\n",
       "       2407.36352746, 2407.36352746, 2407.36352746, 2407.36352746,\n",
       "       2407.36352746, 2407.36352746, 2407.36352746, 2407.36352746,\n",
       "       2407.36352746, 2407.36352746, 2407.36352746, 2407.36352746,\n",
       "       2407.36352746, 2407.36352746, 2407.36352746, 2407.36352746,\n",
       "       2407.36352746, 2407.36352746, 2407.36352746, 2407.36352746,\n",
       "       2407.36352746, 2407.36352746, 2407.36352746, 2407.36352746,\n",
       "       2407.36352746, 2407.36352746, 2407.36352746, 2407.36352746,\n",
       "       2407.36352746, 2407.36352746, 2407.36352746, 2407.36352746,\n",
       "       2407.36352746, 2407.36352746, 2407.36352746, 2407.36352746,\n",
       "       2407.36352746, 2407.36352746, 2407.36352746, 2407.36352746,\n",
       "       2407.36352746, 2407.36352746, 2407.36352746, 2407.36352746,\n",
       "       2407.36352746, 2407.36352746, 2407.36352746, 2407.36352746,\n",
       "       2407.36352746, 2407.36352746, 2407.36352746, 2407.36352746,\n",
       "       2407.36352746, 2407.36352746, 2407.36352746, 2407.36352746,\n",
       "       2407.36352746, 2407.36352746, 2407.36352746, 2407.36352746,\n",
       "       2407.36352746, 2407.36352746, 2407.36352746, 2407.36352746,\n",
       "       2407.36352746, 2407.36352746, 2407.36352746, 2407.36352746,\n",
       "       2407.36352746, 2407.36352746, 2407.36352746, 2407.36352746,\n",
       "       2407.36352746, 2407.36352746, 2407.36352746, 2407.36352746,\n",
       "       2407.36352746, 2407.36352746, 2407.36352746, 2407.36352746,\n",
       "       2407.36352746, 2407.36352746, 2407.36352746, 2407.36352746,\n",
       "       2407.36352746, 2407.36352746, 2407.36352746, 2407.36352746,\n",
       "       2407.36352746, 2407.36352746, 2407.36352746, 2407.36352746,\n",
       "       2407.36352746, 2407.36352746, 2407.36352746, 2407.36352746,\n",
       "       2407.36352746, 2407.36352746, 2407.36352746, 2407.36352746,\n",
       "       2407.36352746, 2407.36352746, 2407.36352746, 2407.36352746,\n",
       "       2407.36352746, 2407.36352746, 2407.36352746, 2407.36352746,\n",
       "       2407.36352746, 2407.36352746, 2407.36352746, 2407.36352746,\n",
       "       2407.36352746, 2407.36352746, 2407.36352746, 2407.36352746,\n",
       "       2407.36352746, 2407.36352746, 2407.36352746, 2407.36352746,\n",
       "       2407.36352746, 2407.36352746, 2407.36352746, 2407.36352746,\n",
       "       2407.36352746, 2407.36352746, 2407.36352746, 2407.36352746,\n",
       "       2407.36352746, 2407.36352746, 2407.36352746, 2407.36352746,\n",
       "       2407.36352746, 2407.36352746, 2407.36352746, 2407.36352746,\n",
       "       2407.36352746, 2407.36352746, 2407.36352746, 2407.36352746,\n",
       "       2407.36352746, 2407.36352746, 2407.36352746, 2407.36352746,\n",
       "       2407.36352746, 2407.36352746, 2407.36352746, 2407.36352746,\n",
       "       2407.36352746, 2407.36352746, 2407.36352746, 2407.36352746,\n",
       "       2407.36352746, 2407.36352746, 2407.36352746, 2407.36352746,\n",
       "       2407.36352746, 2407.36352746, 2407.36352746, 2407.36352746,\n",
       "       2407.36352746, 2407.36352746, 2407.36352746, 2407.36352746,\n",
       "       2407.36352746, 2407.36352746, 2407.36352746, 2407.36352746,\n",
       "       2407.36352746, 2407.36352746, 2407.36352746, 2407.36352746,\n",
       "       2407.36352746, 2407.36352746, 2407.36352746, 2407.36352746,\n",
       "       2407.36352746, 2407.36352746, 2407.36352746, 2407.36352746,\n",
       "       2407.36352746, 2407.36352746, 2407.36352746, 2407.36352746,\n",
       "       2407.36352746, 2407.36352746, 2407.36352746, 2407.36352746,\n",
       "       2407.36352746, 2407.36352746, 2407.36352746, 2407.36352746,\n",
       "       2407.36352746, 2407.36352746, 2407.36352746, 2407.36352746,\n",
       "       2407.36352746, 2407.36352746, 2407.36352746, 2407.36352746,\n",
       "       2407.36352746, 2407.36352746, 2407.36352746, 2407.36352746,\n",
       "       2407.36352746, 2407.36352746, 2407.36352746, 2407.36352746,\n",
       "       2407.36352746, 2407.36352746, 2407.36352746, 2407.36352746,\n",
       "       2407.36352746, 2407.36352746, 2407.36352746, 2407.36352746,\n",
       "       2407.36352746, 2407.36352746, 2407.36352746, 2407.36352746,\n",
       "       2407.36352746, 2407.36352746, 2407.36352746, 2407.36352746,\n",
       "       2407.36352746, 2407.36352746, 2407.36352746, 2407.36352746,\n",
       "       2407.36352746, 2407.36352746, 2407.36352746, 2407.36352746,\n",
       "       2407.36352746, 2407.36352746, 2407.36352746, 2407.36352746,\n",
       "       2407.36352746, 2407.36352746, 2407.36352746, 2407.36352746,\n",
       "       2407.36352746, 2407.36352746, 2407.36352746, 2407.36352746,\n",
       "       2407.36352746, 2407.36352746, 2407.36352746, 2407.36352746,\n",
       "       2407.36352746, 2407.36352746, 2407.36352746, 2407.36352746,\n",
       "       2407.36352746, 2407.36352746, 2407.36352746, 2407.36352746,\n",
       "       2407.36352746, 2407.36352746, 2407.36352746, 2407.36352746,\n",
       "       2407.36352746, 2407.36352746, 2407.36352746, 2407.36352746,\n",
       "       2407.36352746, 2407.36352746, 2407.36352746, 2407.36352746,\n",
       "       2407.36352746, 2407.36352746, 2407.36352746, 2407.36352746,\n",
       "       2407.36352746, 2407.36352746, 2407.36352746, 2407.36352746,\n",
       "       2407.36352746, 2407.36352746, 2407.36352746, 2407.36352746,\n",
       "       2407.36352746, 2407.36352746, 2407.36352746, 2407.36352746,\n",
       "       2407.36352746, 2407.36352746, 2407.36352746, 2407.36352746,\n",
       "       2407.36352746, 2407.36352746, 2407.36352746, 2407.36352746,\n",
       "       2407.36352746, 2407.36352746, 2407.36352746, 2407.36352746,\n",
       "       2407.36352746, 2407.36352746, 2407.36352746, 2407.36352746,\n",
       "       2407.36352746, 2407.36352746, 2407.36352746, 2407.36352746,\n",
       "       2407.36352746, 2407.36352746, 2407.36352746, 2407.36352746,\n",
       "       2407.36352746, 2407.36352746, 2407.36352746, 2407.36352746,\n",
       "       2407.36352746, 2407.36352746, 2407.36352746, 2407.36352746,\n",
       "       2407.36352746, 2407.36352746, 2407.36352746, 2407.36352746,\n",
       "       2407.36352746, 2407.36352746, 2407.36352746, 2407.36352746,\n",
       "       2407.36352746, 2407.36352746, 2407.36352746, 2407.36352746,\n",
       "       2407.36352746, 2407.36352746, 2407.36352746, 2407.36352746,\n",
       "       2407.36352746, 2407.36352746, 2407.36352746, 2407.36352746,\n",
       "       2407.36352746, 2407.36352746, 2407.36352746, 2407.36352746,\n",
       "       2407.36352746, 2407.36352746, 2407.36352746, 2407.36352746,\n",
       "       2407.36352746, 2407.36352746, 2407.36352746, 2407.36352746,\n",
       "       2407.36352746, 2407.36352746, 2407.36352746, 2407.36352746,\n",
       "       2407.36352746, 2407.36352746, 2407.36352746, 2407.36352746,\n",
       "       2407.36352746, 2407.36352746, 2407.36352746, 2407.36352746,\n",
       "       2407.36352746, 2407.36352746, 2407.36352746, 2407.36352746,\n",
       "       2407.36352746, 2407.36352746, 2407.36352746, 2407.36352746,\n",
       "       2407.36352746, 2407.36352746, 2407.36352746, 2407.36352746,\n",
       "       2407.36352746, 2407.36352746, 2407.36352746, 2407.36352746,\n",
       "       2407.36352746, 2407.36352746, 2407.36352746, 2407.36352746,\n",
       "       2407.36352746, 2407.36352746, 2407.36352746, 2407.36352746,\n",
       "       2407.36352746, 2407.36352746, 2407.36352746, 2407.36352746,\n",
       "       2407.36352746, 2407.36352746, 2407.36352746, 2407.36352746,\n",
       "       2407.36352746, 2407.36352746, 2407.36352746, 2407.36352746,\n",
       "       2407.36352746, 2407.36352746, 2407.36352746, 2407.36352746,\n",
       "       2407.36352746, 2407.36352746, 2407.36352746, 2407.36352746,\n",
       "       2407.36352746, 2407.36352746, 2407.36352746, 2407.36352746,\n",
       "       2407.36352746, 2407.36352746, 2407.36352746, 2407.36352746,\n",
       "       2407.36352746, 2407.36352746, 2407.36352746, 2407.36352746,\n",
       "       2407.36352746, 2407.36352746, 2407.36352746, 2407.36352746,\n",
       "       2407.36352746, 2407.36352746, 2407.36352746, 2407.36352746,\n",
       "       2407.36352746, 2407.36352746, 2407.36352746, 2407.36352746,\n",
       "       2407.36352746, 2407.36352746, 2407.36352746, 2407.36352746,\n",
       "       2407.36352746, 2407.36352746, 2407.36352746, 2407.36352746,\n",
       "       2407.36352746, 2407.36352746, 2407.36352746, 2407.36352746,\n",
       "       2407.36352746, 2407.36352746, 2407.36352746, 2407.36352746,\n",
       "       2407.36352746, 2407.36352746, 2407.36352746, 2407.36352746,\n",
       "       2407.36352746, 2407.36352746, 2407.36352746, 2407.36352746,\n",
       "       2407.36352746, 2407.36352746, 2407.36352746, 2407.36352746,\n",
       "       2407.36352746, 2407.36352746, 2407.36352746, 2407.36352746,\n",
       "       2407.36352746, 2407.36352746, 2407.36352746, 2407.36352746,\n",
       "       2407.36352746, 2407.36352746, 2407.36352746, 2407.36352746,\n",
       "       2407.36352746, 2407.36352746, 2407.36352746, 2407.36352746,\n",
       "       2407.36352746, 2407.36352746, 2407.36352746, 2407.36352746,\n",
       "       2407.36352746, 2407.36352746, 2407.36352746, 2407.36352746,\n",
       "       2407.36352746, 2407.36352746, 2407.36352746, 2407.36352746,\n",
       "       2407.36352746, 2407.36352746, 2407.36352746, 2407.36352746,\n",
       "       2407.36352746, 2407.36352746, 2407.36352746, 2407.36352746,\n",
       "       2407.36352746, 2407.36352746, 2407.36352746, 2407.36352746,\n",
       "       2407.36352746, 2407.36352746, 2407.36352746, 2407.36352746,\n",
       "       2407.36352746, 2407.36352746, 2407.36352746, 2407.36352746,\n",
       "       2407.36352746, 2407.36352746, 2407.36352746, 2407.36352746,\n",
       "       2407.36352746, 2407.36352746, 2407.36352746, 2407.36352746,\n",
       "       2407.36352746, 2407.36352746, 2407.36352746, 2407.36352746,\n",
       "       2407.36352746, 2407.36352746, 2407.36352746, 2407.36352746,\n",
       "       2407.36352746, 2407.36352746, 2407.36352746, 2407.36352746,\n",
       "       2407.36352746, 2407.36352746, 2407.36352746, 2407.36352746,\n",
       "       2407.36352746, 2407.36352746, 2407.36352746, 2407.36352746,\n",
       "       2407.36352746, 2407.36352746, 2407.36352746, 2407.36352746,\n",
       "       2407.36352746, 2407.36352746, 2407.36352746, 2407.36352746,\n",
       "       2407.36352746, 2407.36352746, 2407.36352746, 2407.36352746,\n",
       "       2407.36352746, 2407.36352746, 2407.36352746, 2407.36352746,\n",
       "       2407.36352746, 2407.36352746, 2407.36352746, 2407.36352746,\n",
       "       2407.36352746, 2407.36352746, 2407.36352746, 2407.36352746,\n",
       "       2407.36352746, 2407.36352746, 2407.36352746, 2407.36352746,\n",
       "       2407.36352746, 2407.36352746, 2407.36352746, 2407.36352746,\n",
       "       2407.36352746, 2407.36352746, 2407.36352746, 2407.36352746,\n",
       "       2407.36352746, 2407.36352746, 2407.36352746, 2407.36352746,\n",
       "       2407.36352746, 2407.36352746, 2407.36352746, 2407.36352746,\n",
       "       2407.36352746, 2407.36352746, 2407.36352746, 2407.36352746,\n",
       "       2407.36352746, 2407.36352746, 2407.36352746, 2407.36352746,\n",
       "       2407.36352746, 2407.36352746, 2407.36352746, 2407.36352746,\n",
       "       2407.36352746, 2407.36352746, 2407.36352746, 2407.36352746,\n",
       "       2407.36352746, 2407.36352746, 2407.36352746, 2407.36352746,\n",
       "       2407.36352746, 2407.36352746, 2407.36352746, 2407.36352746,\n",
       "       2407.36352746, 2407.36352746, 2407.36352746, 2407.36352746,\n",
       "       2407.36352746, 2407.36352746, 2407.36352746, 2407.36352746,\n",
       "       2407.36352746])"
      ]
     },
     "execution_count": 84,
     "metadata": {},
     "output_type": "execute_result"
    }
   ],
   "source": [
    "# SVR_rbfk = SVR(kernel= 'rbf', C= 1e4, gamma= 0.01)\n",
    "# SVR_rbfk.fit(test_dates_data, test_prices_data)\n",
    "SVR_rbfk_test = SVR_rbfk.predict(test_dates_data)\n",
    "SVR_rbfk_test"
   ]
  },
  {
   "cell_type": "code",
   "execution_count": 85,
   "metadata": {
    "colab": {
     "base_uri": "https://localhost:8080/"
    },
    "executionInfo": {
     "elapsed": 100,
     "status": "ok",
     "timestamp": 1640161341804,
     "user": {
      "displayName": "Antonius Ricky",
      "photoUrl": "https://lh3.googleusercontent.com/a/default-user=s64",
      "userId": "13788256783846812684"
     },
     "user_tz": -420
    },
    "id": "AZWI8xU93J0_",
    "outputId": "6b612fb6-4db1-4b48-cfd6-b5f72e5002d4"
   },
   "outputs": [
    {
     "data": {
      "text/plain": [
       "array([4180.50580893, 4181.51950857, 4184.56060764, 4185.57430733,\n",
       "       4186.58800698, 4187.60170668, 4188.61540638, 4191.6565054 ,\n",
       "       4192.67020506, 4193.68390475, 4194.69760441, 4195.7113041 ,\n",
       "       4198.75240312, 4199.76610282, 4200.77980248, 4201.79350215,\n",
       "       4202.80720185, 4205.84830088, 4206.86200057, 4207.87570025,\n",
       "       4208.88939992, 4209.90309959, 4212.94419862, 4213.9578983 ,\n",
       "       4214.97159799, 4215.98529767, 4216.99899734, 4220.04009637,\n",
       "       4221.05379604, 4222.06749574, 4223.08119539, 4224.09489507,\n",
       "       4227.13599412, 4228.1496938 , 4229.16339348, 4230.17709317,\n",
       "       4231.19079283, 4234.23189188, 4235.24559154, 4236.25929122,\n",
       "       4237.27299091, 4238.28669058, 4241.32778962, 4242.3414893 ,\n",
       "       4243.35518898, 4244.36888867, 4245.38258832, 4248.42368737,\n",
       "       4249.43738703, 4250.45108673, 4251.46478642, 4252.47848608,\n",
       "       4255.51958513, 4256.53328479, 4257.54698448, 4258.56068412,\n",
       "       4259.57438383, 4262.61548285, 4263.62918254, 4265.65658188,\n",
       "       4266.67028158, 4269.71138061, 4270.72508029, 4271.73877995,\n",
       "       4272.75247965, 4273.76617931, 4276.80727829, 4277.82097805,\n",
       "       4278.83467773, 4279.84837737, 4283.90317613, 4284.91687578,\n",
       "       4285.93057546, 4286.94427513, 4287.9579749 , 4290.99907386,\n",
       "       4292.01277352, 4293.0264732 , 4294.0401729 , 4295.05387258,\n",
       "       4298.09497162, 4299.10867119, 4300.12237096, 4301.13607063,\n",
       "       4305.19086934, 4306.20456896, 4307.21826872, 4309.24566806,\n",
       "       4312.28676708, 4313.30046675, 4314.31416644, 4315.32786612,\n",
       "       4316.34156581, 4319.38266484, 4320.3963645 , 4321.4100642 ,\n",
       "       4327.49226224, 4328.50596195, 4329.51966161, 4330.53336128,\n",
       "       4334.58815999, 4335.60185967, 4336.61555936, 4337.62925901,\n",
       "       4340.67035807, 4341.68405773, 4342.69775739, 4343.7114571 ,\n",
       "       4344.72515679, 4347.76625582, 4348.77995552, 4349.79365518,\n",
       "       4350.80735485, 4351.82105453, 4354.86215357, 4355.87585325,\n",
       "       4356.88955294, 4357.90325256, 4358.91695228, 4361.95805132,\n",
       "       4362.97175101, 4363.98545066, 4364.99915035, 4366.01285002,\n",
       "       4369.05394906, 4370.06764874, 4371.08134843, 4372.09504809,\n",
       "       4373.10874779, 4376.14984681, 4377.1635465 , 4378.17724614,\n",
       "       4379.19094585, 4380.2046455 , 4383.24574455, 4384.25944424,\n",
       "       4385.27314389, 4386.28684357, 4387.3005433 , 4390.3416423 ,\n",
       "       4391.355342  , 4392.36904165, 4393.38274134, 4397.43754005,\n",
       "       4398.45123974, 4399.46493943, 4400.47863908, 4401.49233877,\n",
       "       4404.5334378 , 4405.54713749, 4406.56083715, 4407.57453684,\n",
       "       4408.58823651, 4412.64303522, 4413.65673489, 4418.7252333 ,\n",
       "       4419.73893298, 4420.75263264, 4421.76633233, 4422.78003206,\n",
       "       4425.82113101, 4426.83483071, 4427.84853037, 4428.86223006,\n",
       "       4429.87592975, 4432.9170288 , 4433.93072847, 4434.94442811,\n",
       "       4435.95812781, 4436.97182752, 4440.01292652, 4441.02662626,\n",
       "       4442.04032589, 4443.05402557, 4444.06772526, 4447.10882427,\n",
       "       4448.12252394, 4449.13622364, 4450.14992336, 4451.16362298,\n",
       "       4454.20472202, 4455.21842171, 4456.2321214 , 4457.24582106,\n",
       "       4458.25952074, 4461.30061977, 4462.31431945, 4463.32801913,\n",
       "       4464.34171882, 4465.35541849, 4468.39651752, 4469.4102172 ,\n",
       "       4470.42391687, 4471.43761658, 4472.45131623, 4475.49241528,\n",
       "       4476.50611494, 4477.5198146 , 4478.53351431, 4479.54721398,\n",
       "       4482.58831304, 4483.60201271, 4489.68421077, 4490.69791044,\n",
       "       4491.71161012, 4492.72530981, 4493.73900949, 4496.78010853,\n",
       "       4497.7938082 , 4498.80750785, 4499.82120754, 4500.83490722,\n",
       "       4503.87600626, 4504.88970593, 4505.90340563, 4506.91710528,\n",
       "       4507.93080496, 4510.971904  , 4511.98560369, 4512.99930336,\n",
       "       4514.01300304, 4515.02670272, 4518.06780179, 4519.08150142,\n",
       "       4520.09520112, 4521.10890078, 4522.12260044, 4525.1636995 ,\n",
       "       4526.17739918, 4528.20479853, 4529.2184982 , 4532.25959726,\n",
       "       4533.27329693, 4534.2869966 , 4535.30069627, 4536.31439595,\n",
       "       4539.35549498, 4540.36919468, 4541.38289434, 4546.45139275,\n",
       "       4547.46509243, 4548.4787921 , 4553.54729048, 4554.56099013,\n",
       "       4555.57468984, 4556.58838952, 4557.60208921, 4560.64318822,\n",
       "       4561.65688791, 4562.67058758, 4563.6842873 , 4564.69798695,\n",
       "       4567.73908597, 4568.75278563, 4569.76648534, 4570.78018502,\n",
       "       4571.79388469, 4574.83498375, 4575.84868343, 4576.86238305,\n",
       "       4577.87608274, 4578.88978244, 4581.93088147, 4582.94458115,\n",
       "       4583.95828086, 4584.97198051, 4585.98568018, 4589.02677923,\n",
       "       4590.0404789 , 4591.05417859, 4592.06787826, 4596.12267698,\n",
       "       4597.13637663, 4598.15007633, 4599.163776  , 4600.17747568,\n",
       "       4603.21857471, 4604.23227441, 4605.24597406, 4606.25967373,\n",
       "       4607.27337342, 4610.31447246, 4611.32817212, 4612.34187178,\n",
       "       4613.35557151, 4614.36927117, 4617.41037019, 4618.4240699 ,\n",
       "       4619.43776958, 4621.46516889, 4624.50626798, 4625.51996762,\n",
       "       4626.53366732, 4627.54736696, 4628.56106666, 4631.60216568,\n",
       "       4632.61586538, 4633.62956504, 4634.64326473, 4635.65696441,\n",
       "       4638.69806345, 4639.71176312, 4640.72546281, 4641.73916249,\n",
       "       4645.79396119, 4646.80766087, 4647.82136056, 4648.83506027,\n",
       "       4649.8487599 , 4652.88985894, 4653.90355863, 4654.9172583 ,\n",
       "       4655.93095801, 4656.94465766, 4659.98575667, 4660.99945635,\n",
       "       4662.01315605, 4663.02685572, 4664.0405554 , 4667.08165442,\n",
       "       4668.09535413, 4669.10905379, 4670.12275347, 4671.13645314,\n",
       "       4674.17755219, 4675.19125186, 4676.20495152, 4677.21865122,\n",
       "       4678.23235091, 4681.27344993, 4682.28714961, 4688.36934769,\n",
       "       4689.38304736, 4690.39674705, 4691.41044672, 4692.42414629,\n",
       "       4695.46524542, 4696.4789451 , 4698.50634446, 4699.52004414,\n",
       "       4702.56114319, 4704.58854252, 4705.6022422 , 4706.61594186,\n",
       "       4709.65704091, 4710.67074059, 4711.68444027, 4712.69813996,\n",
       "       4713.71183963, 4716.75293868, 4717.76663834, 4718.780338  ,\n",
       "       4719.79403768, 4720.80773738, 4723.84883643, 4724.8625361 ,\n",
       "       4725.87623577, 4726.88993546, 4727.90363512, 4730.94473416,\n",
       "       4731.95843383, 4732.97213353, 4733.9858332 , 4734.99953286,\n",
       "       4738.0406319 , 4739.05433157, 4740.06803125, 4741.08173096,\n",
       "       4742.09543063, 4745.13652965, 4746.15022935, 4747.16392902,\n",
       "       4748.17762869, 4749.19132836, 4752.23242742, 4754.25982677,\n",
       "       4755.27352643, 4756.28722611, 4759.32832515, 4760.34202482,\n",
       "       4761.3557245 , 4762.3694242 , 4763.38312384, 4766.42422288,\n",
       "       4767.43792256, 4768.45162226, 4769.46532195, 4770.47902159,\n",
       "       4773.52012066, 4774.53382032, 4776.56121968, 4777.57491934,\n",
       "       4780.6160184 , 4782.64341775, 4783.65711742, 4784.6708171 ,\n",
       "       4787.71191614, 4788.7256158 , 4789.73931556, 4790.75301519,\n",
       "       4791.76671482, 4794.80781386, 4795.82151356, 4796.83521323,\n",
       "       4797.8489129 , 4798.86261259, 4801.90371152, 4802.91741129,\n",
       "       4803.93111098, 4804.94481065, 4805.95851034, 4808.99960937,\n",
       "       4810.01330907, 4811.02700873, 4812.04070842, 4813.05440809,\n",
       "       4816.09550711, 4817.1092068 , 4818.12290647, 4819.13660615,\n",
       "       4820.15030593, 4823.19140487, 4824.20510456, 4825.21880422,\n",
       "       4826.23250391, 4827.24620358, 4830.28730261, 4831.30100229,\n",
       "       4832.31470197, 4833.32840162, 4834.34210134, 4837.38320036,\n",
       "       4838.39690004, 4839.41059977, 4840.4242994 , 4841.43799908,\n",
       "       4844.47909806, 4845.4927978 , 4847.52019714, 4848.53389683,\n",
       "       4851.57499585, 4852.58869554, 4853.60239521, 4854.61609488,\n",
       "       4855.62979456, 4858.67089362, 4859.68459328, 4860.69829295,\n",
       "       4861.71199267, 4862.72569232, 4865.76679133, 4866.78049104,\n",
       "       4867.79419076, 4868.8078904 , 4869.82159008, 4872.86268908,\n",
       "       4873.87638881, 4874.89008842, 4875.90378815, 4876.91748782,\n",
       "       4879.95858684, 4880.97228652, 4881.98598623, 4882.9996859 ,\n",
       "       4884.01338558, 4887.0544846 , 4888.06818425, 4889.08188402,\n",
       "       4890.09558363, 4891.10928331, 4894.15038234, 4895.16408202,\n",
       "       4896.17778166, 4897.19148137, 4898.20518105, 4901.24628009,\n",
       "       4902.25997978, 4903.27367944, 4904.28737914, 4905.30107879,\n",
       "       4908.34217784, 4909.35587752, 4910.3695772 , 4911.38327691,\n",
       "       4912.39697652, 4915.43807557, 4916.45177526, 4917.46547494,\n",
       "       4918.47917463, 4922.53397334, 4923.54767302, 4924.56137267,\n",
       "       4925.57507236, 4926.58877205, 4929.62987106, 4930.64357075,\n",
       "       4931.65727043, 4932.67097013, 4933.6846698 , 4936.72576883,\n",
       "       4937.7394685 , 4938.75316817, 4939.76686787, 4940.78056753,\n",
       "       4943.82166656, 4944.83536626, 4945.84906595, 4946.8627656 ,\n",
       "       4947.87646528, 4950.9175643 , 4952.94496367, 4953.95866335,\n",
       "       4954.97236292, 4958.01346206, 4959.02716177, 4960.04086143,\n",
       "       4961.05456099, 4962.06826073, 4965.10935981, 4966.12305946,\n",
       "       4967.13675913, 4968.1504588 , 4969.1641585 , 4972.20525755,\n",
       "       4973.2189572 , 4974.23265693, 4975.24635659, 4976.26005628,\n",
       "       4980.31485498, 4981.32855469, 4983.35595404, 4986.39705303,\n",
       "       4987.41075274, 4988.42445242, 4989.43815209, 4990.45185179,\n",
       "       4993.49295081, 4994.50665048, 4995.52035015, 4996.53404984,\n",
       "       4997.54774954, 5000.58884858, 5001.6025482 , 5002.61624791,\n",
       "       5003.62994755, 5004.64364725, 5007.68474627, 5008.69844597,\n",
       "       5009.71214566, 5010.72584531, 5011.73954501, 5014.78064404,\n",
       "       5015.79434373, 5016.80804338, 5017.82174308, 5018.83544276,\n",
       "       5021.8765418 , 5022.89024146, 5023.90394119, 5024.91764081,\n",
       "       5028.97243952, 5029.98613923, 5030.99983888, 5032.01353855,\n",
       "       5033.02723824, 5036.06833726, 5037.08203696, 5038.09573662,\n",
       "       5039.10943632, 5050.26013278, 5051.27383245, 5052.28753215,\n",
       "       5053.30123182, 5054.3149315 , 5058.3697302 , 5059.38342988,\n",
       "       5060.39712957, 5061.41082925, 5064.45192826, 5065.46562794,\n",
       "       5066.47932762, 5068.50672697, 5071.54782601, 5072.5615257 ,\n",
       "       5074.58892502, 5075.60262473, 5078.64372378, 5079.65742345,\n",
       "       5080.67112313, 5081.68482281, 5082.69852246, 5085.73962161,\n",
       "       5086.75332119, 5087.76702086, 5088.78072056, 5089.79442026,\n",
       "       5092.83551925, 5093.84921892, 5094.86291861, 5095.87661829,\n",
       "       5096.89031798, 5099.93141699, 5100.94511673, 5101.95881634,\n",
       "       5102.97251602, 5103.9862157 , 5107.02731475, 5108.04101433,\n",
       "       5109.05471411, 5110.06841378, 5111.08211346, 5114.12321248,\n",
       "       5115.13691243, 5116.15061186, 5117.16431153, 5118.17801121,\n",
       "       5121.21911022, 5122.23280987, 5123.24650961, 5124.26020928,\n",
       "       5125.27390893, 5128.31500794, 5129.32870765, 5130.34240734,\n",
       "       5131.35610702, 5132.36980666, 5135.41090573, 5136.42460542,\n",
       "       5137.43830508, 5138.45200476, 5139.46570446, 5142.50680349,\n",
       "       5143.52050318, 5144.53420289, 5145.54790255, 5146.5616022 ,\n",
       "       5149.60270124, 5150.61640091, 5152.64380027, 5153.65749992,\n",
       "       5156.698599  , 5157.71229867, 5158.72599831, 5159.73969802,\n",
       "       5160.7533977 , 5163.79449672, 5164.80819641, 5165.8218961 ,\n",
       "       5166.83559581, 5167.84929541, 5170.89039449, 5171.90409416,\n",
       "       5172.91779385, 5173.93149351, 5174.94519318, 5177.98629219,\n",
       "       5178.99999188, 5180.01369155, 5181.02739125, 5182.04109093,\n",
       "       5185.08218994, 5186.09588965, 5187.10958932, 5188.12328898,\n",
       "       5189.13698869, 5192.17808774, 5193.19178737, 5194.20548708,\n",
       "       5195.21918677, 5196.2328864 , 5199.27398549, 5200.2876851 ,\n",
       "       5201.30138482, 5202.31508451, 5203.32878419, 5206.36988321,\n",
       "       5207.38358285, 5208.39728256, 5209.41098223, 5210.42468193,\n",
       "       5213.46578098, 5214.47948063, 5215.4931803 , 5216.50687996,\n",
       "       5217.52057972, 5220.56167868, 5221.5753784 , 5222.58907804,\n",
       "       5223.60277772, 5224.61647743, 5227.65757647, 5228.67127613,\n",
       "       5229.68497578, 5230.69867548, 5231.71237514, 5234.75347418,\n",
       "       5235.76717386, 5236.78087358, 5237.79457324, 5238.80827291,\n",
       "       5241.84937194, 5242.86307168, 5243.87677131, 5244.89047098,\n",
       "       5245.90417067, 5248.94526968, 5249.95896936, 5250.97266905,\n",
       "       5251.98636872, 5253.0000684 , 5256.04116746, 5257.05486712,\n",
       "       5258.0685668 ])"
      ]
     },
     "execution_count": 85,
     "metadata": {},
     "output_type": "execute_result"
    }
   ],
   "source": [
    "# SVR_linear = make_pipeline(StandardScaler(), SVR(kernel='linear', C=1))\n",
    "# SVR_linear.fit(test_dates_data, test_prices_data)\n",
    "SVR_linear_test =  SVR_linear.predict(test_dates_data)\n",
    "SVR_linear_test"
   ]
  },
  {
   "cell_type": "code",
   "execution_count": 86,
   "metadata": {
    "colab": {
     "base_uri": "https://localhost:8080/"
    },
    "executionInfo": {
     "elapsed": 90,
     "status": "ok",
     "timestamp": 1640161341807,
     "user": {
      "displayName": "Antonius Ricky",
      "photoUrl": "https://lh3.googleusercontent.com/a/default-user=s64",
      "userId": "13788256783846812684"
     },
     "user_tz": -420
    },
    "id": "09ynvcyjmuuu",
    "outputId": "9d206543-7053-4a11-f571-49f4aaf2276f"
   },
   "outputs": [
    {
     "data": {
      "text/plain": [
       "array([ 5911.10335551,  5915.18293294,  5927.43816638,  5931.52874812,\n",
       "        5935.62208358,  5939.71817385,  5943.81701996,  5956.13010403,\n",
       "        5960.23998417,  5964.35262547,  5968.46802899,  5972.5861958 ,\n",
       "        5984.95728654,  5989.08651709,  5993.21851623,  5997.35328503,\n",
       "        6001.49082454,  6013.92007798,  6018.06871096,  6022.22011996,\n",
       "        6026.37430605,  6030.53127027,  6043.01884244,  6047.18692986,\n",
       "        6051.35780074,  6055.53145612,  6059.70789708,  6072.25394401,\n",
       "        6076.44153788,  6080.63192263,  6084.82509933,  6089.02106902,\n",
       "        6101.62574676,  6105.83289908,  6110.04284973,  6114.25559975,\n",
       "        6118.47115019,  6131.13461476,  6135.36137756,  6139.59094611,\n",
       "        6143.82332146,  6148.05850467,  6160.78091211,  6165.0273374 ,\n",
       "        6169.27657585,  6173.52862854,  6177.78349653,  6190.56500288,\n",
       "        6194.83114265,  6199.10010304,  6203.37188508,  6207.64648986,\n",
       "        6220.48725114,  6224.77315742,  6229.06189175,  6233.35345516,\n",
       "        6237.64784873,  6250.54802099,  6254.85374579,  6263.47370285,\n",
       "        6267.78793723,  6280.74767649,  6285.07327182,  6289.40171005,\n",
       "        6293.73299224,  6298.06711943,  6311.08658173,  6315.43209961,\n",
       "        6319.78046781,  6324.13168739,  6341.56510079,  6345.93059322,\n",
       "        6350.2989434 ,  6354.6701524 ,  6359.04422127,  6372.18359776,\n",
       "        6376.56911674,  6380.95750092,  6385.34875134,  6389.74286906,\n",
       "        6402.9424367 ,  6407.34803426,  6411.75650445,  6416.1678483 ,\n",
       "        6433.8419817 ,  6438.26770985,  6442.69631805,  6451.56217881,\n",
       "        6464.88259683,  6469.32850759,  6473.77730581,  6478.22899257,\n",
       "        6482.68356892,  6496.06464619,  6500.53079155,  6504.99983181,\n",
       "        6531.87492583,  6536.36426014,  6540.85649785,  6545.35164002,\n",
       "        6563.3612745 ,  6567.87095487,  6572.38354607,  6576.89904916,\n",
       "        6590.46304037,  6594.99020162,  6599.52028008,  6604.05327679,\n",
       "        6608.58919281,  6622.2144674 ,  6626.76207131,  6631.31259985,\n",
       "        6635.86605406,  6640.42243504,  6654.10914905,  6658.67724762,\n",
       "        6663.24827825,  6667.822242  ,  6672.39913993,  6686.1474494 ,\n",
       "        6690.73609465,  6695.32767939,  6699.92220468,  6704.51967156,\n",
       "        6718.32973252,  6722.93897646,  6727.55116732,  6732.16630616,\n",
       "        6736.78439403,  6750.6563625 ,  6755.28625714,  6759.91910613,\n",
       "        6764.55491053,  6769.19367139,  6783.12770342,  6787.77830077,\n",
       "        6792.4318599 ,  6797.08838187,  6801.74786774,  6815.74411935,\n",
       "        6820.41547143,  6825.08979271,  6829.76708427,  6848.50597438,\n",
       "        6853.19813319,  6857.89326865,  6862.59138179,  6867.2924737 ,\n",
       "        6881.41363259,  6886.12665015,  6890.84265177,  6895.56163853,\n",
       "        6900.28361147,  6919.20138637,  6923.93830619,  6947.66781486,\n",
       "        6952.42270594,  6957.18059596,  6961.94148596,  6966.70537701,\n",
       "        6981.01506708,  6985.79097295,  6990.56988517,  6995.35180481,\n",
       "        7000.13673294,  7014.50957879,  7019.30655145,  7024.10653789,\n",
       "        7028.90953919,  7033.7155564 ,  7048.15171409,  7052.96980555,\n",
       "        7057.79091823,  7062.61505319,  7067.44221149,  7081.94183704,\n",
       "        7086.78109932,  7091.62339023,  7096.46871087,  7101.31706228,\n",
       "        7115.88031172,  7120.74079683,  7125.60431801,  7130.47087633,\n",
       "        7135.34047284,  7149.96750223,  7154.84926217,  7159.73406562,\n",
       "        7164.62191363,  7169.51280728,  7184.20377262,  7189.10685941,\n",
       "        7194.01299714,  7198.92218686,  7203.83442965,  7218.589487  ,\n",
       "        7223.51395264,  7228.44147666,  7233.3720601 ,  7238.30570405,\n",
       "        7253.12500943,  7258.07090594,  7287.81070398,  7292.7780834 ,\n",
       "        7297.74853603,  7302.72206294,  7307.69866522,  7322.64693477,\n",
       "        7327.63584907,  7332.62784402,  7337.6229207 ,  7342.62108017,\n",
       "        7357.63406584,  7362.64456705,  7367.65815633,  7372.67483479,\n",
       "        7377.69460344,  7392.77246129,  7397.80460142,  7402.83983705,\n",
       "        7407.87816927,  7412.91959914,  7428.06248519,  7433.11631625,\n",
       "        7438.17325025,  7443.23328826,  7448.29643134,  7463.50450164,\n",
       "        7468.58007563,  7478.74055581,  7483.82546412,  7499.0988747 ,\n",
       "        7504.19624363,  7509.29673039,  7514.40033601,  7519.50706157,\n",
       "        7534.84596845,  7539.96518436,  7545.0875255 ,  7570.74614697,\n",
       "        7575.88726185,  7581.0315094 ,  7606.79977436,  7611.96284021,\n",
       "        7617.12904618,  7622.29839331,  7627.47088266,  7643.00721467,\n",
       "        7648.19228353,  7653.38049992,  7658.57186491,  7663.76637954,\n",
       "        7679.368832  ,  7684.57595586,  7689.7862347 ,  7694.99966954,\n",
       "        7700.21626148,  7715.88499042,  7721.1142213 ,  7726.34661458,\n",
       "        7731.58217131,  7736.82089257,  7752.55605401,  7757.80744393,\n",
       "        7763.06200367,  7768.3197343 ,  7773.58063687,  7789.38238687,\n",
       "        7794.65598783,  7799.93276604,  7805.21272258,  7826.36435305,\n",
       "        7831.66021707,  7836.95926577,  7842.26150021,  7847.56692146,\n",
       "        7863.50231665,  7868.82049573,  7874.14186692,  7879.46643129,\n",
       "        7884.7941899 ,  7900.79664174,  7906.1371879 ,  7911.4809336 ,\n",
       "        7916.8278799 ,  7922.17802787,  7938.2476924 ,  7943.61065765,\n",
       "        7948.97682987,  7959.71879947,  7975.85583272,  7981.24126907,\n",
       "        7986.62991981,  7992.02178604,  7997.41686878,  8013.62142678,\n",
       "        8019.02938623,  8024.44056753,  8029.85497171,  8035.27259985,\n",
       "        8051.54483863,  8056.97537321,  8062.40913706,  8067.84613123,\n",
       "        8089.62643239,  8095.07959411,  8100.53599252,  8105.99562868,\n",
       "        8111.45850366,  8127.86657213,  8133.34241298,  8138.82149797,\n",
       "        8144.30382814,  8149.78940456,  8166.26562189,  8171.76419393,\n",
       "        8177.26601749,  8182.77109368,  8188.27942355,  8204.82394581,\n",
       "        8210.34530101,  8215.86991517,  8221.39778939,  8226.92892471,\n",
       "        8243.54190795,  8249.08609831,  8254.6335551 ,  8260.18427936,\n",
       "        8265.73827215,  8282.41987236,  8287.98694992,  8321.45820315,\n",
       "        8327.04821992,  8332.64151796,  8338.23809832,  8343.83796209,\n",
       "        8360.6572644 ,  8366.27027237,  8377.5061555 ,  8383.12903277,\n",
       "        8400.01742017,  8411.2928187 ,  8416.93546324,  8422.58140603,\n",
       "        8439.53903457,  8445.198181  ,  8450.86063101,  8456.52638563,\n",
       "        8462.19544595,  8479.22247164,  8484.90476532,  8490.59037001,\n",
       "        8496.27928674,  8501.97151659,  8519.0680955 ,  8524.77358843,\n",
       "        8530.48239981,  8536.19453066,  8541.90998207,  8559.0762702 ,\n",
       "        8564.80501441,  8570.53708448,  8576.27248147,  8582.01120643,\n",
       "        8599.24735983,  8604.99940732,  8610.75478811,  8616.51350323,\n",
       "        8622.27555378,  8639.58172848,  8645.35713127,  8651.13587477,\n",
       "        8656.91796006,  8662.70338818,  8680.07974021,  8691.68070855,\n",
       "        8697.48621601,  8703.29507373,  8720.74175911,  8726.56402853,\n",
       "        8732.38965352,  8738.21863515,  8744.05097447,  8761.56814928,\n",
       "        8767.41393001,  8773.26307376,  8779.11558157,  8784.97145452,\n",
       "        8802.55927476,  8808.42861884,  8820.17741938,  8826.05687795,\n",
       "        8843.71549966,  8855.50479638,  8861.40451262,  8867.30760884,\n",
       "        8885.03718805,  8890.95381485,  8896.87382693,  8902.79722539,\n",
       "        8908.72401126,  8926.52470401,  8932.46505017,  8938.40878908,\n",
       "        8944.35592177,  8950.30644929,  8968.17841162,  8974.14252917,\n",
       "        8980.11004689,  8986.08096581,  8992.05528702,  9009.99867495,\n",
       "        9015.98661591,  9021.97796444,  9027.97272163,  9033.97088853,\n",
       "        9051.98585811,  9057.99767446,  9064.01290584,  9070.03155329,\n",
       "        9076.05361789,  9094.14032515,  9100.17606893,  9106.21523515,\n",
       "        9112.25782489,  9118.30383919,  9136.46244015,  9142.52216337,\n",
       "        9148.58531645,  9154.65190048,  9160.7219165 ,  9178.95256721,\n",
       "        9185.03632186,  9191.12351382,  9197.21414416,  9203.30821392,\n",
       "        9221.6110704 ,  9227.7189085 ,  9239.94491999,  9246.0630955 ,\n",
       "        9264.4383138 ,  9270.57028737,  9276.7057131 ,  9282.84459208,\n",
       "        9288.98692533,  9307.43466149,  9313.59082252,  9319.75044318,\n",
       "        9325.91352448,  9332.08006751,  9350.60047755,  9356.78087808,\n",
       "        9362.96474564,  9369.1520813 ,  9375.3428861 ,  9393.93612606,\n",
       "        9400.14081808,  9406.34898458,  9412.56062659,  9418.77574519,\n",
       "        9437.44197108,  9443.67100663,  9449.90352406,  9456.13952445,\n",
       "        9462.37900884,  9481.11837673,  9487.37180779,  9493.62872818,\n",
       "        9499.88913894,  9506.15304115,  9524.96570706,  9531.24358565,\n",
       "        9537.52496102,  9543.80983416,  9550.09820621,  9568.98432616,\n",
       "        9575.28670429,  9581.59258662,  9587.90197418,  9594.21486806,\n",
       "        9613.1745981 ,  9619.50152781,  9625.83196911,  9632.16592311,\n",
       "        9638.50339081,  9657.53688699,  9663.88842025,  9670.24347255,\n",
       "        9676.60204498,  9702.07155687,  9708.44774571,  9714.82746103,\n",
       "        9721.2107039 ,  9727.59747533,  9746.77897184,  9753.17986828,\n",
       "        9759.58429862,  9765.99226391,  9772.40376524,  9791.65949598,\n",
       "        9798.08515203,  9804.5143494 ,  9810.94708915,  9817.38337237,\n",
       "        9836.71349337,  9843.16396103,  9849.61797743,  9856.07554367,\n",
       "        9862.5366608 ,  9881.94132808,  9894.89554683,  9901.37799154,\n",
       "        9907.8639946 ,  9927.34336422,  9933.84361112,  9940.34742166,\n",
       "        9946.85479688,  9953.36573785,  9972.91996583,  9979.44518038,\n",
       "        9985.973966  ,  9992.50632372,  9999.04225462, 10018.671497  ,\n",
       "       10025.22173122, 10031.77554392, 10038.33293617, 10044.89390902,\n",
       "       10071.17362771, 10077.75251953, 10090.92106511, 10110.70080437,\n",
       "       10117.30123396, 10123.90525686, 10130.51287418, 10137.12408697,\n",
       "       10156.97930874, 10163.604914  , 10170.23412005, 10176.86692792,\n",
       "       10183.50333868, 10203.434199  , 10210.08503196, 10216.73947313,\n",
       "       10223.39752357, 10230.05918433, 10250.0658392 , 10256.74195189,\n",
       "       10263.42168021, 10270.10502522, 10276.79198799, 10296.87459346,\n",
       "       10303.57603787, 10310.28110535, 10316.98979696, 10323.70211373,\n",
       "       10343.86082584, 10350.587654  , 10357.31811264, 10364.05220285,\n",
       "       10391.02490044, 10397.77716433, 10404.53306617, 10411.29260698,\n",
       "       10418.05578784, 10438.36718132, 10445.14493298, 10451.92633   ,\n",
       "       10458.71137343, 10533.58781825, 10540.41670146, 10547.2492449 ,\n",
       "       10554.08544963, 10560.92531667, 10588.32142948, 10595.17962413,\n",
       "       10602.04148752, 10608.90702065, 10629.52564929, 10636.40587212,\n",
       "       10643.28977002, 10657.06859528, 10677.76442281, 10684.67039345,\n",
       "       10698.4933833 , 10705.41040464, 10726.18358706, 10733.11535754,\n",
       "       10740.05081794, 10746.98996936, 10753.93281282, 10774.78350619,\n",
       "       10781.7411285 , 10788.70244817, 10795.6674663 , 10802.63618389,\n",
       "       10823.56454423, 10830.54807041, 10837.53530136, 10844.5262382 ,\n",
       "       10851.52088193, 10872.52706529, 10879.53654731, 10886.54974156,\n",
       "       10893.56664912, 10900.58727102, 10921.67143342, 10928.70692332,\n",
       "       10935.74613289, 10942.78906317, 10949.83571524, 10970.99801272,\n",
       "       10978.05956251, 10985.12483939, 10992.19384442, 10999.26657866,\n",
       "       11020.50716726, 11027.59482894, 11034.68622517, 11041.78135696,\n",
       "       11048.88022538, 11070.19926112, 11077.31308672, 11084.43065427,\n",
       "       11091.55196483, 11098.67701947, 11120.07465839, 11127.2146999 ,\n",
       "       11134.35849083, 11141.50603217, 11148.65732502, 11170.13372315,\n",
       "       11177.30003261, 11184.47009888, 11191.64392302, 11198.82150607,\n",
       "       11220.37681947, 11227.56944888, 11241.96600145, 11249.16992675,\n",
       "       11270.80431143, 11278.02331281, 11285.24608582, 11292.47263158,\n",
       "       11299.70295112, 11321.41656313, 11328.66198845, 11335.91119289,\n",
       "       11343.16417746, 11350.42094327, 11372.21393862, 11379.48583993,\n",
       "       11386.76152776, 11394.04100319, 11401.32426725, 11423.196802  ,\n",
       "       11430.49523129, 11437.79745454, 11445.10347282, 11452.41328716,\n",
       "       11474.36551734, 11481.69052663, 11489.01933733, 11496.35195046,\n",
       "       11503.68836708, 11525.72044872, 11533.07209002, 11540.42754017,\n",
       "       11547.78680017, 11555.14987112, 11577.26196023, 11584.64028556,\n",
       "       11592.02242714, 11599.40838604, 11606.7981633 , 11628.99041594,\n",
       "       11636.39547731, 11643.80436235, 11651.21707215, 11658.63360774,\n",
       "       11680.90617994, 11688.33802934, 11695.77370987, 11703.21322257,\n",
       "       11710.65656851, 11733.00961629, 11740.46830578, 11747.93083377,\n",
       "       11755.39720139, 11762.86740967, 11785.30108909, 11792.78667064,\n",
       "       11800.27609816, 11807.76937268, 11815.26649533, 11837.78096241,\n",
       "       11845.29348804, 11852.80986705, 11860.33010055, 11867.85418956,\n",
       "       11890.44960034, 11897.98912205, 11905.5325046 , 11913.07974905,\n",
       "       11920.63085643, 11943.30736694, 11950.87393678, 11958.44437484,\n",
       "       11966.01868227, 11973.59686005, 11996.35462632, 12003.94829626,\n",
       "       12011.54584189])"
      ]
     },
     "execution_count": 86,
     "metadata": {},
     "output_type": "execute_result"
    }
   ],
   "source": [
    "# SVR_poly = make_pipeline(StandardScaler(), SVR(kernel='poly', C=1e3, degree=4, epsilon=0.1, coef0=1))\n",
    "# SVR_poly.fit(test_dates_data, test_prices_data)\n",
    "SVR_poly_test = SVR_poly.predict(test_dates_data)\n",
    "SVR_poly_test"
   ]
  },
  {
   "cell_type": "code",
   "execution_count": 87,
   "metadata": {
    "colab": {
     "base_uri": "https://localhost:8080/",
     "height": 403
    },
    "executionInfo": {
     "elapsed": 80,
     "status": "ok",
     "timestamp": 1640161341809,
     "user": {
      "displayName": "Antonius Ricky",
      "photoUrl": "https://lh3.googleusercontent.com/a/default-user=s64",
      "userId": "13788256783846812684"
     },
     "user_tz": -420
    },
    "id": "i1en8pvK3IZZ",
    "outputId": "07835c58-af54-4c05-c539-7cecc169f155"
   },
   "outputs": [
    {
     "data": {
      "image/png": "[encoded data removed]",
      "text/plain": [
       "<Figure size 1200x600 with 1 Axes>"
      ]
     },
     "metadata": {},
     "output_type": "display_data"
    }
   ],
   "source": [
    "plt.figure(figsize = (12,6))\n",
    "plt.title('RBF - Stock Market Prediction Using 2020 - 2021 Data')\n",
    "plt.plot(test_dates_data, test_prices_data, color= 'red', label= 'Real Stock Price')\n",
    "plt.plot(test_actual_dates, SVR_linear_test, color= 'blue', label= 'Linear model Predicted Price')\n",
    "plt.plot(test_actual_dates, SVR_rbfk_test, color= 'yellow', label= 'RBF model Predicted Price')\n",
    "plt.plot(test_actual_dates, SVR_poly_test, color= 'green', label= 'Poly model Predicted Price') \n",
    "plt.xlabel('Date')\n",
    "plt.ylabel('Price')\n",
    "plt.legend()\n",
    "plt.show()"
   ]
  },
  {
   "cell_type": "code",
   "execution_count": 88,
   "metadata": {
    "colab": {
     "base_uri": "https://localhost:8080/"
    },
    "executionInfo": {
     "elapsed": 77,
     "status": "ok",
     "timestamp": 1640161341811,
     "user": {
      "displayName": "Antonius Ricky",
      "photoUrl": "https://lh3.googleusercontent.com/a/default-user=s64",
      "userId": "13788256783846812684"
     },
     "user_tz": -420
    },
    "id": "vUmjQQgZBFmU",
    "outputId": "5da4901a-7899-4e60-aa57-afe48b6fe3a7"
   },
   "outputs": [
    {
     "name": "stdout",
     "output_type": "stream",
     "text": [
      "SVR RBF Train RMSE: 23.58\n",
      "SVR RBF Train R2 Score: 1.00\n",
      "SVR RBF Train MAE Score: 13.65\n",
      "SVR RBF Test RMSE: 4065.61\n",
      "SVR RBF Test R2 Score: -17.19\n",
      "SVR RBF Test MAE Score: 3952.28\n"
     ]
    }
   ],
   "source": [
    "from sklearn.metrics import r2_score\n",
    "from sklearn.metrics import mean_squared_error\n",
    "from sklearn.metrics import mean_absolute_error\n",
    "\n",
    "print(\"SVR RBF Train RMSE: %.2f\"\n",
    "      % np.sqrt(mean_squared_error(prices_data, SVR_rbfk_train)))\n",
    "\n",
    "print(\"SVR RBF Train R2 Score: %.2f\"\n",
    "      % r2_score(prices_data, SVR_rbfk_train))\n",
    "\n",
    "print(\"SVR RBF Train MAE Score: %.2f\"\n",
    "      % mean_absolute_error(prices_data, SVR_rbfk_train))\n",
    "\n",
    "print(\"SVR RBF Test RMSE: %.2f\"\n",
    "      % np.sqrt(mean_squared_error(test_prices_data, SVR_rbfk_test)))\n",
    "\n",
    "print(\"SVR RBF Test R2 Score: %.2f\"\n",
    "      % r2_score(test_prices_data, SVR_rbfk_test))\n",
    "\n",
    "print(\"SVR RBF Test MAE Score: %.2f\"\n",
    "      % mean_absolute_error(test_prices_data, SVR_rbfk_test))\n"
   ]
  },
  {
   "cell_type": "code",
   "execution_count": 89,
   "metadata": {
    "colab": {
     "base_uri": "https://localhost:8080/"
    },
    "executionInfo": {
     "elapsed": 67,
     "status": "ok",
     "timestamp": 1640161341814,
     "user": {
      "displayName": "Antonius Ricky",
      "photoUrl": "https://lh3.googleusercontent.com/a/default-user=s64",
      "userId": "13788256783846812684"
     },
     "user_tz": -420
    },
    "id": "qoNp4IJ20Pw_",
    "outputId": "c8ac59f9-20d2-40a9-f884-e122b59ba4b7"
   },
   "outputs": [
    {
     "name": "stdout",
     "output_type": "stream",
     "text": [
      "SVR Linear Train RMSE: 483.91\n",
      "SVR Linear Train R2 Score: 0.86\n",
      "SVR Linear Train MAE Score: 350.79\n",
      "SVR Linear Test RMSE: 1780.41\n",
      "SVR Linear Test R2 Score: -2.49\n",
      "SVR Linear Test MAE Score: 1639.78\n"
     ]
    }
   ],
   "source": [
    "print(\"SVR Linear Train RMSE: %.2f\"\n",
    "      % np.sqrt(mean_squared_error(prices_data, SVR_linear_train)))\n",
    "\n",
    "print(\"SVR Linear Train R2 Score: %.2f\"\n",
    "      % r2_score(prices_data, SVR_linear_train))\n",
    "\n",
    "print(\"SVR Linear Train MAE Score: %.2f\"\n",
    "      % mean_absolute_error(prices_data, SVR_linear_train))\n",
    "\n",
    "print(\"SVR Linear Test RMSE: %.2f\"\n",
    "      % np.sqrt(mean_squared_error(test_prices_data, SVR_linear_test)))\n",
    "\n",
    "print(\"SVR Linear Test R2 Score: %.2f\"\n",
    "      % r2_score(test_prices_data, SVR_linear_test))\n",
    "\n",
    "print(\"SVR Linear Test MAE Score: %.2f\"\n",
    "      % mean_absolute_error(test_prices_data, SVR_linear_test))"
   ]
  },
  {
   "cell_type": "code",
   "execution_count": 90,
   "metadata": {
    "colab": {
     "base_uri": "https://localhost:8080/"
    },
    "executionInfo": {
     "elapsed": 68,
     "status": "ok",
     "timestamp": 1640161341821,
     "user": {
      "displayName": "Antonius Ricky",
      "photoUrl": "https://lh3.googleusercontent.com/a/default-user=s64",
      "userId": "13788256783846812684"
     },
     "user_tz": -420
    },
    "id": "fzC1dbwHbTEi",
    "outputId": "b6389b09-2961-470f-f5d8-907a2384e90c"
   },
   "outputs": [
    {
     "name": "stdout",
     "output_type": "stream",
     "text": [
      "SVR Poly Train RMSE: 160.79\n",
      "SVR Poly Train R2 Score: 0.99\n",
      "SVR Poly Train MAE Score: 121.65\n",
      "SVR Poly Test RMSE: 2527.13\n",
      "SVR Poly Test R2 Score: -6.03\n",
      "SVR Poly Test MAE Score: 2313.16\n"
     ]
    }
   ],
   "source": [
    "print(\"SVR Poly Train RMSE: %.2f\"\n",
    "      % np.sqrt(mean_squared_error(prices_data, SVR_poly_train)))\n",
    "\n",
    "print(\"SVR Poly Train R2 Score: %.2f\"\n",
    "      % r2_score(prices_data, SVR_poly_train))\n",
    "\n",
    "print(\"SVR Poly Train MAE Score: %.2f\"\n",
    "      % mean_absolute_error(prices_data, SVR_poly_train))\n",
    "\n",
    "print(\"SVR Poly Test RMSE: %.2f\"\n",
    "      % np.sqrt(mean_squared_error(test_prices_data, SVR_poly_test)))\n",
    "\n",
    "print(\"SVR Poly Test R2 Score: %.2f\"\n",
    "      % r2_score(test_prices_data, SVR_poly_test))\n",
    "\n",
    "print(\"SVR Poly Test MAE Score: %.2f\"\n",
    "      % mean_absolute_error(test_prices_data, SVR_poly_test))"
   ]
  },
  {
   "cell_type": "code",
   "execution_count": 94,
   "metadata": {},
   "outputs": [
    {
     "name": "stdout",
     "output_type": "stream",
     "text": [
      "Validation Results:\n",
      "Mean Squared Error: 46781574.18969094\n",
      "R-squared: -81.78964921276035\n"
     ]
    },
    {
     "data": {
      "image/png": "[encoded data removed]",
      "text/plain": [
       "<Figure size 1200x600 with 1 Axes>"
      ]
     },
     "metadata": {},
     "output_type": "display_data"
    }
   ],
   "source": [
    "# Import necessary libraries\n",
    "from sklearn.metrics import mean_squared_error, r2_score\n",
    "\n",
    "# Process validation data\n",
    "validation_indxed_dates = validation_data.copy()\n",
    "validation_indxed_dates = validation_indxed_dates.reset_index()\n",
    "\n",
    "# Store original dates for plotting\n",
    "validation_actual_dates = validation_indxed_dates['Date']\n",
    "\n",
    "# Convert dates to numerical format\n",
    "validation_indxed_dates['Date'] = validation_indxed_dates['Date'].map(mdates.date2num)\n",
    "\n",
    "# Prepare validation data\n",
    "validation_dates_data = validation_indxed_dates['Date'].to_numpy()\n",
    "validation_prices_data = validation_indxed_dates['Adj Close'].to_numpy()\n",
    "\n",
    "# Convert to 1D vector\n",
    "validation_dates_data = np.reshape(validation_dates_data, (len(validation_dates_data), 1))\n",
    "validation_prices_data = np.reshape(validation_prices_data, (len(validation_prices_data), 1)).ravel()\n",
    "\n",
    "# Predict using the trained SVR model\n",
    "SVR_rbfk_validation = SVR_rbfk.predict(validation_dates_data)\n",
    "\n",
    "# Evaluate performance\n",
    "validation_mse = mean_squared_error(validation_prices_data, SVR_rbfk_validation)\n",
    "validation_r2 = r2_score(validation_prices_data, SVR_rbfk_validation)\n",
    "\n",
    "print(\"Validation Results:\")\n",
    "print(f\"Mean Squared Error: {validation_mse}\")\n",
    "print(f\"R-squared: {validation_r2}\")\n",
    "\n",
    "# Plot validation results\n",
    "plt.figure(figsize=(12, 6))\n",
    "plt.title(\"Validation Data: Predicted vs Actual Prices\")\n",
    "plt.plot(validation_actual_dates, validation_prices_data, label='Actual Prices', color='blue')\n",
    "plt.plot(validation_actual_dates, SVR_rbfk_validation, label='Predicted Prices', color='red')\n",
    "plt.xlabel('Date')\n",
    "plt.ylabel('Adjusted Close Price')\n",
    "plt.legend()\n",
    "plt.grid(True)\n",
    "plt.show()"
   ]
  }
 ],
 "metadata": {
  "colab": {
   "collapsed_sections": [],
   "name": "Stock Market Prediction with SVM RBF.ipynb",
   "provenance": [
    {
     "file_id": "1GOnNCVBamIyfI08scEyKb9lcXKGbSi7J",
     "timestamp": 1638709843686
    }
   ]
  },
  "kernelspec": {
   "display_name": "base",
   "language": "python",
   "name": "python3"
  },
  "language_info": {
   "codemirror_mode": {
    "name": "ipython",
    "version": 3
   },
   "file_extension": ".py",
   "mimetype": "text/x-python",
   "name": "python",
   "nbconvert_exporter": "python",
   "pygments_lexer": "ipython3",
   "version": "3.9.13"
  }
 },
 "nbformat": 4,
 "nbformat_minor": 4
}
