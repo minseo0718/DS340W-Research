{
 "cells": [
  {
   "cell_type": "code",
   "execution_count": 1,
   "metadata": {
    "colab": {
     "base_uri": "https://localhost:8080/"
    },
    "executionInfo": {
     "elapsed": 11810,
     "status": "ok",
     "timestamp": 1640161279271,
     "user": {
      "displayName": "Antonius Ricky",
      "photoUrl": "https://lh3.googleusercontent.com/a/default-user=s64",
      "userId": "13788256783846812684"
     },
     "user_tz": -420
    },
    "id": "Go3V6Mh35YYP",
    "outputId": "a8eef122-f4f9-4e06-aa82-03d8e99d9e1e"
   },
   "outputs": [
    {
     "name": "stdout",
     "output_type": "stream",
     "text": [
      "Requirement already satisfied: pandas in /Users/minseokim/opt/anaconda3/lib/python3.9/site-packages (2.2.2)\n",
      "Requirement already satisfied: numpy>=1.22.4 in /Users/minseokim/opt/anaconda3/lib/python3.9/site-packages (from pandas) (1.24.0)\n",
      "Requirement already satisfied: python-dateutil>=2.8.2 in /Users/minseokim/opt/anaconda3/lib/python3.9/site-packages (from pandas) (2.8.2)\n",
      "Requirement already satisfied: pytz>=2020.1 in /Users/minseokim/opt/anaconda3/lib/python3.9/site-packages (from pandas) (2024.1)\n",
      "Requirement already satisfied: tzdata>=2022.7 in /Users/minseokim/opt/anaconda3/lib/python3.9/site-packages (from pandas) (2024.1)\n",
      "Requirement already satisfied: six>=1.5 in /Users/minseokim/opt/anaconda3/lib/python3.9/site-packages (from python-dateutil>=2.8.2->pandas) (1.16.0)\n",
      "^C\n",
      "\u001b[31mERROR: Operation cancelled by user\u001b[0m\u001b[31m\n",
      "\u001b[0mRequirement already satisfied: pandas-datareader in /Users/minseokim/opt/anaconda3/lib/python3.9/site-packages (0.10.0)\n",
      "^C\n",
      "\u001b[31mERROR: Operation cancelled by user\u001b[0m\u001b[31m\n",
      "\u001b[0mRequirement already satisfied: yfinance in /Users/minseokim/opt/anaconda3/lib/python3.9/site-packages (0.2.43)\n",
      "Requirement already satisfied: pandas>=1.3.0 in /Users/minseokim/opt/anaconda3/lib/python3.9/site-packages (from yfinance) (2.2.2)\n",
      "Requirement already satisfied: numpy>=1.16.5 in /Users/minseokim/opt/anaconda3/lib/python3.9/site-packages (from yfinance) (1.24.0)\n",
      "Requirement already satisfied: requests>=2.31 in /Users/minseokim/opt/anaconda3/lib/python3.9/site-packages (from yfinance) (2.32.3)\n",
      "Requirement already satisfied: multitasking>=0.0.7 in /Users/minseokim/opt/anaconda3/lib/python3.9/site-packages (from yfinance) (0.0.11)\n",
      "Requirement already satisfied: lxml>=4.9.1 in /Users/minseokim/opt/anaconda3/lib/python3.9/site-packages (from yfinance) (4.9.1)\n",
      "Requirement already satisfied: platformdirs>=2.0.0 in /Users/minseokim/opt/anaconda3/lib/python3.9/site-packages (from yfinance) (2.5.2)\n",
      "Requirement already satisfied: pytz>=2022.5 in /Users/minseokim/opt/anaconda3/lib/python3.9/site-packages (from yfinance) (2024.1)\n",
      "Requirement already satisfied: frozendict>=2.3.4 in /Users/minseokim/opt/anaconda3/lib/python3.9/site-packages (from yfinance) (2.4.4)\n",
      "Requirement already satisfied: peewee>=3.16.2 in /Users/minseokim/opt/anaconda3/lib/python3.9/site-packages (from yfinance) (3.17.6)\n",
      "Requirement already satisfied: beautifulsoup4>=4.11.1 in /Users/minseokim/opt/anaconda3/lib/python3.9/site-packages (from yfinance) (4.11.1)\n",
      "Requirement already satisfied: html5lib>=1.1 in /Users/minseokim/opt/anaconda3/lib/python3.9/site-packages (from yfinance) (1.1)\n",
      "Requirement already satisfied: soupsieve>1.2 in /Users/minseokim/opt/anaconda3/lib/python3.9/site-packages (from beautifulsoup4>=4.11.1->yfinance) (2.3.1)\n",
      "Requirement already satisfied: six>=1.9 in /Users/minseokim/opt/anaconda3/lib/python3.9/site-packages (from html5lib>=1.1->yfinance) (1.16.0)\n",
      "Requirement already satisfied: webencodings in /Users/minseokim/opt/anaconda3/lib/python3.9/site-packages (from html5lib>=1.1->yfinance) (0.5.1)\n",
      "Requirement already satisfied: python-dateutil>=2.8.2 in /Users/minseokim/opt/anaconda3/lib/python3.9/site-packages (from pandas>=1.3.0->yfinance) (2.8.2)\n",
      "Requirement already satisfied: tzdata>=2022.7 in /Users/minseokim/opt/anaconda3/lib/python3.9/site-packages (from pandas>=1.3.0->yfinance) (2024.1)\n",
      "Requirement already satisfied: charset-normalizer<4,>=2 in /Users/minseokim/opt/anaconda3/lib/python3.9/site-packages (from requests>=2.31->yfinance) (2.0.4)\n",
      "Requirement already satisfied: idna<4,>=2.5 in /Users/minseokim/opt/anaconda3/lib/python3.9/site-packages (from requests>=2.31->yfinance) (3.3)\n",
      "Requirement already satisfied: urllib3<3,>=1.21.1 in /Users/minseokim/opt/anaconda3/lib/python3.9/site-packages (from requests>=2.31->yfinance) (1.26.11)\n",
      "Requirement already satisfied: certifi>=2017.4.17 in /Users/minseokim/opt/anaconda3/lib/python3.9/site-packages (from requests>=2.31->yfinance) (2022.9.24)\n"
     ]
    }
   ],
   "source": [
    "!pip install --upgrade pandas\n",
    "!pip install --upgrade pandas-datareader\n",
    "!pip install yfinance"
   ]
  },
  {
   "cell_type": "code",
   "execution_count": 2,
   "metadata": {
    "executionInfo": {
     "elapsed": 1136,
     "status": "ok",
     "timestamp": 1640161280392,
     "user": {
      "displayName": "Antonius Ricky",
      "photoUrl": "https://lh3.googleusercontent.com/a/default-user=s64",
      "userId": "13788256783846812684"
     },
     "user_tz": -420
    },
    "id": "thcpjP0J339B"
   },
   "outputs": [
    {
     "name": "stderr",
     "output_type": "stream",
     "text": [
      "/Users/minseokim/opt/anaconda3/lib/python3.9/site-packages/pandas/core/computation/expressions.py:21: UserWarning: Pandas requires version '2.8.4' or newer of 'numexpr' (version '2.8.3' currently installed).\n",
      "  from pandas.core.computation.check import NUMEXPR_INSTALLED\n",
      "/Users/minseokim/opt/anaconda3/lib/python3.9/site-packages/pandas/core/arrays/masked.py:60: UserWarning: Pandas requires version '1.3.6' or newer of 'bottleneck' (version '1.3.5' currently installed).\n",
      "  from pandas.core import (\n"
     ]
    }
   ],
   "source": [
    "import numpy as np\n",
    "import pandas as pd\n",
    "from matplotlib import style\n",
    "import datetime\n",
    "import pandas_datareader.data as web\n",
    "from sklearn.pipeline import make_pipeline\n",
    "from sklearn.preprocessing import StandardScaler"
   ]
  },
  {
   "cell_type": "code",
   "execution_count": 3,
   "metadata": {
    "executionInfo": {
     "elapsed": 1542,
     "status": "ok",
     "timestamp": 1640161281923,
     "user": {
      "displayName": "Antonius Ricky",
      "photoUrl": "https://lh3.googleusercontent.com/a/default-user=s64",
      "userId": "13788256783846812684"
     },
     "user_tz": -420
    },
    "id": "7kYhiNz44gRH"
   },
   "outputs": [
    {
     "name": "stderr",
     "output_type": "stream",
     "text": [
      "[*********************100%***********************]  1 of 1 completed\n",
      "[*********************100%***********************]  1 of 1 completed\n"
     ]
    }
   ],
   "source": [
    "import yfinance as yf\n",
    "import csv\n",
    "\n",
    "# Define the stock ticker and the date range\n",
    "ticker = 'BBCA.JK'\n",
    "start_date = '2010-01-04'\n",
    "end_date = '2019-12-01'\n",
    "\n",
    "# Get the data\n",
    "train_data = yf.download(ticker, start=start_date, end=end_date)\n",
    "\n",
    "train_data.to_csv('train_data.csv')\n",
    "\n",
    "\n",
    "# Get the stock data using yahoo API:\n",
    "# get 2009-2019 data to train our model\n",
    "#train_data = web.DataReader('BBCA.JK', 'yahoo', datetime.datetime(2010,1,4),datetime.datetime(2019,12,1)) \n",
    "\n",
    "# get 2020 data to present date to test the SVM model\n",
    "# test_data = web.DataReader('BBCA.JK', 'yahoo',  datetime.datetime(2020,1,2), datetime.date.today()) \n",
    "test_data = yf.download(ticker, start=start_date, end=end_date)\n",
    "#test_data = web.DataReader('BBCA.JK', 'yahoo',  datetime.datetime(2020,1,4), datetime.datetime(2021,12,1)) "
   ]
  },
  {
   "cell_type": "code",
   "execution_count": 4,
   "metadata": {
    "colab": {
     "base_uri": "https://localhost:8080/",
     "height": 450
    },
    "executionInfo": {
     "elapsed": 47,
     "status": "ok",
     "timestamp": 1640161281940,
     "user": {
      "displayName": "Antonius Ricky",
      "photoUrl": "https://lh3.googleusercontent.com/a/default-user=s64",
      "userId": "13788256783846812684"
     },
     "user_tz": -420
    },
    "id": "ISR4RsHQ5sFy",
    "outputId": "c7cf73c8-46e9-4573-b7e6-829776307be0"
   },
   "outputs": [
    {
     "data": {
      "text/html": [
       "<div>\n",
       "<style scoped>\n",
       "    .dataframe tbody tr th:only-of-type {\n",
       "        vertical-align: middle;\n",
       "    }\n",
       "\n",
       "    .dataframe tbody tr th {\n",
       "        vertical-align: top;\n",
       "    }\n",
       "\n",
       "    .dataframe thead th {\n",
       "        text-align: right;\n",
       "    }\n",
       "</style>\n",
       "<table border=\"1\" class=\"dataframe\">\n",
       "  <thead>\n",
       "    <tr style=\"text-align: right;\">\n",
       "      <th></th>\n",
       "      <th>Open</th>\n",
       "      <th>High</th>\n",
       "      <th>Low</th>\n",
       "      <th>Close</th>\n",
       "      <th>Adj Close</th>\n",
       "      <th>Volume</th>\n",
       "    </tr>\n",
       "    <tr>\n",
       "      <th>Date</th>\n",
       "      <th></th>\n",
       "      <th></th>\n",
       "      <th></th>\n",
       "      <th></th>\n",
       "      <th></th>\n",
       "      <th></th>\n",
       "    </tr>\n",
       "  </thead>\n",
       "  <tbody>\n",
       "    <tr>\n",
       "      <th>2010-01-04</th>\n",
       "      <td>1010.0</td>\n",
       "      <td>1010.0</td>\n",
       "      <td>965.0</td>\n",
       "      <td>1010.0</td>\n",
       "      <td>800.359741</td>\n",
       "      <td>77812500</td>\n",
       "    </tr>\n",
       "    <tr>\n",
       "      <th>2010-01-05</th>\n",
       "      <td>1020.0</td>\n",
       "      <td>1020.0</td>\n",
       "      <td>990.0</td>\n",
       "      <td>1020.0</td>\n",
       "      <td>808.284119</td>\n",
       "      <td>44442500</td>\n",
       "    </tr>\n",
       "    <tr>\n",
       "      <th>2010-01-06</th>\n",
       "      <td>990.0</td>\n",
       "      <td>1020.0</td>\n",
       "      <td>990.0</td>\n",
       "      <td>990.0</td>\n",
       "      <td>784.511169</td>\n",
       "      <td>27782500</td>\n",
       "    </tr>\n",
       "    <tr>\n",
       "      <th>2010-01-07</th>\n",
       "      <td>995.0</td>\n",
       "      <td>995.0</td>\n",
       "      <td>965.0</td>\n",
       "      <td>995.0</td>\n",
       "      <td>788.473145</td>\n",
       "      <td>38632500</td>\n",
       "    </tr>\n",
       "    <tr>\n",
       "      <th>2010-01-08</th>\n",
       "      <td>970.0</td>\n",
       "      <td>995.0</td>\n",
       "      <td>970.0</td>\n",
       "      <td>970.0</td>\n",
       "      <td>768.662231</td>\n",
       "      <td>27427500</td>\n",
       "    </tr>\n",
       "    <tr>\n",
       "      <th>...</th>\n",
       "      <td>...</td>\n",
       "      <td>...</td>\n",
       "      <td>...</td>\n",
       "      <td>...</td>\n",
       "      <td>...</td>\n",
       "      <td>...</td>\n",
       "    </tr>\n",
       "    <tr>\n",
       "      <th>2019-11-25</th>\n",
       "      <td>6330.0</td>\n",
       "      <td>6335.0</td>\n",
       "      <td>6275.0</td>\n",
       "      <td>6275.0</td>\n",
       "      <td>5638.059082</td>\n",
       "      <td>55133500</td>\n",
       "    </tr>\n",
       "    <tr>\n",
       "      <th>2019-11-26</th>\n",
       "      <td>6330.0</td>\n",
       "      <td>6330.0</td>\n",
       "      <td>6270.0</td>\n",
       "      <td>6285.0</td>\n",
       "      <td>5647.044922</td>\n",
       "      <td>192783500</td>\n",
       "    </tr>\n",
       "    <tr>\n",
       "      <th>2019-11-27</th>\n",
       "      <td>6270.0</td>\n",
       "      <td>6300.0</td>\n",
       "      <td>6240.0</td>\n",
       "      <td>6300.0</td>\n",
       "      <td>5660.522949</td>\n",
       "      <td>58833500</td>\n",
       "    </tr>\n",
       "    <tr>\n",
       "      <th>2019-11-28</th>\n",
       "      <td>6295.0</td>\n",
       "      <td>6295.0</td>\n",
       "      <td>6245.0</td>\n",
       "      <td>6250.0</td>\n",
       "      <td>5615.598145</td>\n",
       "      <td>44248000</td>\n",
       "    </tr>\n",
       "    <tr>\n",
       "      <th>2019-11-29</th>\n",
       "      <td>6230.0</td>\n",
       "      <td>6295.0</td>\n",
       "      <td>6225.0</td>\n",
       "      <td>6280.0</td>\n",
       "      <td>5642.552734</td>\n",
       "      <td>52954500</td>\n",
       "    </tr>\n",
       "  </tbody>\n",
       "</table>\n",
       "<p>2471 rows × 6 columns</p>\n",
       "</div>"
      ],
      "text/plain": [
       "              Open    High     Low   Close    Adj Close     Volume\n",
       "Date                                                              \n",
       "2010-01-04  1010.0  1010.0   965.0  1010.0   800.359741   77812500\n",
       "2010-01-05  1020.0  1020.0   990.0  1020.0   808.284119   44442500\n",
       "2010-01-06   990.0  1020.0   990.0   990.0   784.511169   27782500\n",
       "2010-01-07   995.0   995.0   965.0   995.0   788.473145   38632500\n",
       "2010-01-08   970.0   995.0   970.0   970.0   768.662231   27427500\n",
       "...            ...     ...     ...     ...          ...        ...\n",
       "2019-11-25  6330.0  6335.0  6275.0  6275.0  5638.059082   55133500\n",
       "2019-11-26  6330.0  6330.0  6270.0  6285.0  5647.044922  192783500\n",
       "2019-11-27  6270.0  6300.0  6240.0  6300.0  5660.522949   58833500\n",
       "2019-11-28  6295.0  6295.0  6245.0  6250.0  5615.598145   44248000\n",
       "2019-11-29  6230.0  6295.0  6225.0  6280.0  5642.552734   52954500\n",
       "\n",
       "[2471 rows x 6 columns]"
      ]
     },
     "execution_count": 4,
     "metadata": {},
     "output_type": "execute_result"
    }
   ],
   "source": [
    "train_data"
   ]
  },
  {
   "cell_type": "code",
   "execution_count": 5,
   "metadata": {
    "colab": {
     "base_uri": "https://localhost:8080/",
     "height": 450
    },
    "executionInfo": {
     "elapsed": 46,
     "status": "ok",
     "timestamp": 1640161281944,
     "user": {
      "displayName": "Antonius Ricky",
      "photoUrl": "https://lh3.googleusercontent.com/a/default-user=s64",
      "userId": "13788256783846812684"
     },
     "user_tz": -420
    },
    "id": "JqUd-cFmQcG-",
    "outputId": "bd824ba3-07ff-461c-c241-b1d728818bc3"
   },
   "outputs": [
    {
     "data": {
      "text/html": [
       "<div>\n",
       "<style scoped>\n",
       "    .dataframe tbody tr th:only-of-type {\n",
       "        vertical-align: middle;\n",
       "    }\n",
       "\n",
       "    .dataframe tbody tr th {\n",
       "        vertical-align: top;\n",
       "    }\n",
       "\n",
       "    .dataframe thead th {\n",
       "        text-align: right;\n",
       "    }\n",
       "</style>\n",
       "<table border=\"1\" class=\"dataframe\">\n",
       "  <thead>\n",
       "    <tr style=\"text-align: right;\">\n",
       "      <th></th>\n",
       "      <th>Open</th>\n",
       "      <th>High</th>\n",
       "      <th>Low</th>\n",
       "      <th>Close</th>\n",
       "      <th>Adj Close</th>\n",
       "      <th>Volume</th>\n",
       "    </tr>\n",
       "    <tr>\n",
       "      <th>Date</th>\n",
       "      <th></th>\n",
       "      <th></th>\n",
       "      <th></th>\n",
       "      <th></th>\n",
       "      <th></th>\n",
       "      <th></th>\n",
       "    </tr>\n",
       "  </thead>\n",
       "  <tbody>\n",
       "    <tr>\n",
       "      <th>2010-01-04</th>\n",
       "      <td>1010.0</td>\n",
       "      <td>1010.0</td>\n",
       "      <td>965.0</td>\n",
       "      <td>1010.0</td>\n",
       "      <td>800.359741</td>\n",
       "      <td>77812500</td>\n",
       "    </tr>\n",
       "    <tr>\n",
       "      <th>2010-01-05</th>\n",
       "      <td>1020.0</td>\n",
       "      <td>1020.0</td>\n",
       "      <td>990.0</td>\n",
       "      <td>1020.0</td>\n",
       "      <td>808.284119</td>\n",
       "      <td>44442500</td>\n",
       "    </tr>\n",
       "    <tr>\n",
       "      <th>2010-01-06</th>\n",
       "      <td>990.0</td>\n",
       "      <td>1020.0</td>\n",
       "      <td>990.0</td>\n",
       "      <td>990.0</td>\n",
       "      <td>784.511169</td>\n",
       "      <td>27782500</td>\n",
       "    </tr>\n",
       "    <tr>\n",
       "      <th>2010-01-07</th>\n",
       "      <td>995.0</td>\n",
       "      <td>995.0</td>\n",
       "      <td>965.0</td>\n",
       "      <td>995.0</td>\n",
       "      <td>788.473145</td>\n",
       "      <td>38632500</td>\n",
       "    </tr>\n",
       "    <tr>\n",
       "      <th>2010-01-08</th>\n",
       "      <td>970.0</td>\n",
       "      <td>995.0</td>\n",
       "      <td>970.0</td>\n",
       "      <td>970.0</td>\n",
       "      <td>768.662231</td>\n",
       "      <td>27427500</td>\n",
       "    </tr>\n",
       "    <tr>\n",
       "      <th>...</th>\n",
       "      <td>...</td>\n",
       "      <td>...</td>\n",
       "      <td>...</td>\n",
       "      <td>...</td>\n",
       "      <td>...</td>\n",
       "      <td>...</td>\n",
       "    </tr>\n",
       "    <tr>\n",
       "      <th>2019-11-25</th>\n",
       "      <td>6330.0</td>\n",
       "      <td>6335.0</td>\n",
       "      <td>6275.0</td>\n",
       "      <td>6275.0</td>\n",
       "      <td>5638.059082</td>\n",
       "      <td>55133500</td>\n",
       "    </tr>\n",
       "    <tr>\n",
       "      <th>2019-11-26</th>\n",
       "      <td>6330.0</td>\n",
       "      <td>6330.0</td>\n",
       "      <td>6270.0</td>\n",
       "      <td>6285.0</td>\n",
       "      <td>5647.044922</td>\n",
       "      <td>192783500</td>\n",
       "    </tr>\n",
       "    <tr>\n",
       "      <th>2019-11-27</th>\n",
       "      <td>6270.0</td>\n",
       "      <td>6300.0</td>\n",
       "      <td>6240.0</td>\n",
       "      <td>6300.0</td>\n",
       "      <td>5660.522949</td>\n",
       "      <td>58833500</td>\n",
       "    </tr>\n",
       "    <tr>\n",
       "      <th>2019-11-28</th>\n",
       "      <td>6295.0</td>\n",
       "      <td>6295.0</td>\n",
       "      <td>6245.0</td>\n",
       "      <td>6250.0</td>\n",
       "      <td>5615.598145</td>\n",
       "      <td>44248000</td>\n",
       "    </tr>\n",
       "    <tr>\n",
       "      <th>2019-11-29</th>\n",
       "      <td>6230.0</td>\n",
       "      <td>6295.0</td>\n",
       "      <td>6225.0</td>\n",
       "      <td>6280.0</td>\n",
       "      <td>5642.552734</td>\n",
       "      <td>52954500</td>\n",
       "    </tr>\n",
       "  </tbody>\n",
       "</table>\n",
       "<p>2471 rows × 6 columns</p>\n",
       "</div>"
      ],
      "text/plain": [
       "              Open    High     Low   Close    Adj Close     Volume\n",
       "Date                                                              \n",
       "2010-01-04  1010.0  1010.0   965.0  1010.0   800.359741   77812500\n",
       "2010-01-05  1020.0  1020.0   990.0  1020.0   808.284119   44442500\n",
       "2010-01-06   990.0  1020.0   990.0   990.0   784.511169   27782500\n",
       "2010-01-07   995.0   995.0   965.0   995.0   788.473145   38632500\n",
       "2010-01-08   970.0   995.0   970.0   970.0   768.662231   27427500\n",
       "...            ...     ...     ...     ...          ...        ...\n",
       "2019-11-25  6330.0  6335.0  6275.0  6275.0  5638.059082   55133500\n",
       "2019-11-26  6330.0  6330.0  6270.0  6285.0  5647.044922  192783500\n",
       "2019-11-27  6270.0  6300.0  6240.0  6300.0  5660.522949   58833500\n",
       "2019-11-28  6295.0  6295.0  6245.0  6250.0  5615.598145   44248000\n",
       "2019-11-29  6230.0  6295.0  6225.0  6280.0  5642.552734   52954500\n",
       "\n",
       "[2471 rows x 6 columns]"
      ]
     },
     "execution_count": 5,
     "metadata": {},
     "output_type": "execute_result"
    }
   ],
   "source": [
    "test_data"
   ]
  },
  {
   "cell_type": "code",
   "execution_count": 6,
   "metadata": {
    "executionInfo": {
     "elapsed": 45,
     "status": "ok",
     "timestamp": 1640161281946,
     "user": {
      "displayName": "Antonius Ricky",
      "photoUrl": "https://lh3.googleusercontent.com/a/default-user=s64",
      "userId": "13788256783846812684"
     },
     "user_tz": -420
    },
    "id": "KzhONdUmy5DE"
   },
   "outputs": [],
   "source": [
    "# sort by date\n",
    "train_data = train_data.sort_values('Date')\n",
    "test_data = test_data.sort_values('Date')\n",
    "\n",
    "# fix the date \n",
    "train_data.reset_index(inplace=True)\n",
    "train_data.set_index(\"Date\", inplace=True)\n",
    "test_data.reset_index(inplace=True)\n",
    "test_data.set_index(\"Date\", inplace=True)"
   ]
  },
  {
   "cell_type": "code",
   "execution_count": 7,
   "metadata": {
    "colab": {
     "base_uri": "https://localhost:8080/",
     "height": 450
    },
    "executionInfo": {
     "elapsed": 44,
     "status": "ok",
     "timestamp": 1640161281947,
     "user": {
      "displayName": "Antonius Ricky",
      "photoUrl": "https://lh3.googleusercontent.com/a/default-user=s64",
      "userId": "13788256783846812684"
     },
     "user_tz": -420
    },
    "id": "VmX1DsTASonl",
    "outputId": "3144febe-233f-4642-f6d1-020e2ab89896"
   },
   "outputs": [
    {
     "data": {
      "text/html": [
       "<div>\n",
       "<style scoped>\n",
       "    .dataframe tbody tr th:only-of-type {\n",
       "        vertical-align: middle;\n",
       "    }\n",
       "\n",
       "    .dataframe tbody tr th {\n",
       "        vertical-align: top;\n",
       "    }\n",
       "\n",
       "    .dataframe thead th {\n",
       "        text-align: right;\n",
       "    }\n",
       "</style>\n",
       "<table border=\"1\" class=\"dataframe\">\n",
       "  <thead>\n",
       "    <tr style=\"text-align: right;\">\n",
       "      <th></th>\n",
       "      <th>Open</th>\n",
       "      <th>High</th>\n",
       "      <th>Low</th>\n",
       "      <th>Close</th>\n",
       "      <th>Adj Close</th>\n",
       "      <th>Volume</th>\n",
       "    </tr>\n",
       "    <tr>\n",
       "      <th>Date</th>\n",
       "      <th></th>\n",
       "      <th></th>\n",
       "      <th></th>\n",
       "      <th></th>\n",
       "      <th></th>\n",
       "      <th></th>\n",
       "    </tr>\n",
       "  </thead>\n",
       "  <tbody>\n",
       "    <tr>\n",
       "      <th>2010-01-04</th>\n",
       "      <td>1010.0</td>\n",
       "      <td>1010.0</td>\n",
       "      <td>965.0</td>\n",
       "      <td>1010.0</td>\n",
       "      <td>800.359741</td>\n",
       "      <td>77812500</td>\n",
       "    </tr>\n",
       "    <tr>\n",
       "      <th>2010-01-05</th>\n",
       "      <td>1020.0</td>\n",
       "      <td>1020.0</td>\n",
       "      <td>990.0</td>\n",
       "      <td>1020.0</td>\n",
       "      <td>808.284119</td>\n",
       "      <td>44442500</td>\n",
       "    </tr>\n",
       "    <tr>\n",
       "      <th>2010-01-06</th>\n",
       "      <td>990.0</td>\n",
       "      <td>1020.0</td>\n",
       "      <td>990.0</td>\n",
       "      <td>990.0</td>\n",
       "      <td>784.511169</td>\n",
       "      <td>27782500</td>\n",
       "    </tr>\n",
       "    <tr>\n",
       "      <th>2010-01-07</th>\n",
       "      <td>995.0</td>\n",
       "      <td>995.0</td>\n",
       "      <td>965.0</td>\n",
       "      <td>995.0</td>\n",
       "      <td>788.473145</td>\n",
       "      <td>38632500</td>\n",
       "    </tr>\n",
       "    <tr>\n",
       "      <th>2010-01-08</th>\n",
       "      <td>970.0</td>\n",
       "      <td>995.0</td>\n",
       "      <td>970.0</td>\n",
       "      <td>970.0</td>\n",
       "      <td>768.662231</td>\n",
       "      <td>27427500</td>\n",
       "    </tr>\n",
       "    <tr>\n",
       "      <th>...</th>\n",
       "      <td>...</td>\n",
       "      <td>...</td>\n",
       "      <td>...</td>\n",
       "      <td>...</td>\n",
       "      <td>...</td>\n",
       "      <td>...</td>\n",
       "    </tr>\n",
       "    <tr>\n",
       "      <th>2019-11-25</th>\n",
       "      <td>6330.0</td>\n",
       "      <td>6335.0</td>\n",
       "      <td>6275.0</td>\n",
       "      <td>6275.0</td>\n",
       "      <td>5638.059082</td>\n",
       "      <td>55133500</td>\n",
       "    </tr>\n",
       "    <tr>\n",
       "      <th>2019-11-26</th>\n",
       "      <td>6330.0</td>\n",
       "      <td>6330.0</td>\n",
       "      <td>6270.0</td>\n",
       "      <td>6285.0</td>\n",
       "      <td>5647.044922</td>\n",
       "      <td>192783500</td>\n",
       "    </tr>\n",
       "    <tr>\n",
       "      <th>2019-11-27</th>\n",
       "      <td>6270.0</td>\n",
       "      <td>6300.0</td>\n",
       "      <td>6240.0</td>\n",
       "      <td>6300.0</td>\n",
       "      <td>5660.522949</td>\n",
       "      <td>58833500</td>\n",
       "    </tr>\n",
       "    <tr>\n",
       "      <th>2019-11-28</th>\n",
       "      <td>6295.0</td>\n",
       "      <td>6295.0</td>\n",
       "      <td>6245.0</td>\n",
       "      <td>6250.0</td>\n",
       "      <td>5615.598145</td>\n",
       "      <td>44248000</td>\n",
       "    </tr>\n",
       "    <tr>\n",
       "      <th>2019-11-29</th>\n",
       "      <td>6230.0</td>\n",
       "      <td>6295.0</td>\n",
       "      <td>6225.0</td>\n",
       "      <td>6280.0</td>\n",
       "      <td>5642.552734</td>\n",
       "      <td>52954500</td>\n",
       "    </tr>\n",
       "  </tbody>\n",
       "</table>\n",
       "<p>2471 rows × 6 columns</p>\n",
       "</div>"
      ],
      "text/plain": [
       "              Open    High     Low   Close    Adj Close     Volume\n",
       "Date                                                              \n",
       "2010-01-04  1010.0  1010.0   965.0  1010.0   800.359741   77812500\n",
       "2010-01-05  1020.0  1020.0   990.0  1020.0   808.284119   44442500\n",
       "2010-01-06   990.0  1020.0   990.0   990.0   784.511169   27782500\n",
       "2010-01-07   995.0   995.0   965.0   995.0   788.473145   38632500\n",
       "2010-01-08   970.0   995.0   970.0   970.0   768.662231   27427500\n",
       "...            ...     ...     ...     ...          ...        ...\n",
       "2019-11-25  6330.0  6335.0  6275.0  6275.0  5638.059082   55133500\n",
       "2019-11-26  6330.0  6330.0  6270.0  6285.0  5647.044922  192783500\n",
       "2019-11-27  6270.0  6300.0  6240.0  6300.0  5660.522949   58833500\n",
       "2019-11-28  6295.0  6295.0  6245.0  6250.0  5615.598145   44248000\n",
       "2019-11-29  6230.0  6295.0  6225.0  6280.0  5642.552734   52954500\n",
       "\n",
       "[2471 rows x 6 columns]"
      ]
     },
     "execution_count": 7,
     "metadata": {},
     "output_type": "execute_result"
    }
   ],
   "source": [
    "train_data"
   ]
  },
  {
   "cell_type": "code",
   "execution_count": 8,
   "metadata": {
    "colab": {
     "base_uri": "https://localhost:8080/",
     "height": 405
    },
    "executionInfo": {
     "elapsed": 554,
     "status": "ok",
     "timestamp": 1640161282459,
     "user": {
      "displayName": "Antonius Ricky",
      "photoUrl": "https://lh3.googleusercontent.com/a/default-user=s64",
      "userId": "13788256783846812684"
     },
     "user_tz": -420
    },
    "id": "iTfQUuNb44zs",
    "outputId": "c7ebbb22-9782-4799-dc1c-417b9e6b1018"
   },
   "outputs": [
    {
     "data": {
      "image/png": "[encoded data removed]",
      "text/plain": [
       "<Figure size 1200x600 with 1 Axes>"
      ]
     },
     "metadata": {},
     "output_type": "display_data"
    }
   ],
   "source": [
    "from matplotlib import pyplot as plt\n",
    "\n",
    "style.use('seaborn')\n",
    "plt.figure(figsize = (12,6))\n",
    "plt.plot(train_data[\"Adj Close\"])\n",
    "plt.title(\"Stock Price Change\")\n",
    "plt.xlabel(\"Date\", fontsize = 12)\n",
    "plt.ylabel(\"Adjusted Close\", fontsize = 12)\n",
    "plt.show()"
   ]
  },
  {
   "cell_type": "code",
   "execution_count": 9,
   "metadata": {
    "colab": {
     "base_uri": "https://localhost:8080/",
     "height": 398
    },
    "executionInfo": {
     "elapsed": 551,
     "status": "ok",
     "timestamp": 1640161282991,
     "user": {
      "displayName": "Antonius Ricky",
      "photoUrl": "https://lh3.googleusercontent.com/a/default-user=s64",
      "userId": "13788256783846812684"
     },
     "user_tz": -420
    },
    "id": "spaogdvz0DDk",
    "outputId": "1dff6daf-8b19-49eb-c32a-8b5b28dd3f4d"
   },
   "outputs": [
    {
     "data": {
      "text/plain": [
       "<matplotlib.legend.Legend at 0x7fd1c1501e50>"
      ]
     },
     "execution_count": 9,
     "metadata": {},
     "output_type": "execute_result"
    },
    {
     "data": {
      "image/png": "[encoded data removed]",
      "text/plain": [
       "<Figure size 1200x600 with 1 Axes>"
      ]
     },
     "metadata": {},
     "output_type": "display_data"
    }
   ],
   "source": [
    "# Rolling mean\n",
    "close_price = train_data['Adj Close']\n",
    "moving_avg = close_price.rolling(window=100).mean()\n",
    "\n",
    "plt.figure(figsize = (12,6))\n",
    "plt.title(\"Stock Price Change With Moving Average of 100 Days\")\n",
    "close_price.plot(label='Stock Price')\n",
    "moving_avg.plot(label='Moving AVG Price')\n",
    "plt.xlabel('Date')\n",
    "plt.ylabel('Adjusted Close Price')\n",
    "plt.legend()"
   ]
  },
  {
   "cell_type": "code",
   "execution_count": 10,
   "metadata": {
    "colab": {
     "base_uri": "https://localhost:8080/",
     "height": 419
    },
    "executionInfo": {
     "elapsed": 31,
     "status": "ok",
     "timestamp": 1640161282995,
     "user": {
      "displayName": "Antonius Ricky",
      "photoUrl": "https://lh3.googleusercontent.com/a/default-user=s64",
      "userId": "13788256783846812684"
     },
     "user_tz": -420
    },
    "id": "0-65YcKH-xji",
    "outputId": "2ae2c753-dcbf-400c-ea82-923fbd85fd8e"
   },
   "outputs": [
    {
     "data": {
      "text/html": [
       "<div>\n",
       "<style scoped>\n",
       "    .dataframe tbody tr th:only-of-type {\n",
       "        vertical-align: middle;\n",
       "    }\n",
       "\n",
       "    .dataframe tbody tr th {\n",
       "        vertical-align: top;\n",
       "    }\n",
       "\n",
       "    .dataframe thead th {\n",
       "        text-align: right;\n",
       "    }\n",
       "</style>\n",
       "<table border=\"1\" class=\"dataframe\">\n",
       "  <thead>\n",
       "    <tr style=\"text-align: right;\">\n",
       "      <th></th>\n",
       "      <th>Date</th>\n",
       "      <th>Open</th>\n",
       "      <th>High</th>\n",
       "      <th>Low</th>\n",
       "      <th>Close</th>\n",
       "      <th>Adj Close</th>\n",
       "      <th>Volume</th>\n",
       "    </tr>\n",
       "  </thead>\n",
       "  <tbody>\n",
       "    <tr>\n",
       "      <th>0</th>\n",
       "      <td>14613.0</td>\n",
       "      <td>1010.0</td>\n",
       "      <td>1010.0</td>\n",
       "      <td>965.0</td>\n",
       "      <td>1010.0</td>\n",
       "      <td>800.359741</td>\n",
       "      <td>77812500</td>\n",
       "    </tr>\n",
       "    <tr>\n",
       "      <th>1</th>\n",
       "      <td>14614.0</td>\n",
       "      <td>1020.0</td>\n",
       "      <td>1020.0</td>\n",
       "      <td>990.0</td>\n",
       "      <td>1020.0</td>\n",
       "      <td>808.284119</td>\n",
       "      <td>44442500</td>\n",
       "    </tr>\n",
       "    <tr>\n",
       "      <th>2</th>\n",
       "      <td>14615.0</td>\n",
       "      <td>990.0</td>\n",
       "      <td>1020.0</td>\n",
       "      <td>990.0</td>\n",
       "      <td>990.0</td>\n",
       "      <td>784.511169</td>\n",
       "      <td>27782500</td>\n",
       "    </tr>\n",
       "    <tr>\n",
       "      <th>3</th>\n",
       "      <td>14616.0</td>\n",
       "      <td>995.0</td>\n",
       "      <td>995.0</td>\n",
       "      <td>965.0</td>\n",
       "      <td>995.0</td>\n",
       "      <td>788.473145</td>\n",
       "      <td>38632500</td>\n",
       "    </tr>\n",
       "    <tr>\n",
       "      <th>4</th>\n",
       "      <td>14617.0</td>\n",
       "      <td>970.0</td>\n",
       "      <td>995.0</td>\n",
       "      <td>970.0</td>\n",
       "      <td>970.0</td>\n",
       "      <td>768.662231</td>\n",
       "      <td>27427500</td>\n",
       "    </tr>\n",
       "    <tr>\n",
       "      <th>...</th>\n",
       "      <td>...</td>\n",
       "      <td>...</td>\n",
       "      <td>...</td>\n",
       "      <td>...</td>\n",
       "      <td>...</td>\n",
       "      <td>...</td>\n",
       "      <td>...</td>\n",
       "    </tr>\n",
       "    <tr>\n",
       "      <th>2466</th>\n",
       "      <td>18225.0</td>\n",
       "      <td>6330.0</td>\n",
       "      <td>6335.0</td>\n",
       "      <td>6275.0</td>\n",
       "      <td>6275.0</td>\n",
       "      <td>5638.059082</td>\n",
       "      <td>55133500</td>\n",
       "    </tr>\n",
       "    <tr>\n",
       "      <th>2467</th>\n",
       "      <td>18226.0</td>\n",
       "      <td>6330.0</td>\n",
       "      <td>6330.0</td>\n",
       "      <td>6270.0</td>\n",
       "      <td>6285.0</td>\n",
       "      <td>5647.044922</td>\n",
       "      <td>192783500</td>\n",
       "    </tr>\n",
       "    <tr>\n",
       "      <th>2468</th>\n",
       "      <td>18227.0</td>\n",
       "      <td>6270.0</td>\n",
       "      <td>6300.0</td>\n",
       "      <td>6240.0</td>\n",
       "      <td>6300.0</td>\n",
       "      <td>5660.522949</td>\n",
       "      <td>58833500</td>\n",
       "    </tr>\n",
       "    <tr>\n",
       "      <th>2469</th>\n",
       "      <td>18228.0</td>\n",
       "      <td>6295.0</td>\n",
       "      <td>6295.0</td>\n",
       "      <td>6245.0</td>\n",
       "      <td>6250.0</td>\n",
       "      <td>5615.598145</td>\n",
       "      <td>44248000</td>\n",
       "    </tr>\n",
       "    <tr>\n",
       "      <th>2470</th>\n",
       "      <td>18229.0</td>\n",
       "      <td>6230.0</td>\n",
       "      <td>6295.0</td>\n",
       "      <td>6225.0</td>\n",
       "      <td>6280.0</td>\n",
       "      <td>5642.552734</td>\n",
       "      <td>52954500</td>\n",
       "    </tr>\n",
       "  </tbody>\n",
       "</table>\n",
       "<p>2471 rows × 7 columns</p>\n",
       "</div>"
      ],
      "text/plain": [
       "         Date    Open    High     Low   Close    Adj Close     Volume\n",
       "0     14613.0  1010.0  1010.0   965.0  1010.0   800.359741   77812500\n",
       "1     14614.0  1020.0  1020.0   990.0  1020.0   808.284119   44442500\n",
       "2     14615.0   990.0  1020.0   990.0   990.0   784.511169   27782500\n",
       "3     14616.0   995.0   995.0   965.0   995.0   788.473145   38632500\n",
       "4     14617.0   970.0   995.0   970.0   970.0   768.662231   27427500\n",
       "...       ...     ...     ...     ...     ...          ...        ...\n",
       "2466  18225.0  6330.0  6335.0  6275.0  6275.0  5638.059082   55133500\n",
       "2467  18226.0  6330.0  6330.0  6270.0  6285.0  5647.044922  192783500\n",
       "2468  18227.0  6270.0  6300.0  6240.0  6300.0  5660.522949   58833500\n",
       "2469  18228.0  6295.0  6295.0  6245.0  6250.0  5615.598145   44248000\n",
       "2470  18229.0  6230.0  6295.0  6225.0  6280.0  5642.552734   52954500\n",
       "\n",
       "[2471 rows x 7 columns]"
      ]
     },
     "execution_count": 10,
     "metadata": {},
     "output_type": "execute_result"
    }
   ],
   "source": [
    "import matplotlib.dates as mdates\n",
    "\n",
    "# change the dates into ints for training \n",
    "indxed_dates = train_data.copy()\n",
    "indxed_dates = indxed_dates.reset_index()\n",
    "\n",
    "# Store the original dates for plotting the predicitons\n",
    "actual_dates = indxed_dates['Date']\n",
    "\n",
    "# convert to ints\n",
    "indxed_dates['Date'] = indxed_dates['Date'].map(mdates.date2num)\n",
    "\n",
    "indxed_dates"
   ]
  },
  {
   "cell_type": "code",
   "execution_count": 11,
   "metadata": {
    "executionInfo": {
     "elapsed": 29,
     "status": "ok",
     "timestamp": 1640161282997,
     "user": {
      "displayName": "Antonius Ricky",
      "photoUrl": "https://lh3.googleusercontent.com/a/default-user=s64",
      "userId": "13788256783846812684"
     },
     "user_tz": -420
    },
    "id": "HPCOfb38vwHu"
   },
   "outputs": [],
   "source": [
    "# Use sklearn support vector regression to predicit our data:\n",
    "from sklearn.svm import SVR\n",
    "\n",
    "dates_data = indxed_dates['Date'].to_numpy()\n",
    "prices_data = train_data['Adj Close'].to_numpy()\n",
    "\n",
    "#Convert to 1d Vector\n",
    "dates_data = np.reshape(dates_data, (len(dates_data), 1))\n",
    "prices_data = np.reshape(prices_data, (len(prices_data), 1))"
   ]
  },
  {
   "cell_type": "code",
   "execution_count": 12,
   "metadata": {
    "colab": {
     "base_uri": "https://localhost:8080/"
    },
    "executionInfo": {
     "elapsed": 2028,
     "status": "ok",
     "timestamp": 1640161284997,
     "user": {
      "displayName": "Antonius Ricky",
      "photoUrl": "https://lh3.googleusercontent.com/a/default-user=s64",
      "userId": "13788256783846812684"
     },
     "user_tz": -420
    },
    "id": "uVH5zOF5jVM1",
    "outputId": "03a375d9-2f2f-4252-b84d-d01318809274"
   },
   "outputs": [
    {
     "name": "stderr",
     "output_type": "stream",
     "text": [
      "/Users/minseokim/opt/anaconda3/lib/python3.9/site-packages/sklearn/utils/validation.py:993: DataConversionWarning: A column-vector y was passed when a 1d array was expected. Please change the shape of y to (n_samples, ), for example using ravel().\n",
      "  y = column_or_1d(y, warn=True)\n"
     ]
    }
   ],
   "source": [
    "SVR_linear = make_pipeline(StandardScaler(), SVR(kernel='linear', C=1e4))\n",
    "SVR_linear.fit(dates_data, prices_data)\n",
    "SVR_linear_train = SVR_linear.predict(dates_data)"
   ]
  },
  {
   "cell_type": "code",
   "execution_count": 13,
   "metadata": {
    "colab": {
     "base_uri": "https://localhost:8080/"
    },
    "executionInfo": {
     "elapsed": 20,
     "status": "ok",
     "timestamp": 1640161285000,
     "user": {
      "displayName": "Antonius Ricky",
      "photoUrl": "https://lh3.googleusercontent.com/a/default-user=s64",
      "userId": "13788256783846812684"
     },
     "user_tz": -420
    },
    "id": "o--RRwzd9m4W",
    "outputId": "886ef834-e1b1-4ad0-bca6-25ea19879d67"
   },
   "outputs": [
    {
     "data": {
      "text/plain": [
       "array([ 482.89917208,  483.91792761,  484.93668313, ..., 4164.68162979,\n",
       "       4165.70038531, 4166.71914082])"
      ]
     },
     "execution_count": 13,
     "metadata": {},
     "output_type": "execute_result"
    }
   ],
   "source": [
    "SVR_linear_train"
   ]
  },
  {
   "cell_type": "code",
   "execution_count": 14,
   "metadata": {
    "colab": {
     "base_uri": "https://localhost:8080/"
    },
    "executionInfo": {
     "elapsed": 54075,
     "status": "ok",
     "timestamp": 1640161339059,
     "user": {
      "displayName": "Antonius Ricky",
      "photoUrl": "https://lh3.googleusercontent.com/a/default-user=s64",
      "userId": "13788256783846812684"
     },
     "user_tz": -420
    },
    "id": "xt8rEfZU3Aep",
    "outputId": "6f2e2ae2-3605-410d-af53-7df95e2186c7"
   },
   "outputs": [
    {
     "name": "stderr",
     "output_type": "stream",
     "text": [
      "/Users/minseokim/opt/anaconda3/lib/python3.9/site-packages/sklearn/utils/validation.py:993: DataConversionWarning: A column-vector y was passed when a 1d array was expected. Please change the shape of y to (n_samples, ), for example using ravel().\n",
      "  y = column_or_1d(y, warn=True)\n"
     ]
    }
   ],
   "source": [
    "SVR_rbfk = SVR(kernel= 'rbf', C= 1e4, gamma= 0.1)\n",
    "SVR_rbfk.fit(dates_data, prices_data)\n",
    "SVR_rbfk_train = SVR_rbfk.predict(dates_data)"
   ]
  },
  {
   "cell_type": "code",
   "execution_count": 15,
   "metadata": {
    "colab": {
     "base_uri": "https://localhost:8080/"
    },
    "executionInfo": {
     "elapsed": 30,
     "status": "ok",
     "timestamp": 1640161339061,
     "user": {
      "displayName": "Antonius Ricky",
      "photoUrl": "https://lh3.googleusercontent.com/a/default-user=s64",
      "userId": "13788256783846812684"
     },
     "user_tz": -420
    },
    "id": "7WZjR3el98Ti",
    "outputId": "7c2dabcf-abff-4084-f8d7-17735a39967f"
   },
   "outputs": [
    {
     "data": {
      "text/plain": [
       "array([ 800.45922218,  799.10251319,  798.59893829, ..., 5660.42316592,\n",
       "       5680.46218384, 5642.45273487])"
      ]
     },
     "execution_count": 15,
     "metadata": {},
     "output_type": "execute_result"
    }
   ],
   "source": [
    "SVR_rbfk_train"
   ]
  },
  {
   "cell_type": "code",
   "execution_count": 16,
   "metadata": {
    "colab": {
     "base_uri": "https://localhost:8080/"
    },
    "executionInfo": {
     "elapsed": 1721,
     "status": "ok",
     "timestamp": 1640161340762,
     "user": {
      "displayName": "Antonius Ricky",
      "photoUrl": "https://lh3.googleusercontent.com/a/default-user=s64",
      "userId": "13788256783846812684"
     },
     "user_tz": -420
    },
    "id": "_BL6OA5QA-p6",
    "outputId": "a4e31394-2a54-4be8-e16c-e3accd6fa307"
   },
   "outputs": [
    {
     "name": "stderr",
     "output_type": "stream",
     "text": [
      "/Users/minseokim/opt/anaconda3/lib/python3.9/site-packages/sklearn/utils/validation.py:993: DataConversionWarning: A column-vector y was passed when a 1d array was expected. Please change the shape of y to (n_samples, ), for example using ravel().\n",
      "  y = column_or_1d(y, warn=True)\n"
     ]
    }
   ],
   "source": [
    "SVR_poly = make_pipeline(StandardScaler(), SVR(kernel='poly', C=1e3, degree=3, epsilon=0.1, coef0=1))\n",
    "SVR_poly.fit(dates_data, prices_data)\n",
    "SVR_poly_train = SVR_poly.predict(dates_data)"
   ]
  },
  {
   "cell_type": "code",
   "execution_count": 17,
   "metadata": {
    "colab": {
     "base_uri": "https://localhost:8080/"
    },
    "executionInfo": {
     "elapsed": 30,
     "status": "ok",
     "timestamp": 1640161340765,
     "user": {
      "displayName": "Antonius Ricky",
      "photoUrl": "https://lh3.googleusercontent.com/a/default-user=s64",
      "userId": "13788256783846812684"
     },
     "user_tz": -420
    },
    "id": "fISKPqaeTpKW",
    "outputId": "ae26e5f5-51e8-49f1-a58e-9ac6f7e310f9"
   },
   "outputs": [
    {
     "data": {
      "text/plain": [
       "array([ 734.63906943,  735.76116317,  736.88212646, ..., 5794.82016851,\n",
       "       5798.8213262 , 5802.82520868])"
      ]
     },
     "execution_count": 17,
     "metadata": {},
     "output_type": "execute_result"
    }
   ],
   "source": [
    "SVR_poly_train"
   ]
  },
  {
   "cell_type": "code",
   "execution_count": 18,
   "metadata": {
    "colab": {
     "base_uri": "https://localhost:8080/",
     "height": 403
    },
    "executionInfo": {
     "elapsed": 29,
     "status": "ok",
     "timestamp": 1640161340770,
     "user": {
      "displayName": "Antonius Ricky",
      "photoUrl": "https://lh3.googleusercontent.com/a/default-user=s64",
      "userId": "13788256783846812684"
     },
     "user_tz": -420
    },
    "id": "CQQuW-9y22iG",
    "outputId": "32ac3cc8-4d44-44f8-f4ec-2126eaa477c8"
   },
   "outputs": [
    {
     "data": {
      "image/png": "[encoded data removed]",
      "text/plain": [
       "<Figure size 1200x600 with 1 Axes>"
      ]
     },
     "metadata": {},
     "output_type": "display_data"
    }
   ],
   "source": [
    "plt.figure(figsize = (12,6))\n",
    "plt.title('RBF - Stock Market Prediction Using 2014 - 2019 Data')\n",
    "plt.plot(dates_data, prices_data, color= 'red', label= 'Real Stock Price')\n",
    "plt.plot(actual_dates, SVR_rbfk_train, color= 'blue', label= 'RBF model Predicted Price') \n",
    "plt.plot(actual_dates, SVR_linear_train, color= 'green', label= 'Linear model Predicted Price') \n",
    "plt.plot(actual_dates, SVR_poly_train, color= 'yellow', label= 'Poly model Predicted Price') \n",
    "plt.xlabel('Date')\n",
    "plt.ylabel('Stock Price')\n",
    "plt.legend()\n",
    "plt.show()"
   ]
  },
  {
   "cell_type": "code",
   "execution_count": 19,
   "metadata": {
    "executionInfo": {
     "elapsed": 1044,
     "status": "ok",
     "timestamp": 1640161341790,
     "user": {
      "displayName": "Antonius Ricky",
      "photoUrl": "https://lh3.googleusercontent.com/a/default-user=s64",
      "userId": "13788256783846812684"
     },
     "user_tz": -420
    },
    "id": "hVVl55_8D18s"
   },
   "outputs": [],
   "source": [
    "# change the dates into ints for training \n",
    "test_indxed_dates = test_data.copy()\n",
    "test_indxed_dates = test_indxed_dates.reset_index()\n",
    "\n",
    "# Store the original dates for plotting the predicitons\n",
    "test_actual_dates = test_indxed_dates['Date']\n",
    "\n",
    "# convert to ints\n",
    "test_indxed_dates['Date'] = test_indxed_dates['Date'].map(mdates.date2num)"
   ]
  },
  {
   "cell_type": "code",
   "execution_count": 20,
   "metadata": {
    "colab": {
     "base_uri": "https://localhost:8080/",
     "height": 419
    },
    "executionInfo": {
     "elapsed": 102,
     "status": "ok",
     "timestamp": 1640161341796,
     "user": {
      "displayName": "Antonius Ricky",
      "photoUrl": "https://lh3.googleusercontent.com/a/default-user=s64",
      "userId": "13788256783846812684"
     },
     "user_tz": -420
    },
    "id": "81uyyUEDVquq",
    "outputId": "2598c020-bbcd-4ac1-df90-a163a4874e06"
   },
   "outputs": [
    {
     "data": {
      "text/html": [
       "<div>\n",
       "<style scoped>\n",
       "    .dataframe tbody tr th:only-of-type {\n",
       "        vertical-align: middle;\n",
       "    }\n",
       "\n",
       "    .dataframe tbody tr th {\n",
       "        vertical-align: top;\n",
       "    }\n",
       "\n",
       "    .dataframe thead th {\n",
       "        text-align: right;\n",
       "    }\n",
       "</style>\n",
       "<table border=\"1\" class=\"dataframe\">\n",
       "  <thead>\n",
       "    <tr style=\"text-align: right;\">\n",
       "      <th></th>\n",
       "      <th>Date</th>\n",
       "      <th>Open</th>\n",
       "      <th>High</th>\n",
       "      <th>Low</th>\n",
       "      <th>Close</th>\n",
       "      <th>Adj Close</th>\n",
       "      <th>Volume</th>\n",
       "    </tr>\n",
       "  </thead>\n",
       "  <tbody>\n",
       "    <tr>\n",
       "      <th>0</th>\n",
       "      <td>14613.0</td>\n",
       "      <td>1010.0</td>\n",
       "      <td>1010.0</td>\n",
       "      <td>965.0</td>\n",
       "      <td>1010.0</td>\n",
       "      <td>800.359741</td>\n",
       "      <td>77812500</td>\n",
       "    </tr>\n",
       "    <tr>\n",
       "      <th>1</th>\n",
       "      <td>14614.0</td>\n",
       "      <td>1020.0</td>\n",
       "      <td>1020.0</td>\n",
       "      <td>990.0</td>\n",
       "      <td>1020.0</td>\n",
       "      <td>808.284119</td>\n",
       "      <td>44442500</td>\n",
       "    </tr>\n",
       "    <tr>\n",
       "      <th>2</th>\n",
       "      <td>14615.0</td>\n",
       "      <td>990.0</td>\n",
       "      <td>1020.0</td>\n",
       "      <td>990.0</td>\n",
       "      <td>990.0</td>\n",
       "      <td>784.511169</td>\n",
       "      <td>27782500</td>\n",
       "    </tr>\n",
       "    <tr>\n",
       "      <th>3</th>\n",
       "      <td>14616.0</td>\n",
       "      <td>995.0</td>\n",
       "      <td>995.0</td>\n",
       "      <td>965.0</td>\n",
       "      <td>995.0</td>\n",
       "      <td>788.473145</td>\n",
       "      <td>38632500</td>\n",
       "    </tr>\n",
       "    <tr>\n",
       "      <th>4</th>\n",
       "      <td>14617.0</td>\n",
       "      <td>970.0</td>\n",
       "      <td>995.0</td>\n",
       "      <td>970.0</td>\n",
       "      <td>970.0</td>\n",
       "      <td>768.662231</td>\n",
       "      <td>27427500</td>\n",
       "    </tr>\n",
       "    <tr>\n",
       "      <th>...</th>\n",
       "      <td>...</td>\n",
       "      <td>...</td>\n",
       "      <td>...</td>\n",
       "      <td>...</td>\n",
       "      <td>...</td>\n",
       "      <td>...</td>\n",
       "      <td>...</td>\n",
       "    </tr>\n",
       "    <tr>\n",
       "      <th>2466</th>\n",
       "      <td>18225.0</td>\n",
       "      <td>6330.0</td>\n",
       "      <td>6335.0</td>\n",
       "      <td>6275.0</td>\n",
       "      <td>6275.0</td>\n",
       "      <td>5638.059082</td>\n",
       "      <td>55133500</td>\n",
       "    </tr>\n",
       "    <tr>\n",
       "      <th>2467</th>\n",
       "      <td>18226.0</td>\n",
       "      <td>6330.0</td>\n",
       "      <td>6330.0</td>\n",
       "      <td>6270.0</td>\n",
       "      <td>6285.0</td>\n",
       "      <td>5647.044922</td>\n",
       "      <td>192783500</td>\n",
       "    </tr>\n",
       "    <tr>\n",
       "      <th>2468</th>\n",
       "      <td>18227.0</td>\n",
       "      <td>6270.0</td>\n",
       "      <td>6300.0</td>\n",
       "      <td>6240.0</td>\n",
       "      <td>6300.0</td>\n",
       "      <td>5660.522949</td>\n",
       "      <td>58833500</td>\n",
       "    </tr>\n",
       "    <tr>\n",
       "      <th>2469</th>\n",
       "      <td>18228.0</td>\n",
       "      <td>6295.0</td>\n",
       "      <td>6295.0</td>\n",
       "      <td>6245.0</td>\n",
       "      <td>6250.0</td>\n",
       "      <td>5615.598145</td>\n",
       "      <td>44248000</td>\n",
       "    </tr>\n",
       "    <tr>\n",
       "      <th>2470</th>\n",
       "      <td>18229.0</td>\n",
       "      <td>6230.0</td>\n",
       "      <td>6295.0</td>\n",
       "      <td>6225.0</td>\n",
       "      <td>6280.0</td>\n",
       "      <td>5642.552734</td>\n",
       "      <td>52954500</td>\n",
       "    </tr>\n",
       "  </tbody>\n",
       "</table>\n",
       "<p>2471 rows × 7 columns</p>\n",
       "</div>"
      ],
      "text/plain": [
       "         Date    Open    High     Low   Close    Adj Close     Volume\n",
       "0     14613.0  1010.0  1010.0   965.0  1010.0   800.359741   77812500\n",
       "1     14614.0  1020.0  1020.0   990.0  1020.0   808.284119   44442500\n",
       "2     14615.0   990.0  1020.0   990.0   990.0   784.511169   27782500\n",
       "3     14616.0   995.0   995.0   965.0   995.0   788.473145   38632500\n",
       "4     14617.0   970.0   995.0   970.0   970.0   768.662231   27427500\n",
       "...       ...     ...     ...     ...     ...          ...        ...\n",
       "2466  18225.0  6330.0  6335.0  6275.0  6275.0  5638.059082   55133500\n",
       "2467  18226.0  6330.0  6330.0  6270.0  6285.0  5647.044922  192783500\n",
       "2468  18227.0  6270.0  6300.0  6240.0  6300.0  5660.522949   58833500\n",
       "2469  18228.0  6295.0  6295.0  6245.0  6250.0  5615.598145   44248000\n",
       "2470  18229.0  6230.0  6295.0  6225.0  6280.0  5642.552734   52954500\n",
       "\n",
       "[2471 rows x 7 columns]"
      ]
     },
     "execution_count": 20,
     "metadata": {},
     "output_type": "execute_result"
    }
   ],
   "source": [
    "test_indxed_dates"
   ]
  },
  {
   "cell_type": "code",
   "execution_count": 21,
   "metadata": {
    "executionInfo": {
     "elapsed": 101,
     "status": "ok",
     "timestamp": 1640161341798,
     "user": {
      "displayName": "Antonius Ricky",
      "photoUrl": "https://lh3.googleusercontent.com/a/default-user=s64",
      "userId": "13788256783846812684"
     },
     "user_tz": -420
    },
    "id": "v7TgNJfcEm3M"
   },
   "outputs": [],
   "source": [
    "test_dates_data = test_indxed_dates['Date'].to_numpy()\n",
    "test_prices_data = test_data['Adj Close'].to_numpy()\n",
    "\n",
    "#Convert to 1d Vector\n",
    "test_dates_data = np.reshape(test_dates_data, (len(test_dates_data), 1))\n",
    "test_prices_data = np.reshape(test_prices_data, (len(test_prices_data), 1))"
   ]
  },
  {
   "cell_type": "code",
   "execution_count": 22,
   "metadata": {
    "colab": {
     "base_uri": "https://localhost:8080/"
    },
    "executionInfo": {
     "elapsed": 104,
     "status": "ok",
     "timestamp": 1640161341802,
     "user": {
      "displayName": "Antonius Ricky",
      "photoUrl": "https://lh3.googleusercontent.com/a/default-user=s64",
      "userId": "13788256783846812684"
     },
     "user_tz": -420
    },
    "id": "-KRd6QaFmvTI",
    "outputId": "29b159f7-14b8-4a55-a2f6-12f134cade4f"
   },
   "outputs": [
    {
     "name": "stderr",
     "output_type": "stream",
     "text": [
      "/Users/minseokim/opt/anaconda3/lib/python3.9/site-packages/sklearn/utils/validation.py:993: DataConversionWarning: A column-vector y was passed when a 1d array was expected. Please change the shape of y to (n_samples, ), for example using ravel().\n",
      "  y = column_or_1d(y, warn=True)\n"
     ]
    },
    {
     "data": {
      "text/plain": [
       "array([ 937.78814174,  808.38414627,  784.41085785, ..., 5660.42255036,\n",
       "       5439.03898732, 4955.63935163])"
      ]
     },
     "execution_count": 22,
     "metadata": {},
     "output_type": "execute_result"
    }
   ],
   "source": [
    "SVR_rbfk = SVR(kernel= 'rbf', C= 1e3, gamma= 0.1)\n",
    "SVR_rbfk.fit(test_dates_data, test_prices_data)\n",
    "SVR_rbfk_test = SVR_rbfk.predict(test_dates_data)\n",
    "SVR_rbfk_test"
   ]
  },
  {
   "cell_type": "code",
   "execution_count": 23,
   "metadata": {
    "colab": {
     "base_uri": "https://localhost:8080/"
    },
    "executionInfo": {
     "elapsed": 100,
     "status": "ok",
     "timestamp": 1640161341804,
     "user": {
      "displayName": "Antonius Ricky",
      "photoUrl": "https://lh3.googleusercontent.com/a/default-user=s64",
      "userId": "13788256783846812684"
     },
     "user_tz": -420
    },
    "id": "AZWI8xU93J0_",
    "outputId": "6b612fb6-4db1-4b48-cfd6-b5f72e5002d4"
   },
   "outputs": [
    {
     "name": "stderr",
     "output_type": "stream",
     "text": [
      "/Users/minseokim/opt/anaconda3/lib/python3.9/site-packages/sklearn/utils/validation.py:993: DataConversionWarning: A column-vector y was passed when a 1d array was expected. Please change the shape of y to (n_samples, ), for example using ravel().\n",
      "  y = column_or_1d(y, warn=True)\n"
     ]
    },
    {
     "data": {
      "text/plain": [
       "array([ 764.82577114,  765.61781304,  766.40985495, ..., 3627.26521473,\n",
       "       3628.05725664, 3628.84929854])"
      ]
     },
     "execution_count": 23,
     "metadata": {},
     "output_type": "execute_result"
    }
   ],
   "source": [
    "SVR_linear = make_pipeline(StandardScaler(), SVR(kernel='linear', C=1))\n",
    "SVR_linear.fit(test_dates_data, test_prices_data)\n",
    "SVR_linear_test =  SVR_linear.predict(test_dates_data)\n",
    "SVR_linear_test"
   ]
  },
  {
   "cell_type": "code",
   "execution_count": 24,
   "metadata": {
    "colab": {
     "base_uri": "https://localhost:8080/"
    },
    "executionInfo": {
     "elapsed": 90,
     "status": "ok",
     "timestamp": 1640161341807,
     "user": {
      "displayName": "Antonius Ricky",
      "photoUrl": "https://lh3.googleusercontent.com/a/default-user=s64",
      "userId": "13788256783846812684"
     },
     "user_tz": -420
    },
    "id": "09ynvcyjmuuu",
    "outputId": "9d206543-7053-4a11-f571-49f4aaf2276f"
   },
   "outputs": [
    {
     "name": "stderr",
     "output_type": "stream",
     "text": [
      "/Users/minseokim/opt/anaconda3/lib/python3.9/site-packages/sklearn/utils/validation.py:993: DataConversionWarning: A column-vector y was passed when a 1d array was expected. Please change the shape of y to (n_samples, ), for example using ravel().\n",
      "  y = column_or_1d(y, warn=True)\n"
     ]
    },
    {
     "data": {
      "text/plain": [
       "array([ 767.43846085,  768.33731922,  769.23568642, ..., 5862.02955774,\n",
       "       5866.35864863, 5870.69124645])"
      ]
     },
     "execution_count": 24,
     "metadata": {},
     "output_type": "execute_result"
    }
   ],
   "source": [
    "SVR_poly = make_pipeline(StandardScaler(), SVR(kernel='poly', C=1e3, degree=4, epsilon=0.1, coef0=1))\n",
    "SVR_poly.fit(test_dates_data, test_prices_data)\n",
    "SVR_poly_test = SVR_poly.predict(test_dates_data)\n",
    "SVR_poly_test"
   ]
  },
  {
   "cell_type": "code",
   "execution_count": 25,
   "metadata": {
    "colab": {
     "base_uri": "https://localhost:8080/",
     "height": 403
    },
    "executionInfo": {
     "elapsed": 80,
     "status": "ok",
     "timestamp": 1640161341809,
     "user": {
      "displayName": "Antonius Ricky",
      "photoUrl": "https://lh3.googleusercontent.com/a/default-user=s64",
      "userId": "13788256783846812684"
     },
     "user_tz": -420
    },
    "id": "i1en8pvK3IZZ",
    "outputId": "07835c58-af54-4c05-c539-7cecc169f155"
   },
   "outputs": [
    {
     "data": {
      "image/png": "[encoded data removed]",
      "text/plain": [
       "<Figure size 1200x600 with 1 Axes>"
      ]
     },
     "metadata": {},
     "output_type": "display_data"
    }
   ],
   "source": [
    "plt.figure(figsize = (12,6))\n",
    "plt.title('RBF - Stock Market Prediction Using 2020 - 2021 Data')\n",
    "plt.plot(test_dates_data, test_prices_data, color= 'red', label= 'Real Stock Price')\n",
    "plt.plot(test_actual_dates, SVR_linear_test, color= 'blue', label= 'Linear model Predicted Price')\n",
    "plt.plot(test_actual_dates, SVR_rbfk_test, color= 'yellow', label= 'RBF model Predicted Price')\n",
    "plt.plot(test_actual_dates, SVR_poly_test, color= 'green', label= 'Poly model Predicted Price') \n",
    "plt.xlabel('Date')\n",
    "plt.ylabel('Price')\n",
    "plt.legend()\n",
    "plt.show()"
   ]
  },
  {
   "cell_type": "code",
   "execution_count": 26,
   "metadata": {
    "colab": {
     "base_uri": "https://localhost:8080/"
    },
    "executionInfo": {
     "elapsed": 77,
     "status": "ok",
     "timestamp": 1640161341811,
     "user": {
      "displayName": "Antonius Ricky",
      "photoUrl": "https://lh3.googleusercontent.com/a/default-user=s64",
      "userId": "13788256783846812684"
     },
     "user_tz": -420
    },
    "id": "vUmjQQgZBFmU",
    "outputId": "5da4901a-7899-4e60-aa57-afe48b6fe3a7"
   },
   "outputs": [
    {
     "name": "stdout",
     "output_type": "stream",
     "text": [
      "SVR RBF Train RMSE: 12.00\n",
      "SVR RBF Train R2 Score: 1.00\n",
      "SVR RBF Train MAE Score: 3.94\n",
      "SVR RBF Test RMSE: 32.14\n",
      "SVR RBF Test R2 Score: 1.00\n",
      "SVR RBF Test MAE Score: 11.33\n"
     ]
    }
   ],
   "source": [
    "from sklearn.metrics import r2_score\n",
    "from sklearn.metrics import mean_squared_error\n",
    "from sklearn.metrics import mean_absolute_error\n",
    "\n",
    "print(\"SVR RBF Train RMSE: %.2f\"\n",
    "      % np.sqrt(mean_squared_error(prices_data, SVR_rbfk_train)))\n",
    "\n",
    "print(\"SVR RBF Train R2 Score: %.2f\"\n",
    "      % r2_score(prices_data, SVR_rbfk_train))\n",
    "\n",
    "print(\"SVR RBF Train MAE Score: %.2f\"\n",
    "      % mean_absolute_error(prices_data, SVR_rbfk_train))\n",
    "\n",
    "print(\"SVR RBF Test RMSE: %.2f\"\n",
    "      % np.sqrt(mean_squared_error(test_prices_data, SVR_rbfk_test)))\n",
    "\n",
    "print(\"SVR RBF Test R2 Score: %.2f\"\n",
    "      % r2_score(test_prices_data, SVR_rbfk_test))\n",
    "\n",
    "print(\"SVR RBF Test MAE Score: %.2f\"\n",
    "      % mean_absolute_error(test_prices_data, SVR_rbfk_test))\n"
   ]
  },
  {
   "cell_type": "code",
   "execution_count": 27,
   "metadata": {
    "colab": {
     "base_uri": "https://localhost:8080/"
    },
    "executionInfo": {
     "elapsed": 67,
     "status": "ok",
     "timestamp": 1640161341814,
     "user": {
      "displayName": "Antonius Ricky",
      "photoUrl": "https://lh3.googleusercontent.com/a/default-user=s64",
      "userId": "13788256783846812684"
     },
     "user_tz": -420
    },
    "id": "qoNp4IJ20Pw_",
    "outputId": "c8ac59f9-20d2-40a9-f884-e122b59ba4b7"
   },
   "outputs": [
    {
     "name": "stdout",
     "output_type": "stream",
     "text": [
      "SVR Linear Train RMSE: 486.32\n",
      "SVR Linear Train R2 Score: 0.86\n",
      "SVR Linear Train MAE Score: 352.54\n",
      "SVR Linear Test RMSE: 647.35\n",
      "SVR Linear Test R2 Score: 0.76\n",
      "SVR Linear Test MAE Score: 388.13\n"
     ]
    }
   ],
   "source": [
    "print(\"SVR Linear Train RMSE: %.2f\"\n",
    "      % np.sqrt(mean_squared_error(prices_data, SVR_linear_train)))\n",
    "\n",
    "print(\"SVR Linear Train R2 Score: %.2f\"\n",
    "      % r2_score(prices_data, SVR_linear_train))\n",
    "\n",
    "print(\"SVR Linear Train MAE Score: %.2f\"\n",
    "      % mean_absolute_error(prices_data, SVR_linear_train))\n",
    "\n",
    "print(\"SVR Linear Test RMSE: %.2f\"\n",
    "      % np.sqrt(mean_squared_error(test_prices_data, SVR_linear_test)))\n",
    "\n",
    "print(\"SVR Linear Test R2 Score: %.2f\"\n",
    "      % r2_score(test_prices_data, SVR_linear_test))\n",
    "\n",
    "print(\"SVR Linear Test MAE Score: %.2f\"\n",
    "      % mean_absolute_error(test_prices_data, SVR_linear_test))"
   ]
  },
  {
   "cell_type": "code",
   "execution_count": 28,
   "metadata": {
    "colab": {
     "base_uri": "https://localhost:8080/"
    },
    "executionInfo": {
     "elapsed": 68,
     "status": "ok",
     "timestamp": 1640161341821,
     "user": {
      "displayName": "Antonius Ricky",
      "photoUrl": "https://lh3.googleusercontent.com/a/default-user=s64",
      "userId": "13788256783846812684"
     },
     "user_tz": -420
    },
    "id": "fzC1dbwHbTEi",
    "outputId": "b6389b09-2961-470f-f5d8-907a2384e90c"
   },
   "outputs": [
    {
     "name": "stdout",
     "output_type": "stream",
     "text": [
      "SVR Poly Train RMSE: 161.60\n",
      "SVR Poly Train R2 Score: 0.99\n",
      "SVR Poly Train MAE Score: 122.26\n",
      "SVR Poly Test RMSE: 159.62\n",
      "SVR Poly Test R2 Score: 0.99\n",
      "SVR Poly Test MAE Score: 121.26\n"
     ]
    }
   ],
   "source": [
    "print(\"SVR Poly Train RMSE: %.2f\"\n",
    "      % np.sqrt(mean_squared_error(prices_data, SVR_poly_train)))\n",
    "\n",
    "print(\"SVR Poly Train R2 Score: %.2f\"\n",
    "      % r2_score(prices_data, SVR_poly_train))\n",
    "\n",
    "print(\"SVR Poly Train MAE Score: %.2f\"\n",
    "      % mean_absolute_error(prices_data, SVR_poly_train))\n",
    "\n",
    "print(\"SVR Poly Test RMSE: %.2f\"\n",
    "      % np.sqrt(mean_squared_error(test_prices_data, SVR_poly_test)))\n",
    "\n",
    "print(\"SVR Poly Test R2 Score: %.2f\"\n",
    "      % r2_score(test_prices_data, SVR_poly_test))\n",
    "\n",
    "print(\"SVR Poly Test MAE Score: %.2f\"\n",
    "      % mean_absolute_error(test_prices_data, SVR_poly_test))"
   ]
  }
 ],
 "metadata": {
  "colab": {
   "collapsed_sections": [],
   "name": "Stock Market Prediction with SVM RBF.ipynb",
   "provenance": [
    {
     "file_id": "1GOnNCVBamIyfI08scEyKb9lcXKGbSi7J",
     "timestamp": 1638709843686
    }
   ]
  },
  "kernelspec": {
   "display_name": "Python 3 (ipykernel)",
   "language": "python",
   "name": "python3"
  },
  "language_info": {
   "codemirror_mode": {
    "name": "ipython",
    "version": 3
   },
   "file_extension": ".py",
   "mimetype": "text/x-python",
   "name": "python",
   "nbconvert_exporter": "python",
   "pygments_lexer": "ipython3",
   "version": "3.9.13"
  }
 },
 "nbformat": 4,
 "nbformat_minor": 4
}
