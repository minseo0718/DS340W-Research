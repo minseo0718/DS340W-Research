{
 "cells": [
  {
   "cell_type": "code",
   "execution_count": 122,
   "metadata": {
    "colab": {
     "base_uri": "https://localhost:8080/"
    },
    "executionInfo": {
     "elapsed": 11810,
     "status": "ok",
     "timestamp": 1640161279271,
     "user": {
      "displayName": "Antonius Ricky",
      "photoUrl": "https://lh3.googleusercontent.com/a/default-user=s64",
      "userId": "13788256783846812684"
     },
     "user_tz": -420
    },
    "id": "Go3V6Mh35YYP",
    "outputId": "a8eef122-f4f9-4e06-aa82-03d8e99d9e1e"
   },
   "outputs": [
    {
     "name": "stdout",
     "output_type": "stream",
     "text": [
      "Requirement already satisfied: pandas in /Users/minseokim/opt/anaconda3/lib/python3.9/site-packages (2.2.3)\n",
      "Requirement already satisfied: numpy>=1.22.4 in /Users/minseokim/opt/anaconda3/lib/python3.9/site-packages (from pandas) (1.24.0)\n",
      "Requirement already satisfied: python-dateutil>=2.8.2 in /Users/minseokim/opt/anaconda3/lib/python3.9/site-packages (from pandas) (2.8.2)\n",
      "Requirement already satisfied: pytz>=2020.1 in /Users/minseokim/opt/anaconda3/lib/python3.9/site-packages (from pandas) (2024.1)\n",
      "Requirement already satisfied: tzdata>=2022.7 in /Users/minseokim/opt/anaconda3/lib/python3.9/site-packages (from pandas) (2024.1)\n",
      "Requirement already satisfied: six>=1.5 in /Users/minseokim/opt/anaconda3/lib/python3.9/site-packages (from python-dateutil>=2.8.2->pandas) (1.16.0)\n",
      "Requirement already satisfied: pandas-datareader in /Users/minseokim/opt/anaconda3/lib/python3.9/site-packages (0.10.0)\n",
      "Requirement already satisfied: lxml in /Users/minseokim/opt/anaconda3/lib/python3.9/site-packages (from pandas-datareader) (4.9.1)\n",
      "Requirement already satisfied: pandas>=0.23 in /Users/minseokim/opt/anaconda3/lib/python3.9/site-packages (from pandas-datareader) (2.2.3)\n",
      "Requirement already satisfied: requests>=2.19.0 in /Users/minseokim/opt/anaconda3/lib/python3.9/site-packages (from pandas-datareader) (2.32.3)\n",
      "Requirement already satisfied: numpy>=1.22.4 in /Users/minseokim/opt/anaconda3/lib/python3.9/site-packages (from pandas>=0.23->pandas-datareader) (1.24.0)\n",
      "Requirement already satisfied: python-dateutil>=2.8.2 in /Users/minseokim/opt/anaconda3/lib/python3.9/site-packages (from pandas>=0.23->pandas-datareader) (2.8.2)\n",
      "Requirement already satisfied: pytz>=2020.1 in /Users/minseokim/opt/anaconda3/lib/python3.9/site-packages (from pandas>=0.23->pandas-datareader) (2024.1)\n",
      "Requirement already satisfied: tzdata>=2022.7 in /Users/minseokim/opt/anaconda3/lib/python3.9/site-packages (from pandas>=0.23->pandas-datareader) (2024.1)\n",
      "Requirement already satisfied: charset-normalizer<4,>=2 in /Users/minseokim/opt/anaconda3/lib/python3.9/site-packages (from requests>=2.19.0->pandas-datareader) (2.0.4)\n",
      "Requirement already satisfied: idna<4,>=2.5 in /Users/minseokim/opt/anaconda3/lib/python3.9/site-packages (from requests>=2.19.0->pandas-datareader) (3.3)\n",
      "Requirement already satisfied: urllib3<3,>=1.21.1 in /Users/minseokim/opt/anaconda3/lib/python3.9/site-packages (from requests>=2.19.0->pandas-datareader) (1.26.11)\n",
      "Requirement already satisfied: certifi>=2017.4.17 in /Users/minseokim/opt/anaconda3/lib/python3.9/site-packages (from requests>=2.19.0->pandas-datareader) (2022.9.24)\n",
      "Requirement already satisfied: six>=1.5 in /Users/minseokim/opt/anaconda3/lib/python3.9/site-packages (from python-dateutil>=2.8.2->pandas>=0.23->pandas-datareader) (1.16.0)\n",
      "Requirement already satisfied: yfinance in /Users/minseokim/opt/anaconda3/lib/python3.9/site-packages (0.2.43)\n",
      "Requirement already satisfied: pandas>=1.3.0 in /Users/minseokim/opt/anaconda3/lib/python3.9/site-packages (from yfinance) (2.2.3)\n",
      "Requirement already satisfied: numpy>=1.16.5 in /Users/minseokim/opt/anaconda3/lib/python3.9/site-packages (from yfinance) (1.24.0)\n",
      "Requirement already satisfied: requests>=2.31 in /Users/minseokim/opt/anaconda3/lib/python3.9/site-packages (from yfinance) (2.32.3)\n",
      "Requirement already satisfied: multitasking>=0.0.7 in /Users/minseokim/opt/anaconda3/lib/python3.9/site-packages (from yfinance) (0.0.11)\n",
      "Requirement already satisfied: lxml>=4.9.1 in /Users/minseokim/opt/anaconda3/lib/python3.9/site-packages (from yfinance) (4.9.1)\n",
      "Requirement already satisfied: platformdirs>=2.0.0 in /Users/minseokim/opt/anaconda3/lib/python3.9/site-packages (from yfinance) (2.5.2)\n",
      "Requirement already satisfied: pytz>=2022.5 in /Users/minseokim/opt/anaconda3/lib/python3.9/site-packages (from yfinance) (2024.1)\n",
      "Requirement already satisfied: frozendict>=2.3.4 in /Users/minseokim/opt/anaconda3/lib/python3.9/site-packages (from yfinance) (2.4.4)\n",
      "Requirement already satisfied: peewee>=3.16.2 in /Users/minseokim/opt/anaconda3/lib/python3.9/site-packages (from yfinance) (3.17.6)\n",
      "Requirement already satisfied: beautifulsoup4>=4.11.1 in /Users/minseokim/opt/anaconda3/lib/python3.9/site-packages (from yfinance) (4.11.1)\n",
      "Requirement already satisfied: html5lib>=1.1 in /Users/minseokim/opt/anaconda3/lib/python3.9/site-packages (from yfinance) (1.1)\n",
      "Requirement already satisfied: soupsieve>1.2 in /Users/minseokim/opt/anaconda3/lib/python3.9/site-packages (from beautifulsoup4>=4.11.1->yfinance) (2.3.1)\n",
      "Requirement already satisfied: six>=1.9 in /Users/minseokim/opt/anaconda3/lib/python3.9/site-packages (from html5lib>=1.1->yfinance) (1.16.0)\n",
      "Requirement already satisfied: webencodings in /Users/minseokim/opt/anaconda3/lib/python3.9/site-packages (from html5lib>=1.1->yfinance) (0.5.1)\n",
      "Requirement already satisfied: python-dateutil>=2.8.2 in /Users/minseokim/opt/anaconda3/lib/python3.9/site-packages (from pandas>=1.3.0->yfinance) (2.8.2)\n",
      "Requirement already satisfied: tzdata>=2022.7 in /Users/minseokim/opt/anaconda3/lib/python3.9/site-packages (from pandas>=1.3.0->yfinance) (2024.1)\n",
      "Requirement already satisfied: charset-normalizer<4,>=2 in /Users/minseokim/opt/anaconda3/lib/python3.9/site-packages (from requests>=2.31->yfinance) (2.0.4)\n",
      "Requirement already satisfied: idna<4,>=2.5 in /Users/minseokim/opt/anaconda3/lib/python3.9/site-packages (from requests>=2.31->yfinance) (3.3)\n",
      "Requirement already satisfied: urllib3<3,>=1.21.1 in /Users/minseokim/opt/anaconda3/lib/python3.9/site-packages (from requests>=2.31->yfinance) (1.26.11)\n",
      "Requirement already satisfied: certifi>=2017.4.17 in /Users/minseokim/opt/anaconda3/lib/python3.9/site-packages (from requests>=2.31->yfinance) (2022.9.24)\n"
     ]
    }
   ],
   "source": [
    "!pip install --upgrade pandas\n",
    "!pip install --upgrade pandas-datareader\n",
    "!pip install yfinance"
   ]
  },
  {
   "cell_type": "code",
   "execution_count": 123,
   "metadata": {
    "executionInfo": {
     "elapsed": 1136,
     "status": "ok",
     "timestamp": 1640161280392,
     "user": {
      "displayName": "Antonius Ricky",
      "photoUrl": "https://lh3.googleusercontent.com/a/default-user=s64",
      "userId": "13788256783846812684"
     },
     "user_tz": -420
    },
    "id": "thcpjP0J339B"
   },
   "outputs": [],
   "source": [
    "import numpy as np\n",
    "import pandas as pd\n",
    "from matplotlib import style\n",
    "import datetime\n",
    "import pandas_datareader.data as web\n",
    "from sklearn.pipeline import make_pipeline\n",
    "from sklearn.preprocessing import StandardScaler"
   ]
  },
  {
   "cell_type": "code",
   "execution_count": 124,
   "metadata": {
    "executionInfo": {
     "elapsed": 1542,
     "status": "ok",
     "timestamp": 1640161281923,
     "user": {
      "displayName": "Antonius Ricky",
      "photoUrl": "https://lh3.googleusercontent.com/a/default-user=s64",
      "userId": "13788256783846812684"
     },
     "user_tz": -420
    },
    "id": "7kYhiNz44gRH"
   },
   "outputs": [
    {
     "name": "stderr",
     "output_type": "stream",
     "text": [
      "[*********************100%***********************]  1 of 1 completed\n",
      "[*********************100%***********************]  1 of 1 completed\n"
     ]
    }
   ],
   "source": [
    "import yfinance as yf\n",
    "import csv\n",
    "\n",
    "# Define the stock ticker and the date range\n",
    "ticker = 'BBCA.JK'\n",
    "train_start_date = '2010-01-04'\n",
    "train_end_date = '2019-12-01'\n",
    "\n",
    "test_start_date = '2020-01-02'\n",
    "test_end_date = '2022-12-01'\n",
    "\n",
    "validation_start_date = '2023-01-02'\n",
    "validation_end_date = datetime.date.today()\n",
    "\n",
    "# Get the data\n",
    "train_data = yf.download(ticker, start=train_start_date, end=train_end_date)\n",
    "\n",
    "train_data.to_csv('train_data.csv')\n",
    "\n",
    "\n",
    "# Get the stock data using yahoo API:\n",
    "# get 2009-2019 data to train our model\n",
    "#train_data = web.DataReader('BBCA.JK', 'yahoo', datetime.datetime(2010,1,4),datetime.datetime(2019,12,1)) \n",
    "\n",
    "# get 2020 data to present date to test the SVM model\n",
    "# test_data = web.DataReader('BBCA.JK', 'yahoo',  datetime.datetime(2020,1,2), datetime.date.today()) \n",
    "test_data = yf.download(ticker, start=test_start_date, end=test_end_date)\n",
    "#test_data = web.DataReader('BBCA.JK', 'yahoo',  datetime.datetime(2020,1,4), datetime.datetime(2021,12,1)) "
   ]
  },
  {
   "cell_type": "code",
   "execution_count": 125,
   "metadata": {
    "colab": {
     "base_uri": "https://localhost:8080/",
     "height": 450
    },
    "executionInfo": {
     "elapsed": 47,
     "status": "ok",
     "timestamp": 1640161281940,
     "user": {
      "displayName": "Antonius Ricky",
      "photoUrl": "https://lh3.googleusercontent.com/a/default-user=s64",
      "userId": "13788256783846812684"
     },
     "user_tz": -420
    },
    "id": "ISR4RsHQ5sFy",
    "outputId": "c7cf73c8-46e9-4573-b7e6-829776307be0"
   },
   "outputs": [
    {
     "data": {
      "text/html": [
       "<div>\n",
       "<style scoped>\n",
       "    .dataframe tbody tr th:only-of-type {\n",
       "        vertical-align: middle;\n",
       "    }\n",
       "\n",
       "    .dataframe tbody tr th {\n",
       "        vertical-align: top;\n",
       "    }\n",
       "\n",
       "    .dataframe thead th {\n",
       "        text-align: right;\n",
       "    }\n",
       "</style>\n",
       "<table border=\"1\" class=\"dataframe\">\n",
       "  <thead>\n",
       "    <tr style=\"text-align: right;\">\n",
       "      <th></th>\n",
       "      <th>Open</th>\n",
       "      <th>High</th>\n",
       "      <th>Low</th>\n",
       "      <th>Close</th>\n",
       "      <th>Adj Close</th>\n",
       "      <th>Volume</th>\n",
       "    </tr>\n",
       "    <tr>\n",
       "      <th>Date</th>\n",
       "      <th></th>\n",
       "      <th></th>\n",
       "      <th></th>\n",
       "      <th></th>\n",
       "      <th></th>\n",
       "      <th></th>\n",
       "    </tr>\n",
       "  </thead>\n",
       "  <tbody>\n",
       "    <tr>\n",
       "      <th>2010-01-04</th>\n",
       "      <td>1010.0</td>\n",
       "      <td>1010.0</td>\n",
       "      <td>965.0</td>\n",
       "      <td>1010.0</td>\n",
       "      <td>800.359741</td>\n",
       "      <td>77812500</td>\n",
       "    </tr>\n",
       "    <tr>\n",
       "      <th>2010-01-05</th>\n",
       "      <td>1020.0</td>\n",
       "      <td>1020.0</td>\n",
       "      <td>990.0</td>\n",
       "      <td>1020.0</td>\n",
       "      <td>808.284180</td>\n",
       "      <td>44442500</td>\n",
       "    </tr>\n",
       "    <tr>\n",
       "      <th>2010-01-06</th>\n",
       "      <td>990.0</td>\n",
       "      <td>1020.0</td>\n",
       "      <td>990.0</td>\n",
       "      <td>990.0</td>\n",
       "      <td>784.511108</td>\n",
       "      <td>27782500</td>\n",
       "    </tr>\n",
       "    <tr>\n",
       "      <th>2010-01-07</th>\n",
       "      <td>995.0</td>\n",
       "      <td>995.0</td>\n",
       "      <td>965.0</td>\n",
       "      <td>995.0</td>\n",
       "      <td>788.473206</td>\n",
       "      <td>38632500</td>\n",
       "    </tr>\n",
       "    <tr>\n",
       "      <th>2010-01-08</th>\n",
       "      <td>970.0</td>\n",
       "      <td>995.0</td>\n",
       "      <td>970.0</td>\n",
       "      <td>970.0</td>\n",
       "      <td>768.662354</td>\n",
       "      <td>27427500</td>\n",
       "    </tr>\n",
       "    <tr>\n",
       "      <th>...</th>\n",
       "      <td>...</td>\n",
       "      <td>...</td>\n",
       "      <td>...</td>\n",
       "      <td>...</td>\n",
       "      <td>...</td>\n",
       "      <td>...</td>\n",
       "    </tr>\n",
       "    <tr>\n",
       "      <th>2019-11-25</th>\n",
       "      <td>6330.0</td>\n",
       "      <td>6335.0</td>\n",
       "      <td>6275.0</td>\n",
       "      <td>6275.0</td>\n",
       "      <td>5638.061035</td>\n",
       "      <td>55133500</td>\n",
       "    </tr>\n",
       "    <tr>\n",
       "      <th>2019-11-26</th>\n",
       "      <td>6330.0</td>\n",
       "      <td>6330.0</td>\n",
       "      <td>6270.0</td>\n",
       "      <td>6285.0</td>\n",
       "      <td>5647.045410</td>\n",
       "      <td>192783500</td>\n",
       "    </tr>\n",
       "    <tr>\n",
       "      <th>2019-11-27</th>\n",
       "      <td>6270.0</td>\n",
       "      <td>6300.0</td>\n",
       "      <td>6240.0</td>\n",
       "      <td>6300.0</td>\n",
       "      <td>5660.522461</td>\n",
       "      <td>58833500</td>\n",
       "    </tr>\n",
       "    <tr>\n",
       "      <th>2019-11-28</th>\n",
       "      <td>6295.0</td>\n",
       "      <td>6295.0</td>\n",
       "      <td>6245.0</td>\n",
       "      <td>6250.0</td>\n",
       "      <td>5615.598145</td>\n",
       "      <td>44248000</td>\n",
       "    </tr>\n",
       "    <tr>\n",
       "      <th>2019-11-29</th>\n",
       "      <td>6230.0</td>\n",
       "      <td>6295.0</td>\n",
       "      <td>6225.0</td>\n",
       "      <td>6280.0</td>\n",
       "      <td>5642.552734</td>\n",
       "      <td>52954500</td>\n",
       "    </tr>\n",
       "  </tbody>\n",
       "</table>\n",
       "<p>2471 rows × 6 columns</p>\n",
       "</div>"
      ],
      "text/plain": [
       "              Open    High     Low   Close    Adj Close     Volume\n",
       "Date                                                              \n",
       "2010-01-04  1010.0  1010.0   965.0  1010.0   800.359741   77812500\n",
       "2010-01-05  1020.0  1020.0   990.0  1020.0   808.284180   44442500\n",
       "2010-01-06   990.0  1020.0   990.0   990.0   784.511108   27782500\n",
       "2010-01-07   995.0   995.0   965.0   995.0   788.473206   38632500\n",
       "2010-01-08   970.0   995.0   970.0   970.0   768.662354   27427500\n",
       "...            ...     ...     ...     ...          ...        ...\n",
       "2019-11-25  6330.0  6335.0  6275.0  6275.0  5638.061035   55133500\n",
       "2019-11-26  6330.0  6330.0  6270.0  6285.0  5647.045410  192783500\n",
       "2019-11-27  6270.0  6300.0  6240.0  6300.0  5660.522461   58833500\n",
       "2019-11-28  6295.0  6295.0  6245.0  6250.0  5615.598145   44248000\n",
       "2019-11-29  6230.0  6295.0  6225.0  6280.0  5642.552734   52954500\n",
       "\n",
       "[2471 rows x 6 columns]"
      ]
     },
     "execution_count": 125,
     "metadata": {},
     "output_type": "execute_result"
    }
   ],
   "source": [
    "train_data"
   ]
  },
  {
   "cell_type": "code",
   "execution_count": 126,
   "metadata": {
    "colab": {
     "base_uri": "https://localhost:8080/",
     "height": 450
    },
    "executionInfo": {
     "elapsed": 46,
     "status": "ok",
     "timestamp": 1640161281944,
     "user": {
      "displayName": "Antonius Ricky",
      "photoUrl": "https://lh3.googleusercontent.com/a/default-user=s64",
      "userId": "13788256783846812684"
     },
     "user_tz": -420
    },
    "id": "JqUd-cFmQcG-",
    "outputId": "bd824ba3-07ff-461c-c241-b1d728818bc3"
   },
   "outputs": [
    {
     "data": {
      "text/html": [
       "<div>\n",
       "<style scoped>\n",
       "    .dataframe tbody tr th:only-of-type {\n",
       "        vertical-align: middle;\n",
       "    }\n",
       "\n",
       "    .dataframe tbody tr th {\n",
       "        vertical-align: top;\n",
       "    }\n",
       "\n",
       "    .dataframe thead th {\n",
       "        text-align: right;\n",
       "    }\n",
       "</style>\n",
       "<table border=\"1\" class=\"dataframe\">\n",
       "  <thead>\n",
       "    <tr style=\"text-align: right;\">\n",
       "      <th></th>\n",
       "      <th>Open</th>\n",
       "      <th>High</th>\n",
       "      <th>Low</th>\n",
       "      <th>Close</th>\n",
       "      <th>Adj Close</th>\n",
       "      <th>Volume</th>\n",
       "    </tr>\n",
       "    <tr>\n",
       "      <th>Date</th>\n",
       "      <th></th>\n",
       "      <th></th>\n",
       "      <th></th>\n",
       "      <th></th>\n",
       "      <th></th>\n",
       "      <th></th>\n",
       "    </tr>\n",
       "  </thead>\n",
       "  <tbody>\n",
       "    <tr>\n",
       "      <th>2020-01-02</th>\n",
       "      <td>6695.0</td>\n",
       "      <td>6780.0</td>\n",
       "      <td>6680.0</td>\n",
       "      <td>6690.0</td>\n",
       "      <td>6029.958496</td>\n",
       "      <td>49445000</td>\n",
       "    </tr>\n",
       "    <tr>\n",
       "      <th>2020-01-03</th>\n",
       "      <td>6750.0</td>\n",
       "      <td>6800.0</td>\n",
       "      <td>6725.0</td>\n",
       "      <td>6800.0</td>\n",
       "      <td>6129.105469</td>\n",
       "      <td>47755500</td>\n",
       "    </tr>\n",
       "    <tr>\n",
       "      <th>2020-01-06</th>\n",
       "      <td>6720.0</td>\n",
       "      <td>6750.0</td>\n",
       "      <td>6690.0</td>\n",
       "      <td>6735.0</td>\n",
       "      <td>6070.518555</td>\n",
       "      <td>27300000</td>\n",
       "    </tr>\n",
       "    <tr>\n",
       "      <th>2020-01-07</th>\n",
       "      <td>6735.0</td>\n",
       "      <td>6770.0</td>\n",
       "      <td>6730.0</td>\n",
       "      <td>6740.0</td>\n",
       "      <td>6075.024902</td>\n",
       "      <td>45022500</td>\n",
       "    </tr>\n",
       "    <tr>\n",
       "      <th>2020-01-08</th>\n",
       "      <td>6670.0</td>\n",
       "      <td>6745.0</td>\n",
       "      <td>6670.0</td>\n",
       "      <td>6680.0</td>\n",
       "      <td>6020.943848</td>\n",
       "      <td>53692500</td>\n",
       "    </tr>\n",
       "    <tr>\n",
       "      <th>...</th>\n",
       "      <td>...</td>\n",
       "      <td>...</td>\n",
       "      <td>...</td>\n",
       "      <td>...</td>\n",
       "      <td>...</td>\n",
       "      <td>...</td>\n",
       "    </tr>\n",
       "    <tr>\n",
       "      <th>2022-11-24</th>\n",
       "      <td>8975.0</td>\n",
       "      <td>9000.0</td>\n",
       "      <td>8950.0</td>\n",
       "      <td>9000.0</td>\n",
       "      <td>8550.542969</td>\n",
       "      <td>53520800</td>\n",
       "    </tr>\n",
       "    <tr>\n",
       "      <th>2022-11-25</th>\n",
       "      <td>9000.0</td>\n",
       "      <td>9000.0</td>\n",
       "      <td>8900.0</td>\n",
       "      <td>8975.0</td>\n",
       "      <td>8526.791016</td>\n",
       "      <td>75048300</td>\n",
       "    </tr>\n",
       "    <tr>\n",
       "      <th>2022-11-28</th>\n",
       "      <td>9050.0</td>\n",
       "      <td>9100.0</td>\n",
       "      <td>8975.0</td>\n",
       "      <td>9025.0</td>\n",
       "      <td>8574.294922</td>\n",
       "      <td>96209700</td>\n",
       "    </tr>\n",
       "    <tr>\n",
       "      <th>2022-11-29</th>\n",
       "      <td>8975.0</td>\n",
       "      <td>9075.0</td>\n",
       "      <td>8925.0</td>\n",
       "      <td>8975.0</td>\n",
       "      <td>8526.791016</td>\n",
       "      <td>91562100</td>\n",
       "    </tr>\n",
       "    <tr>\n",
       "      <th>2022-11-30</th>\n",
       "      <td>8875.0</td>\n",
       "      <td>9400.0</td>\n",
       "      <td>8850.0</td>\n",
       "      <td>9300.0</td>\n",
       "      <td>8835.560547</td>\n",
       "      <td>644359600</td>\n",
       "    </tr>\n",
       "  </tbody>\n",
       "</table>\n",
       "<p>713 rows × 6 columns</p>\n",
       "</div>"
      ],
      "text/plain": [
       "              Open    High     Low   Close    Adj Close     Volume\n",
       "Date                                                              \n",
       "2020-01-02  6695.0  6780.0  6680.0  6690.0  6029.958496   49445000\n",
       "2020-01-03  6750.0  6800.0  6725.0  6800.0  6129.105469   47755500\n",
       "2020-01-06  6720.0  6750.0  6690.0  6735.0  6070.518555   27300000\n",
       "2020-01-07  6735.0  6770.0  6730.0  6740.0  6075.024902   45022500\n",
       "2020-01-08  6670.0  6745.0  6670.0  6680.0  6020.943848   53692500\n",
       "...            ...     ...     ...     ...          ...        ...\n",
       "2022-11-24  8975.0  9000.0  8950.0  9000.0  8550.542969   53520800\n",
       "2022-11-25  9000.0  9000.0  8900.0  8975.0  8526.791016   75048300\n",
       "2022-11-28  9050.0  9100.0  8975.0  9025.0  8574.294922   96209700\n",
       "2022-11-29  8975.0  9075.0  8925.0  8975.0  8526.791016   91562100\n",
       "2022-11-30  8875.0  9400.0  8850.0  9300.0  8835.560547  644359600\n",
       "\n",
       "[713 rows x 6 columns]"
      ]
     },
     "execution_count": 126,
     "metadata": {},
     "output_type": "execute_result"
    }
   ],
   "source": [
    "test_data"
   ]
  },
  {
   "cell_type": "code",
   "execution_count": 127,
   "metadata": {
    "executionInfo": {
     "elapsed": 45,
     "status": "ok",
     "timestamp": 1640161281946,
     "user": {
      "displayName": "Antonius Ricky",
      "photoUrl": "https://lh3.googleusercontent.com/a/default-user=s64",
      "userId": "13788256783846812684"
     },
     "user_tz": -420
    },
    "id": "KzhONdUmy5DE"
   },
   "outputs": [],
   "source": [
    "# sort by date\n",
    "train_data = train_data.sort_values('Date')\n",
    "test_data = test_data.sort_values('Date')\n",
    "\n",
    "# fix the date \n",
    "train_data.reset_index(inplace=True)\n",
    "train_data.set_index(\"Date\", inplace=True)\n",
    "test_data.reset_index(inplace=True)\n",
    "test_data.set_index(\"Date\", inplace=True)"
   ]
  },
  {
   "cell_type": "code",
   "execution_count": 128,
   "metadata": {
    "colab": {
     "base_uri": "https://localhost:8080/",
     "height": 450
    },
    "executionInfo": {
     "elapsed": 44,
     "status": "ok",
     "timestamp": 1640161281947,
     "user": {
      "displayName": "Antonius Ricky",
      "photoUrl": "https://lh3.googleusercontent.com/a/default-user=s64",
      "userId": "13788256783846812684"
     },
     "user_tz": -420
    },
    "id": "VmX1DsTASonl",
    "outputId": "3144febe-233f-4642-f6d1-020e2ab89896"
   },
   "outputs": [
    {
     "data": {
      "text/html": [
       "<div>\n",
       "<style scoped>\n",
       "    .dataframe tbody tr th:only-of-type {\n",
       "        vertical-align: middle;\n",
       "    }\n",
       "\n",
       "    .dataframe tbody tr th {\n",
       "        vertical-align: top;\n",
       "    }\n",
       "\n",
       "    .dataframe thead th {\n",
       "        text-align: right;\n",
       "    }\n",
       "</style>\n",
       "<table border=\"1\" class=\"dataframe\">\n",
       "  <thead>\n",
       "    <tr style=\"text-align: right;\">\n",
       "      <th></th>\n",
       "      <th>Open</th>\n",
       "      <th>High</th>\n",
       "      <th>Low</th>\n",
       "      <th>Close</th>\n",
       "      <th>Adj Close</th>\n",
       "      <th>Volume</th>\n",
       "    </tr>\n",
       "    <tr>\n",
       "      <th>Date</th>\n",
       "      <th></th>\n",
       "      <th></th>\n",
       "      <th></th>\n",
       "      <th></th>\n",
       "      <th></th>\n",
       "      <th></th>\n",
       "    </tr>\n",
       "  </thead>\n",
       "  <tbody>\n",
       "    <tr>\n",
       "      <th>2010-01-04</th>\n",
       "      <td>1010.0</td>\n",
       "      <td>1010.0</td>\n",
       "      <td>965.0</td>\n",
       "      <td>1010.0</td>\n",
       "      <td>800.359741</td>\n",
       "      <td>77812500</td>\n",
       "    </tr>\n",
       "    <tr>\n",
       "      <th>2010-01-05</th>\n",
       "      <td>1020.0</td>\n",
       "      <td>1020.0</td>\n",
       "      <td>990.0</td>\n",
       "      <td>1020.0</td>\n",
       "      <td>808.284180</td>\n",
       "      <td>44442500</td>\n",
       "    </tr>\n",
       "    <tr>\n",
       "      <th>2010-01-06</th>\n",
       "      <td>990.0</td>\n",
       "      <td>1020.0</td>\n",
       "      <td>990.0</td>\n",
       "      <td>990.0</td>\n",
       "      <td>784.511108</td>\n",
       "      <td>27782500</td>\n",
       "    </tr>\n",
       "    <tr>\n",
       "      <th>2010-01-07</th>\n",
       "      <td>995.0</td>\n",
       "      <td>995.0</td>\n",
       "      <td>965.0</td>\n",
       "      <td>995.0</td>\n",
       "      <td>788.473206</td>\n",
       "      <td>38632500</td>\n",
       "    </tr>\n",
       "    <tr>\n",
       "      <th>2010-01-08</th>\n",
       "      <td>970.0</td>\n",
       "      <td>995.0</td>\n",
       "      <td>970.0</td>\n",
       "      <td>970.0</td>\n",
       "      <td>768.662354</td>\n",
       "      <td>27427500</td>\n",
       "    </tr>\n",
       "    <tr>\n",
       "      <th>...</th>\n",
       "      <td>...</td>\n",
       "      <td>...</td>\n",
       "      <td>...</td>\n",
       "      <td>...</td>\n",
       "      <td>...</td>\n",
       "      <td>...</td>\n",
       "    </tr>\n",
       "    <tr>\n",
       "      <th>2019-11-25</th>\n",
       "      <td>6330.0</td>\n",
       "      <td>6335.0</td>\n",
       "      <td>6275.0</td>\n",
       "      <td>6275.0</td>\n",
       "      <td>5638.061035</td>\n",
       "      <td>55133500</td>\n",
       "    </tr>\n",
       "    <tr>\n",
       "      <th>2019-11-26</th>\n",
       "      <td>6330.0</td>\n",
       "      <td>6330.0</td>\n",
       "      <td>6270.0</td>\n",
       "      <td>6285.0</td>\n",
       "      <td>5647.045410</td>\n",
       "      <td>192783500</td>\n",
       "    </tr>\n",
       "    <tr>\n",
       "      <th>2019-11-27</th>\n",
       "      <td>6270.0</td>\n",
       "      <td>6300.0</td>\n",
       "      <td>6240.0</td>\n",
       "      <td>6300.0</td>\n",
       "      <td>5660.522461</td>\n",
       "      <td>58833500</td>\n",
       "    </tr>\n",
       "    <tr>\n",
       "      <th>2019-11-28</th>\n",
       "      <td>6295.0</td>\n",
       "      <td>6295.0</td>\n",
       "      <td>6245.0</td>\n",
       "      <td>6250.0</td>\n",
       "      <td>5615.598145</td>\n",
       "      <td>44248000</td>\n",
       "    </tr>\n",
       "    <tr>\n",
       "      <th>2019-11-29</th>\n",
       "      <td>6230.0</td>\n",
       "      <td>6295.0</td>\n",
       "      <td>6225.0</td>\n",
       "      <td>6280.0</td>\n",
       "      <td>5642.552734</td>\n",
       "      <td>52954500</td>\n",
       "    </tr>\n",
       "  </tbody>\n",
       "</table>\n",
       "<p>2471 rows × 6 columns</p>\n",
       "</div>"
      ],
      "text/plain": [
       "              Open    High     Low   Close    Adj Close     Volume\n",
       "Date                                                              \n",
       "2010-01-04  1010.0  1010.0   965.0  1010.0   800.359741   77812500\n",
       "2010-01-05  1020.0  1020.0   990.0  1020.0   808.284180   44442500\n",
       "2010-01-06   990.0  1020.0   990.0   990.0   784.511108   27782500\n",
       "2010-01-07   995.0   995.0   965.0   995.0   788.473206   38632500\n",
       "2010-01-08   970.0   995.0   970.0   970.0   768.662354   27427500\n",
       "...            ...     ...     ...     ...          ...        ...\n",
       "2019-11-25  6330.0  6335.0  6275.0  6275.0  5638.061035   55133500\n",
       "2019-11-26  6330.0  6330.0  6270.0  6285.0  5647.045410  192783500\n",
       "2019-11-27  6270.0  6300.0  6240.0  6300.0  5660.522461   58833500\n",
       "2019-11-28  6295.0  6295.0  6245.0  6250.0  5615.598145   44248000\n",
       "2019-11-29  6230.0  6295.0  6225.0  6280.0  5642.552734   52954500\n",
       "\n",
       "[2471 rows x 6 columns]"
      ]
     },
     "execution_count": 128,
     "metadata": {},
     "output_type": "execute_result"
    }
   ],
   "source": [
    "train_data"
   ]
  },
  {
   "cell_type": "code",
   "execution_count": 129,
   "metadata": {},
   "outputs": [
    {
     "data": {
      "text/html": [
       "<div>\n",
       "<style scoped>\n",
       "    .dataframe tbody tr th:only-of-type {\n",
       "        vertical-align: middle;\n",
       "    }\n",
       "\n",
       "    .dataframe tbody tr th {\n",
       "        vertical-align: top;\n",
       "    }\n",
       "\n",
       "    .dataframe thead th {\n",
       "        text-align: right;\n",
       "    }\n",
       "</style>\n",
       "<table border=\"1\" class=\"dataframe\">\n",
       "  <thead>\n",
       "    <tr style=\"text-align: right;\">\n",
       "      <th></th>\n",
       "      <th>Open</th>\n",
       "      <th>High</th>\n",
       "      <th>Low</th>\n",
       "      <th>Close</th>\n",
       "      <th>Adj Close</th>\n",
       "      <th>Volume</th>\n",
       "    </tr>\n",
       "    <tr>\n",
       "      <th>Date</th>\n",
       "      <th></th>\n",
       "      <th></th>\n",
       "      <th></th>\n",
       "      <th></th>\n",
       "      <th></th>\n",
       "      <th></th>\n",
       "    </tr>\n",
       "  </thead>\n",
       "  <tbody>\n",
       "    <tr>\n",
       "      <th>2020-01-02</th>\n",
       "      <td>6695.0</td>\n",
       "      <td>6780.0</td>\n",
       "      <td>6680.0</td>\n",
       "      <td>6690.0</td>\n",
       "      <td>6029.958496</td>\n",
       "      <td>49445000</td>\n",
       "    </tr>\n",
       "    <tr>\n",
       "      <th>2020-01-03</th>\n",
       "      <td>6750.0</td>\n",
       "      <td>6800.0</td>\n",
       "      <td>6725.0</td>\n",
       "      <td>6800.0</td>\n",
       "      <td>6129.105469</td>\n",
       "      <td>47755500</td>\n",
       "    </tr>\n",
       "    <tr>\n",
       "      <th>2020-01-06</th>\n",
       "      <td>6720.0</td>\n",
       "      <td>6750.0</td>\n",
       "      <td>6690.0</td>\n",
       "      <td>6735.0</td>\n",
       "      <td>6070.518555</td>\n",
       "      <td>27300000</td>\n",
       "    </tr>\n",
       "    <tr>\n",
       "      <th>2020-01-07</th>\n",
       "      <td>6735.0</td>\n",
       "      <td>6770.0</td>\n",
       "      <td>6730.0</td>\n",
       "      <td>6740.0</td>\n",
       "      <td>6075.024902</td>\n",
       "      <td>45022500</td>\n",
       "    </tr>\n",
       "    <tr>\n",
       "      <th>2020-01-08</th>\n",
       "      <td>6670.0</td>\n",
       "      <td>6745.0</td>\n",
       "      <td>6670.0</td>\n",
       "      <td>6680.0</td>\n",
       "      <td>6020.943848</td>\n",
       "      <td>53692500</td>\n",
       "    </tr>\n",
       "    <tr>\n",
       "      <th>...</th>\n",
       "      <td>...</td>\n",
       "      <td>...</td>\n",
       "      <td>...</td>\n",
       "      <td>...</td>\n",
       "      <td>...</td>\n",
       "      <td>...</td>\n",
       "    </tr>\n",
       "    <tr>\n",
       "      <th>2022-11-24</th>\n",
       "      <td>8975.0</td>\n",
       "      <td>9000.0</td>\n",
       "      <td>8950.0</td>\n",
       "      <td>9000.0</td>\n",
       "      <td>8550.542969</td>\n",
       "      <td>53520800</td>\n",
       "    </tr>\n",
       "    <tr>\n",
       "      <th>2022-11-25</th>\n",
       "      <td>9000.0</td>\n",
       "      <td>9000.0</td>\n",
       "      <td>8900.0</td>\n",
       "      <td>8975.0</td>\n",
       "      <td>8526.791016</td>\n",
       "      <td>75048300</td>\n",
       "    </tr>\n",
       "    <tr>\n",
       "      <th>2022-11-28</th>\n",
       "      <td>9050.0</td>\n",
       "      <td>9100.0</td>\n",
       "      <td>8975.0</td>\n",
       "      <td>9025.0</td>\n",
       "      <td>8574.294922</td>\n",
       "      <td>96209700</td>\n",
       "    </tr>\n",
       "    <tr>\n",
       "      <th>2022-11-29</th>\n",
       "      <td>8975.0</td>\n",
       "      <td>9075.0</td>\n",
       "      <td>8925.0</td>\n",
       "      <td>8975.0</td>\n",
       "      <td>8526.791016</td>\n",
       "      <td>91562100</td>\n",
       "    </tr>\n",
       "    <tr>\n",
       "      <th>2022-11-30</th>\n",
       "      <td>8875.0</td>\n",
       "      <td>9400.0</td>\n",
       "      <td>8850.0</td>\n",
       "      <td>9300.0</td>\n",
       "      <td>8835.560547</td>\n",
       "      <td>644359600</td>\n",
       "    </tr>\n",
       "  </tbody>\n",
       "</table>\n",
       "<p>713 rows × 6 columns</p>\n",
       "</div>"
      ],
      "text/plain": [
       "              Open    High     Low   Close    Adj Close     Volume\n",
       "Date                                                              \n",
       "2020-01-02  6695.0  6780.0  6680.0  6690.0  6029.958496   49445000\n",
       "2020-01-03  6750.0  6800.0  6725.0  6800.0  6129.105469   47755500\n",
       "2020-01-06  6720.0  6750.0  6690.0  6735.0  6070.518555   27300000\n",
       "2020-01-07  6735.0  6770.0  6730.0  6740.0  6075.024902   45022500\n",
       "2020-01-08  6670.0  6745.0  6670.0  6680.0  6020.943848   53692500\n",
       "...            ...     ...     ...     ...          ...        ...\n",
       "2022-11-24  8975.0  9000.0  8950.0  9000.0  8550.542969   53520800\n",
       "2022-11-25  9000.0  9000.0  8900.0  8975.0  8526.791016   75048300\n",
       "2022-11-28  9050.0  9100.0  8975.0  9025.0  8574.294922   96209700\n",
       "2022-11-29  8975.0  9075.0  8925.0  8975.0  8526.791016   91562100\n",
       "2022-11-30  8875.0  9400.0  8850.0  9300.0  8835.560547  644359600\n",
       "\n",
       "[713 rows x 6 columns]"
      ]
     },
     "execution_count": 129,
     "metadata": {},
     "output_type": "execute_result"
    }
   ],
   "source": [
    "test_data"
   ]
  },
  {
   "cell_type": "code",
   "execution_count": 130,
   "metadata": {
    "colab": {
     "base_uri": "https://localhost:8080/",
     "height": 405
    },
    "executionInfo": {
     "elapsed": 554,
     "status": "ok",
     "timestamp": 1640161282459,
     "user": {
      "displayName": "Antonius Ricky",
      "photoUrl": "https://lh3.googleusercontent.com/a/default-user=s64",
      "userId": "13788256783846812684"
     },
     "user_tz": -420
    },
    "id": "iTfQUuNb44zs",
    "outputId": "c7ebbb22-9782-4799-dc1c-417b9e6b1018"
   },
   "outputs": [
    {
     "data": {
      "image/png": "[encoded data removed]",
      "text/plain": [
       "<Figure size 1200x600 with 1 Axes>"
      ]
     },
     "metadata": {},
     "output_type": "display_data"
    }
   ],
   "source": [
    "from matplotlib import pyplot as plt\n",
    "\n",
    "style.use('seaborn')\n",
    "plt.figure(figsize = (12,6))\n",
    "plt.plot(train_data[\"Adj Close\"])\n",
    "plt.title(\"Stock Price Change\")\n",
    "plt.xlabel(\"Date\", fontsize = 12)\n",
    "plt.ylabel(\"Adjusted Close\", fontsize = 12)\n",
    "plt.show()"
   ]
  },
  {
   "cell_type": "code",
   "execution_count": 131,
   "metadata": {
    "colab": {
     "base_uri": "https://localhost:8080/",
     "height": 398
    },
    "executionInfo": {
     "elapsed": 551,
     "status": "ok",
     "timestamp": 1640161282991,
     "user": {
      "displayName": "Antonius Ricky",
      "photoUrl": "https://lh3.googleusercontent.com/a/default-user=s64",
      "userId": "13788256783846812684"
     },
     "user_tz": -420
    },
    "id": "spaogdvz0DDk",
    "outputId": "1dff6daf-8b19-49eb-c32a-8b5b28dd3f4d"
   },
   "outputs": [
    {
     "data": {
      "text/plain": [
       "<matplotlib.legend.Legend at 0x7fe3a0151c70>"
      ]
     },
     "execution_count": 131,
     "metadata": {},
     "output_type": "execute_result"
    },
    {
     "data": {
      "image/png": "[encoded data removed]",
      "text/plain": [
       "<Figure size 1200x600 with 1 Axes>"
      ]
     },
     "metadata": {},
     "output_type": "display_data"
    }
   ],
   "source": [
    "# Rolling mean\n",
    "close_price = train_data['Adj Close']\n",
    "moving_avg = close_price.rolling(window=100).mean()\n",
    "\n",
    "plt.figure(figsize = (12,6))\n",
    "plt.title(\"Stock Price Change With Moving Average of 100 Days\")\n",
    "close_price.plot(label='Stock Price')\n",
    "moving_avg.plot(label='Moving AVG Price')\n",
    "plt.xlabel('Date')\n",
    "plt.ylabel('Adjusted Close Price')\n",
    "plt.legend()"
   ]
  },
  {
   "cell_type": "code",
   "execution_count": 132,
   "metadata": {
    "colab": {
     "base_uri": "https://localhost:8080/",
     "height": 419
    },
    "executionInfo": {
     "elapsed": 31,
     "status": "ok",
     "timestamp": 1640161282995,
     "user": {
      "displayName": "Antonius Ricky",
      "photoUrl": "https://lh3.googleusercontent.com/a/default-user=s64",
      "userId": "13788256783846812684"
     },
     "user_tz": -420
    },
    "id": "0-65YcKH-xji",
    "outputId": "2ae2c753-dcbf-400c-ea82-923fbd85fd8e"
   },
   "outputs": [
    {
     "data": {
      "text/html": [
       "<div>\n",
       "<style scoped>\n",
       "    .dataframe tbody tr th:only-of-type {\n",
       "        vertical-align: middle;\n",
       "    }\n",
       "\n",
       "    .dataframe tbody tr th {\n",
       "        vertical-align: top;\n",
       "    }\n",
       "\n",
       "    .dataframe thead th {\n",
       "        text-align: right;\n",
       "    }\n",
       "</style>\n",
       "<table border=\"1\" class=\"dataframe\">\n",
       "  <thead>\n",
       "    <tr style=\"text-align: right;\">\n",
       "      <th></th>\n",
       "      <th>Date</th>\n",
       "      <th>Open</th>\n",
       "      <th>High</th>\n",
       "      <th>Low</th>\n",
       "      <th>Close</th>\n",
       "      <th>Adj Close</th>\n",
       "      <th>Volume</th>\n",
       "    </tr>\n",
       "  </thead>\n",
       "  <tbody>\n",
       "    <tr>\n",
       "      <th>0</th>\n",
       "      <td>14613.0</td>\n",
       "      <td>1010.0</td>\n",
       "      <td>1010.0</td>\n",
       "      <td>965.0</td>\n",
       "      <td>1010.0</td>\n",
       "      <td>800.359741</td>\n",
       "      <td>77812500</td>\n",
       "    </tr>\n",
       "    <tr>\n",
       "      <th>1</th>\n",
       "      <td>14614.0</td>\n",
       "      <td>1020.0</td>\n",
       "      <td>1020.0</td>\n",
       "      <td>990.0</td>\n",
       "      <td>1020.0</td>\n",
       "      <td>808.284180</td>\n",
       "      <td>44442500</td>\n",
       "    </tr>\n",
       "    <tr>\n",
       "      <th>2</th>\n",
       "      <td>14615.0</td>\n",
       "      <td>990.0</td>\n",
       "      <td>1020.0</td>\n",
       "      <td>990.0</td>\n",
       "      <td>990.0</td>\n",
       "      <td>784.511108</td>\n",
       "      <td>27782500</td>\n",
       "    </tr>\n",
       "    <tr>\n",
       "      <th>3</th>\n",
       "      <td>14616.0</td>\n",
       "      <td>995.0</td>\n",
       "      <td>995.0</td>\n",
       "      <td>965.0</td>\n",
       "      <td>995.0</td>\n",
       "      <td>788.473206</td>\n",
       "      <td>38632500</td>\n",
       "    </tr>\n",
       "    <tr>\n",
       "      <th>4</th>\n",
       "      <td>14617.0</td>\n",
       "      <td>970.0</td>\n",
       "      <td>995.0</td>\n",
       "      <td>970.0</td>\n",
       "      <td>970.0</td>\n",
       "      <td>768.662354</td>\n",
       "      <td>27427500</td>\n",
       "    </tr>\n",
       "    <tr>\n",
       "      <th>...</th>\n",
       "      <td>...</td>\n",
       "      <td>...</td>\n",
       "      <td>...</td>\n",
       "      <td>...</td>\n",
       "      <td>...</td>\n",
       "      <td>...</td>\n",
       "      <td>...</td>\n",
       "    </tr>\n",
       "    <tr>\n",
       "      <th>2466</th>\n",
       "      <td>18225.0</td>\n",
       "      <td>6330.0</td>\n",
       "      <td>6335.0</td>\n",
       "      <td>6275.0</td>\n",
       "      <td>6275.0</td>\n",
       "      <td>5638.061035</td>\n",
       "      <td>55133500</td>\n",
       "    </tr>\n",
       "    <tr>\n",
       "      <th>2467</th>\n",
       "      <td>18226.0</td>\n",
       "      <td>6330.0</td>\n",
       "      <td>6330.0</td>\n",
       "      <td>6270.0</td>\n",
       "      <td>6285.0</td>\n",
       "      <td>5647.045410</td>\n",
       "      <td>192783500</td>\n",
       "    </tr>\n",
       "    <tr>\n",
       "      <th>2468</th>\n",
       "      <td>18227.0</td>\n",
       "      <td>6270.0</td>\n",
       "      <td>6300.0</td>\n",
       "      <td>6240.0</td>\n",
       "      <td>6300.0</td>\n",
       "      <td>5660.522461</td>\n",
       "      <td>58833500</td>\n",
       "    </tr>\n",
       "    <tr>\n",
       "      <th>2469</th>\n",
       "      <td>18228.0</td>\n",
       "      <td>6295.0</td>\n",
       "      <td>6295.0</td>\n",
       "      <td>6245.0</td>\n",
       "      <td>6250.0</td>\n",
       "      <td>5615.598145</td>\n",
       "      <td>44248000</td>\n",
       "    </tr>\n",
       "    <tr>\n",
       "      <th>2470</th>\n",
       "      <td>18229.0</td>\n",
       "      <td>6230.0</td>\n",
       "      <td>6295.0</td>\n",
       "      <td>6225.0</td>\n",
       "      <td>6280.0</td>\n",
       "      <td>5642.552734</td>\n",
       "      <td>52954500</td>\n",
       "    </tr>\n",
       "  </tbody>\n",
       "</table>\n",
       "<p>2471 rows × 7 columns</p>\n",
       "</div>"
      ],
      "text/plain": [
       "         Date    Open    High     Low   Close    Adj Close     Volume\n",
       "0     14613.0  1010.0  1010.0   965.0  1010.0   800.359741   77812500\n",
       "1     14614.0  1020.0  1020.0   990.0  1020.0   808.284180   44442500\n",
       "2     14615.0   990.0  1020.0   990.0   990.0   784.511108   27782500\n",
       "3     14616.0   995.0   995.0   965.0   995.0   788.473206   38632500\n",
       "4     14617.0   970.0   995.0   970.0   970.0   768.662354   27427500\n",
       "...       ...     ...     ...     ...     ...          ...        ...\n",
       "2466  18225.0  6330.0  6335.0  6275.0  6275.0  5638.061035   55133500\n",
       "2467  18226.0  6330.0  6330.0  6270.0  6285.0  5647.045410  192783500\n",
       "2468  18227.0  6270.0  6300.0  6240.0  6300.0  5660.522461   58833500\n",
       "2469  18228.0  6295.0  6295.0  6245.0  6250.0  5615.598145   44248000\n",
       "2470  18229.0  6230.0  6295.0  6225.0  6280.0  5642.552734   52954500\n",
       "\n",
       "[2471 rows x 7 columns]"
      ]
     },
     "execution_count": 132,
     "metadata": {},
     "output_type": "execute_result"
    }
   ],
   "source": [
    "import matplotlib.dates as mdates\n",
    "\n",
    "# change the dates into ints for training \n",
    "indxed_dates = train_data.copy()\n",
    "indxed_dates = indxed_dates.reset_index()\n",
    "\n",
    "# Store the original dates for plotting the predicitons\n",
    "actual_dates = indxed_dates['Date']\n",
    "\n",
    "# convert to ints\n",
    "indxed_dates['Date'] = indxed_dates['Date'].map(mdates.date2num)\n",
    "\n",
    "indxed_dates"
   ]
  },
  {
   "cell_type": "code",
   "execution_count": 133,
   "metadata": {
    "executionInfo": {
     "elapsed": 29,
     "status": "ok",
     "timestamp": 1640161282997,
     "user": {
      "displayName": "Antonius Ricky",
      "photoUrl": "https://lh3.googleusercontent.com/a/default-user=s64",
      "userId": "13788256783846812684"
     },
     "user_tz": -420
    },
    "id": "HPCOfb38vwHu"
   },
   "outputs": [],
   "source": [
    "# Use sklearn support vector regression to predicit our data:\n",
    "from sklearn.svm import SVR\n",
    "\n",
    "dates_data = indxed_dates['Date'].to_numpy()\n",
    "prices_data = train_data['Adj Close'].to_numpy()\n",
    "\n",
    "#Convert to 1d Vector\n",
    "dates_data = np.reshape(dates_data, (len(dates_data), 1))\n",
    "prices_data = np.reshape(prices_data, (len(prices_data), 1))"
   ]
  },
  {
   "cell_type": "code",
   "execution_count": 134,
   "metadata": {
    "colab": {
     "base_uri": "https://localhost:8080/"
    },
    "executionInfo": {
     "elapsed": 2028,
     "status": "ok",
     "timestamp": 1640161284997,
     "user": {
      "displayName": "Antonius Ricky",
      "photoUrl": "https://lh3.googleusercontent.com/a/default-user=s64",
      "userId": "13788256783846812684"
     },
     "user_tz": -420
    },
    "id": "uVH5zOF5jVM1",
    "outputId": "03a375d9-2f2f-4252-b84d-d01318809274"
   },
   "outputs": [
    {
     "name": "stderr",
     "output_type": "stream",
     "text": [
      "/Users/minseokim/opt/anaconda3/lib/python3.9/site-packages/sklearn/utils/validation.py:993: DataConversionWarning: A column-vector y was passed when a 1d array was expected. Please change the shape of y to (n_samples, ), for example using ravel().\n",
      "  y = column_or_1d(y, warn=True)\n"
     ]
    }
   ],
   "source": [
    "SVR_linear = make_pipeline(StandardScaler(), SVR(kernel='linear', C=1e4))\n",
    "SVR_linear.fit(dates_data, prices_data)\n",
    "SVR_linear_train = SVR_linear.predict(dates_data)"
   ]
  },
  {
   "cell_type": "code",
   "execution_count": 135,
   "metadata": {
    "colab": {
     "base_uri": "https://localhost:8080/"
    },
    "executionInfo": {
     "elapsed": 20,
     "status": "ok",
     "timestamp": 1640161285000,
     "user": {
      "displayName": "Antonius Ricky",
      "photoUrl": "https://lh3.googleusercontent.com/a/default-user=s64",
      "userId": "13788256783846812684"
     },
     "user_tz": -420
    },
    "id": "o--RRwzd9m4W",
    "outputId": "886ef834-e1b1-4ad0-bca6-25ea19879d67"
   },
   "outputs": [
    {
     "data": {
      "text/plain": [
       "array([ 482.89962887,  483.91838414,  484.93713941, ..., 4164.68116876,\n",
       "       4165.69992404, 4166.71867929])"
      ]
     },
     "execution_count": 135,
     "metadata": {},
     "output_type": "execute_result"
    }
   ],
   "source": [
    "SVR_linear_train"
   ]
  },
  {
   "cell_type": "code",
   "execution_count": 136,
   "metadata": {
    "colab": {
     "base_uri": "https://localhost:8080/"
    },
    "executionInfo": {
     "elapsed": 54075,
     "status": "ok",
     "timestamp": 1640161339059,
     "user": {
      "displayName": "Antonius Ricky",
      "photoUrl": "https://lh3.googleusercontent.com/a/default-user=s64",
      "userId": "13788256783846812684"
     },
     "user_tz": -420
    },
    "id": "xt8rEfZU3Aep",
    "outputId": "6f2e2ae2-3605-410d-af53-7df95e2186c7"
   },
   "outputs": [
    {
     "name": "stderr",
     "output_type": "stream",
     "text": [
      "/Users/minseokim/opt/anaconda3/lib/python3.9/site-packages/sklearn/utils/validation.py:993: DataConversionWarning: A column-vector y was passed when a 1d array was expected. Please change the shape of y to (n_samples, ), for example using ravel().\n",
      "  y = column_or_1d(y, warn=True)\n"
     ]
    }
   ],
   "source": [
    "SVR_rbfk = SVR(kernel= 'rbf', C= 1e3, gamma= 0.1)\n",
    "SVR_rbfk.fit(dates_data, prices_data)\n",
    "SVR_rbfk_train = SVR_rbfk.predict(dates_data)"
   ]
  },
  {
   "cell_type": "code",
   "execution_count": 137,
   "metadata": {
    "colab": {
     "base_uri": "https://localhost:8080/"
    },
    "executionInfo": {
     "elapsed": 30,
     "status": "ok",
     "timestamp": 1640161339061,
     "user": {
      "displayName": "Antonius Ricky",
      "photoUrl": "https://lh3.googleusercontent.com/a/default-user=s64",
      "userId": "13788256783846812684"
     },
     "user_tz": -420
    },
    "id": "7WZjR3el98Ti",
    "outputId": "7c2dabcf-abff-4084-f8d7-17735a39967f"
   },
   "outputs": [
    {
     "data": {
      "text/plain": [
       "array([ 937.78884175,  808.3846757 ,  784.41120979, ..., 5660.42219967,\n",
       "       5439.03769374, 4955.63778973])"
      ]
     },
     "execution_count": 137,
     "metadata": {},
     "output_type": "execute_result"
    }
   ],
   "source": [
    "SVR_rbfk_train"
   ]
  },
  {
   "cell_type": "code",
   "execution_count": 138,
   "metadata": {
    "colab": {
     "base_uri": "https://localhost:8080/"
    },
    "executionInfo": {
     "elapsed": 1721,
     "status": "ok",
     "timestamp": 1640161340762,
     "user": {
      "displayName": "Antonius Ricky",
      "photoUrl": "https://lh3.googleusercontent.com/a/default-user=s64",
      "userId": "13788256783846812684"
     },
     "user_tz": -420
    },
    "id": "_BL6OA5QA-p6",
    "outputId": "a4e31394-2a54-4be8-e16c-e3accd6fa307"
   },
   "outputs": [
    {
     "name": "stderr",
     "output_type": "stream",
     "text": [
      "/Users/minseokim/opt/anaconda3/lib/python3.9/site-packages/sklearn/utils/validation.py:993: DataConversionWarning: A column-vector y was passed when a 1d array was expected. Please change the shape of y to (n_samples, ), for example using ravel().\n",
      "  y = column_or_1d(y, warn=True)\n"
     ]
    }
   ],
   "source": [
    "SVR_poly = make_pipeline(StandardScaler(), SVR(kernel='poly', C=1e3, degree=3, epsilon=0.1, coef0=1))\n",
    "SVR_poly.fit(dates_data, prices_data)\n",
    "SVR_poly_train = SVR_poly.predict(dates_data)"
   ]
  },
  {
   "cell_type": "code",
   "execution_count": 139,
   "metadata": {
    "colab": {
     "base_uri": "https://localhost:8080/"
    },
    "executionInfo": {
     "elapsed": 30,
     "status": "ok",
     "timestamp": 1640161340765,
     "user": {
      "displayName": "Antonius Ricky",
      "photoUrl": "https://lh3.googleusercontent.com/a/default-user=s64",
      "userId": "13788256783846812684"
     },
     "user_tz": -420
    },
    "id": "fISKPqaeTpKW",
    "outputId": "ae26e5f5-51e8-49f1-a58e-9ac6f7e310f9"
   },
   "outputs": [
    {
     "data": {
      "text/plain": [
       "array([ 734.63959779,  735.76168918,  736.88265013, ..., 5794.81955959,\n",
       "       5798.82071552, 5802.82459624])"
      ]
     },
     "execution_count": 139,
     "metadata": {},
     "output_type": "execute_result"
    }
   ],
   "source": [
    "SVR_poly_train"
   ]
  },
  {
   "cell_type": "code",
   "execution_count": 140,
   "metadata": {
    "colab": {
     "base_uri": "https://localhost:8080/",
     "height": 403
    },
    "executionInfo": {
     "elapsed": 29,
     "status": "ok",
     "timestamp": 1640161340770,
     "user": {
      "displayName": "Antonius Ricky",
      "photoUrl": "https://lh3.googleusercontent.com/a/default-user=s64",
      "userId": "13788256783846812684"
     },
     "user_tz": -420
    },
    "id": "CQQuW-9y22iG",
    "outputId": "32ac3cc8-4d44-44f8-f4ec-2126eaa477c8"
   },
   "outputs": [
    {
     "data": {
      "image/png": "[encoded data removed]",
      "text/plain": [
       "<Figure size 1200x600 with 1 Axes>"
      ]
     },
     "metadata": {},
     "output_type": "display_data"
    }
   ],
   "source": [
    "plt.figure(figsize = (12,6))\n",
    "plt.title('RBF - Stock Market Prediction Using 2014 - 2019 Data')\n",
    "plt.plot(dates_data, prices_data, color= 'red', label= 'Real Stock Price')\n",
    "plt.plot(actual_dates, SVR_rbfk_train, color= 'blue', label= 'RBF model Predicted Price') \n",
    "plt.plot(actual_dates, SVR_linear_train, color= 'green', label= 'Linear model Predicted Price') \n",
    "plt.plot(actual_dates, SVR_poly_train, color= 'yellow', label= 'Poly model Predicted Price') \n",
    "plt.xlabel('Date')\n",
    "plt.ylabel('Stock Price')\n",
    "plt.legend()\n",
    "plt.show()"
   ]
  },
  {
   "cell_type": "code",
   "execution_count": 141,
   "metadata": {
    "executionInfo": {
     "elapsed": 1044,
     "status": "ok",
     "timestamp": 1640161341790,
     "user": {
      "displayName": "Antonius Ricky",
      "photoUrl": "https://lh3.googleusercontent.com/a/default-user=s64",
      "userId": "13788256783846812684"
     },
     "user_tz": -420
    },
    "id": "hVVl55_8D18s"
   },
   "outputs": [],
   "source": [
    "# change the dates into ints for training \n",
    "test_indxed_dates = test_data.copy()\n",
    "test_indxed_dates = test_indxed_dates.reset_index()\n",
    "\n",
    "# Store the original dates for plotting the predicitons\n",
    "test_actual_dates = test_indxed_dates['Date']\n",
    "\n",
    "# convert to ints\n",
    "test_indxed_dates['Date'] = test_indxed_dates['Date'].map(mdates.date2num)"
   ]
  },
  {
   "cell_type": "code",
   "execution_count": 142,
   "metadata": {
    "colab": {
     "base_uri": "https://localhost:8080/",
     "height": 419
    },
    "executionInfo": {
     "elapsed": 102,
     "status": "ok",
     "timestamp": 1640161341796,
     "user": {
      "displayName": "Antonius Ricky",
      "photoUrl": "https://lh3.googleusercontent.com/a/default-user=s64",
      "userId": "13788256783846812684"
     },
     "user_tz": -420
    },
    "id": "81uyyUEDVquq",
    "outputId": "2598c020-bbcd-4ac1-df90-a163a4874e06"
   },
   "outputs": [
    {
     "data": {
      "text/html": [
       "<div>\n",
       "<style scoped>\n",
       "    .dataframe tbody tr th:only-of-type {\n",
       "        vertical-align: middle;\n",
       "    }\n",
       "\n",
       "    .dataframe tbody tr th {\n",
       "        vertical-align: top;\n",
       "    }\n",
       "\n",
       "    .dataframe thead th {\n",
       "        text-align: right;\n",
       "    }\n",
       "</style>\n",
       "<table border=\"1\" class=\"dataframe\">\n",
       "  <thead>\n",
       "    <tr style=\"text-align: right;\">\n",
       "      <th></th>\n",
       "      <th>Date</th>\n",
       "      <th>Open</th>\n",
       "      <th>High</th>\n",
       "      <th>Low</th>\n",
       "      <th>Close</th>\n",
       "      <th>Adj Close</th>\n",
       "      <th>Volume</th>\n",
       "    </tr>\n",
       "  </thead>\n",
       "  <tbody>\n",
       "    <tr>\n",
       "      <th>0</th>\n",
       "      <td>18263.0</td>\n",
       "      <td>6695.0</td>\n",
       "      <td>6780.0</td>\n",
       "      <td>6680.0</td>\n",
       "      <td>6690.0</td>\n",
       "      <td>6029.958496</td>\n",
       "      <td>49445000</td>\n",
       "    </tr>\n",
       "    <tr>\n",
       "      <th>1</th>\n",
       "      <td>18264.0</td>\n",
       "      <td>6750.0</td>\n",
       "      <td>6800.0</td>\n",
       "      <td>6725.0</td>\n",
       "      <td>6800.0</td>\n",
       "      <td>6129.105469</td>\n",
       "      <td>47755500</td>\n",
       "    </tr>\n",
       "    <tr>\n",
       "      <th>2</th>\n",
       "      <td>18267.0</td>\n",
       "      <td>6720.0</td>\n",
       "      <td>6750.0</td>\n",
       "      <td>6690.0</td>\n",
       "      <td>6735.0</td>\n",
       "      <td>6070.518555</td>\n",
       "      <td>27300000</td>\n",
       "    </tr>\n",
       "    <tr>\n",
       "      <th>3</th>\n",
       "      <td>18268.0</td>\n",
       "      <td>6735.0</td>\n",
       "      <td>6770.0</td>\n",
       "      <td>6730.0</td>\n",
       "      <td>6740.0</td>\n",
       "      <td>6075.024902</td>\n",
       "      <td>45022500</td>\n",
       "    </tr>\n",
       "    <tr>\n",
       "      <th>4</th>\n",
       "      <td>18269.0</td>\n",
       "      <td>6670.0</td>\n",
       "      <td>6745.0</td>\n",
       "      <td>6670.0</td>\n",
       "      <td>6680.0</td>\n",
       "      <td>6020.943848</td>\n",
       "      <td>53692500</td>\n",
       "    </tr>\n",
       "    <tr>\n",
       "      <th>...</th>\n",
       "      <td>...</td>\n",
       "      <td>...</td>\n",
       "      <td>...</td>\n",
       "      <td>...</td>\n",
       "      <td>...</td>\n",
       "      <td>...</td>\n",
       "      <td>...</td>\n",
       "    </tr>\n",
       "    <tr>\n",
       "      <th>708</th>\n",
       "      <td>19320.0</td>\n",
       "      <td>8975.0</td>\n",
       "      <td>9000.0</td>\n",
       "      <td>8950.0</td>\n",
       "      <td>9000.0</td>\n",
       "      <td>8550.542969</td>\n",
       "      <td>53520800</td>\n",
       "    </tr>\n",
       "    <tr>\n",
       "      <th>709</th>\n",
       "      <td>19321.0</td>\n",
       "      <td>9000.0</td>\n",
       "      <td>9000.0</td>\n",
       "      <td>8900.0</td>\n",
       "      <td>8975.0</td>\n",
       "      <td>8526.791016</td>\n",
       "      <td>75048300</td>\n",
       "    </tr>\n",
       "    <tr>\n",
       "      <th>710</th>\n",
       "      <td>19324.0</td>\n",
       "      <td>9050.0</td>\n",
       "      <td>9100.0</td>\n",
       "      <td>8975.0</td>\n",
       "      <td>9025.0</td>\n",
       "      <td>8574.294922</td>\n",
       "      <td>96209700</td>\n",
       "    </tr>\n",
       "    <tr>\n",
       "      <th>711</th>\n",
       "      <td>19325.0</td>\n",
       "      <td>8975.0</td>\n",
       "      <td>9075.0</td>\n",
       "      <td>8925.0</td>\n",
       "      <td>8975.0</td>\n",
       "      <td>8526.791016</td>\n",
       "      <td>91562100</td>\n",
       "    </tr>\n",
       "    <tr>\n",
       "      <th>712</th>\n",
       "      <td>19326.0</td>\n",
       "      <td>8875.0</td>\n",
       "      <td>9400.0</td>\n",
       "      <td>8850.0</td>\n",
       "      <td>9300.0</td>\n",
       "      <td>8835.560547</td>\n",
       "      <td>644359600</td>\n",
       "    </tr>\n",
       "  </tbody>\n",
       "</table>\n",
       "<p>713 rows × 7 columns</p>\n",
       "</div>"
      ],
      "text/plain": [
       "        Date    Open    High     Low   Close    Adj Close     Volume\n",
       "0    18263.0  6695.0  6780.0  6680.0  6690.0  6029.958496   49445000\n",
       "1    18264.0  6750.0  6800.0  6725.0  6800.0  6129.105469   47755500\n",
       "2    18267.0  6720.0  6750.0  6690.0  6735.0  6070.518555   27300000\n",
       "3    18268.0  6735.0  6770.0  6730.0  6740.0  6075.024902   45022500\n",
       "4    18269.0  6670.0  6745.0  6670.0  6680.0  6020.943848   53692500\n",
       "..       ...     ...     ...     ...     ...          ...        ...\n",
       "708  19320.0  8975.0  9000.0  8950.0  9000.0  8550.542969   53520800\n",
       "709  19321.0  9000.0  9000.0  8900.0  8975.0  8526.791016   75048300\n",
       "710  19324.0  9050.0  9100.0  8975.0  9025.0  8574.294922   96209700\n",
       "711  19325.0  8975.0  9075.0  8925.0  8975.0  8526.791016   91562100\n",
       "712  19326.0  8875.0  9400.0  8850.0  9300.0  8835.560547  644359600\n",
       "\n",
       "[713 rows x 7 columns]"
      ]
     },
     "execution_count": 142,
     "metadata": {},
     "output_type": "execute_result"
    }
   ],
   "source": [
    "test_indxed_dates"
   ]
  },
  {
   "cell_type": "code",
   "execution_count": 143,
   "metadata": {
    "executionInfo": {
     "elapsed": 101,
     "status": "ok",
     "timestamp": 1640161341798,
     "user": {
      "displayName": "Antonius Ricky",
      "photoUrl": "https://lh3.googleusercontent.com/a/default-user=s64",
      "userId": "13788256783846812684"
     },
     "user_tz": -420
    },
    "id": "v7TgNJfcEm3M"
   },
   "outputs": [],
   "source": [
    "test_dates_data = test_indxed_dates['Date'].to_numpy()\n",
    "test_prices_data = test_data['Adj Close'].to_numpy()\n",
    "\n",
    "#Convert to 1d Vector\n",
    "test_dates_data = np.reshape(test_dates_data, (len(test_dates_data), 1))\n",
    "test_prices_data = np.reshape(test_prices_data, (len(test_prices_data), 1))"
   ]
  },
  {
   "cell_type": "code",
   "execution_count": 144,
   "metadata": {
    "colab": {
     "base_uri": "https://localhost:8080/"
    },
    "executionInfo": {
     "elapsed": 104,
     "status": "ok",
     "timestamp": 1640161341802,
     "user": {
      "displayName": "Antonius Ricky",
      "photoUrl": "https://lh3.googleusercontent.com/a/default-user=s64",
      "userId": "13788256783846812684"
     },
     "user_tz": -420
    },
    "id": "-KRd6QaFmvTI",
    "outputId": "29b159f7-14b8-4a55-a2f6-12f134cade4f"
   },
   "outputs": [
    {
     "name": "stderr",
     "output_type": "stream",
     "text": [
      "/Users/minseokim/opt/anaconda3/lib/python3.9/site-packages/sklearn/utils/validation.py:993: DataConversionWarning: A column-vector y was passed when a 1d array was expected. Please change the shape of y to (n_samples, ), for example using ravel().\n",
      "  y = column_or_1d(y, warn=True)\n"
     ]
    },
    {
     "data": {
      "text/plain": [
       "array([6055.47722527, 6129.00569867, 6070.61851023, 6049.61030199,\n",
       "       6062.76369238, 6074.92527823, 6061.60444095, 6079.63151519,\n",
       "       6128.95615394, 6160.55180237, 6178.96968062, 6196.60598207,\n",
       "       6160.7517137 , 6156.24583842, 6165.25822266, 6160.48803981,\n",
       "       6139.96822868, 6165.05856189, 6164.36869002, 6115.48540368,\n",
       "       6001.55349683, 5844.98518662, 5804.72258632, 5948.93695377,\n",
       "       6050.83780625, 6086.74113779, 6092.95174912, 6115.48537353,\n",
       "       6121.36608931, 6129.00551926, 6119.99168147, 6090.40333812,\n",
       "       6056.89841554, 6043.33163322, 6016.5314234 , 5988.07492463,\n",
       "       5962.25773298, 5881.33718789, 5840.86434704, 5786.69707335,\n",
       "       5728.67753787, 5669.32219147, 5586.10874609, 5696.36279716,\n",
       "       5804.72276999, 5800.01655855, 5660.48800256, 5354.36034979,\n",
       "       5340.3329441 , 5242.61101559, 5093.14355051, 5011.54499229,\n",
       "       5011.34486566, 4774.52977914, 4506.79568174, 4335.48923504,\n",
       "       4267.94049094, 4095.62090436, 4201.10072816, 4758.97007638,\n",
       "       4966.47776216, 5011.03498934, 4979.79812197, 4939.23817411,\n",
       "       4915.05601515, 4952.95746269, 5169.07919094, 5128.50702615,\n",
       "       5078.94458716, 5061.17878608, 4995.85981464, 4970.98458585,\n",
       "       4943.74476763, 4911.35025868, 4889.86383864, 4826.7700776 ,\n",
       "       4769.05446286, 4717.45616808, 4694.73450574, 4707.19656968,\n",
       "       4547.82679805, 4461.00140736, 4527.19818928, 4740.37974661,\n",
       "       4849.81181754, 4846.02657111, 4910.00938363, 4952.83584406,\n",
       "       4855.19480463, 4786.42604365, 4669.63782782, 4549.33605819,\n",
       "       4488.50798969, 4369.02694485, 4308.88148388, 4416.08470774,\n",
       "       4695.05217053, 4673.39691269, 4822.62463054, 5029.50987948,\n",
       "       5290.53604486, 5299.70086688, 5308.87047436, 5323.07938283,\n",
       "       5409.73090884, 5382.87712412, 5318.04001582, 5245.53602978,\n",
       "       5199.03993929, 5269.50277696, 5281.36325284, 5244.6858443 ,\n",
       "       5177.0463677 , 5111.93336307, 5079.8397916 , 5154.01504278,\n",
       "       5227.02554642, 5249.47121279, 5225.09939453, 5203.42401082,\n",
       "       5249.20767487, 5318.23979989, 5382.2241501 , 5414.25190933,\n",
       "       5442.025252  , 5498.52713602, 5576.6199926 , 5648.05536839,\n",
       "       5684.80895735, 5664.04842757, 5684.80866487, 5694.81531229,\n",
       "       5666.47040424, 5611.65440014, 5629.99275704, 5684.80826497,\n",
       "       5701.50055896, 5662.72522414, 5593.31671396, 5593.31655067,\n",
       "       5650.93276991, 5696.08275656, 5721.48561622, 5656.97441411,\n",
       "       5693.97783995, 5728.64074992, 5718.95497227, 5666.6707111 ,\n",
       "       5611.65460314, 5662.08490684, 5725.98475421, 5797.72910992,\n",
       "       5872.77657911, 5831.71501453, 5804.2074564 , 5790.45370618,\n",
       "       5836.10023326, 5922.22734715, 5979.91331031, 5955.50003453,\n",
       "       5811.12999542, 5891.78628966, 5960.41679842, 5945.13108587,\n",
       "       5850.05271435, 5793.17358816, 5808.59243684, 5698.38864177,\n",
       "       5516.56349931, 5414.51693962, 5542.93102739, 5414.83364892,\n",
       "       5272.39387991, 5209.5424675 , 5221.87513141, 5139.44020366,\n",
       "       5067.03301461, 5047.54832686, 5088.55096575, 5143.82533982,\n",
       "       5058.96389715, 5047.54820554, 5077.58415056, 5107.14725744,\n",
       "       5107.16046864, 5154.08902487, 5226.34795848, 5281.04234558,\n",
       "       5299.70131656, 5298.25383337, 5368.67025924, 5380.41024193,\n",
       "       5350.39582245, 5304.48546257, 5300.61799956, 5409.73071241,\n",
       "       5346.67947731, 5299.90137284, 5312.59373537, 5358.87389631,\n",
       "       5331.79373785, 5347.59770701, 5425.88563424, 5400.56215421,\n",
       "       5485.83809029, 5639.16218059, 5776.49991706, 5891.03315624,\n",
       "       5941.54644779, 5961.25061389, 5920.72374082, 5859.22191356,\n",
       "       5941.74679618, 6005.7298461 , 6042.36674527, 6051.67495383,\n",
       "       6051.7767541 , 6051.5766521 , 6019.48435498, 5978.91055932,\n",
       "       5927.79221039, 5854.6387472 , 5776.64632139, 5856.57337194,\n",
       "       5914.23893298, 5923.20822217, 5919.03733069, 5978.22204906,\n",
       "       5950.91495504, 6059.2301143 , 6194.06775711, 6272.44157719,\n",
       "       6311.28757557, 6366.93946948, 6378.00695388, 6344.70913525,\n",
       "       6281.4381642 , 6227.4649289 , 6184.87148941, 6235.45328149,\n",
       "       6221.85827398, 6226.25658575, 6286.23740705, 6355.92500252,\n",
       "       6387.20342413, 6409.97370067, 6483.77325296, 6733.85400013,\n",
       "       6662.35267886, 6548.15058695, 6445.13430605, 6396.60058423,\n",
       "       6541.34979618, 6548.40335765, 6525.15912822, 6506.76487572,\n",
       "       6511.56351315, 6435.56912916, 6330.35500205, 6244.85043257,\n",
       "       6209.41034613, 6217.25879915, 6272.24186396, 6265.7331096 ,\n",
       "       6276.84024099, 6316.25652361, 6359.61362446, 6364.4111152 ,\n",
       "       6368.93129688, 6364.41194763, 6327.42284312, 6254.04806678,\n",
       "       6321.87599184, 6345.81804142, 6319.0455341 , 6276.84087064,\n",
       "       6244.85004814, 6232.09036165, 6193.67683285, 6154.99722716,\n",
       "       6171.27478449, 6479.17360428, 6454.08360565, 6364.5265258 ,\n",
       "       6285.47758752, 6253.84769595, 6180.27276876, 6155.10476616,\n",
       "       6166.4757659 , 6221.85879639, 6129.68844738, 6092.90046152,\n",
       "       6107.84551491, 6166.47598743, 6217.05921066, 6088.50181244,\n",
       "       6000.17265537, 5922.95631905, 5887.56344072, 5899.76347973,\n",
       "       5849.38099714, 5777.23535389, 5730.31632527, 5725.22038457,\n",
       "       5660.84219408, 5670.03984507, 5721.73043026, 5774.27104109,\n",
       "       5781.96007731, 5656.26017192, 5721.60707547, 5811.82109749,\n",
       "       5856.56670126, 5852.10435171, 5847.44083184, 5791.71986547,\n",
       "       5751.46280846, 5796.14848057, 5906.68617412, 5976.34259241,\n",
       "       5962.62739799, 5970.74886477, 5977.80309748, 5973.34063533,\n",
       "       5959.15144422, 5973.551591  , 5991.79323949, 5991.79261286,\n",
       "       5968.67808428, 5987.12907964, 6043.2854636 , 6061.73649067,\n",
       "       5959.35136874, 5920.97682563, 5929.36085174, 5931.37420023,\n",
       "       5898.73360161, 5917.01494875, 5906.18864214, 5912.5228946 ,\n",
       "       5945.36344313, 6029.29667387, 6095.16499598, 6136.54426346,\n",
       "       6089.71469872, 6081.44351582, 6089.91541087, 6080.73685087,\n",
       "       6033.95945061, 5978.0036702 , 5982.56860886, 5954.68886908,\n",
       "       5918.30043878, 5898.53410651, 5851.65483536, 5830.26763122,\n",
       "       5810.13854422, 5791.48578104, 5772.63353399, 5673.83707912,\n",
       "       5637.40824259, 5618.95694503, 5637.94284256, 5688.70212159,\n",
       "       5698.22673529, 5662.02344652, 5629.41497256, 5609.6305581 ,\n",
       "       5632.95178524, 5724.76652246, 5640.44211007, 5597.49351514,\n",
       "       5636.28360196, 5698.22692403, 5600.30493921, 5604.96781329,\n",
       "       5627.32424262, 5629.63350115, 5600.3051699 , 5600.10545234,\n",
       "       5605.18800061, 5599.2057613 , 5567.66422114, 5613.83563353,\n",
       "       5730.66729927, 5812.66616854, 5810.30703948, 5744.85616835,\n",
       "       5782.16022765, 5875.21898733, 5971.95861425, 5977.8033731 ,\n",
       "       5987.32949143, 6123.89891172, 6155.19589739, 6154.99643963,\n",
       "       6145.67090789, 6158.46790424, 6154.99667668, 6117.69262979,\n",
       "       6071.2629512 , 6122.35553278, 6127.25349031, 6122.35595918,\n",
       "       6133.40031629, 6154.99587701, 6131.88095442, 6127.01821077,\n",
       "       6122.26624932, 6103.54472072, 6080.58829392, 6113.22889349,\n",
       "       6103.7032819 , 6076.15494915, 6061.73697559, 6080.58874336,\n",
       "       6141.00682103, 6121.78380083, 6113.22973313, 6122.07418428,\n",
       "       6141.20673562, 6136.34429251, 6114.82384163, 6136.54372409,\n",
       "       6209.48309573, 6304.41008535, 6490.72912875, 6535.19289478,\n",
       "       6611.49924072, 6715.6331744 , 6798.48446754, 6765.84235761,\n",
       "       6859.64724742, 7017.64265032, 7130.25038954, 7134.41614075,\n",
       "       7017.84229813, 6994.32632147, 6901.26839443, 6907.04379934,\n",
       "       7017.84185671, 6990.84241061, 6947.69754485, 6936.36959787,\n",
       "       6971.01254169, 6901.06870154, 6827.80864446, 6820.77431706,\n",
       "       6877.95350639, 6947.07146416, 7064.47063261, 7118.99479734,\n",
       "       7134.4163987 , 7087.98329038, 7017.84192391, 6994.32703491,\n",
       "       6971.21239447, 6935.71765014, 6925.8414239 , 6947.61964181,\n",
       "       6994.40550738, 7008.8109578 , 6994.40581523, 6919.67723235,\n",
       "       6816.43480922, 6787.03191883, 6807.46142047, 6830.8539948 ,\n",
       "       6868.53102553, 6901.03397746, 6877.44078057, 6877.64117378,\n",
       "       6891.44363271, 6905.19697528, 6900.83353468, 6830.85485007,\n",
       "       6829.52337158, 6830.65443379, 6837.54329274, 6856.41976006,\n",
       "       6901.03408682, 6884.51545447, 6854.24716313, 6830.85441379,\n",
       "       6830.65395777, 6877.64069559, 6876.11572324, 6861.06991914,\n",
       "       6830.65397416, 6854.24712171, 6924.22625568, 6971.21273837,\n",
       "       6994.60618228, 7007.97453765, 7111.56973618, 7167.23089198,\n",
       "       7204.9426018 , 7235.43109007, 7278.61203442, 7251.72852768,\n",
       "       7181.54944417, 7183.79412915, 7275.12171585, 7381.78183207,\n",
       "       7298.71466356, 7265.66742146, 7279.27158526, 7298.51415427,\n",
       "       7275.12196377, 7134.96332103, 7215.42932791, 7228.53538568,\n",
       "       7228.33495044, 7240.6910116 , 7240.2072916 , 7250.88694345,\n",
       "       7251.9285913 , 7209.91108552, 7205.14287863, 7345.48464684,\n",
       "       7441.80809096, 7450.80857496, 7415.47927407, 7383.2197443 ,\n",
       "       7392.28651322, 7428.86734955, 7485.85904982, 7530.90940913,\n",
       "       7488.77912968, 7462.46573366, 7392.08659036, 7204.94258259,\n",
       "       7240.94550353, 7334.42941616, 7415.67934434, 7438.87168185,\n",
       "       7556.0377476 , 7626.01627776, 7605.2800365 , 7501.06838817,\n",
       "       7392.08645567, 7392.0865551 , 7406.19327339, 7406.59218726,\n",
       "       7415.47909737, 7438.87208588, 7456.70966084, 7458.07351971,\n",
       "       7481.82538124, 7512.43758478, 7529.12756817, 7505.37655656,\n",
       "       7453.83035142, 7398.51834852, 7362.86776587, 7333.54216889,\n",
       "       7339.31612584, 7410.36987638, 7410.370502  , 7315.56489243,\n",
       "       7215.77975404, 7244.31022884, 7305.44272856, 7402.45694421,\n",
       "       7481.62470621, 7600.38268454, 7719.13983785, 7790.59496285,\n",
       "       7714.68785275, 7159.0414669 , 7149.30379274, 7082.59423319,\n",
       "       7012.70154127, 6959.09156327, 7030.54717368, 7088.09135507,\n",
       "       7077.849633  , 7030.54654979, 7000.96337253, 6983.04432608,\n",
       "       7006.79462529, 7196.6066845 , 7196.80646009, 7184.83982983,\n",
       "       7196.80697238, 7185.68602939, 7077.84930769, 7118.9193496 ,\n",
       "       7147.66550037, 7094.47490802, 6983.0443208 , 6982.8436272 ,\n",
       "       7030.34687788, 7057.64850874, 7086.63247197, 7125.35205079,\n",
       "       7244.11041085, 7242.27069379, 7203.82067028, 7149.10411453,\n",
       "       7101.80132514, 6982.84403716, 6936.29391038, 6908.25914291,\n",
       "       6888.03755343, 6842.62041897, 6791.07180938, 6887.83765327,\n",
       "       6931.75885678, 6881.33730148, 6792.83100397, 6769.28061192,\n",
       "       6757.86170548, 6716.71794052, 6674.07346608, 6650.32284635,\n",
       "       6792.83137449, 6927.36152734, 7026.77363819, 7030.34635391,\n",
       "       6959.29172259, 6905.96601127, 6935.54058436, 6959.2923721 ,\n",
       "       6974.79164229, 6983.0435903 , 7125.3524302 , 7215.40075006,\n",
       "       7313.02331549, 7410.36991782, 7481.62502622, 7481.62503095,\n",
       "       7486.75910883, 7505.57683333, 7522.93953412, 7529.1279347 ,\n",
       "       7552.87942305, 7576.8311528 , 7559.60384597, 7505.57627757,\n",
       "       7460.63505026, 7505.57672031, 7552.8788787 , 7584.01776156,\n",
       "       7600.58309812, 7741.01657972, 7766.84269106, 7757.22606442,\n",
       "       7743.09237058, 7749.85882841, 7826.95881191, 7861.84878481,\n",
       "       7905.0141765 , 7933.10351057, 7925.04785694, 7956.65546628,\n",
       "       8034.57337865, 8075.61262083, 8059.46639609, 8027.90981431,\n",
       "       8139.84131732, 8122.91602758, 8058.30512959, 7994.68041116,\n",
       "       7956.65528387, 7892.75225579, 7885.60067147, 7909.15209629,\n",
       "       7956.65571235, 8000.14321532, 8075.41239845, 8081.1362951 ,\n",
       "       8028.10975095, 7915.2266061 , 7790.39446666, 7777.12006853,\n",
       "       7838.09726913, 7867.95119266, 7861.84907645, 7837.89718357,\n",
       "       7837.89777142, 7873.84015865, 7950.15305308, 8075.41238175,\n",
       "       8217.9221105 , 8325.45867185, 8265.42393951, 8235.97947864,\n",
       "       8260.81981836, 8312.92723211, 8360.43110052, 8345.49384798,\n",
       "       8338.18606458, 8341.21290432, 8336.68062554, 8286.59430785,\n",
       "       8313.12736756, 8345.41691909, 8360.63172498, 8355.34495044,\n",
       "       8312.9269793 , 8287.79694191, 8276.43239767, 8289.1765197 ,\n",
       "       8303.00146959, 8289.17617446, 8346.72029081, 8431.88537699,\n",
       "       8502.03436799, 8526.69087628, 8574.19517961, 8526.69101894,\n",
       "       8294.32317038])"
      ]
     },
     "execution_count": 144,
     "metadata": {},
     "output_type": "execute_result"
    }
   ],
   "source": [
    "SVR_rbfk = SVR(kernel= 'rbf', C= 1e3, gamma= 0.1)\n",
    "SVR_rbfk.fit(test_dates_data, test_prices_data)\n",
    "SVR_rbfk_test = SVR_rbfk.predict(test_dates_data)\n",
    "SVR_rbfk_test"
   ]
  },
  {
   "cell_type": "code",
   "execution_count": 145,
   "metadata": {
    "colab": {
     "base_uri": "https://localhost:8080/"
    },
    "executionInfo": {
     "elapsed": 100,
     "status": "ok",
     "timestamp": 1640161341804,
     "user": {
      "displayName": "Antonius Ricky",
      "photoUrl": "https://lh3.googleusercontent.com/a/default-user=s64",
      "userId": "13788256783846812684"
     },
     "user_tz": -420
    },
    "id": "AZWI8xU93J0_",
    "outputId": "6b612fb6-4db1-4b48-cfd6-b5f72e5002d4"
   },
   "outputs": [
    {
     "name": "stderr",
     "output_type": "stream",
     "text": [
      "/Users/minseokim/opt/anaconda3/lib/python3.9/site-packages/sklearn/utils/validation.py:993: DataConversionWarning: A column-vector y was passed when a 1d array was expected. Please change the shape of y to (n_samples, ), for example using ravel().\n",
      "  y = column_or_1d(y, warn=True)\n"
     ]
    },
    {
     "data": {
      "text/plain": [
       "array([5754.63547027, 5755.88354291, 5759.62776082, 5760.87583346,\n",
       "       5762.12390609, 5763.37197873, 5764.62005137, 5768.36426928,\n",
       "       5769.61234192, 5770.86041456, 5772.10848719, 5773.35655983,\n",
       "       5777.10077774, 5778.34885038, 5779.59692302, 5780.84499566,\n",
       "       5782.09306829, 5785.83728621, 5787.08535884, 5788.33343148,\n",
       "       5789.58150412, 5790.82957676, 5794.57379467, 5795.82186731,\n",
       "       5797.06993994, 5798.31801258, 5799.56608522, 5803.31030313,\n",
       "       5804.55837577, 5805.80644841, 5807.05452105, 5808.30259368,\n",
       "       5812.0468116 , 5813.29488423, 5814.54295687, 5815.79102951,\n",
       "       5817.03910215, 5820.78332006, 5822.0313927 , 5823.27946533,\n",
       "       5824.52753797, 5825.77561061, 5829.51982852, 5830.76790116,\n",
       "       5832.0159738 , 5833.26404643, 5834.51211907, 5838.25633698,\n",
       "       5839.50440962, 5840.75248226, 5842.0005549 , 5843.24862753,\n",
       "       5846.99284545, 5848.24091808, 5849.48899072, 5850.73706336,\n",
       "       5851.985136  , 5855.72935391, 5856.97742655, 5859.47357182,\n",
       "       5860.72164446, 5864.46586237, 5865.71393501, 5866.96200765,\n",
       "       5868.21008028, 5869.45815292, 5873.20237083, 5874.45044347,\n",
       "       5875.69851611, 5876.94658875, 5881.9388793 , 5883.18695193,\n",
       "       5884.43502457, 5885.68309721, 5886.93116985, 5890.67538776,\n",
       "       5891.9234604 , 5893.17153303, 5894.41960567, 5895.66767831,\n",
       "       5899.41189622, 5900.65996886, 5901.9080415 , 5903.15611413,\n",
       "       5908.14840469, 5909.39647732, 5910.64454996, 5913.14069524,\n",
       "       5916.88491315, 5918.13298579, 5919.38105842, 5920.62913106,\n",
       "       5921.8772037 , 5925.62142161, 5926.86949425, 5928.11756689,\n",
       "       5935.60600271, 5936.85407535, 5938.10214799, 5939.35022062,\n",
       "       5944.34251117, 5945.59058381, 5946.83865645, 5948.08672909,\n",
       "       5951.830947  , 5953.07901964, 5954.32709227, 5955.57516491,\n",
       "       5956.82323755, 5960.56745546, 5961.8155281 , 5963.06360074,\n",
       "       5964.31167337, 5965.55974601, 5969.30396392, 5970.55203656,\n",
       "       5971.8001092 , 5973.04818184, 5974.29625447, 5978.04047239,\n",
       "       5979.28854502, 5980.53661766, 5981.7846903 , 5983.03276294,\n",
       "       5986.77698085, 5988.02505349, 5989.27312612, 5990.52119876,\n",
       "       5991.7692714 , 5995.51348931, 5996.76156195, 5998.00963459,\n",
       "       5999.25770722, 6000.50577986, 6004.24999777, 6005.49807041,\n",
       "       6006.74614305, 6007.99421569, 6009.24228833, 6012.98650624,\n",
       "       6014.23457888, 6015.48265151, 6016.73072415, 6021.7230147 ,\n",
       "       6022.97108734, 6024.21915998, 6025.46723261, 6026.71530525,\n",
       "       6030.45952316, 6031.7075958 , 6032.95566844, 6034.20374108,\n",
       "       6035.45181371, 6040.44410426, 6041.6921769 , 6047.93254009,\n",
       "       6049.18061273, 6050.42868536, 6051.676758  , 6052.92483064,\n",
       "       6056.66904855, 6057.91712119, 6059.16519383, 6060.41326646,\n",
       "       6061.6613391 , 6065.40555701, 6066.65362965, 6067.90170229,\n",
       "       6069.14977493, 6070.39784756, 6074.14206548, 6075.39013811,\n",
       "       6076.63821075, 6077.88628339, 6079.13435603, 6082.87857394,\n",
       "       6084.12664658, 6085.37471921, 6086.62279185, 6087.87086449,\n",
       "       6091.6150824 , 6092.86315504, 6094.11122768, 6095.35930031,\n",
       "       6096.60737295, 6100.35159086, 6101.5996635 , 6102.84773614,\n",
       "       6104.09580878, 6105.34388141, 6109.08809933, 6110.33617197,\n",
       "       6111.5842446 , 6112.83231724, 6114.08038988, 6117.82460779,\n",
       "       6119.07268043, 6120.32075307, 6121.5688257 , 6122.81689834,\n",
       "       6126.56111625, 6127.80918889, 6135.29762472, 6136.54569735,\n",
       "       6137.79376999, 6139.04184263, 6140.28991527, 6144.03413318,\n",
       "       6145.28220582, 6146.53027845, 6147.77835109, 6149.02642373,\n",
       "       6152.77064164, 6154.01871428, 6155.26678692, 6156.51485955,\n",
       "       6157.76293219, 6161.5071501 , 6162.75522274, 6164.00329538,\n",
       "       6165.25136802, 6166.49944065, 6170.24365857, 6171.4917312 ,\n",
       "       6172.73980384, 6173.98787648, 6175.23594912, 6178.98016703,\n",
       "       6180.22823967, 6182.72438494, 6183.97245758, 6187.71667549,\n",
       "       6188.96474813, 6190.21282077, 6191.4608934 , 6192.70896604,\n",
       "       6196.45318395, 6197.70125659, 6198.94932923, 6205.18969242,\n",
       "       6206.43776505, 6207.68583769, 6213.92620088, 6215.17427352,\n",
       "       6216.42234616, 6217.67041879, 6218.91849143, 6222.66270934,\n",
       "       6223.91078198, 6225.15885462, 6226.40692726, 6227.65499989,\n",
       "       6231.39921781, 6232.64729044, 6233.89536308, 6235.14343572,\n",
       "       6236.39150836, 6240.13572627, 6241.38379891, 6242.63187154,\n",
       "       6243.87994418, 6245.12801682, 6248.87223473, 6250.12030737,\n",
       "       6251.36838001, 6252.61645264, 6253.86452528, 6257.60874319,\n",
       "       6258.85681583, 6260.10488847, 6261.35296111, 6266.34525166,\n",
       "       6267.59332429, 6268.84139693, 6270.08946957, 6271.33754221,\n",
       "       6275.08176012, 6276.32983276, 6277.57790539, 6278.82597803,\n",
       "       6280.07405067, 6283.81826858, 6285.06634122, 6286.31441386,\n",
       "       6287.56248649, 6288.81055913, 6292.55477704, 6293.80284968,\n",
       "       6295.05092232, 6297.54706759, 6301.29128551, 6302.53935814,\n",
       "       6303.78743078, 6305.03550342, 6306.28357606, 6310.02779397,\n",
       "       6311.27586661, 6312.52393925, 6313.77201188, 6315.02008452,\n",
       "       6318.76430243, 6320.01237507, 6321.26044771, 6322.50852035,\n",
       "       6327.5008109 , 6328.74888353, 6329.99695617, 6331.24502881,\n",
       "       6332.49310145, 6336.23731936, 6337.485392  , 6338.73346463,\n",
       "       6339.98153727, 6341.22960991, 6344.97382782, 6346.22190046,\n",
       "       6347.4699731 , 6348.71804573, 6349.96611837, 6353.71033628,\n",
       "       6354.95840892, 6356.20648156, 6357.4545542 , 6358.70262683,\n",
       "       6362.44684475, 6363.69491738, 6364.94299002, 6366.19106266,\n",
       "       6367.4391353 , 6371.18335321, 6372.43142585, 6379.91986167,\n",
       "       6381.16793431, 6382.41600695, 6383.66407958, 6384.91215222,\n",
       "       6388.65637013, 6389.90444277, 6392.40058805, 6393.64866068,\n",
       "       6397.3928786 , 6399.88902387, 6401.13709651, 6402.38516915,\n",
       "       6406.12938706, 6407.3774597 , 6408.62553233, 6409.87360497,\n",
       "       6411.12167761, 6414.86589552, 6416.11396816, 6417.3620408 ,\n",
       "       6418.61011344, 6419.85818607, 6423.60240399, 6424.85047662,\n",
       "       6426.09854926, 6427.3466219 , 6428.59469454, 6432.33891245,\n",
       "       6433.58698509, 6434.83505772, 6436.08313036, 6437.331203  ,\n",
       "       6441.07542091, 6442.32349355, 6443.57156619, 6444.81963882,\n",
       "       6446.06771146, 6449.81192937, 6451.06000201, 6452.30807465,\n",
       "       6453.55614729, 6454.80421992, 6458.54843784, 6461.04458311,\n",
       "       6462.29265575, 6463.54072839, 6467.2849463 , 6468.53301894,\n",
       "       6469.78109157, 6471.02916421, 6472.27723685, 6476.02145476,\n",
       "       6477.2695274 , 6478.51760004, 6479.76567267, 6481.01374531,\n",
       "       6484.75796322, 6486.00603586, 6488.50218114, 6489.75025377,\n",
       "       6493.49447169, 6495.99061696, 6497.2386896 , 6498.48676224,\n",
       "       6502.23098015, 6503.47905279, 6504.72712542, 6505.97519806,\n",
       "       6507.2232707 , 6510.96748861, 6512.21556125, 6513.46363389,\n",
       "       6514.71170652, 6515.95977916, 6519.70399708, 6520.95206971,\n",
       "       6522.20014235, 6523.44821499, 6524.69628763, 6528.44050554,\n",
       "       6529.68857818, 6530.93665081, 6532.18472345, 6533.43279609,\n",
       "       6537.177014  , 6538.42508664, 6539.67315928, 6540.92123191,\n",
       "       6542.16930455, 6545.91352246, 6547.1615951 , 6548.40966774,\n",
       "       6549.65774038, 6550.90581301, 6554.65003093, 6555.89810356,\n",
       "       6557.1461762 , 6558.39424884, 6559.64232148, 6563.38653939,\n",
       "       6564.63461203, 6565.88268466, 6567.1307573 , 6568.37882994,\n",
       "       6572.12304785, 6573.37112049, 6575.86726576, 6577.1153384 ,\n",
       "       6580.85955631, 6582.10762895, 6583.35570159, 6584.60377423,\n",
       "       6585.85184686, 6589.59606478, 6590.84413741, 6592.09221005,\n",
       "       6593.34028269, 6594.58835533, 6598.33257324, 6599.58064588,\n",
       "       6600.82871851, 6602.07679115, 6603.32486379, 6607.0690817 ,\n",
       "       6608.31715434, 6609.56522698, 6610.81329961, 6612.06137225,\n",
       "       6615.80559016, 6617.0536628 , 6618.30173544, 6619.54980808,\n",
       "       6620.79788072, 6624.54209863, 6625.79017127, 6627.0382439 ,\n",
       "       6628.28631654, 6629.53438918, 6633.27860709, 6634.52667973,\n",
       "       6635.77475237, 6637.022825  , 6638.27089764, 6642.01511555,\n",
       "       6643.26318819, 6644.51126083, 6645.75933347, 6647.0074061 ,\n",
       "       6650.75162402, 6651.99969665, 6653.24776929, 6654.49584193,\n",
       "       6655.74391457, 6659.48813248, 6660.73620512, 6661.98427775,\n",
       "       6663.23235039, 6668.22464094, 6669.47271358, 6670.72078622,\n",
       "       6671.96885885, 6673.21693149, 6676.9611494 , 6678.20922204,\n",
       "       6679.45729468, 6680.70536732, 6681.95343995, 6685.69765787,\n",
       "       6686.9457305 , 6688.19380314, 6689.44187578, 6690.68994842,\n",
       "       6694.43416633, 6695.68223897, 6696.9303116 , 6698.17838424,\n",
       "       6699.42645688, 6703.17067479, 6705.66682007, 6706.9148927 ,\n",
       "       6708.16296534, 6711.90718325, 6713.15525589, 6714.40332853,\n",
       "       6715.65140117, 6716.8994738 , 6720.64369172, 6721.89176436,\n",
       "       6723.13983699, 6724.38790963, 6725.63598227, 6729.38020018,\n",
       "       6730.62827282, 6731.87634546, 6733.12441809, 6734.37249073,\n",
       "       6739.36478128, 6740.61285392, 6743.10899919, 6746.85321711,\n",
       "       6748.10128974, 6749.34936238, 6750.59743502, 6751.84550766,\n",
       "       6755.58972557, 6756.83779821, 6758.08587084, 6759.33394348,\n",
       "       6760.58201612, 6764.32623403, 6765.57430667, 6766.82237931,\n",
       "       6768.07045194, 6769.31852458, 6773.06274249, 6774.31081513,\n",
       "       6775.55888777, 6776.80696041, 6778.05503304, 6781.79925096,\n",
       "       6783.04732359, 6784.29539623, 6785.54346887, 6786.79154151,\n",
       "       6790.53575942, 6791.78383206, 6793.03190469, 6794.27997733,\n",
       "       6799.27226788, 6800.52034052, 6801.76841316, 6803.01648579,\n",
       "       6804.26455843, 6808.00877634, 6809.25684898, 6810.50492162,\n",
       "       6811.75299426, 6825.48179327, 6826.72986591, 6827.97793855,\n",
       "       6829.22601118, 6830.47408382, 6835.46637437, 6836.71444701,\n",
       "       6837.96251965, 6839.21059228, 6842.9548102 , 6844.20288283,\n",
       "       6845.45095547, 6847.94710075, 6851.69131866, 6852.9393913 ,\n",
       "       6855.43553657, 6856.68360921, 6860.42782712, 6861.67589976,\n",
       "       6862.9239724 , 6864.17204503, 6865.42011767, 6869.16433558,\n",
       "       6870.41240822, 6871.66048086, 6872.9085535 , 6874.15662613,\n",
       "       6877.90084405, 6879.14891668, 6880.39698932, 6881.64506196,\n",
       "       6882.8931346 , 6886.63735251, 6887.88542515, 6889.13349778,\n",
       "       6890.38157042, 6891.62964306, 6895.37386097, 6896.62193361,\n",
       "       6897.87000625, 6899.11807888, 6900.36615152, 6904.11036943,\n",
       "       6905.35844207, 6906.60651471, 6907.85458735, 6909.10265998,\n",
       "       6912.8468779 , 6914.09495053, 6915.34302317, 6916.59109581,\n",
       "       6917.83916845, 6921.58338636, 6922.831459  , 6924.07953164,\n",
       "       6925.32760427, 6926.57567691, 6930.31989482, 6931.56796746,\n",
       "       6932.8160401 , 6934.06411274, 6935.31218537, 6939.05640329,\n",
       "       6940.30447592, 6941.55254856, 6942.8006212 , 6944.04869384,\n",
       "       6947.79291175, 6949.04098439, 6951.53712966, 6952.7852023 ,\n",
       "       6956.52942021, 6957.77749285, 6959.02556549, 6960.27363812,\n",
       "       6961.52171076, 6965.26592867, 6966.51400131, 6967.76207395,\n",
       "       6969.01014659, 6970.25821922, 6974.00243714, 6975.25050977,\n",
       "       6976.49858241, 6977.74665505, 6978.99472769, 6982.7389456 ,\n",
       "       6983.98701824, 6985.23509087, 6986.48316351, 6987.73123615,\n",
       "       6991.47545406, 6992.7235267 , 6993.97159934, 6995.21967197,\n",
       "       6996.46774461, 7000.21196252, 7001.46003516, 7002.7081078 ,\n",
       "       7003.95618044, 7005.20425307, 7008.94847099, 7010.19654362,\n",
       "       7011.44461626, 7012.6926889 , 7013.94076154, 7017.68497945,\n",
       "       7018.93305209, 7020.18112472, 7021.42919736, 7022.67727   ,\n",
       "       7026.42148791, 7027.66956055, 7028.91763319, 7030.16570583,\n",
       "       7031.41377846, 7035.15799638, 7036.40606901, 7037.65414165,\n",
       "       7038.90221429, 7040.15028693, 7043.89450484, 7045.14257748,\n",
       "       7046.39065011, 7047.63872275, 7048.88679539, 7052.6310133 ,\n",
       "       7053.87908594, 7055.12715858, 7056.37523121, 7057.62330385,\n",
       "       7061.36752176, 7062.6155944 , 7063.86366704, 7065.11173968,\n",
       "       7066.35981231, 7070.10403023, 7071.35210286, 7072.6001755 ,\n",
       "       7073.84824814, 7075.09632078, 7078.84053869, 7080.08861133,\n",
       "       7081.33668396])"
      ]
     },
     "execution_count": 145,
     "metadata": {},
     "output_type": "execute_result"
    }
   ],
   "source": [
    "SVR_linear = make_pipeline(StandardScaler(), SVR(kernel='linear', C=1))\n",
    "SVR_linear.fit(test_dates_data, test_prices_data)\n",
    "SVR_linear_test =  SVR_linear.predict(test_dates_data)\n",
    "SVR_linear_test"
   ]
  },
  {
   "cell_type": "code",
   "execution_count": 146,
   "metadata": {
    "colab": {
     "base_uri": "https://localhost:8080/"
    },
    "executionInfo": {
     "elapsed": 90,
     "status": "ok",
     "timestamp": 1640161341807,
     "user": {
      "displayName": "Antonius Ricky",
      "photoUrl": "https://lh3.googleusercontent.com/a/default-user=s64",
      "userId": "13788256783846812684"
     },
     "user_tz": -420
    },
    "id": "09ynvcyjmuuu",
    "outputId": "9d206543-7053-4a11-f571-49f4aaf2276f"
   },
   "outputs": [
    {
     "name": "stderr",
     "output_type": "stream",
     "text": [
      "/Users/minseokim/opt/anaconda3/lib/python3.9/site-packages/sklearn/utils/validation.py:993: DataConversionWarning: A column-vector y was passed when a 1d array was expected. Please change the shape of y to (n_samples, ), for example using ravel().\n",
      "  y = column_or_1d(y, warn=True)\n"
     ]
    },
    {
     "data": {
      "text/plain": [
       "array([6139.64584988, 6129.13147603, 6098.08174671, 6087.8952856 ,\n",
       "       6077.79004243, 6067.76571416, 6057.82199829, 6028.47150776,\n",
       "       6018.84722686, 6009.30205369, 5999.83568893, 5990.44783373,\n",
       "       5962.75234532, 5953.6755508 , 5944.67577968, 5935.75273632,\n",
       "       5926.90612558, 5900.82194582, 5892.27812492, 5883.80926895,\n",
       "       5875.41508596, 5867.09528452, 5842.57926314, 5834.55408417,\n",
       "       5826.60183753, 5818.72223497, 5810.91498874, 5787.92451865,\n",
       "       5780.403831  , 5772.95406894, 5765.5749479 , 5758.26618385,\n",
       "       5736.7592012 , 5729.7290353 , 5722.76781412, 5715.8752568 ,\n",
       "       5709.05108298, 5688.9860671 , 5682.43263447, 5675.94619156,\n",
       "       5669.52646118, 5663.17316672, 5644.50914014, 5638.41883335,\n",
       "       5632.39358715, 5626.43312805, 5620.5371831 , 5603.23371158,\n",
       "       5597.59310428, 5592.0156543 , 5586.50109185, 5581.04914768,\n",
       "       5565.06634014, 5559.86218706, 5554.71931388, 5549.63745453,\n",
       "       5544.61634344, 5529.91485205, 5525.13408895, 5515.75058549,\n",
       "       5511.14732087, 5497.68834097, 5493.31808471, 5489.00543116,\n",
       "       5484.75012162, 5480.55189792, 5468.29716805, 5464.32471655,\n",
       "       5460.40806796, 5456.54696727, 5441.65296193, 5438.06579417,\n",
       "       5434.53265539, 5431.05329426, 5427.62746002, 5417.66861869,\n",
       "       5414.45439473, 5411.29245168, 5408.1825419 , 5405.12441834,\n",
       "       5396.25830192, 5393.40486287, 5390.60198253, 5387.84941696,\n",
       "       5377.33744265, 5374.8328107 , 5372.37704113, 5367.6111287 ,\n",
       "       5360.82273939, 5358.65511781, 5356.53468812, 5354.4612138 ,\n",
       "       5352.43445885, 5346.63215815, 5344.78993124, 5342.99325163,\n",
       "       5333.15666553, 5331.67232726, 5330.23168841, 5328.83452038,\n",
       "       5323.67600269, 5322.49277808, 5321.35166372, 5320.25243469,\n",
       "       5317.20381843, 5316.26989218, 5315.37673462, 5314.52412401,\n",
       "       5313.71183912, 5311.51473456, 5310.86155096, 5310.24759492,\n",
       "       5309.67264837, 5309.13649382, 5307.75861474, 5307.37546345,\n",
       "       5307.03002444, 5306.72208337, 5306.4514264 , 5305.86102979,\n",
       "       5305.73738153, 5305.64995616, 5305.59854302, 5305.58293197,\n",
       "       5305.74881801, 5305.87432458, 5306.03459051, 5306.22940883,\n",
       "       5306.4585731 , 5307.35008517, 5307.71457944, 5308.1123954 ,\n",
       "       5308.54332977, 5309.00717982, 5310.59420453, 5311.18770042,\n",
       "       5311.8131062 , 5312.4702223 , 5313.15884966, 5315.41181679,\n",
       "       5316.22450931, 5317.06772578, 5317.94127032, 5321.73483015,\n",
       "       5322.75709535, 5323.80852445, 5324.88892525, 5325.99810609,\n",
       "       5329.49642027, 5330.7188153 , 5331.96904002, 5333.24690593,\n",
       "       5334.55222509, 5340.04429334, 5341.48407775, 5349.07437081,\n",
       "       5350.66942116, 5352.2897104 , 5353.93505742, 5355.60528167,\n",
       "       5360.76341993, 5362.53135791, 5364.32327817, 5366.13900332,\n",
       "       5367.97835648, 5373.63642319, 5375.5685302 , 5377.52338877,\n",
       "       5379.50082518, 5381.50066626, 5387.63289363, 5389.72063215,\n",
       "       5391.82991735, 5393.96057923, 5396.1124483 , 5402.69361175,\n",
       "       5404.9286253 , 5407.18400655, 5409.45958917, 5411.75520737,\n",
       "       5418.76062551, 5421.13473871, 5423.52806648, 5425.94044618,\n",
       "       5428.37171572, 5435.77725037, 5438.2824689 , 5440.80577472,\n",
       "       5443.3470089 , 5445.90601306, 5453.68806925, 5456.31657984,\n",
       "       5458.96207632, 5461.62440347, 5464.30340658, 5472.43893253,\n",
       "       5475.183103  , 5477.94318382, 5480.71902348, 5483.51047094,\n",
       "       5491.97695809, 5494.82933731, 5512.25053127, 5515.20384918,\n",
       "       5518.17100398, 5521.15185154, 5524.14624824, 5533.20930487,\n",
       "       5536.25647248, 5539.31647906, 5542.38918416, 5545.47444785,\n",
       "       5554.80419918, 5557.93830858, 5561.08428488, 5564.24199132,\n",
       "       5567.41129169, 5576.98740195, 5580.20172628, 5583.42697132,\n",
       "       5586.663004  , 5589.90969179, 5599.71236843, 5603.0003619 ,\n",
       "       5606.29835575, 5609.60622061, 5612.92382764, 5622.9338213 ,\n",
       "       5626.2891192 , 5633.02690707, 5636.40914622, 5646.60775075,\n",
       "       5650.02416943, 5653.44882542, 5656.88159675, 5660.32236197,\n",
       "       5670.69141442, 5674.1629513 , 5677.64188276, 5695.14333745,\n",
       "       5698.664171  , 5702.19158227, 5719.92331241, 5723.48780219,\n",
       "       5727.0580787 , 5730.63403103, 5734.21554884, 5744.99239938,\n",
       "       5748.59508602, 5752.20279424, 5755.81541686, 5759.43284721,\n",
       "       5770.3129259 , 5773.94853108, 5777.58841858, 5781.2324849 ,\n",
       "       5784.88062708, 5795.84848699, 5799.51191346, 5803.17890885,\n",
       "       5806.84937337, 5810.52320774, 5821.56394512, 5825.2502767 ,\n",
       "       5828.93948968, 5832.63148795, 5836.32617593, 5847.42543026,\n",
       "       5851.12993185, 5854.83665317, 5858.54550182, 5873.40033985,\n",
       "       5877.1184574 , 5880.83815889, 5884.55935559, 5888.28195933,\n",
       "       5899.45733878, 5903.18469931, 5906.91303386, 5910.64225739,\n",
       "       5914.37228542, 5925.56635943, 5929.29877105, 5933.03157261,\n",
       "       5936.76468279, 5940.49802079, 5951.69860165, 5955.43205351,\n",
       "       5959.16533712, 5966.63108958, 5977.82653278, 5981.55719511,\n",
       "       5985.28715685, 5989.01634408, 5992.74468339, 6003.9238876 ,\n",
       "       6007.64811169, 6011.37112874, 6015.0928685 , 6018.81326126,\n",
       "       6029.96566838, 6033.6799866 , 6037.39261717, 6041.10349357,\n",
       "       6055.92814487, 6059.62927064, 6063.32825405, 6067.02503223,\n",
       "       6070.71954288, 6081.78885428, 6085.47368211, 6089.15593871,\n",
       "       6092.83556492, 6096.51250212, 6107.5266013 , 6111.19220675,\n",
       "       6114.85483797, 6118.51443951, 6122.17095643, 6133.1214581 ,\n",
       "       6136.7650978 , 6140.40538614, 6144.04227137, 6147.67570224,\n",
       "       6158.55476429, 6162.17387595, 6165.78928498, 6169.40094334,\n",
       "       6173.00880346, 6183.809127  , 6187.40132938, 6208.8684208 ,\n",
       "       6212.43151374, 6215.99027913, 6219.5446763 , 6223.09466511,\n",
       "       6233.71778775, 6237.24975214, 6244.29984034, 6247.81789071,\n",
       "       6258.34363736, 6265.33678402, 6268.82605056, 6272.31040207,\n",
       "       6282.73364665, 6286.19802094, 6289.65732431, 6293.11152717,\n",
       "       6296.56060044, 6306.87676007, 6310.30503494, 6313.72804283,\n",
       "       6317.14575783, 6320.55815459, 6330.76318958, 6334.1540702 ,\n",
       "       6337.53951364, 6340.9194977 , 6344.29400071, 6354.38441458,\n",
       "       6357.73678719, 6361.0835783 , 6364.42476939, 6367.76034249,\n",
       "       6377.73318198, 6381.04611389, 6384.35334583, 6387.654863  ,\n",
       "       6390.9506511 , 6400.80350614, 6404.07624572, 6407.34319275,\n",
       "       6410.60433609, 6413.85966518, 6423.59066888, 6430.048763  ,\n",
       "       6433.26901371, 6436.48339082, 6446.09121952, 6449.28204386,\n",
       "       6452.46696804, 6455.64598836, 6458.8191016 , 6468.30297485,\n",
       "       6471.45243839, 6474.59598679, 6477.73362002, 6480.86533858,\n",
       "       6490.22501911, 6493.3330945 , 6499.53153616, 6502.62191028,\n",
       "       6511.85770403, 6517.98551843, 6521.04063171, 6524.0898927 ,\n",
       "       6533.20264881, 6536.22859013, 6539.24872653, 6542.26306906,\n",
       "       6545.27162931, 6554.26274013, 6557.24829765, 6560.22813872,\n",
       "       6563.2022781 , 6566.17073106, 6575.04213213, 6577.98800277,\n",
       "       6580.9282713 , 6583.86295617, 6586.79207635, 6595.54624644,\n",
       "       6598.45330817, 6601.35490801, 6604.25106809, 6607.14181108,\n",
       "       6615.78177214, 6618.65108402, 6621.51510009, 6624.37384616,\n",
       "       6627.22734862, 6635.75666579, 6638.58946795, 6641.41716623,\n",
       "       6644.23979015, 6647.05736979, 6655.48015144, 6658.27786506,\n",
       "       6661.07069261, 6663.8586673 , 6666.6418229 , 6674.9627206 ,\n",
       "       6677.72694794, 6680.48653287, 6683.24151232, 6685.99192374,\n",
       "       6694.21613225, 6696.94865662, 6702.40062739, 6705.12015556,\n",
       "       6713.25341285, 6715.95619864, 6718.65490698, 6721.34958218,\n",
       "       6724.04026908, 6732.08885632, 6734.764049  , 6737.43548549,\n",
       "       6740.10321382, 6742.76728251, 6750.73802407, 6753.38795015,\n",
       "       6756.0344672 , 6758.67762691, 6761.31748152, 6769.21774498,\n",
       "       6771.84491206, 6774.46904311, 6777.09019353, 6779.70841925,\n",
       "       6787.54611538, 6790.15321212, 6792.7576717 , 6795.35955323,\n",
       "       6797.95891632, 6805.74249911, 6808.33239523, 6810.92007895,\n",
       "       6813.50561304, 6816.08906083, 6823.82752746, 6826.40327376,\n",
       "       6828.97725826, 6831.54954745, 6834.12020833, 6841.82309919,\n",
       "       6844.38792753, 6846.95147055, 6849.51379843, 6852.07498186,\n",
       "       6859.75238054, 6862.30970386, 6864.86624419, 6867.42207542,\n",
       "       6869.97727194, 6877.63980523, 6880.19321751, 6882.74637503,\n",
       "       6885.29935534, 6895.51107443, 6898.06435076, 6900.61792638,\n",
       "       6903.17188258, 6905.72630114, 6913.39315682, 6915.95025331,\n",
       "       6918.50822905, 6921.067169  , 6923.62715863, 6931.31428852,\n",
       "       6933.87934238, 6936.4458813 , 6939.01399392, 6941.58376944,\n",
       "       6949.30397313, 6951.88130263, 6954.46074886, 6957.04240417,\n",
       "       6959.62636144, 6967.39298174, 6972.58396495, 6975.18371401,\n",
       "       6977.78642997, 6985.61335288, 6988.22891273, 6990.84793025,\n",
       "       6993.47050521, 6996.09673786, 7003.9983926 , 7006.64026928,\n",
       "       7009.28631293, 7011.93662698, 7014.59131539, 7022.58267437,\n",
       "       7025.25591044, 7027.93404861, 7030.61719602, 7033.30546033,\n",
       "       7044.11185822, 7046.8273404 , 7052.27573793, 7060.49359544,\n",
       "       7063.24540216, 7066.00365887, 7068.7684801 , 7071.53998089,\n",
       "       7079.89571909, 7082.69509922, 7085.50174207, 7088.31576589,\n",
       "       7091.1372894 , 7099.64805352, 7102.50077385, 7105.36159553,\n",
       "       7108.23064047, 7111.10803112, 7119.79150958, 7122.703518  ,\n",
       "       7125.62449224, 7128.55455792, 7131.49384117, 7140.36826561,\n",
       "       7143.34569106, 7146.33297267, 7149.33023976, 7152.33762216,\n",
       "       7161.42176741, 7164.4709199 , 7167.53084476, 7170.60167501,\n",
       "       7182.99672826, 7186.12409886, 7189.26318393, 7192.41412015,\n",
       "       7195.57704474, 7205.13912891, 7208.35138978, 7211.57633305,\n",
       "       7214.81409912, 7251.31650999, 7254.7192921 , 7258.1367701 ,\n",
       "       7261.56909178, 7265.01640544, 7278.95856451, 7282.48308116,\n",
       "       7286.02349073, 7289.57994522, 7300.34710613, 7303.96927087,\n",
       "       7307.60824846, 7314.93726341, 7326.06077862, 7329.80391037,\n",
       "       7337.34406313, 7341.14140239, 7352.64439236, 7356.51624967,\n",
       "       7360.40714026, 7364.31722668, 7368.24667202, 7380.15280041,\n",
       "       7384.1613229 , 7388.19002767, 7392.23908099, 7396.30864964,\n",
       "       7408.6421233 , 7412.79543165, 7416.97009717, 7421.1662898 ,\n",
       "       7425.38418004, 7438.16974903, 7442.476145  , 7446.80509889,\n",
       "       7451.15678433, 7455.53137551, 7468.7943331 , 7473.26229951,\n",
       "       7477.75405045, 7482.26976325, 7486.80961579, 7500.57579845,\n",
       "       7505.21399919, 7509.87723694, 7514.56569273, 7519.27954812,\n",
       "       7533.57533551, 7538.39261554, 7543.23621092, 7548.10630638,\n",
       "       7553.00308719, 7567.85540219, 7572.86078753, 7577.89379243,\n",
       "       7582.95460532, 7588.04341517, 7603.47972384, 7608.68242158,\n",
       "       7613.91406897, 7619.17485812, 7624.46498169, 7640.51329333,\n",
       "       7645.92269163, 7651.36239553, 7656.83260083, 7662.33350388,\n",
       "       7679.02237096, 7684.64803905, 7695.99463696, 7701.71596633,\n",
       "       7719.07448453, 7724.9261727 , 7730.81095596, 7736.72903751,\n",
       "       7742.68062109, 7760.7384293 , 7766.82606892, 7772.94823717,\n",
       "       7779.10514096, 7785.29698771, 7804.08426801, 7810.4179715 ,\n",
       "       7816.78766304, 7823.19355323, 7829.63585318, 7849.18333086,\n",
       "       7855.77339173, 7862.40092592, 7869.06614774, 7875.76927199,\n",
       "       7896.10821555, 7902.96510836, 7909.86098563, 7916.79606537,\n",
       "       7923.77056609, 7944.93278723, 7952.0671676 , 7959.24206946,\n",
       "       7966.45771449, 7973.71432491, 7995.73217852, 8003.15488316,\n",
       "       8010.61967217, 8018.12677093, 8025.67640534, 8048.58278952,\n",
       "       8056.3048362 , 8064.070556  , 8071.88017798, 8079.73393176,\n",
       "       8103.56228782, 8111.59487537, 8119.67275065, 8127.79614643,\n",
       "       8135.96529602, 8160.74960846, 8169.10411678, 8177.50555332,\n",
       "       8185.95415453, 8194.45015741, 8220.22495395, 8228.91294402,\n",
       "       8237.64952865, 8246.434948  , 8255.26944275, 8282.0697943 ,\n",
       "       8291.10300815, 8300.18650877, 8309.32054003, 8318.5053463 ,\n",
       "       8346.36686696, 8355.7572277 , 8365.19959329, 8374.69421129,\n",
       "       8384.24132978, 8413.20017688, 8422.95978868, 8432.77314927,\n",
       "       8442.64050993, 8452.56212241, 8482.65499647, 8492.79614456,\n",
       "       8502.99281128])"
      ]
     },
     "execution_count": 146,
     "metadata": {},
     "output_type": "execute_result"
    }
   ],
   "source": [
    "SVR_poly = make_pipeline(StandardScaler(), SVR(kernel='poly', C=1e3, degree=4, epsilon=0.1, coef0=1))\n",
    "SVR_poly.fit(test_dates_data, test_prices_data)\n",
    "SVR_poly_test = SVR_poly.predict(test_dates_data)\n",
    "SVR_poly_test"
   ]
  },
  {
   "cell_type": "code",
   "execution_count": 147,
   "metadata": {
    "colab": {
     "base_uri": "https://localhost:8080/",
     "height": 403
    },
    "executionInfo": {
     "elapsed": 80,
     "status": "ok",
     "timestamp": 1640161341809,
     "user": {
      "displayName": "Antonius Ricky",
      "photoUrl": "https://lh3.googleusercontent.com/a/default-user=s64",
      "userId": "13788256783846812684"
     },
     "user_tz": -420
    },
    "id": "i1en8pvK3IZZ",
    "outputId": "07835c58-af54-4c05-c539-7cecc169f155"
   },
   "outputs": [
    {
     "data": {
      "image/png": "[encoded data removed]",
      "text/plain": [
       "<Figure size 1200x600 with 1 Axes>"
      ]
     },
     "metadata": {},
     "output_type": "display_data"
    }
   ],
   "source": [
    "plt.figure(figsize = (12,6))\n",
    "plt.title('RBF - Stock Market Prediction Using 2020 - 2021 Data')\n",
    "plt.plot(test_dates_data, test_prices_data, color= 'red', label= 'Real Stock Price')\n",
    "plt.plot(test_actual_dates, SVR_linear_test, color= 'blue', label= 'Linear model Predicted Price')\n",
    "plt.plot(test_actual_dates, SVR_rbfk_test, color= 'yellow', label= 'RBF model Predicted Price')\n",
    "plt.plot(test_actual_dates, SVR_poly_test, color= 'green', label= 'Poly model Predicted Price') \n",
    "plt.xlabel('Date')\n",
    "plt.ylabel('Price')\n",
    "plt.legend()\n",
    "plt.show()"
   ]
  },
  {
   "cell_type": "code",
   "execution_count": 148,
   "metadata": {
    "colab": {
     "base_uri": "https://localhost:8080/"
    },
    "executionInfo": {
     "elapsed": 77,
     "status": "ok",
     "timestamp": 1640161341811,
     "user": {
      "displayName": "Antonius Ricky",
      "photoUrl": "https://lh3.googleusercontent.com/a/default-user=s64",
      "userId": "13788256783846812684"
     },
     "user_tz": -420
    },
    "id": "vUmjQQgZBFmU",
    "outputId": "5da4901a-7899-4e60-aa57-afe48b6fe3a7"
   },
   "outputs": [
    {
     "name": "stdout",
     "output_type": "stream",
     "text": [
      "SVR RBF Train RMSE: 32.14\n",
      "SVR RBF Train R2 Score: 1.00\n",
      "SVR RBF Train MAE Score: 11.33\n",
      "SVR RBF Test RMSE: 56.80\n",
      "SVR RBF Test R2 Score: 1.00\n",
      "SVR RBF Test MAE Score: 27.29\n"
     ]
    }
   ],
   "source": [
    "from sklearn.metrics import r2_score\n",
    "from sklearn.metrics import mean_squared_error\n",
    "from sklearn.metrics import mean_absolute_error\n",
    "\n",
    "print(\"SVR RBF Train RMSE: %.2f\"\n",
    "      % np.sqrt(mean_squared_error(prices_data, SVR_rbfk_train)))\n",
    "\n",
    "print(\"SVR RBF Train R2 Score: %.2f\"\n",
    "      % r2_score(prices_data, SVR_rbfk_train))\n",
    "\n",
    "print(\"SVR RBF Train MAE Score: %.2f\"\n",
    "      % mean_absolute_error(prices_data, SVR_rbfk_train))\n",
    "\n",
    "print(\"SVR RBF Test RMSE: %.2f\"\n",
    "      % np.sqrt(mean_squared_error(test_prices_data, SVR_rbfk_test)))\n",
    "\n",
    "print(\"SVR RBF Test R2 Score: %.2f\"\n",
    "      % r2_score(test_prices_data, SVR_rbfk_test))\n",
    "\n",
    "print(\"SVR RBF Test MAE Score: %.2f\"\n",
    "      % mean_absolute_error(test_prices_data, SVR_rbfk_test))\n"
   ]
  },
  {
   "cell_type": "code",
   "execution_count": 149,
   "metadata": {
    "colab": {
     "base_uri": "https://localhost:8080/"
    },
    "executionInfo": {
     "elapsed": 67,
     "status": "ok",
     "timestamp": 1640161341814,
     "user": {
      "displayName": "Antonius Ricky",
      "photoUrl": "https://lh3.googleusercontent.com/a/default-user=s64",
      "userId": "13788256783846812684"
     },
     "user_tz": -420
    },
    "id": "qoNp4IJ20Pw_",
    "outputId": "c8ac59f9-20d2-40a9-f884-e122b59ba4b7"
   },
   "outputs": [
    {
     "name": "stdout",
     "output_type": "stream",
     "text": [
      "SVR Linear Train RMSE: 486.32\n",
      "SVR Linear Train R2 Score: 0.86\n",
      "SVR Linear Train MAE Score: 352.54\n",
      "SVR Linear Test RMSE: 651.45\n",
      "SVR Linear Test R2 Score: 0.54\n",
      "SVR Linear Test MAE Score: 538.09\n"
     ]
    }
   ],
   "source": [
    "print(\"SVR Linear Train RMSE: %.2f\"\n",
    "      % np.sqrt(mean_squared_error(prices_data, SVR_linear_train)))\n",
    "\n",
    "print(\"SVR Linear Train R2 Score: %.2f\"\n",
    "      % r2_score(prices_data, SVR_linear_train))\n",
    "\n",
    "print(\"SVR Linear Train MAE Score: %.2f\"\n",
    "      % mean_absolute_error(prices_data, SVR_linear_train))\n",
    "\n",
    "print(\"SVR Linear Test RMSE: %.2f\"\n",
    "      % np.sqrt(mean_squared_error(test_prices_data, SVR_linear_test)))\n",
    "\n",
    "print(\"SVR Linear Test R2 Score: %.2f\"\n",
    "      % r2_score(test_prices_data, SVR_linear_test))\n",
    "\n",
    "print(\"SVR Linear Test MAE Score: %.2f\"\n",
    "      % mean_absolute_error(test_prices_data, SVR_linear_test))"
   ]
  },
  {
   "cell_type": "code",
   "execution_count": 150,
   "metadata": {
    "colab": {
     "base_uri": "https://localhost:8080/"
    },
    "executionInfo": {
     "elapsed": 68,
     "status": "ok",
     "timestamp": 1640161341821,
     "user": {
      "displayName": "Antonius Ricky",
      "photoUrl": "https://lh3.googleusercontent.com/a/default-user=s64",
      "userId": "13788256783846812684"
     },
     "user_tz": -420
    },
    "id": "fzC1dbwHbTEi",
    "outputId": "b6389b09-2961-470f-f5d8-907a2384e90c"
   },
   "outputs": [
    {
     "name": "stdout",
     "output_type": "stream",
     "text": [
      "SVR Poly Train RMSE: 161.60\n",
      "SVR Poly Train R2 Score: 0.99\n",
      "SVR Poly Train MAE Score: 122.26\n",
      "SVR Poly Test RMSE: 413.84\n",
      "SVR Poly Test R2 Score: 0.81\n",
      "SVR Poly Test MAE Score: 337.79\n"
     ]
    }
   ],
   "source": [
    "print(\"SVR Poly Train RMSE: %.2f\"\n",
    "      % np.sqrt(mean_squared_error(prices_data, SVR_poly_train)))\n",
    "\n",
    "print(\"SVR Poly Train R2 Score: %.2f\"\n",
    "      % r2_score(prices_data, SVR_poly_train))\n",
    "\n",
    "print(\"SVR Poly Train MAE Score: %.2f\"\n",
    "      % mean_absolute_error(prices_data, SVR_poly_train))\n",
    "\n",
    "print(\"SVR Poly Test RMSE: %.2f\"\n",
    "      % np.sqrt(mean_squared_error(test_prices_data, SVR_poly_test)))\n",
    "\n",
    "print(\"SVR Poly Test R2 Score: %.2f\"\n",
    "      % r2_score(test_prices_data, SVR_poly_test))\n",
    "\n",
    "print(\"SVR Poly Test MAE Score: %.2f\"\n",
    "      % mean_absolute_error(test_prices_data, SVR_poly_test))"
   ]
  }
 ],
 "metadata": {
  "colab": {
   "collapsed_sections": [],
   "name": "Stock Market Prediction with SVM RBF.ipynb",
   "provenance": [
    {
     "file_id": "1GOnNCVBamIyfI08scEyKb9lcXKGbSi7J",
     "timestamp": 1638709843686
    }
   ]
  },
  "kernelspec": {
   "display_name": "base",
   "language": "python",
   "name": "python3"
  },
  "language_info": {
   "codemirror_mode": {
    "name": "ipython",
    "version": 3
   },
   "file_extension": ".py",
   "mimetype": "text/x-python",
   "name": "python",
   "nbconvert_exporter": "python",
   "pygments_lexer": "ipython3",
   "version": "3.9.13"
  }
 },
 "nbformat": 4,
 "nbformat_minor": 4
}
