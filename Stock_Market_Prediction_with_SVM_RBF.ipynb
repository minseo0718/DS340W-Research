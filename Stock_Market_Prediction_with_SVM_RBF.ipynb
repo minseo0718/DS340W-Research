{
 "cells": [
  {
   "cell_type": "code",
   "execution_count": 1,
   "metadata": {
    "colab": {
     "base_uri": "https://localhost:8080/"
    },
    "executionInfo": {
     "elapsed": 11810,
     "status": "ok",
     "timestamp": 1640161279271,
     "user": {
      "displayName": "Antonius Ricky",
      "photoUrl": "https://lh3.googleusercontent.com/a/default-user=s64",
      "userId": "13788256783846812684"
     },
     "user_tz": -420
    },
    "id": "Go3V6Mh35YYP",
    "outputId": "a8eef122-f4f9-4e06-aa82-03d8e99d9e1e"
   },
   "outputs": [
    {
     "name": "stdout",
     "output_type": "stream",
     "text": [
      "Requirement already satisfied: pandas in /Users/minseokim/opt/anaconda3/lib/python3.9/site-packages (2.2.3)\n",
      "Requirement already satisfied: numpy>=1.22.4 in /Users/minseokim/opt/anaconda3/lib/python3.9/site-packages (from pandas) (1.24.0)\n",
      "Requirement already satisfied: python-dateutil>=2.8.2 in /Users/minseokim/opt/anaconda3/lib/python3.9/site-packages (from pandas) (2.8.2)\n",
      "Requirement already satisfied: pytz>=2020.1 in /Users/minseokim/opt/anaconda3/lib/python3.9/site-packages (from pandas) (2024.1)\n",
      "Requirement already satisfied: tzdata>=2022.7 in /Users/minseokim/opt/anaconda3/lib/python3.9/site-packages (from pandas) (2024.1)\n",
      "Requirement already satisfied: six>=1.5 in /Users/minseokim/opt/anaconda3/lib/python3.9/site-packages (from python-dateutil>=2.8.2->pandas) (1.16.0)\n",
      "Requirement already satisfied: pandas-datareader in /Users/minseokim/opt/anaconda3/lib/python3.9/site-packages (0.10.0)\n",
      "Requirement already satisfied: lxml in /Users/minseokim/opt/anaconda3/lib/python3.9/site-packages (from pandas-datareader) (4.9.1)\n",
      "Requirement already satisfied: pandas>=0.23 in /Users/minseokim/opt/anaconda3/lib/python3.9/site-packages (from pandas-datareader) (2.2.3)\n",
      "Requirement already satisfied: requests>=2.19.0 in /Users/minseokim/opt/anaconda3/lib/python3.9/site-packages (from pandas-datareader) (2.32.3)\n",
      "Requirement already satisfied: numpy>=1.22.4 in /Users/minseokim/opt/anaconda3/lib/python3.9/site-packages (from pandas>=0.23->pandas-datareader) (1.24.0)\n",
      "Requirement already satisfied: python-dateutil>=2.8.2 in /Users/minseokim/opt/anaconda3/lib/python3.9/site-packages (from pandas>=0.23->pandas-datareader) (2.8.2)\n",
      "Requirement already satisfied: pytz>=2020.1 in /Users/minseokim/opt/anaconda3/lib/python3.9/site-packages (from pandas>=0.23->pandas-datareader) (2024.1)\n",
      "Requirement already satisfied: tzdata>=2022.7 in /Users/minseokim/opt/anaconda3/lib/python3.9/site-packages (from pandas>=0.23->pandas-datareader) (2024.1)\n",
      "Requirement already satisfied: charset-normalizer<4,>=2 in /Users/minseokim/opt/anaconda3/lib/python3.9/site-packages (from requests>=2.19.0->pandas-datareader) (2.0.4)\n",
      "Requirement already satisfied: idna<4,>=2.5 in /Users/minseokim/opt/anaconda3/lib/python3.9/site-packages (from requests>=2.19.0->pandas-datareader) (3.3)\n",
      "Requirement already satisfied: urllib3<3,>=1.21.1 in /Users/minseokim/opt/anaconda3/lib/python3.9/site-packages (from requests>=2.19.0->pandas-datareader) (1.26.11)\n",
      "Requirement already satisfied: certifi>=2017.4.17 in /Users/minseokim/opt/anaconda3/lib/python3.9/site-packages (from requests>=2.19.0->pandas-datareader) (2022.9.24)\n",
      "Requirement already satisfied: six>=1.5 in /Users/minseokim/opt/anaconda3/lib/python3.9/site-packages (from python-dateutil>=2.8.2->pandas>=0.23->pandas-datareader) (1.16.0)\n",
      "Requirement already satisfied: yfinance in /Users/minseokim/opt/anaconda3/lib/python3.9/site-packages (0.2.43)\n",
      "Requirement already satisfied: pandas>=1.3.0 in /Users/minseokim/opt/anaconda3/lib/python3.9/site-packages (from yfinance) (2.2.3)\n",
      "Requirement already satisfied: numpy>=1.16.5 in /Users/minseokim/opt/anaconda3/lib/python3.9/site-packages (from yfinance) (1.24.0)\n",
      "Requirement already satisfied: requests>=2.31 in /Users/minseokim/opt/anaconda3/lib/python3.9/site-packages (from yfinance) (2.32.3)\n",
      "Requirement already satisfied: multitasking>=0.0.7 in /Users/minseokim/opt/anaconda3/lib/python3.9/site-packages (from yfinance) (0.0.11)\n",
      "Requirement already satisfied: lxml>=4.9.1 in /Users/minseokim/opt/anaconda3/lib/python3.9/site-packages (from yfinance) (4.9.1)\n",
      "Requirement already satisfied: platformdirs>=2.0.0 in /Users/minseokim/opt/anaconda3/lib/python3.9/site-packages (from yfinance) (2.5.2)\n",
      "Requirement already satisfied: pytz>=2022.5 in /Users/minseokim/opt/anaconda3/lib/python3.9/site-packages (from yfinance) (2024.1)\n",
      "Requirement already satisfied: frozendict>=2.3.4 in /Users/minseokim/opt/anaconda3/lib/python3.9/site-packages (from yfinance) (2.4.4)\n",
      "Requirement already satisfied: peewee>=3.16.2 in /Users/minseokim/opt/anaconda3/lib/python3.9/site-packages (from yfinance) (3.17.6)\n",
      "Requirement already satisfied: beautifulsoup4>=4.11.1 in /Users/minseokim/opt/anaconda3/lib/python3.9/site-packages (from yfinance) (4.11.1)\n",
      "Requirement already satisfied: html5lib>=1.1 in /Users/minseokim/opt/anaconda3/lib/python3.9/site-packages (from yfinance) (1.1)\n",
      "Requirement already satisfied: soupsieve>1.2 in /Users/minseokim/opt/anaconda3/lib/python3.9/site-packages (from beautifulsoup4>=4.11.1->yfinance) (2.3.1)\n",
      "Requirement already satisfied: six>=1.9 in /Users/minseokim/opt/anaconda3/lib/python3.9/site-packages (from html5lib>=1.1->yfinance) (1.16.0)\n",
      "Requirement already satisfied: webencodings in /Users/minseokim/opt/anaconda3/lib/python3.9/site-packages (from html5lib>=1.1->yfinance) (0.5.1)\n",
      "Requirement already satisfied: python-dateutil>=2.8.2 in /Users/minseokim/opt/anaconda3/lib/python3.9/site-packages (from pandas>=1.3.0->yfinance) (2.8.2)\n",
      "Requirement already satisfied: tzdata>=2022.7 in /Users/minseokim/opt/anaconda3/lib/python3.9/site-packages (from pandas>=1.3.0->yfinance) (2024.1)\n",
      "Requirement already satisfied: charset-normalizer<4,>=2 in /Users/minseokim/opt/anaconda3/lib/python3.9/site-packages (from requests>=2.31->yfinance) (2.0.4)\n",
      "Requirement already satisfied: idna<4,>=2.5 in /Users/minseokim/opt/anaconda3/lib/python3.9/site-packages (from requests>=2.31->yfinance) (3.3)\n",
      "Requirement already satisfied: urllib3<3,>=1.21.1 in /Users/minseokim/opt/anaconda3/lib/python3.9/site-packages (from requests>=2.31->yfinance) (1.26.11)\n",
      "Requirement already satisfied: certifi>=2017.4.17 in /Users/minseokim/opt/anaconda3/lib/python3.9/site-packages (from requests>=2.31->yfinance) (2022.9.24)\n"
     ]
    }
   ],
   "source": [
    "!pip install --upgrade pandas\n",
    "!pip install --upgrade pandas-datareader\n",
    "!pip install yfinance"
   ]
  },
  {
   "cell_type": "code",
   "execution_count": 2,
   "metadata": {
    "executionInfo": {
     "elapsed": 1136,
     "status": "ok",
     "timestamp": 1640161280392,
     "user": {
      "displayName": "Antonius Ricky",
      "photoUrl": "https://lh3.googleusercontent.com/a/default-user=s64",
      "userId": "13788256783846812684"
     },
     "user_tz": -420
    },
    "id": "thcpjP0J339B"
   },
   "outputs": [
    {
     "name": "stderr",
     "output_type": "stream",
     "text": [
      "/Users/minseokim/opt/anaconda3/lib/python3.9/site-packages/pandas/core/computation/expressions.py:21: UserWarning: Pandas requires version '2.8.4' or newer of 'numexpr' (version '2.8.3' currently installed).\n",
      "  from pandas.core.computation.check import NUMEXPR_INSTALLED\n",
      "/Users/minseokim/opt/anaconda3/lib/python3.9/site-packages/pandas/core/arrays/masked.py:60: UserWarning: Pandas requires version '1.3.6' or newer of 'bottleneck' (version '1.3.5' currently installed).\n",
      "  from pandas.core import (\n"
     ]
    }
   ],
   "source": [
    "import numpy as np\n",
    "import pandas as pd\n",
    "from matplotlib import style\n",
    "import datetime\n",
    "import pandas_datareader.data as web\n",
    "from sklearn.pipeline import make_pipeline\n",
    "from sklearn.preprocessing import StandardScaler"
   ]
  },
  {
   "cell_type": "code",
   "execution_count": 3,
   "metadata": {
    "executionInfo": {
     "elapsed": 1542,
     "status": "ok",
     "timestamp": 1640161281923,
     "user": {
      "displayName": "Antonius Ricky",
      "photoUrl": "https://lh3.googleusercontent.com/a/default-user=s64",
      "userId": "13788256783846812684"
     },
     "user_tz": -420
    },
    "id": "7kYhiNz44gRH"
   },
   "outputs": [
    {
     "name": "stderr",
     "output_type": "stream",
     "text": [
      "[*********************100%***********************]  1 of 1 completed\n",
      "[*********************100%***********************]  1 of 1 completed\n"
     ]
    }
   ],
   "source": [
    "import yfinance as yf\n",
    "import csv\n",
    "\n",
    "# Define the stock ticker and the date range\n",
    "ticker = 'BBCA.JK'\n",
    "train_start_date = '2010-01-04'\n",
    "train_end_date = '2019-12-01'\n",
    "\n",
    "test_start_date = '2020-01-02'\n",
    "test_end_date = '2022-12-01'\n",
    "\n",
    "validation_start_date = '2023-01-02'\n",
    "validation_end_date = datetime.date.today()\n",
    "\n",
    "# Get the data\n",
    "train_data = yf.download(ticker, start=train_start_date, end=train_end_date)\n",
    "\n",
    "train_data.to_csv('train_data.csv')\n",
    "\n",
    "\n",
    "# Get the stock data using yahoo API:\n",
    "# get 2009-2019 data to train our model\n",
    "#train_data = web.DataReader('BBCA.JK', 'yahoo', datetime.datetime(2010,1,4),datetime.datetime(2019,12,1)) \n",
    "\n",
    "# get 2020 data to present date to test the SVM model\n",
    "# test_data = web.DataReader('BBCA.JK', 'yahoo',  datetime.datetime(2020,1,2), datetime.date.today()) \n",
    "test_data = yf.download(ticker, start=test_start_date, end=test_end_date)\n",
    "#test_data = web.DataReader('BBCA.JK', 'yahoo',  datetime.datetime(2020,1,4), datetime.datetime(2021,12,1)) "
   ]
  },
  {
   "cell_type": "code",
   "execution_count": 4,
   "metadata": {
    "colab": {
     "base_uri": "https://localhost:8080/",
     "height": 450
    },
    "executionInfo": {
     "elapsed": 47,
     "status": "ok",
     "timestamp": 1640161281940,
     "user": {
      "displayName": "Antonius Ricky",
      "photoUrl": "https://lh3.googleusercontent.com/a/default-user=s64",
      "userId": "13788256783846812684"
     },
     "user_tz": -420
    },
    "id": "ISR4RsHQ5sFy",
    "outputId": "c7cf73c8-46e9-4573-b7e6-829776307be0"
   },
   "outputs": [
    {
     "data": {
      "text/html": [
       "<div>\n",
       "<style scoped>\n",
       "    .dataframe tbody tr th:only-of-type {\n",
       "        vertical-align: middle;\n",
       "    }\n",
       "\n",
       "    .dataframe tbody tr th {\n",
       "        vertical-align: top;\n",
       "    }\n",
       "\n",
       "    .dataframe thead th {\n",
       "        text-align: right;\n",
       "    }\n",
       "</style>\n",
       "<table border=\"1\" class=\"dataframe\">\n",
       "  <thead>\n",
       "    <tr style=\"text-align: right;\">\n",
       "      <th></th>\n",
       "      <th>Open</th>\n",
       "      <th>High</th>\n",
       "      <th>Low</th>\n",
       "      <th>Close</th>\n",
       "      <th>Adj Close</th>\n",
       "      <th>Volume</th>\n",
       "    </tr>\n",
       "    <tr>\n",
       "      <th>Date</th>\n",
       "      <th></th>\n",
       "      <th></th>\n",
       "      <th></th>\n",
       "      <th></th>\n",
       "      <th></th>\n",
       "      <th></th>\n",
       "    </tr>\n",
       "  </thead>\n",
       "  <tbody>\n",
       "    <tr>\n",
       "      <th>2010-01-04</th>\n",
       "      <td>1010.0</td>\n",
       "      <td>1010.0</td>\n",
       "      <td>965.0</td>\n",
       "      <td>1010.0</td>\n",
       "      <td>800.359863</td>\n",
       "      <td>77812500</td>\n",
       "    </tr>\n",
       "    <tr>\n",
       "      <th>2010-01-05</th>\n",
       "      <td>1020.0</td>\n",
       "      <td>1020.0</td>\n",
       "      <td>990.0</td>\n",
       "      <td>1020.0</td>\n",
       "      <td>808.284180</td>\n",
       "      <td>44442500</td>\n",
       "    </tr>\n",
       "    <tr>\n",
       "      <th>2010-01-06</th>\n",
       "      <td>990.0</td>\n",
       "      <td>1020.0</td>\n",
       "      <td>990.0</td>\n",
       "      <td>990.0</td>\n",
       "      <td>784.511230</td>\n",
       "      <td>27782500</td>\n",
       "    </tr>\n",
       "    <tr>\n",
       "      <th>2010-01-07</th>\n",
       "      <td>995.0</td>\n",
       "      <td>995.0</td>\n",
       "      <td>965.0</td>\n",
       "      <td>995.0</td>\n",
       "      <td>788.473328</td>\n",
       "      <td>38632500</td>\n",
       "    </tr>\n",
       "    <tr>\n",
       "      <th>2010-01-08</th>\n",
       "      <td>970.0</td>\n",
       "      <td>995.0</td>\n",
       "      <td>970.0</td>\n",
       "      <td>970.0</td>\n",
       "      <td>768.662415</td>\n",
       "      <td>27427500</td>\n",
       "    </tr>\n",
       "    <tr>\n",
       "      <th>...</th>\n",
       "      <td>...</td>\n",
       "      <td>...</td>\n",
       "      <td>...</td>\n",
       "      <td>...</td>\n",
       "      <td>...</td>\n",
       "      <td>...</td>\n",
       "    </tr>\n",
       "    <tr>\n",
       "      <th>2019-11-25</th>\n",
       "      <td>6330.0</td>\n",
       "      <td>6335.0</td>\n",
       "      <td>6275.0</td>\n",
       "      <td>6275.0</td>\n",
       "      <td>5638.059570</td>\n",
       "      <td>55133500</td>\n",
       "    </tr>\n",
       "    <tr>\n",
       "      <th>2019-11-26</th>\n",
       "      <td>6330.0</td>\n",
       "      <td>6330.0</td>\n",
       "      <td>6270.0</td>\n",
       "      <td>6285.0</td>\n",
       "      <td>5647.044434</td>\n",
       "      <td>192783500</td>\n",
       "    </tr>\n",
       "    <tr>\n",
       "      <th>2019-11-27</th>\n",
       "      <td>6270.0</td>\n",
       "      <td>6300.0</td>\n",
       "      <td>6240.0</td>\n",
       "      <td>6300.0</td>\n",
       "      <td>5660.522949</td>\n",
       "      <td>58833500</td>\n",
       "    </tr>\n",
       "    <tr>\n",
       "      <th>2019-11-28</th>\n",
       "      <td>6295.0</td>\n",
       "      <td>6295.0</td>\n",
       "      <td>6245.0</td>\n",
       "      <td>6250.0</td>\n",
       "      <td>5615.598633</td>\n",
       "      <td>44248000</td>\n",
       "    </tr>\n",
       "    <tr>\n",
       "      <th>2019-11-29</th>\n",
       "      <td>6230.0</td>\n",
       "      <td>6295.0</td>\n",
       "      <td>6225.0</td>\n",
       "      <td>6280.0</td>\n",
       "      <td>5642.552734</td>\n",
       "      <td>52954500</td>\n",
       "    </tr>\n",
       "  </tbody>\n",
       "</table>\n",
       "<p>2471 rows × 6 columns</p>\n",
       "</div>"
      ],
      "text/plain": [
       "              Open    High     Low   Close    Adj Close     Volume\n",
       "Date                                                              \n",
       "2010-01-04  1010.0  1010.0   965.0  1010.0   800.359863   77812500\n",
       "2010-01-05  1020.0  1020.0   990.0  1020.0   808.284180   44442500\n",
       "2010-01-06   990.0  1020.0   990.0   990.0   784.511230   27782500\n",
       "2010-01-07   995.0   995.0   965.0   995.0   788.473328   38632500\n",
       "2010-01-08   970.0   995.0   970.0   970.0   768.662415   27427500\n",
       "...            ...     ...     ...     ...          ...        ...\n",
       "2019-11-25  6330.0  6335.0  6275.0  6275.0  5638.059570   55133500\n",
       "2019-11-26  6330.0  6330.0  6270.0  6285.0  5647.044434  192783500\n",
       "2019-11-27  6270.0  6300.0  6240.0  6300.0  5660.522949   58833500\n",
       "2019-11-28  6295.0  6295.0  6245.0  6250.0  5615.598633   44248000\n",
       "2019-11-29  6230.0  6295.0  6225.0  6280.0  5642.552734   52954500\n",
       "\n",
       "[2471 rows x 6 columns]"
      ]
     },
     "execution_count": 4,
     "metadata": {},
     "output_type": "execute_result"
    }
   ],
   "source": [
    "train_data"
   ]
  },
  {
   "cell_type": "code",
   "execution_count": 5,
   "metadata": {
    "colab": {
     "base_uri": "https://localhost:8080/",
     "height": 450
    },
    "executionInfo": {
     "elapsed": 46,
     "status": "ok",
     "timestamp": 1640161281944,
     "user": {
      "displayName": "Antonius Ricky",
      "photoUrl": "https://lh3.googleusercontent.com/a/default-user=s64",
      "userId": "13788256783846812684"
     },
     "user_tz": -420
    },
    "id": "JqUd-cFmQcG-",
    "outputId": "bd824ba3-07ff-461c-c241-b1d728818bc3"
   },
   "outputs": [
    {
     "data": {
      "text/html": [
       "<div>\n",
       "<style scoped>\n",
       "    .dataframe tbody tr th:only-of-type {\n",
       "        vertical-align: middle;\n",
       "    }\n",
       "\n",
       "    .dataframe tbody tr th {\n",
       "        vertical-align: top;\n",
       "    }\n",
       "\n",
       "    .dataframe thead th {\n",
       "        text-align: right;\n",
       "    }\n",
       "</style>\n",
       "<table border=\"1\" class=\"dataframe\">\n",
       "  <thead>\n",
       "    <tr style=\"text-align: right;\">\n",
       "      <th></th>\n",
       "      <th>Open</th>\n",
       "      <th>High</th>\n",
       "      <th>Low</th>\n",
       "      <th>Close</th>\n",
       "      <th>Adj Close</th>\n",
       "      <th>Volume</th>\n",
       "    </tr>\n",
       "    <tr>\n",
       "      <th>Date</th>\n",
       "      <th></th>\n",
       "      <th></th>\n",
       "      <th></th>\n",
       "      <th></th>\n",
       "      <th></th>\n",
       "      <th></th>\n",
       "    </tr>\n",
       "  </thead>\n",
       "  <tbody>\n",
       "    <tr>\n",
       "      <th>2020-01-02</th>\n",
       "      <td>6695.0</td>\n",
       "      <td>6780.0</td>\n",
       "      <td>6680.0</td>\n",
       "      <td>6690.0</td>\n",
       "      <td>6029.958496</td>\n",
       "      <td>49445000</td>\n",
       "    </tr>\n",
       "    <tr>\n",
       "      <th>2020-01-03</th>\n",
       "      <td>6750.0</td>\n",
       "      <td>6800.0</td>\n",
       "      <td>6725.0</td>\n",
       "      <td>6800.0</td>\n",
       "      <td>6129.104492</td>\n",
       "      <td>47755500</td>\n",
       "    </tr>\n",
       "    <tr>\n",
       "      <th>2020-01-06</th>\n",
       "      <td>6720.0</td>\n",
       "      <td>6750.0</td>\n",
       "      <td>6690.0</td>\n",
       "      <td>6735.0</td>\n",
       "      <td>6070.518555</td>\n",
       "      <td>27300000</td>\n",
       "    </tr>\n",
       "    <tr>\n",
       "      <th>2020-01-07</th>\n",
       "      <td>6735.0</td>\n",
       "      <td>6770.0</td>\n",
       "      <td>6730.0</td>\n",
       "      <td>6740.0</td>\n",
       "      <td>6075.025391</td>\n",
       "      <td>45022500</td>\n",
       "    </tr>\n",
       "    <tr>\n",
       "      <th>2020-01-08</th>\n",
       "      <td>6670.0</td>\n",
       "      <td>6745.0</td>\n",
       "      <td>6670.0</td>\n",
       "      <td>6680.0</td>\n",
       "      <td>6020.944336</td>\n",
       "      <td>53692500</td>\n",
       "    </tr>\n",
       "    <tr>\n",
       "      <th>...</th>\n",
       "      <td>...</td>\n",
       "      <td>...</td>\n",
       "      <td>...</td>\n",
       "      <td>...</td>\n",
       "      <td>...</td>\n",
       "      <td>...</td>\n",
       "    </tr>\n",
       "    <tr>\n",
       "      <th>2022-11-24</th>\n",
       "      <td>8975.0</td>\n",
       "      <td>9000.0</td>\n",
       "      <td>8950.0</td>\n",
       "      <td>9000.0</td>\n",
       "      <td>8550.542969</td>\n",
       "      <td>53520800</td>\n",
       "    </tr>\n",
       "    <tr>\n",
       "      <th>2022-11-25</th>\n",
       "      <td>9000.0</td>\n",
       "      <td>9000.0</td>\n",
       "      <td>8900.0</td>\n",
       "      <td>8975.0</td>\n",
       "      <td>8526.791016</td>\n",
       "      <td>75048300</td>\n",
       "    </tr>\n",
       "    <tr>\n",
       "      <th>2022-11-28</th>\n",
       "      <td>9050.0</td>\n",
       "      <td>9100.0</td>\n",
       "      <td>8975.0</td>\n",
       "      <td>9025.0</td>\n",
       "      <td>8574.293945</td>\n",
       "      <td>96209700</td>\n",
       "    </tr>\n",
       "    <tr>\n",
       "      <th>2022-11-29</th>\n",
       "      <td>8975.0</td>\n",
       "      <td>9075.0</td>\n",
       "      <td>8925.0</td>\n",
       "      <td>8975.0</td>\n",
       "      <td>8526.791016</td>\n",
       "      <td>91562100</td>\n",
       "    </tr>\n",
       "    <tr>\n",
       "      <th>2022-11-30</th>\n",
       "      <td>8875.0</td>\n",
       "      <td>9400.0</td>\n",
       "      <td>8850.0</td>\n",
       "      <td>9300.0</td>\n",
       "      <td>8835.561523</td>\n",
       "      <td>644359600</td>\n",
       "    </tr>\n",
       "  </tbody>\n",
       "</table>\n",
       "<p>713 rows × 6 columns</p>\n",
       "</div>"
      ],
      "text/plain": [
       "              Open    High     Low   Close    Adj Close     Volume\n",
       "Date                                                              \n",
       "2020-01-02  6695.0  6780.0  6680.0  6690.0  6029.958496   49445000\n",
       "2020-01-03  6750.0  6800.0  6725.0  6800.0  6129.104492   47755500\n",
       "2020-01-06  6720.0  6750.0  6690.0  6735.0  6070.518555   27300000\n",
       "2020-01-07  6735.0  6770.0  6730.0  6740.0  6075.025391   45022500\n",
       "2020-01-08  6670.0  6745.0  6670.0  6680.0  6020.944336   53692500\n",
       "...            ...     ...     ...     ...          ...        ...\n",
       "2022-11-24  8975.0  9000.0  8950.0  9000.0  8550.542969   53520800\n",
       "2022-11-25  9000.0  9000.0  8900.0  8975.0  8526.791016   75048300\n",
       "2022-11-28  9050.0  9100.0  8975.0  9025.0  8574.293945   96209700\n",
       "2022-11-29  8975.0  9075.0  8925.0  8975.0  8526.791016   91562100\n",
       "2022-11-30  8875.0  9400.0  8850.0  9300.0  8835.561523  644359600\n",
       "\n",
       "[713 rows x 6 columns]"
      ]
     },
     "execution_count": 5,
     "metadata": {},
     "output_type": "execute_result"
    }
   ],
   "source": [
    "test_data"
   ]
  },
  {
   "cell_type": "code",
   "execution_count": 6,
   "metadata": {
    "executionInfo": {
     "elapsed": 45,
     "status": "ok",
     "timestamp": 1640161281946,
     "user": {
      "displayName": "Antonius Ricky",
      "photoUrl": "https://lh3.googleusercontent.com/a/default-user=s64",
      "userId": "13788256783846812684"
     },
     "user_tz": -420
    },
    "id": "KzhONdUmy5DE"
   },
   "outputs": [],
   "source": [
    "# sort by date\n",
    "train_data = train_data.sort_values('Date')\n",
    "test_data = test_data.sort_values('Date')\n",
    "\n",
    "# fix the date \n",
    "train_data.reset_index(inplace=True)\n",
    "train_data.set_index(\"Date\", inplace=True)\n",
    "test_data.reset_index(inplace=True)\n",
    "test_data.set_index(\"Date\", inplace=True)"
   ]
  },
  {
   "cell_type": "code",
   "execution_count": 7,
   "metadata": {
    "colab": {
     "base_uri": "https://localhost:8080/",
     "height": 450
    },
    "executionInfo": {
     "elapsed": 44,
     "status": "ok",
     "timestamp": 1640161281947,
     "user": {
      "displayName": "Antonius Ricky",
      "photoUrl": "https://lh3.googleusercontent.com/a/default-user=s64",
      "userId": "13788256783846812684"
     },
     "user_tz": -420
    },
    "id": "VmX1DsTASonl",
    "outputId": "3144febe-233f-4642-f6d1-020e2ab89896"
   },
   "outputs": [
    {
     "data": {
      "text/html": [
       "<div>\n",
       "<style scoped>\n",
       "    .dataframe tbody tr th:only-of-type {\n",
       "        vertical-align: middle;\n",
       "    }\n",
       "\n",
       "    .dataframe tbody tr th {\n",
       "        vertical-align: top;\n",
       "    }\n",
       "\n",
       "    .dataframe thead th {\n",
       "        text-align: right;\n",
       "    }\n",
       "</style>\n",
       "<table border=\"1\" class=\"dataframe\">\n",
       "  <thead>\n",
       "    <tr style=\"text-align: right;\">\n",
       "      <th></th>\n",
       "      <th>Open</th>\n",
       "      <th>High</th>\n",
       "      <th>Low</th>\n",
       "      <th>Close</th>\n",
       "      <th>Adj Close</th>\n",
       "      <th>Volume</th>\n",
       "    </tr>\n",
       "    <tr>\n",
       "      <th>Date</th>\n",
       "      <th></th>\n",
       "      <th></th>\n",
       "      <th></th>\n",
       "      <th></th>\n",
       "      <th></th>\n",
       "      <th></th>\n",
       "    </tr>\n",
       "  </thead>\n",
       "  <tbody>\n",
       "    <tr>\n",
       "      <th>2010-01-04</th>\n",
       "      <td>1010.0</td>\n",
       "      <td>1010.0</td>\n",
       "      <td>965.0</td>\n",
       "      <td>1010.0</td>\n",
       "      <td>800.359863</td>\n",
       "      <td>77812500</td>\n",
       "    </tr>\n",
       "    <tr>\n",
       "      <th>2010-01-05</th>\n",
       "      <td>1020.0</td>\n",
       "      <td>1020.0</td>\n",
       "      <td>990.0</td>\n",
       "      <td>1020.0</td>\n",
       "      <td>808.284180</td>\n",
       "      <td>44442500</td>\n",
       "    </tr>\n",
       "    <tr>\n",
       "      <th>2010-01-06</th>\n",
       "      <td>990.0</td>\n",
       "      <td>1020.0</td>\n",
       "      <td>990.0</td>\n",
       "      <td>990.0</td>\n",
       "      <td>784.511230</td>\n",
       "      <td>27782500</td>\n",
       "    </tr>\n",
       "    <tr>\n",
       "      <th>2010-01-07</th>\n",
       "      <td>995.0</td>\n",
       "      <td>995.0</td>\n",
       "      <td>965.0</td>\n",
       "      <td>995.0</td>\n",
       "      <td>788.473328</td>\n",
       "      <td>38632500</td>\n",
       "    </tr>\n",
       "    <tr>\n",
       "      <th>2010-01-08</th>\n",
       "      <td>970.0</td>\n",
       "      <td>995.0</td>\n",
       "      <td>970.0</td>\n",
       "      <td>970.0</td>\n",
       "      <td>768.662415</td>\n",
       "      <td>27427500</td>\n",
       "    </tr>\n",
       "    <tr>\n",
       "      <th>...</th>\n",
       "      <td>...</td>\n",
       "      <td>...</td>\n",
       "      <td>...</td>\n",
       "      <td>...</td>\n",
       "      <td>...</td>\n",
       "      <td>...</td>\n",
       "    </tr>\n",
       "    <tr>\n",
       "      <th>2019-11-25</th>\n",
       "      <td>6330.0</td>\n",
       "      <td>6335.0</td>\n",
       "      <td>6275.0</td>\n",
       "      <td>6275.0</td>\n",
       "      <td>5638.059570</td>\n",
       "      <td>55133500</td>\n",
       "    </tr>\n",
       "    <tr>\n",
       "      <th>2019-11-26</th>\n",
       "      <td>6330.0</td>\n",
       "      <td>6330.0</td>\n",
       "      <td>6270.0</td>\n",
       "      <td>6285.0</td>\n",
       "      <td>5647.044434</td>\n",
       "      <td>192783500</td>\n",
       "    </tr>\n",
       "    <tr>\n",
       "      <th>2019-11-27</th>\n",
       "      <td>6270.0</td>\n",
       "      <td>6300.0</td>\n",
       "      <td>6240.0</td>\n",
       "      <td>6300.0</td>\n",
       "      <td>5660.522949</td>\n",
       "      <td>58833500</td>\n",
       "    </tr>\n",
       "    <tr>\n",
       "      <th>2019-11-28</th>\n",
       "      <td>6295.0</td>\n",
       "      <td>6295.0</td>\n",
       "      <td>6245.0</td>\n",
       "      <td>6250.0</td>\n",
       "      <td>5615.598633</td>\n",
       "      <td>44248000</td>\n",
       "    </tr>\n",
       "    <tr>\n",
       "      <th>2019-11-29</th>\n",
       "      <td>6230.0</td>\n",
       "      <td>6295.0</td>\n",
       "      <td>6225.0</td>\n",
       "      <td>6280.0</td>\n",
       "      <td>5642.552734</td>\n",
       "      <td>52954500</td>\n",
       "    </tr>\n",
       "  </tbody>\n",
       "</table>\n",
       "<p>2471 rows × 6 columns</p>\n",
       "</div>"
      ],
      "text/plain": [
       "              Open    High     Low   Close    Adj Close     Volume\n",
       "Date                                                              \n",
       "2010-01-04  1010.0  1010.0   965.0  1010.0   800.359863   77812500\n",
       "2010-01-05  1020.0  1020.0   990.0  1020.0   808.284180   44442500\n",
       "2010-01-06   990.0  1020.0   990.0   990.0   784.511230   27782500\n",
       "2010-01-07   995.0   995.0   965.0   995.0   788.473328   38632500\n",
       "2010-01-08   970.0   995.0   970.0   970.0   768.662415   27427500\n",
       "...            ...     ...     ...     ...          ...        ...\n",
       "2019-11-25  6330.0  6335.0  6275.0  6275.0  5638.059570   55133500\n",
       "2019-11-26  6330.0  6330.0  6270.0  6285.0  5647.044434  192783500\n",
       "2019-11-27  6270.0  6300.0  6240.0  6300.0  5660.522949   58833500\n",
       "2019-11-28  6295.0  6295.0  6245.0  6250.0  5615.598633   44248000\n",
       "2019-11-29  6230.0  6295.0  6225.0  6280.0  5642.552734   52954500\n",
       "\n",
       "[2471 rows x 6 columns]"
      ]
     },
     "execution_count": 7,
     "metadata": {},
     "output_type": "execute_result"
    }
   ],
   "source": [
    "train_data"
   ]
  },
  {
   "cell_type": "code",
   "execution_count": 8,
   "metadata": {},
   "outputs": [
    {
     "data": {
      "text/html": [
       "<div>\n",
       "<style scoped>\n",
       "    .dataframe tbody tr th:only-of-type {\n",
       "        vertical-align: middle;\n",
       "    }\n",
       "\n",
       "    .dataframe tbody tr th {\n",
       "        vertical-align: top;\n",
       "    }\n",
       "\n",
       "    .dataframe thead th {\n",
       "        text-align: right;\n",
       "    }\n",
       "</style>\n",
       "<table border=\"1\" class=\"dataframe\">\n",
       "  <thead>\n",
       "    <tr style=\"text-align: right;\">\n",
       "      <th></th>\n",
       "      <th>Open</th>\n",
       "      <th>High</th>\n",
       "      <th>Low</th>\n",
       "      <th>Close</th>\n",
       "      <th>Adj Close</th>\n",
       "      <th>Volume</th>\n",
       "    </tr>\n",
       "    <tr>\n",
       "      <th>Date</th>\n",
       "      <th></th>\n",
       "      <th></th>\n",
       "      <th></th>\n",
       "      <th></th>\n",
       "      <th></th>\n",
       "      <th></th>\n",
       "    </tr>\n",
       "  </thead>\n",
       "  <tbody>\n",
       "    <tr>\n",
       "      <th>2020-01-02</th>\n",
       "      <td>6695.0</td>\n",
       "      <td>6780.0</td>\n",
       "      <td>6680.0</td>\n",
       "      <td>6690.0</td>\n",
       "      <td>6029.958496</td>\n",
       "      <td>49445000</td>\n",
       "    </tr>\n",
       "    <tr>\n",
       "      <th>2020-01-03</th>\n",
       "      <td>6750.0</td>\n",
       "      <td>6800.0</td>\n",
       "      <td>6725.0</td>\n",
       "      <td>6800.0</td>\n",
       "      <td>6129.104492</td>\n",
       "      <td>47755500</td>\n",
       "    </tr>\n",
       "    <tr>\n",
       "      <th>2020-01-06</th>\n",
       "      <td>6720.0</td>\n",
       "      <td>6750.0</td>\n",
       "      <td>6690.0</td>\n",
       "      <td>6735.0</td>\n",
       "      <td>6070.518555</td>\n",
       "      <td>27300000</td>\n",
       "    </tr>\n",
       "    <tr>\n",
       "      <th>2020-01-07</th>\n",
       "      <td>6735.0</td>\n",
       "      <td>6770.0</td>\n",
       "      <td>6730.0</td>\n",
       "      <td>6740.0</td>\n",
       "      <td>6075.025391</td>\n",
       "      <td>45022500</td>\n",
       "    </tr>\n",
       "    <tr>\n",
       "      <th>2020-01-08</th>\n",
       "      <td>6670.0</td>\n",
       "      <td>6745.0</td>\n",
       "      <td>6670.0</td>\n",
       "      <td>6680.0</td>\n",
       "      <td>6020.944336</td>\n",
       "      <td>53692500</td>\n",
       "    </tr>\n",
       "    <tr>\n",
       "      <th>...</th>\n",
       "      <td>...</td>\n",
       "      <td>...</td>\n",
       "      <td>...</td>\n",
       "      <td>...</td>\n",
       "      <td>...</td>\n",
       "      <td>...</td>\n",
       "    </tr>\n",
       "    <tr>\n",
       "      <th>2022-11-24</th>\n",
       "      <td>8975.0</td>\n",
       "      <td>9000.0</td>\n",
       "      <td>8950.0</td>\n",
       "      <td>9000.0</td>\n",
       "      <td>8550.542969</td>\n",
       "      <td>53520800</td>\n",
       "    </tr>\n",
       "    <tr>\n",
       "      <th>2022-11-25</th>\n",
       "      <td>9000.0</td>\n",
       "      <td>9000.0</td>\n",
       "      <td>8900.0</td>\n",
       "      <td>8975.0</td>\n",
       "      <td>8526.791016</td>\n",
       "      <td>75048300</td>\n",
       "    </tr>\n",
       "    <tr>\n",
       "      <th>2022-11-28</th>\n",
       "      <td>9050.0</td>\n",
       "      <td>9100.0</td>\n",
       "      <td>8975.0</td>\n",
       "      <td>9025.0</td>\n",
       "      <td>8574.293945</td>\n",
       "      <td>96209700</td>\n",
       "    </tr>\n",
       "    <tr>\n",
       "      <th>2022-11-29</th>\n",
       "      <td>8975.0</td>\n",
       "      <td>9075.0</td>\n",
       "      <td>8925.0</td>\n",
       "      <td>8975.0</td>\n",
       "      <td>8526.791016</td>\n",
       "      <td>91562100</td>\n",
       "    </tr>\n",
       "    <tr>\n",
       "      <th>2022-11-30</th>\n",
       "      <td>8875.0</td>\n",
       "      <td>9400.0</td>\n",
       "      <td>8850.0</td>\n",
       "      <td>9300.0</td>\n",
       "      <td>8835.561523</td>\n",
       "      <td>644359600</td>\n",
       "    </tr>\n",
       "  </tbody>\n",
       "</table>\n",
       "<p>713 rows × 6 columns</p>\n",
       "</div>"
      ],
      "text/plain": [
       "              Open    High     Low   Close    Adj Close     Volume\n",
       "Date                                                              \n",
       "2020-01-02  6695.0  6780.0  6680.0  6690.0  6029.958496   49445000\n",
       "2020-01-03  6750.0  6800.0  6725.0  6800.0  6129.104492   47755500\n",
       "2020-01-06  6720.0  6750.0  6690.0  6735.0  6070.518555   27300000\n",
       "2020-01-07  6735.0  6770.0  6730.0  6740.0  6075.025391   45022500\n",
       "2020-01-08  6670.0  6745.0  6670.0  6680.0  6020.944336   53692500\n",
       "...            ...     ...     ...     ...          ...        ...\n",
       "2022-11-24  8975.0  9000.0  8950.0  9000.0  8550.542969   53520800\n",
       "2022-11-25  9000.0  9000.0  8900.0  8975.0  8526.791016   75048300\n",
       "2022-11-28  9050.0  9100.0  8975.0  9025.0  8574.293945   96209700\n",
       "2022-11-29  8975.0  9075.0  8925.0  8975.0  8526.791016   91562100\n",
       "2022-11-30  8875.0  9400.0  8850.0  9300.0  8835.561523  644359600\n",
       "\n",
       "[713 rows x 6 columns]"
      ]
     },
     "execution_count": 8,
     "metadata": {},
     "output_type": "execute_result"
    }
   ],
   "source": [
    "test_data"
   ]
  },
  {
   "cell_type": "code",
   "execution_count": 9,
   "metadata": {
    "colab": {
     "base_uri": "https://localhost:8080/",
     "height": 405
    },
    "executionInfo": {
     "elapsed": 554,
     "status": "ok",
     "timestamp": 1640161282459,
     "user": {
      "displayName": "Antonius Ricky",
      "photoUrl": "https://lh3.googleusercontent.com/a/default-user=s64",
      "userId": "13788256783846812684"
     },
     "user_tz": -420
    },
    "id": "iTfQUuNb44zs",
    "outputId": "c7ebbb22-9782-4799-dc1c-417b9e6b1018"
   },
   "outputs": [
    {
     "data": {
      "image/png": "[encoded data removed]",
      "text/plain": [
       "<Figure size 1200x600 with 1 Axes>"
      ]
     },
     "metadata": {},
     "output_type": "display_data"
    }
   ],
   "source": [
    "from matplotlib import pyplot as plt\n",
    "\n",
    "style.use('seaborn')\n",
    "plt.figure(figsize = (12,6))\n",
    "plt.plot(train_data[\"Adj Close\"])\n",
    "plt.title(\"Stock Price Change\")\n",
    "plt.xlabel(\"Date\", fontsize = 12)\n",
    "plt.ylabel(\"Adjusted Close\", fontsize = 12)\n",
    "plt.show()"
   ]
  },
  {
   "cell_type": "code",
   "execution_count": 10,
   "metadata": {
    "colab": {
     "base_uri": "https://localhost:8080/",
     "height": 398
    },
    "executionInfo": {
     "elapsed": 551,
     "status": "ok",
     "timestamp": 1640161282991,
     "user": {
      "displayName": "Antonius Ricky",
      "photoUrl": "https://lh3.googleusercontent.com/a/default-user=s64",
      "userId": "13788256783846812684"
     },
     "user_tz": -420
    },
    "id": "spaogdvz0DDk",
    "outputId": "1dff6daf-8b19-49eb-c32a-8b5b28dd3f4d"
   },
   "outputs": [
    {
     "data": {
      "text/plain": [
       "<matplotlib.legend.Legend at 0x7ff4b1586a60>"
      ]
     },
     "execution_count": 10,
     "metadata": {},
     "output_type": "execute_result"
    },
    {
     "data": {
      "image/png": "[encoded data removed]",
      "text/plain": [
       "<Figure size 1200x600 with 1 Axes>"
      ]
     },
     "metadata": {},
     "output_type": "display_data"
    }
   ],
   "source": [
    "# Rolling mean\n",
    "close_price = train_data['Adj Close']\n",
    "moving_avg = close_price.rolling(window=100).mean()\n",
    "\n",
    "plt.figure(figsize = (12,6))\n",
    "plt.title(\"Stock Price Change With Moving Average of 100 Days\")\n",
    "close_price.plot(label='Stock Price')\n",
    "moving_avg.plot(label='Moving AVG Price')\n",
    "plt.xlabel('Date')\n",
    "plt.ylabel('Adjusted Close Price')\n",
    "plt.legend()"
   ]
  },
  {
   "cell_type": "code",
   "execution_count": 11,
   "metadata": {
    "colab": {
     "base_uri": "https://localhost:8080/",
     "height": 419
    },
    "executionInfo": {
     "elapsed": 31,
     "status": "ok",
     "timestamp": 1640161282995,
     "user": {
      "displayName": "Antonius Ricky",
      "photoUrl": "https://lh3.googleusercontent.com/a/default-user=s64",
      "userId": "13788256783846812684"
     },
     "user_tz": -420
    },
    "id": "0-65YcKH-xji",
    "outputId": "2ae2c753-dcbf-400c-ea82-923fbd85fd8e"
   },
   "outputs": [
    {
     "data": {
      "text/html": [
       "<div>\n",
       "<style scoped>\n",
       "    .dataframe tbody tr th:only-of-type {\n",
       "        vertical-align: middle;\n",
       "    }\n",
       "\n",
       "    .dataframe tbody tr th {\n",
       "        vertical-align: top;\n",
       "    }\n",
       "\n",
       "    .dataframe thead th {\n",
       "        text-align: right;\n",
       "    }\n",
       "</style>\n",
       "<table border=\"1\" class=\"dataframe\">\n",
       "  <thead>\n",
       "    <tr style=\"text-align: right;\">\n",
       "      <th></th>\n",
       "      <th>Date</th>\n",
       "      <th>Open</th>\n",
       "      <th>High</th>\n",
       "      <th>Low</th>\n",
       "      <th>Close</th>\n",
       "      <th>Adj Close</th>\n",
       "      <th>Volume</th>\n",
       "    </tr>\n",
       "  </thead>\n",
       "  <tbody>\n",
       "    <tr>\n",
       "      <th>0</th>\n",
       "      <td>14613.0</td>\n",
       "      <td>1010.0</td>\n",
       "      <td>1010.0</td>\n",
       "      <td>965.0</td>\n",
       "      <td>1010.0</td>\n",
       "      <td>800.359863</td>\n",
       "      <td>77812500</td>\n",
       "    </tr>\n",
       "    <tr>\n",
       "      <th>1</th>\n",
       "      <td>14614.0</td>\n",
       "      <td>1020.0</td>\n",
       "      <td>1020.0</td>\n",
       "      <td>990.0</td>\n",
       "      <td>1020.0</td>\n",
       "      <td>808.284180</td>\n",
       "      <td>44442500</td>\n",
       "    </tr>\n",
       "    <tr>\n",
       "      <th>2</th>\n",
       "      <td>14615.0</td>\n",
       "      <td>990.0</td>\n",
       "      <td>1020.0</td>\n",
       "      <td>990.0</td>\n",
       "      <td>990.0</td>\n",
       "      <td>784.511230</td>\n",
       "      <td>27782500</td>\n",
       "    </tr>\n",
       "    <tr>\n",
       "      <th>3</th>\n",
       "      <td>14616.0</td>\n",
       "      <td>995.0</td>\n",
       "      <td>995.0</td>\n",
       "      <td>965.0</td>\n",
       "      <td>995.0</td>\n",
       "      <td>788.473328</td>\n",
       "      <td>38632500</td>\n",
       "    </tr>\n",
       "    <tr>\n",
       "      <th>4</th>\n",
       "      <td>14617.0</td>\n",
       "      <td>970.0</td>\n",
       "      <td>995.0</td>\n",
       "      <td>970.0</td>\n",
       "      <td>970.0</td>\n",
       "      <td>768.662415</td>\n",
       "      <td>27427500</td>\n",
       "    </tr>\n",
       "    <tr>\n",
       "      <th>...</th>\n",
       "      <td>...</td>\n",
       "      <td>...</td>\n",
       "      <td>...</td>\n",
       "      <td>...</td>\n",
       "      <td>...</td>\n",
       "      <td>...</td>\n",
       "      <td>...</td>\n",
       "    </tr>\n",
       "    <tr>\n",
       "      <th>2466</th>\n",
       "      <td>18225.0</td>\n",
       "      <td>6330.0</td>\n",
       "      <td>6335.0</td>\n",
       "      <td>6275.0</td>\n",
       "      <td>6275.0</td>\n",
       "      <td>5638.059570</td>\n",
       "      <td>55133500</td>\n",
       "    </tr>\n",
       "    <tr>\n",
       "      <th>2467</th>\n",
       "      <td>18226.0</td>\n",
       "      <td>6330.0</td>\n",
       "      <td>6330.0</td>\n",
       "      <td>6270.0</td>\n",
       "      <td>6285.0</td>\n",
       "      <td>5647.044434</td>\n",
       "      <td>192783500</td>\n",
       "    </tr>\n",
       "    <tr>\n",
       "      <th>2468</th>\n",
       "      <td>18227.0</td>\n",
       "      <td>6270.0</td>\n",
       "      <td>6300.0</td>\n",
       "      <td>6240.0</td>\n",
       "      <td>6300.0</td>\n",
       "      <td>5660.522949</td>\n",
       "      <td>58833500</td>\n",
       "    </tr>\n",
       "    <tr>\n",
       "      <th>2469</th>\n",
       "      <td>18228.0</td>\n",
       "      <td>6295.0</td>\n",
       "      <td>6295.0</td>\n",
       "      <td>6245.0</td>\n",
       "      <td>6250.0</td>\n",
       "      <td>5615.598633</td>\n",
       "      <td>44248000</td>\n",
       "    </tr>\n",
       "    <tr>\n",
       "      <th>2470</th>\n",
       "      <td>18229.0</td>\n",
       "      <td>6230.0</td>\n",
       "      <td>6295.0</td>\n",
       "      <td>6225.0</td>\n",
       "      <td>6280.0</td>\n",
       "      <td>5642.552734</td>\n",
       "      <td>52954500</td>\n",
       "    </tr>\n",
       "  </tbody>\n",
       "</table>\n",
       "<p>2471 rows × 7 columns</p>\n",
       "</div>"
      ],
      "text/plain": [
       "         Date    Open    High     Low   Close    Adj Close     Volume\n",
       "0     14613.0  1010.0  1010.0   965.0  1010.0   800.359863   77812500\n",
       "1     14614.0  1020.0  1020.0   990.0  1020.0   808.284180   44442500\n",
       "2     14615.0   990.0  1020.0   990.0   990.0   784.511230   27782500\n",
       "3     14616.0   995.0   995.0   965.0   995.0   788.473328   38632500\n",
       "4     14617.0   970.0   995.0   970.0   970.0   768.662415   27427500\n",
       "...       ...     ...     ...     ...     ...          ...        ...\n",
       "2466  18225.0  6330.0  6335.0  6275.0  6275.0  5638.059570   55133500\n",
       "2467  18226.0  6330.0  6330.0  6270.0  6285.0  5647.044434  192783500\n",
       "2468  18227.0  6270.0  6300.0  6240.0  6300.0  5660.522949   58833500\n",
       "2469  18228.0  6295.0  6295.0  6245.0  6250.0  5615.598633   44248000\n",
       "2470  18229.0  6230.0  6295.0  6225.0  6280.0  5642.552734   52954500\n",
       "\n",
       "[2471 rows x 7 columns]"
      ]
     },
     "execution_count": 11,
     "metadata": {},
     "output_type": "execute_result"
    }
   ],
   "source": [
    "import matplotlib.dates as mdates\n",
    "\n",
    "# change the dates into ints for training \n",
    "indxed_dates = train_data.copy()\n",
    "indxed_dates = indxed_dates.reset_index()\n",
    "\n",
    "# Store the original dates for plotting the predicitons\n",
    "actual_dates = indxed_dates['Date']\n",
    "\n",
    "# convert to ints\n",
    "indxed_dates['Date'] = indxed_dates['Date'].map(mdates.date2num)\n",
    "\n",
    "indxed_dates"
   ]
  },
  {
   "cell_type": "code",
   "execution_count": 12,
   "metadata": {
    "executionInfo": {
     "elapsed": 29,
     "status": "ok",
     "timestamp": 1640161282997,
     "user": {
      "displayName": "Antonius Ricky",
      "photoUrl": "https://lh3.googleusercontent.com/a/default-user=s64",
      "userId": "13788256783846812684"
     },
     "user_tz": -420
    },
    "id": "HPCOfb38vwHu"
   },
   "outputs": [],
   "source": [
    "# Use sklearn support vector regression to predicit our data:\n",
    "from sklearn.svm import SVR\n",
    "\n",
    "dates_data = indxed_dates['Date'].to_numpy()\n",
    "prices_data = train_data['Adj Close'].to_numpy()\n",
    "\n",
    "#Convert to 1d Vector\n",
    "dates_data = np.reshape(dates_data, (len(dates_data), 1))\n",
    "prices_data = np.reshape(prices_data, (len(prices_data), 1))"
   ]
  },
  {
   "cell_type": "code",
   "execution_count": 13,
   "metadata": {
    "colab": {
     "base_uri": "https://localhost:8080/"
    },
    "executionInfo": {
     "elapsed": 2028,
     "status": "ok",
     "timestamp": 1640161284997,
     "user": {
      "displayName": "Antonius Ricky",
      "photoUrl": "https://lh3.googleusercontent.com/a/default-user=s64",
      "userId": "13788256783846812684"
     },
     "user_tz": -420
    },
    "id": "uVH5zOF5jVM1",
    "outputId": "03a375d9-2f2f-4252-b84d-d01318809274"
   },
   "outputs": [
    {
     "name": "stderr",
     "output_type": "stream",
     "text": [
      "/Users/minseokim/opt/anaconda3/lib/python3.9/site-packages/sklearn/utils/validation.py:993: DataConversionWarning: A column-vector y was passed when a 1d array was expected. Please change the shape of y to (n_samples, ), for example using ravel().\n",
      "  y = column_or_1d(y, warn=True)\n"
     ]
    }
   ],
   "source": [
    "SVR_linear = make_pipeline(StandardScaler(), SVR(kernel='linear', C=1e4))\n",
    "SVR_linear.fit(dates_data, prices_data)\n",
    "SVR_linear_train = SVR_linear.predict(dates_data)"
   ]
  },
  {
   "cell_type": "code",
   "execution_count": 14,
   "metadata": {
    "colab": {
     "base_uri": "https://localhost:8080/"
    },
    "executionInfo": {
     "elapsed": 20,
     "status": "ok",
     "timestamp": 1640161285000,
     "user": {
      "displayName": "Antonius Ricky",
      "photoUrl": "https://lh3.googleusercontent.com/a/default-user=s64",
      "userId": "13788256783846812684"
     },
     "user_tz": -420
    },
    "id": "o--RRwzd9m4W",
    "outputId": "886ef834-e1b1-4ad0-bca6-25ea19879d67"
   },
   "outputs": [
    {
     "data": {
      "text/plain": [
       "array([ 482.89985202,  483.91860712,  484.93736221, ..., 4164.68078003,\n",
       "       4165.69953514, 4166.71829022])"
      ]
     },
     "execution_count": 14,
     "metadata": {},
     "output_type": "execute_result"
    }
   ],
   "source": [
    "SVR_linear_train"
   ]
  },
  {
   "cell_type": "code",
   "execution_count": 15,
   "metadata": {
    "colab": {
     "base_uri": "https://localhost:8080/"
    },
    "executionInfo": {
     "elapsed": 54075,
     "status": "ok",
     "timestamp": 1640161339059,
     "user": {
      "displayName": "Antonius Ricky",
      "photoUrl": "https://lh3.googleusercontent.com/a/default-user=s64",
      "userId": "13788256783846812684"
     },
     "user_tz": -420
    },
    "id": "xt8rEfZU3Aep",
    "outputId": "6f2e2ae2-3605-410d-af53-7df95e2186c7"
   },
   "outputs": [
    {
     "name": "stderr",
     "output_type": "stream",
     "text": [
      "/Users/minseokim/opt/anaconda3/lib/python3.9/site-packages/sklearn/utils/validation.py:993: DataConversionWarning: A column-vector y was passed when a 1d array was expected. Please change the shape of y to (n_samples, ), for example using ravel().\n",
      "  y = column_or_1d(y, warn=True)\n"
     ]
    }
   ],
   "source": [
    "SVR_rbfk = SVR(kernel= 'rbf', C= 1e4, gamma= 0.1)\n",
    "SVR_rbfk.fit(dates_data, prices_data)\n",
    "SVR_rbfk_train = SVR_rbfk.predict(dates_data)"
   ]
  },
  {
   "cell_type": "code",
   "execution_count": 16,
   "metadata": {
    "colab": {
     "base_uri": "https://localhost:8080/"
    },
    "executionInfo": {
     "elapsed": 30,
     "status": "ok",
     "timestamp": 1640161339061,
     "user": {
      "displayName": "Antonius Ricky",
      "photoUrl": "https://lh3.googleusercontent.com/a/default-user=s64",
      "userId": "13788256783846812684"
     },
     "user_tz": -420
    },
    "id": "7WZjR3el98Ti",
    "outputId": "7c2dabcf-abff-4084-f8d7-17735a39967f"
   },
   "outputs": [
    {
     "data": {
      "text/plain": [
       "array([ 800.46005746,  799.10422121,  798.60054611, ..., 5660.42342574,\n",
       "       5680.46342022, 5642.45319113])"
      ]
     },
     "execution_count": 16,
     "metadata": {},
     "output_type": "execute_result"
    }
   ],
   "source": [
    "SVR_rbfk_train"
   ]
  },
  {
   "cell_type": "code",
   "execution_count": 17,
   "metadata": {
    "colab": {
     "base_uri": "https://localhost:8080/"
    },
    "executionInfo": {
     "elapsed": 1721,
     "status": "ok",
     "timestamp": 1640161340762,
     "user": {
      "displayName": "Antonius Ricky",
      "photoUrl": "https://lh3.googleusercontent.com/a/default-user=s64",
      "userId": "13788256783846812684"
     },
     "user_tz": -420
    },
    "id": "_BL6OA5QA-p6",
    "outputId": "a4e31394-2a54-4be8-e16c-e3accd6fa307"
   },
   "outputs": [
    {
     "name": "stderr",
     "output_type": "stream",
     "text": [
      "/Users/minseokim/opt/anaconda3/lib/python3.9/site-packages/sklearn/utils/validation.py:993: DataConversionWarning: A column-vector y was passed when a 1d array was expected. Please change the shape of y to (n_samples, ), for example using ravel().\n",
      "  y = column_or_1d(y, warn=True)\n"
     ]
    }
   ],
   "source": [
    "SVR_poly = make_pipeline(StandardScaler(), SVR(kernel='poly', C=1e3, degree=3, epsilon=0.1, coef0=1))\n",
    "SVR_poly.fit(dates_data, prices_data)\n",
    "SVR_poly_train = SVR_poly.predict(dates_data)"
   ]
  },
  {
   "cell_type": "code",
   "execution_count": 18,
   "metadata": {
    "colab": {
     "base_uri": "https://localhost:8080/"
    },
    "executionInfo": {
     "elapsed": 30,
     "status": "ok",
     "timestamp": 1640161340765,
     "user": {
      "displayName": "Antonius Ricky",
      "photoUrl": "https://lh3.googleusercontent.com/a/default-user=s64",
      "userId": "13788256783846812684"
     },
     "user_tz": -420
    },
    "id": "fISKPqaeTpKW",
    "outputId": "ae26e5f5-51e8-49f1-a58e-9ac6f7e310f9"
   },
   "outputs": [
    {
     "data": {
      "text/plain": [
       "array([ 734.63930086,  735.76139351,  736.88235571, ..., 5794.82011673,\n",
       "       5798.82127431, 5802.82515669])"
      ]
     },
     "execution_count": 18,
     "metadata": {},
     "output_type": "execute_result"
    }
   ],
   "source": [
    "SVR_poly_train"
   ]
  },
  {
   "cell_type": "code",
   "execution_count": 19,
   "metadata": {
    "colab": {
     "base_uri": "https://localhost:8080/",
     "height": 403
    },
    "executionInfo": {
     "elapsed": 29,
     "status": "ok",
     "timestamp": 1640161340770,
     "user": {
      "displayName": "Antonius Ricky",
      "photoUrl": "https://lh3.googleusercontent.com/a/default-user=s64",
      "userId": "13788256783846812684"
     },
     "user_tz": -420
    },
    "id": "CQQuW-9y22iG",
    "outputId": "32ac3cc8-4d44-44f8-f4ec-2126eaa477c8"
   },
   "outputs": [
    {
     "data": {
      "image/png": "[encoded data removed]",
      "text/plain": [
       "<Figure size 1200x600 with 1 Axes>"
      ]
     },
     "metadata": {},
     "output_type": "display_data"
    }
   ],
   "source": [
    "plt.figure(figsize = (12,6))\n",
    "plt.title('RBF - Stock Market Prediction Using 2014 - 2019 Data')\n",
    "plt.plot(dates_data, prices_data, color= 'red', label= 'Real Stock Price')\n",
    "plt.plot(actual_dates, SVR_rbfk_train, color= 'blue', label= 'RBF model Predicted Price') \n",
    "plt.plot(actual_dates, SVR_linear_train, color= 'green', label= 'Linear model Predicted Price') \n",
    "plt.plot(actual_dates, SVR_poly_train, color= 'yellow', label= 'Poly model Predicted Price') \n",
    "plt.xlabel('Date')\n",
    "plt.ylabel('Stock Price')\n",
    "plt.legend()\n",
    "plt.show()"
   ]
  },
  {
   "cell_type": "code",
   "execution_count": 20,
   "metadata": {
    "executionInfo": {
     "elapsed": 1044,
     "status": "ok",
     "timestamp": 1640161341790,
     "user": {
      "displayName": "Antonius Ricky",
      "photoUrl": "https://lh3.googleusercontent.com/a/default-user=s64",
      "userId": "13788256783846812684"
     },
     "user_tz": -420
    },
    "id": "hVVl55_8D18s"
   },
   "outputs": [],
   "source": [
    "# change the dates into ints for training \n",
    "test_indxed_dates = test_data.copy()\n",
    "test_indxed_dates = test_indxed_dates.reset_index()\n",
    "\n",
    "# Store the original dates for plotting the predicitons\n",
    "test_actual_dates = test_indxed_dates['Date']\n",
    "\n",
    "# convert to ints\n",
    "test_indxed_dates['Date'] = test_indxed_dates['Date'].map(mdates.date2num)"
   ]
  },
  {
   "cell_type": "code",
   "execution_count": 21,
   "metadata": {
    "colab": {
     "base_uri": "https://localhost:8080/",
     "height": 419
    },
    "executionInfo": {
     "elapsed": 102,
     "status": "ok",
     "timestamp": 1640161341796,
     "user": {
      "displayName": "Antonius Ricky",
      "photoUrl": "https://lh3.googleusercontent.com/a/default-user=s64",
      "userId": "13788256783846812684"
     },
     "user_tz": -420
    },
    "id": "81uyyUEDVquq",
    "outputId": "2598c020-bbcd-4ac1-df90-a163a4874e06"
   },
   "outputs": [
    {
     "data": {
      "text/html": [
       "<div>\n",
       "<style scoped>\n",
       "    .dataframe tbody tr th:only-of-type {\n",
       "        vertical-align: middle;\n",
       "    }\n",
       "\n",
       "    .dataframe tbody tr th {\n",
       "        vertical-align: top;\n",
       "    }\n",
       "\n",
       "    .dataframe thead th {\n",
       "        text-align: right;\n",
       "    }\n",
       "</style>\n",
       "<table border=\"1\" class=\"dataframe\">\n",
       "  <thead>\n",
       "    <tr style=\"text-align: right;\">\n",
       "      <th></th>\n",
       "      <th>Date</th>\n",
       "      <th>Open</th>\n",
       "      <th>High</th>\n",
       "      <th>Low</th>\n",
       "      <th>Close</th>\n",
       "      <th>Adj Close</th>\n",
       "      <th>Volume</th>\n",
       "    </tr>\n",
       "  </thead>\n",
       "  <tbody>\n",
       "    <tr>\n",
       "      <th>0</th>\n",
       "      <td>18263.0</td>\n",
       "      <td>6695.0</td>\n",
       "      <td>6780.0</td>\n",
       "      <td>6680.0</td>\n",
       "      <td>6690.0</td>\n",
       "      <td>6029.958496</td>\n",
       "      <td>49445000</td>\n",
       "    </tr>\n",
       "    <tr>\n",
       "      <th>1</th>\n",
       "      <td>18264.0</td>\n",
       "      <td>6750.0</td>\n",
       "      <td>6800.0</td>\n",
       "      <td>6725.0</td>\n",
       "      <td>6800.0</td>\n",
       "      <td>6129.104492</td>\n",
       "      <td>47755500</td>\n",
       "    </tr>\n",
       "    <tr>\n",
       "      <th>2</th>\n",
       "      <td>18267.0</td>\n",
       "      <td>6720.0</td>\n",
       "      <td>6750.0</td>\n",
       "      <td>6690.0</td>\n",
       "      <td>6735.0</td>\n",
       "      <td>6070.518555</td>\n",
       "      <td>27300000</td>\n",
       "    </tr>\n",
       "    <tr>\n",
       "      <th>3</th>\n",
       "      <td>18268.0</td>\n",
       "      <td>6735.0</td>\n",
       "      <td>6770.0</td>\n",
       "      <td>6730.0</td>\n",
       "      <td>6740.0</td>\n",
       "      <td>6075.025391</td>\n",
       "      <td>45022500</td>\n",
       "    </tr>\n",
       "    <tr>\n",
       "      <th>4</th>\n",
       "      <td>18269.0</td>\n",
       "      <td>6670.0</td>\n",
       "      <td>6745.0</td>\n",
       "      <td>6670.0</td>\n",
       "      <td>6680.0</td>\n",
       "      <td>6020.944336</td>\n",
       "      <td>53692500</td>\n",
       "    </tr>\n",
       "    <tr>\n",
       "      <th>...</th>\n",
       "      <td>...</td>\n",
       "      <td>...</td>\n",
       "      <td>...</td>\n",
       "      <td>...</td>\n",
       "      <td>...</td>\n",
       "      <td>...</td>\n",
       "      <td>...</td>\n",
       "    </tr>\n",
       "    <tr>\n",
       "      <th>708</th>\n",
       "      <td>19320.0</td>\n",
       "      <td>8975.0</td>\n",
       "      <td>9000.0</td>\n",
       "      <td>8950.0</td>\n",
       "      <td>9000.0</td>\n",
       "      <td>8550.542969</td>\n",
       "      <td>53520800</td>\n",
       "    </tr>\n",
       "    <tr>\n",
       "      <th>709</th>\n",
       "      <td>19321.0</td>\n",
       "      <td>9000.0</td>\n",
       "      <td>9000.0</td>\n",
       "      <td>8900.0</td>\n",
       "      <td>8975.0</td>\n",
       "      <td>8526.791016</td>\n",
       "      <td>75048300</td>\n",
       "    </tr>\n",
       "    <tr>\n",
       "      <th>710</th>\n",
       "      <td>19324.0</td>\n",
       "      <td>9050.0</td>\n",
       "      <td>9100.0</td>\n",
       "      <td>8975.0</td>\n",
       "      <td>9025.0</td>\n",
       "      <td>8574.293945</td>\n",
       "      <td>96209700</td>\n",
       "    </tr>\n",
       "    <tr>\n",
       "      <th>711</th>\n",
       "      <td>19325.0</td>\n",
       "      <td>8975.0</td>\n",
       "      <td>9075.0</td>\n",
       "      <td>8925.0</td>\n",
       "      <td>8975.0</td>\n",
       "      <td>8526.791016</td>\n",
       "      <td>91562100</td>\n",
       "    </tr>\n",
       "    <tr>\n",
       "      <th>712</th>\n",
       "      <td>19326.0</td>\n",
       "      <td>8875.0</td>\n",
       "      <td>9400.0</td>\n",
       "      <td>8850.0</td>\n",
       "      <td>9300.0</td>\n",
       "      <td>8835.561523</td>\n",
       "      <td>644359600</td>\n",
       "    </tr>\n",
       "  </tbody>\n",
       "</table>\n",
       "<p>713 rows × 7 columns</p>\n",
       "</div>"
      ],
      "text/plain": [
       "        Date    Open    High     Low   Close    Adj Close     Volume\n",
       "0    18263.0  6695.0  6780.0  6680.0  6690.0  6029.958496   49445000\n",
       "1    18264.0  6750.0  6800.0  6725.0  6800.0  6129.104492   47755500\n",
       "2    18267.0  6720.0  6750.0  6690.0  6735.0  6070.518555   27300000\n",
       "3    18268.0  6735.0  6770.0  6730.0  6740.0  6075.025391   45022500\n",
       "4    18269.0  6670.0  6745.0  6670.0  6680.0  6020.944336   53692500\n",
       "..       ...     ...     ...     ...     ...          ...        ...\n",
       "708  19320.0  8975.0  9000.0  8950.0  9000.0  8550.542969   53520800\n",
       "709  19321.0  9000.0  9000.0  8900.0  8975.0  8526.791016   75048300\n",
       "710  19324.0  9050.0  9100.0  8975.0  9025.0  8574.293945   96209700\n",
       "711  19325.0  8975.0  9075.0  8925.0  8975.0  8526.791016   91562100\n",
       "712  19326.0  8875.0  9400.0  8850.0  9300.0  8835.561523  644359600\n",
       "\n",
       "[713 rows x 7 columns]"
      ]
     },
     "execution_count": 21,
     "metadata": {},
     "output_type": "execute_result"
    }
   ],
   "source": [
    "test_indxed_dates"
   ]
  },
  {
   "cell_type": "code",
   "execution_count": 22,
   "metadata": {
    "executionInfo": {
     "elapsed": 101,
     "status": "ok",
     "timestamp": 1640161341798,
     "user": {
      "displayName": "Antonius Ricky",
      "photoUrl": "https://lh3.googleusercontent.com/a/default-user=s64",
      "userId": "13788256783846812684"
     },
     "user_tz": -420
    },
    "id": "v7TgNJfcEm3M"
   },
   "outputs": [],
   "source": [
    "test_dates_data = test_indxed_dates['Date'].to_numpy()\n",
    "test_prices_data = test_data['Adj Close'].to_numpy()\n",
    "\n",
    "#Convert to 1d Vector\n",
    "test_dates_data = np.reshape(test_dates_data, (len(test_dates_data), 1))\n",
    "test_prices_data = np.reshape(test_prices_data, (len(test_prices_data), 1))"
   ]
  },
  {
   "cell_type": "code",
   "execution_count": 23,
   "metadata": {
    "colab": {
     "base_uri": "https://localhost:8080/"
    },
    "executionInfo": {
     "elapsed": 104,
     "status": "ok",
     "timestamp": 1640161341802,
     "user": {
      "displayName": "Antonius Ricky",
      "photoUrl": "https://lh3.googleusercontent.com/a/default-user=s64",
      "userId": "13788256783846812684"
     },
     "user_tz": -420
    },
    "id": "-KRd6QaFmvTI",
    "outputId": "29b159f7-14b8-4a55-a2f6-12f134cade4f"
   },
   "outputs": [
    {
     "name": "stderr",
     "output_type": "stream",
     "text": [
      "/Users/minseokim/opt/anaconda3/lib/python3.9/site-packages/sklearn/utils/validation.py:993: DataConversionWarning: A column-vector y was passed when a 1d array was expected. Please change the shape of y to (n_samples, ), for example using ravel().\n",
      "  y = column_or_1d(y, warn=True)\n"
     ]
    },
    {
     "data": {
      "text/plain": [
       "array([6030.05865526, 6129.00454218, 6070.61879768, 6058.60103667,\n",
       "       6064.92814711, 6074.92561579, 6061.60497588, 6079.6318123 ,\n",
       "       6143.79683875, 6166.9405413 , 6174.07256685, 6196.80565864,\n",
       "       6160.55084914, 6156.04564309, 6165.25768551, 6151.27228092,\n",
       "       6138.21844053, 6165.05859545, 6123.66020109, 6115.68464786,\n",
       "       6042.79718011, 5840.77664537, 5804.5234553 , 5971.2401803 ,\n",
       "       6055.18588241, 6075.12520398, 6092.95221727, 6115.48413843,\n",
       "       6110.97837348, 6129.20469245, 6103.51315368, 6021.04445427,\n",
       "       6056.89797114, 6034.56457029, 5987.54643881, 5974.00542708,\n",
       "       5962.25776812, 5881.33696539, 5869.91337282, 5786.6961401 ,\n",
       "       5706.99329933, 5669.32220562, 5480.24145247, 5638.96256688,\n",
       "       5804.72282094, 5800.21659322, 5588.20131608, 5214.34706522,\n",
       "       5340.33314689, 5272.73296451, 5071.89860817, 5011.345224  ,\n",
       "       5011.34554606, 4614.95493936, 4288.1641397 , 4195.53789335,\n",
       "       4267.74026479, 3993.03113873, 4056.12535472, 4758.97032313,\n",
       "       4966.47776429, 4952.95743699, 4979.99781031, 4936.1398711 ,\n",
       "       4883.12701882, 4952.75739596, 5169.0795858 , 5102.4815766 ,\n",
       "       5078.94570632, 5043.09118346, 4957.26425262, 4970.98441648,\n",
       "       4895.57643211, 4832.4844537 , 4889.66422911, 4826.5705127 ,\n",
       "       4731.41018552, 4717.65711969, 4648.33250448, 4511.34934608,\n",
       "       4547.82547814, 4428.62630316, 4447.94893196, 4740.37967055,\n",
       "       4786.42538805, 4845.82591279, 4910.20951908, 4809.34825814,\n",
       "       4854.99491267, 4802.11024412, 4680.88401826, 4511.34932288,\n",
       "       4387.56534042, 4369.02620753, 4291.28901062, 4369.22675763,\n",
       "       4556.99596915, 4552.61048746, 4724.23744499, 4758.91798158,\n",
       "       4914.79505284, 5245.00890999, 5309.07032114, 5249.4711846 ,\n",
       "       5409.73185097, 5322.82471307, 5257.32475287, 5253.52494932,\n",
       "       5198.84164135, 5043.16344816, 5209.75486007, 5244.68653482,\n",
       "       5164.35178572, 5111.73305584, 5079.84039166, 5152.99428273,\n",
       "       5235.07628811, 5233.15680964, 5176.11674986, 5203.42483581,\n",
       "       5240.8727987 , 5318.04027371, 5382.22388497, 5382.42467508,\n",
       "       5441.82489366, 5492.45420945, 5542.27204185, 5614.02704133,\n",
       "       5684.80802787, 5662.08488958, 5678.10004435, 5691.41847038,\n",
       "       5666.47050489, 5611.65471021, 5629.99339105, 5684.8077119 ,\n",
       "       5712.67087516, 5684.80807857, 5593.315143  , 5593.31526157,\n",
       "       5671.05361074, 5702.16877723, 5721.48549869, 5620.82374007,\n",
       "       5693.97761943, 5754.59591014, 5739.82359661, 5666.66958297,\n",
       "       5611.45440934, 5662.08508095, 5712.83654384, 5776.69982023,\n",
       "       5872.77751802, 5831.71506475, 5804.20760332, 5790.45393561,\n",
       "       5836.10032938, 5968.41738504, 6051.57635571, 5955.49982996,\n",
       "       5753.77706436, 5914.4908419 , 5993.38630775, 5959.88484537,\n",
       "       5850.05347886, 5762.94623319, 5808.79175188, 5678.79769793,\n",
       "       5466.86650885, 5414.31642453, 5547.26964807, 5373.25507349,\n",
       "       5272.39412423, 5220.45124862, 5162.3633681 , 5139.24103267,\n",
       "       5014.45304461, 4925.79601344, 4992.73195589, 5143.82412841,\n",
       "       5056.91724514, 5038.16682498, 5082.94663698, 5107.14740449,\n",
       "       5047.7478892 , 5061.50181874, 5223.91763921, 5302.22581788,\n",
       "       5299.70146794, 5295.31671854, 5368.47048001, 5389.65684645,\n",
       "       5370.84083622, 5304.48527187, 5281.56266401, 5409.73197853,\n",
       "       5322.82493505, 5299.90156036, 5315.2140219 , 5290.73240746,\n",
       "       5331.79308703, 5309.07044633, 5336.57877411, 5352.75669752,\n",
       "       5447.02614626, 5638.96242523, 5776.5002611 , 5762.94652336,\n",
       "       5941.54582081, 5996.56202484, 5917.79145762, 5859.02378548,\n",
       "       5941.74603595, 5989.80412953, 6042.94607345, 6065.33109488,\n",
       "       6051.77657103, 6051.77618291, 6019.48509563, 5978.04420138,\n",
       "       5941.54622992, 5854.63775442, 5689.59203777, 5863.60833959,\n",
       "       5960.81904421, 5923.2073029 , 5859.22352214, 5978.22226922,\n",
       "       5950.91578966, 6046.9154168 , 6194.26768007, 6272.24211113,\n",
       "       6304.97202507, 6391.80320647, 6378.00617759, 6254.04807608,\n",
       "       6281.43906184, 6207.94320725, 6184.8703428 , 6235.65326152,\n",
       "       6221.8575322 , 6226.25660405, 6286.23740381, 6441.29572127,\n",
       "       6442.90392235, 6405.59708963, 6483.97181356, 6755.08331933,\n",
       "       6649.95816211, 6548.15204066, 6456.18032154, 6396.60143886,\n",
       "       6548.15203301, 6542.66478524, 6525.15921496, 6506.76510897,\n",
       "       6511.56381551, 6469.97705267, 6311.99608485, 6244.85046073,\n",
       "       6244.54656292, 6217.25904073, 6272.24233356, 6276.63759884,\n",
       "       6269.79875786, 6304.63139271, 6359.61309563, 6364.41088603,\n",
       "       6368.90985773, 6370.62505996, 6327.42360902, 6254.04832133,\n",
       "       6382.60587701, 6345.81804106, 6263.39363301, 6276.84100693,\n",
       "       6244.84980466, 6203.26115377, 6185.06984743, 6166.47556103,\n",
       "       6171.27460068, 6479.17402943, 6451.78233679, 6302.32446659,\n",
       "       6194.45298264, 6253.84830719, 6180.27219981, 6093.06898268,\n",
       "       6166.47546882, 6221.85791047, 6129.88815214, 6092.90042249,\n",
       "       6093.29237356, 6166.47582838, 6217.25938759, 6088.50179278,\n",
       "       6034.00545725, 5922.95633589, 5858.57762991, 5899.76411367,\n",
       "       5849.38092279, 5764.52546891, 5716.02444069, 5725.02070948,\n",
       "       5660.64307313, 5670.03865453, 5693.1147535 , 5721.54079083,\n",
       "       5781.95988857, 5656.05970297, 5637.31230262, 5750.52887166,\n",
       "       5856.76705663, 5851.90493647, 5847.44147149, 5814.60056336,\n",
       "       5749.31905997, 5797.2617408 , 5959.15248058, 5861.42981904,\n",
       "       5859.22192351, 5932.63028689, 5977.80433344, 5973.34053472,\n",
       "       5959.15207035, 5970.50308097, 5990.25062129, 5991.99146593,\n",
       "       5968.47794935, 5987.32977421, 6043.28532528, 6061.9371101 ,\n",
       "       5959.15262892, 5929.33161849, 5949.82636397, 5931.37478634,\n",
       "       5898.73367243, 5926.51125113, 5847.44112432, 5912.52258405,\n",
       "       5945.16299334, 6029.29683237, 6099.37662627, 6136.54393673,\n",
       "       6089.71445819, 6026.35356093, 6089.91429202, 6147.99915505,\n",
       "       6033.95956292, 5978.00378812, 6033.75978896, 5966.37252931,\n",
       "       5903.19663566, 5898.53351534, 5828.78924236, 5824.39723935,\n",
       "       5810.13771344, 5791.28547741, 5772.83404837, 5646.73420149,\n",
       "       5637.60784735, 5618.61708715, 5618.95584328, 5688.70143572,\n",
       "       5698.02730864, 5646.93344558, 5632.58512281, 5609.63037916,\n",
       "       5614.29359903, 5753.98179316, 5637.40751498, 5586.31609681,\n",
       "       5637.03817382, 5698.22681607, 5600.10509338, 5604.96739256,\n",
       "       5642.7632934 , 5628.28195537, 5600.10469885, 5600.10548549,\n",
       "       5612.3719798 , 5620.67036949, 5567.66419736, 5558.33886076,\n",
       "       5730.66712014, 5867.39128474, 5875.21935941, 5744.85574545,\n",
       "       5782.15997814, 5875.21857702, 5875.41882583, 5977.80478018,\n",
       "       5987.32983734, 6154.99573702, 6169.95057056, 6154.99546933,\n",
       "       6145.8710639 , 6154.99527842, 6154.99586911, 6117.69199337,\n",
       "       6071.26316088, 6122.3551302 , 6108.56657716, 6085.8073323 ,\n",
       "       6101.761952  , 6154.99569299, 6131.88124105, 6127.01833429,\n",
       "       6140.82104823, 6127.01834023, 6080.58854935, 6113.22983581,\n",
       "       6103.70355316, 6057.27402856, 6035.30030182, 6080.58874617,\n",
       "       6141.0079309 , 6097.49526391, 6113.029604  , 6136.34437229,\n",
       "       6141.20714222, 6136.34453599, 6082.19570749, 6136.54385826,\n",
       "       6248.19037926, 6304.40995012, 6490.72860407, 6543.22889514,\n",
       "       6586.10793939, 6677.44595545, 6798.48323957, 6766.04222063,\n",
       "       6826.46077438, 7017.84183556, 7168.97272265, 7134.41616981,\n",
       "       7017.84192111, 6994.32687875, 6901.26866805, 7017.64160677,\n",
       "       7017.84153116, 7006.79264643, 6947.69797081, 6902.69382948,\n",
       "       6971.01330224, 6901.06836345, 6808.00915145, 6818.52666117,\n",
       "       6885.37755943, 6947.6990494 , 7064.47198965, 7157.53144916,\n",
       "       7204.10795211, 7141.42992722, 7017.84194791, 6994.32740434,\n",
       "       6993.73184351, 6954.02644083, 6924.42606341, 6947.61932908,\n",
       "       6994.40506613, 6994.60537393, 6994.60486407, 6913.61494565,\n",
       "       6807.46113652, 6924.22672775, 6846.23643952, 6830.85471869,\n",
       "       6887.74234197, 6901.03338624, 6877.44056128, 6877.64011718,\n",
       "       6865.32320581, 6881.67339618, 6900.83404511, 6830.85479039,\n",
       "       6830.65420068, 6830.65470661, 6896.69466375, 7017.79828966,\n",
       "       6901.03376262, 6870.3771013 , 6854.24757637, 6830.85468767,\n",
       "       6830.65432387, 6877.6407107 , 6856.86069233, 6838.54312282,\n",
       "       6830.65456882, 6854.24770686, 6924.22627114, 6971.01333401,\n",
       "       7055.48550211, 7158.15670793, 7111.57032957, 7162.90361467,\n",
       "       7204.94248211, 7254.4700794 , 7345.3003643 , 7251.92849759,\n",
       "       7181.54989449, 7181.54951908, 7279.02513322, 7438.87238743,\n",
       "       7298.7143968 , 7201.28560082, 7228.30299637, 7298.51471444,\n",
       "       7275.1206128 , 7134.96407975, 7298.51522317, 7232.51109174,\n",
       "       7228.33540874, 7298.5146332 , 7228.53437933, 7235.62612436,\n",
       "       7302.29882073, 7321.90795168, 7205.14307379, 7368.89342776,\n",
       "       7462.26510566, 7435.29791658, 7415.48046433, 7438.87238339,\n",
       "       7392.28667303, 7419.64036903, 7485.85757564, 7532.44418899,\n",
       "       7532.44412116, 7462.26541808, 7392.08679412, 7204.94338902,\n",
       "       7204.24047923, 7310.38524363, 7415.67999492, 7438.87269389,\n",
       "       7555.83713477, 7626.2166373 , 7595.20309883, 7488.16482154,\n",
       "       7392.08663435, 7392.28648375, 7415.48011329, 7418.83883041,\n",
       "       7415.48043729, 7439.07183672, 7505.37634864, 7457.87352317,\n",
       "       7481.82532788, 7542.76305945, 7529.32841598, 7505.57660133,\n",
       "       7465.0228942 , 7363.06745627, 7363.06796268, 7457.87352203,\n",
       "       7339.31615386, 7400.40953497, 7410.57031447, 7315.36509201,\n",
       "       7315.36475691, 7244.11040554, 7268.06097582, 7386.9536583 ,\n",
       "       7481.82487946, 7600.3820669 , 7719.3403585 , 7790.39463014,\n",
       "       7719.14063442, 7220.35877086, 7149.30346354, 7027.45971509,\n",
       "       6954.04593092, 6959.09216048, 7030.54658357, 7086.67524682,\n",
       "       7078.04992008, 7030.34682909, 7006.79474212, 6981.74836363,\n",
       "       7006.79433649, 7196.60694497, 7196.80671184, 7297.70575891,\n",
       "       7196.80729378, 7220.35828072, 7077.84968957, 7061.41106729,\n",
       "       7140.01892946, 7125.55236291, 6983.04399022, 6982.84323536,\n",
       "       7030.34718923, 7072.44867775, 7117.68240252, 7125.55242505,\n",
       "       7244.30999075, 7267.86160499, 7215.50314233, 7149.10444278,\n",
       "       7101.80065552, 6982.84330788, 6935.53996785, 6911.58915822,\n",
       "       6923.35582371, 6887.83804589, 6698.02500405, 6873.10937752,\n",
       "       6935.34029121, 6860.92973899, 6792.83138547, 6769.27956888,\n",
       "       6747.55166991, 6715.27638801, 6674.07379859, 6650.52236614,\n",
       "       6792.83131508, 6924.88942831, 7030.34688924, 7030.54631837,\n",
       "       6959.29230258, 6935.3411457 , 6938.06877383, 6959.09193005,\n",
       "       6983.04310591, 6982.84310263, 7125.55234876, 7220.35829634,\n",
       "       7312.76595895, 7410.37143575, 7481.82511696, 7481.82536743,\n",
       "       7505.37689299, 7523.23826376, 7525.08657147, 7529.32874199,\n",
       "       7552.87946242, 7576.83096762, 7576.22249266, 7505.57652064,\n",
       "       7600.38281607, 7551.16366982, 7553.07963276, 7597.75276249,\n",
       "       7600.58243365, 7742.8926027 , 7766.84214133, 7737.07713891,\n",
       "       7743.092192  , 7814.14623886, 7861.64914306, 7861.84853129,\n",
       "       7908.48206837, 7958.77921485, 7956.65654965, 7956.8560319 ,\n",
       "       8099.16469521, 8150.39040239, 8078.17714728, 8028.1099616 ,\n",
       "       8217.92283983, 8123.11648686, 8051.86126367, 8006.98668292,\n",
       "       7956.85528616, 8004.15846889, 7902.50007905, 7848.26751113,\n",
       "       7956.85577082, 8122.91621493, 8075.61265919, 8122.91628967,\n",
       "       8121.47610745, 7979.09612619, 7790.59442974, 7885.40056765,\n",
       "       7914.21477696, 7891.94441154, 7861.84901729, 7837.89822576,\n",
       "       7838.09805025, 7885.40064324, 7962.98090425, 8070.18142536,\n",
       "       8218.12262315, 8455.43690387, 8265.4259    , 8151.69700343,\n",
       "       8206.55225265, 8313.1282111 , 8360.63108855, 8360.43117809,\n",
       "       8338.62830729, 8319.09729711, 8336.87903149, 8407.93339896,\n",
       "       8345.99283104, 8323.37750645, 8360.63084678, 8407.93301411,\n",
       "       8313.12802152, 8217.31048773, 8196.00436671, 8289.17748643,\n",
       "       8384.18230646, 8289.37681011, 8412.54769247, 8525.44950568,\n",
       "       8550.44277   , 8526.89066549, 8574.19416015, 8694.59565743,\n",
       "       8835.46204995])"
      ]
     },
     "execution_count": 23,
     "metadata": {},
     "output_type": "execute_result"
    }
   ],
   "source": [
    "SVR_rbfk = SVR(kernel= 'rbf', C= 1e4, gamma= 0.1)\n",
    "SVR_rbfk.fit(test_dates_data, test_prices_data)\n",
    "SVR_rbfk_test = SVR_rbfk.predict(test_dates_data)\n",
    "SVR_rbfk_test"
   ]
  },
  {
   "cell_type": "code",
   "execution_count": 24,
   "metadata": {
    "colab": {
     "base_uri": "https://localhost:8080/"
    },
    "executionInfo": {
     "elapsed": 100,
     "status": "ok",
     "timestamp": 1640161341804,
     "user": {
      "displayName": "Antonius Ricky",
      "photoUrl": "https://lh3.googleusercontent.com/a/default-user=s64",
      "userId": "13788256783846812684"
     },
     "user_tz": -420
    },
    "id": "AZWI8xU93J0_",
    "outputId": "6b612fb6-4db1-4b48-cfd6-b5f72e5002d4"
   },
   "outputs": [
    {
     "name": "stderr",
     "output_type": "stream",
     "text": [
      "/Users/minseokim/opt/anaconda3/lib/python3.9/site-packages/sklearn/utils/validation.py:993: DataConversionWarning: A column-vector y was passed when a 1d array was expected. Please change the shape of y to (n_samples, ), for example using ravel().\n",
      "  y = column_or_1d(y, warn=True)\n"
     ]
    },
    {
     "data": {
      "text/plain": [
       "array([5754.63498199, 5755.88305463, 5759.62727254, 5760.87534518,\n",
       "       5762.12341781, 5763.37149045, 5764.61956309, 5768.363781  ,\n",
       "       5769.61185364, 5770.85992628, 5772.10799891, 5773.35607155,\n",
       "       5777.10028946, 5778.3483621 , 5779.59643474, 5780.84450738,\n",
       "       5782.09258001, 5785.83679793, 5787.08487056, 5788.3329432 ,\n",
       "       5789.58101584, 5790.82908848, 5794.57330639, 5795.82137903,\n",
       "       5797.06945166, 5798.3175243 , 5799.56559694, 5803.30981485,\n",
       "       5804.55788749, 5805.80596013, 5807.05403276, 5808.3021054 ,\n",
       "       5812.04632331, 5813.29439595, 5814.54246859, 5815.79054123,\n",
       "       5817.03861386, 5820.78283178, 5822.03090441, 5823.27897705,\n",
       "       5824.52704969, 5825.77512233, 5829.51934024, 5830.76741288,\n",
       "       5832.01548551, 5833.26355815, 5834.51163079, 5838.2558487 ,\n",
       "       5839.50392134, 5840.75199398, 5842.00006661, 5843.24813925,\n",
       "       5846.99235716, 5848.2404298 , 5849.48850244, 5850.73657508,\n",
       "       5851.98464771, 5855.72886563, 5856.97693827, 5859.47308354,\n",
       "       5860.72115618, 5864.46537409, 5865.71344673, 5866.96151937,\n",
       "       5868.209592  , 5869.45766464, 5873.20188255, 5874.44995519,\n",
       "       5875.69802783, 5876.94610047, 5881.93839102, 5883.18646365,\n",
       "       5884.43453629, 5885.68260893, 5886.93068157, 5890.67489948,\n",
       "       5891.92297212, 5893.17104475, 5894.41911739, 5895.66719003,\n",
       "       5899.41140794, 5900.65948058, 5901.90755322, 5903.15562585,\n",
       "       5908.1479164 , 5909.39598904, 5910.64406168, 5913.14020695,\n",
       "       5916.88442487, 5918.1324975 , 5919.38057014, 5920.62864278,\n",
       "       5921.87671542, 5925.62093333, 5926.86900597, 5928.1170786 ,\n",
       "       5935.60551443, 5936.85358707, 5938.1016597 , 5939.34973234,\n",
       "       5944.34202289, 5945.59009553, 5946.83816817, 5948.0862408 ,\n",
       "       5951.83045872, 5953.07853135, 5954.32660399, 5955.57467663,\n",
       "       5956.82274927, 5960.56696718, 5961.81503982, 5963.06311246,\n",
       "       5964.31118509, 5965.55925773, 5969.30347564, 5970.55154828,\n",
       "       5971.79962092, 5973.04769356, 5974.29576619, 5978.03998411,\n",
       "       5979.28805674, 5980.53612938, 5981.78420202, 5983.03227466,\n",
       "       5986.77649257, 5988.02456521, 5989.27263784, 5990.52071048,\n",
       "       5991.76878312, 5995.51300103, 5996.76107367, 5998.00914631,\n",
       "       5999.25721894, 6000.50529158, 6004.24950949, 6005.49758213,\n",
       "       6006.74565477, 6007.99372741, 6009.24180004, 6012.98601796,\n",
       "       6014.23409059, 6015.48216323, 6016.73023587, 6021.72252642,\n",
       "       6022.97059906, 6024.21867169, 6025.46674433, 6026.71481697,\n",
       "       6030.45903488, 6031.70710752, 6032.95518016, 6034.20325279,\n",
       "       6035.45132543, 6040.44361598, 6041.69168862, 6047.93205181,\n",
       "       6049.18012444, 6050.42819708, 6051.67626972, 6052.92434236,\n",
       "       6056.66856027, 6057.91663291, 6059.16470555, 6060.41277818,\n",
       "       6061.66085082, 6065.40506873, 6066.65314137, 6067.90121401,\n",
       "       6069.14928665, 6070.39735928, 6074.1415772 , 6075.38964983,\n",
       "       6076.63772247, 6077.88579511, 6079.13386775, 6082.87808566,\n",
       "       6084.1261583 , 6085.37423093, 6086.62230357, 6087.87037621,\n",
       "       6091.61459412, 6092.86266676, 6094.1107394 , 6095.35881203,\n",
       "       6096.60688467, 6100.35110258, 6101.59917522, 6102.84724786,\n",
       "       6104.0953205 , 6105.34339313, 6109.08761105, 6110.33568368,\n",
       "       6111.58375632, 6112.83182896, 6114.0799016 , 6117.82411951,\n",
       "       6119.07219215, 6120.32026478, 6121.56833742, 6122.81641006,\n",
       "       6126.56062797, 6127.80870061, 6135.29713643, 6136.54520907,\n",
       "       6137.79328171, 6139.04135435, 6140.28942698, 6144.0336449 ,\n",
       "       6145.28171753, 6146.52979017, 6147.77786281, 6149.02593545,\n",
       "       6152.77015336, 6154.018226  , 6155.26629863, 6156.51437127,\n",
       "       6157.76244391, 6161.50666182, 6162.75473446, 6164.0028071 ,\n",
       "       6165.25087974, 6166.49895237, 6170.24317029, 6171.49124292,\n",
       "       6172.73931556, 6173.9873882 , 6175.23546084, 6178.97967875,\n",
       "       6180.22775139, 6182.72389666, 6183.9719693 , 6187.71618721,\n",
       "       6188.96425985, 6190.21233249, 6191.46040512, 6192.70847776,\n",
       "       6196.45269567, 6197.70076831, 6198.94884095, 6205.18920414,\n",
       "       6206.43727677, 6207.68534941, 6213.9257126 , 6215.17378524,\n",
       "       6216.42185787, 6217.66993051, 6218.91800315, 6222.66222106,\n",
       "       6223.9102937 , 6225.15836634, 6226.40643897, 6227.65451161,\n",
       "       6231.39872952, 6232.64680216, 6233.8948748 , 6235.14294744,\n",
       "       6236.39102007, 6240.13523799, 6241.38331062, 6242.63138326,\n",
       "       6243.8794559 , 6245.12752854, 6248.87174645, 6250.11981909,\n",
       "       6251.36789172, 6252.61596436, 6253.864037  , 6257.60825491,\n",
       "       6258.85632755, 6260.10440019, 6261.35247283, 6266.34476338,\n",
       "       6267.59283601, 6268.84090865, 6270.08898129, 6271.33705393,\n",
       "       6275.08127184, 6276.32934448, 6277.57741711, 6278.82548975,\n",
       "       6280.07356239, 6283.8177803 , 6285.06585294, 6286.31392558,\n",
       "       6287.56199821, 6288.81007085, 6292.55428876, 6293.8023614 ,\n",
       "       6295.05043404, 6297.54657931, 6301.29079723, 6302.53886986,\n",
       "       6303.7869425 , 6305.03501514, 6306.28308778, 6310.02730569,\n",
       "       6311.27537833, 6312.52345096, 6313.7715236 , 6315.01959624,\n",
       "       6318.76381415, 6320.01188679, 6321.25995943, 6322.50803206,\n",
       "       6327.50032261, 6328.74839525, 6329.99646789, 6331.24454053,\n",
       "       6332.49261316, 6336.23683108, 6337.48490371, 6338.73297635,\n",
       "       6339.98104899, 6341.22912163, 6344.97333954, 6346.22141218,\n",
       "       6347.46948481, 6348.71755745, 6349.96563009, 6353.709848  ,\n",
       "       6354.95792064, 6356.20599328, 6357.45406591, 6358.70213855,\n",
       "       6362.44635646, 6363.6944291 , 6364.94250174, 6366.19057438,\n",
       "       6367.43864702, 6371.18286493, 6372.43093757, 6379.91937339,\n",
       "       6381.16744603, 6382.41551867, 6383.6635913 , 6384.91166394,\n",
       "       6388.65588185, 6389.90395449, 6392.40009977, 6393.6481724 ,\n",
       "       6397.39239032, 6399.88853559, 6401.13660823, 6402.38468087,\n",
       "       6406.12889878, 6407.37697142, 6408.62504405, 6409.87311669,\n",
       "       6411.12118933, 6414.86540724, 6416.11347988, 6417.36155252,\n",
       "       6418.60962515, 6419.85769779, 6423.6019157 , 6424.84998834,\n",
       "       6426.09806098, 6427.34613362, 6428.59420625, 6432.33842417,\n",
       "       6433.5864968 , 6434.83456944, 6436.08264208, 6437.33071472,\n",
       "       6441.07493263, 6442.32300527, 6443.5710779 , 6444.81915054,\n",
       "       6446.06722318, 6449.81144109, 6451.05951373, 6452.30758637,\n",
       "       6453.555659  , 6454.80373164, 6458.54794955, 6461.04409483,\n",
       "       6462.29216747, 6463.5402401 , 6467.28445802, 6468.53253066,\n",
       "       6469.78060329, 6471.02867593, 6472.27674857, 6476.02096648,\n",
       "       6477.26903912, 6478.51711176, 6479.76518439, 6481.01325703,\n",
       "       6484.75747494, 6486.00554758, 6488.50169286, 6489.74976549,\n",
       "       6493.49398341, 6495.99012868, 6497.23820132, 6498.48627396,\n",
       "       6502.23049187, 6503.47856451, 6504.72663714, 6505.97470978,\n",
       "       6507.22278242, 6510.96700033, 6512.21507297, 6513.46314561,\n",
       "       6514.71121824, 6515.95929088, 6519.70350879, 6520.95158143,\n",
       "       6522.19965407, 6523.44772671, 6524.69579934, 6528.44001726,\n",
       "       6529.68808989, 6530.93616253, 6532.18423517, 6533.43230781,\n",
       "       6537.17652572, 6538.42459836, 6539.67267099, 6540.92074363,\n",
       "       6542.16881627, 6545.91303418, 6547.16110682, 6548.40917946,\n",
       "       6549.65725209, 6550.90532473, 6554.64954264, 6555.89761528,\n",
       "       6557.14568792, 6558.39376056, 6559.64183319, 6563.38605111,\n",
       "       6564.63412374, 6565.88219638, 6567.13026902, 6568.37834166,\n",
       "       6572.12255957, 6573.37063221, 6575.86677748, 6577.11485012,\n",
       "       6580.85906803, 6582.10714067, 6583.35521331, 6584.60328595,\n",
       "       6585.85135858, 6589.5955765 , 6590.84364913, 6592.09172177,\n",
       "       6593.33979441, 6594.58786705, 6598.33208496, 6599.5801576 ,\n",
       "       6600.82823023, 6602.07630287, 6603.32437551, 6607.06859342,\n",
       "       6608.31666606, 6609.5647387 , 6610.81281133, 6612.06088397,\n",
       "       6615.80510188, 6617.05317452, 6618.30124716, 6619.5493198 ,\n",
       "       6620.79739243, 6624.54161035, 6625.78968298, 6627.03775562,\n",
       "       6628.28582826, 6629.5339009 , 6633.27811881, 6634.52619145,\n",
       "       6635.77426408, 6637.02233672, 6638.27040936, 6642.01462727,\n",
       "       6643.26269991, 6644.51077255, 6645.75884518, 6647.00691782,\n",
       "       6650.75113573, 6651.99920837, 6653.24728101, 6654.49535365,\n",
       "       6655.74342628, 6659.4876442 , 6660.73571683, 6661.98378947,\n",
       "       6663.23186211, 6668.22415266, 6669.4722253 , 6670.72029794,\n",
       "       6671.96837057, 6673.21644321, 6676.96066112, 6678.20873376,\n",
       "       6679.4568064 , 6680.70487904, 6681.95295167, 6685.69716959,\n",
       "       6686.94524222, 6688.19331486, 6689.4413875 , 6690.68946014,\n",
       "       6694.43367805, 6695.68175069, 6696.92982332, 6698.17789596,\n",
       "       6699.4259686 , 6703.17018651, 6705.66633179, 6706.91440442,\n",
       "       6708.16247706, 6711.90669497, 6713.15476761, 6714.40284025,\n",
       "       6715.65091289, 6716.89898552, 6720.64320344, 6721.89127607,\n",
       "       6723.13934871, 6724.38742135, 6725.63549399, 6729.3797119 ,\n",
       "       6730.62778454, 6731.87585717, 6733.12392981, 6734.37200245,\n",
       "       6739.364293  , 6740.61236564, 6743.10851091, 6746.85272882,\n",
       "       6748.10080146, 6749.3488741 , 6750.59694674, 6751.84501937,\n",
       "       6755.58923729, 6756.83730992, 6758.08538256, 6759.3334552 ,\n",
       "       6760.58152784, 6764.32574575, 6765.57381839, 6766.82189102,\n",
       "       6768.06996366, 6769.3180363 , 6773.06225421, 6774.31032685,\n",
       "       6775.55839949, 6776.80647213, 6778.05454476, 6781.79876268,\n",
       "       6783.04683531, 6784.29490795, 6785.54298059, 6786.79105323,\n",
       "       6790.53527114, 6791.78334378, 6793.03141641, 6794.27948905,\n",
       "       6799.2717796 , 6800.51985224, 6801.76792488, 6803.01599751,\n",
       "       6804.26407015, 6808.00828806, 6809.2563607 , 6810.50443334,\n",
       "       6811.75250598, 6825.48130499, 6826.72937763, 6827.97745026,\n",
       "       6829.2255229 , 6830.47359554, 6835.46588609, 6836.71395873,\n",
       "       6837.96203136, 6839.210104  , 6842.95432191, 6844.20239455,\n",
       "       6845.45046719, 6847.94661246, 6851.69083038, 6852.93890301,\n",
       "       6855.43504829, 6856.68312093, 6860.42733884, 6861.67541148,\n",
       "       6862.92348411, 6864.17155675, 6865.41962939, 6869.1638473 ,\n",
       "       6870.41191994, 6871.65999258, 6872.90806522, 6874.15613785,\n",
       "       6877.90035577, 6879.1484284 , 6880.39650104, 6881.64457368,\n",
       "       6882.89264632, 6886.63686423, 6887.88493687, 6889.1330095 ,\n",
       "       6890.38108214, 6891.62915478, 6895.37337269, 6896.62144533,\n",
       "       6897.86951797, 6899.1175906 , 6900.36566324, 6904.10988115,\n",
       "       6905.35795379, 6906.60602643, 6907.85409907, 6909.1021717 ,\n",
       "       6912.84638962, 6914.09446225, 6915.34253489, 6916.59060753,\n",
       "       6917.83868017, 6921.58289808, 6922.83097072, 6924.07904335,\n",
       "       6925.32711599, 6926.57518863, 6930.31940654, 6931.56747918,\n",
       "       6932.81555182, 6934.06362445, 6935.31169709, 6939.055915  ,\n",
       "       6940.30398764, 6941.55206028, 6942.80013292, 6944.04820555,\n",
       "       6947.79242347, 6949.0404961 , 6951.53664138, 6952.78471402,\n",
       "       6956.52893193, 6957.77700457, 6959.0250772 , 6960.27314984,\n",
       "       6961.52122248, 6965.26544039, 6966.51351303, 6967.76158567,\n",
       "       6969.0096583 , 6970.25773094, 6974.00194886, 6975.25002149,\n",
       "       6976.49809413, 6977.74616677, 6978.99423941, 6982.73845732,\n",
       "       6983.98652996, 6985.23460259, 6986.48267523, 6987.73074787,\n",
       "       6991.47496578, 6992.72303842, 6993.97111106, 6995.21918369,\n",
       "       6996.46725633, 7000.21147424, 7001.45954688, 7002.70761952,\n",
       "       7003.95569216, 7005.20376479, 7008.94798271, 7010.19605534,\n",
       "       7011.44412798, 7012.69220062, 7013.94027326, 7017.68449117,\n",
       "       7018.93256381, 7020.18063644, 7021.42870908, 7022.67678172,\n",
       "       7026.42099963, 7027.66907227, 7028.91714491, 7030.16521754,\n",
       "       7031.41329018, 7035.15750809, 7036.40558073, 7037.65365337,\n",
       "       7038.90172601, 7040.14979864, 7043.89401656, 7045.14208919,\n",
       "       7046.39016183, 7047.63823447, 7048.88630711, 7052.63052502,\n",
       "       7053.87859766, 7055.12667029, 7056.37474293, 7057.62281557,\n",
       "       7061.36703348, 7062.61510612, 7063.86317876, 7065.11125139,\n",
       "       7066.35932403, 7070.10354194, 7071.35161458, 7072.59968722,\n",
       "       7073.84775986, 7075.0958325 , 7078.84005041, 7080.08812305,\n",
       "       7081.33619568])"
      ]
     },
     "execution_count": 24,
     "metadata": {},
     "output_type": "execute_result"
    }
   ],
   "source": [
    "SVR_linear = make_pipeline(StandardScaler(), SVR(kernel='linear', C=1))\n",
    "SVR_linear.fit(test_dates_data, test_prices_data)\n",
    "SVR_linear_test =  SVR_linear.predict(test_dates_data)\n",
    "SVR_linear_test"
   ]
  },
  {
   "cell_type": "code",
   "execution_count": 25,
   "metadata": {
    "colab": {
     "base_uri": "https://localhost:8080/"
    },
    "executionInfo": {
     "elapsed": 90,
     "status": "ok",
     "timestamp": 1640161341807,
     "user": {
      "displayName": "Antonius Ricky",
      "photoUrl": "https://lh3.googleusercontent.com/a/default-user=s64",
      "userId": "13788256783846812684"
     },
     "user_tz": -420
    },
    "id": "09ynvcyjmuuu",
    "outputId": "9d206543-7053-4a11-f571-49f4aaf2276f"
   },
   "outputs": [
    {
     "name": "stderr",
     "output_type": "stream",
     "text": [
      "/Users/minseokim/opt/anaconda3/lib/python3.9/site-packages/sklearn/utils/validation.py:993: DataConversionWarning: A column-vector y was passed when a 1d array was expected. Please change the shape of y to (n_samples, ), for example using ravel().\n",
      "  y = column_or_1d(y, warn=True)\n"
     ]
    },
    {
     "data": {
      "text/plain": [
       "array([6139.64487388, 6129.13053083, 6098.08089262, 6087.89446145,\n",
       "       6077.78924802, 6067.76494928, 6057.82126272, 6028.47085888,\n",
       "       6018.84660646, 6009.30146157, 5999.83512487, 5990.44729755,\n",
       "       5962.75189151, 5953.67512405, 5944.67537978, 5935.75236307,\n",
       "       5926.90577879, 5900.8216772 , 5892.27788196, 5883.80905146,\n",
       "       5875.41489375, 5867.09511739, 5842.57917008, 5834.55401543,\n",
       "       5826.60179291, 5818.72221427, 5810.91499178, 5787.92459178,\n",
       "       5780.40392712, 5772.95418786, 5765.57508944, 5758.26634783,\n",
       "       5736.75943139, 5729.7292872 , 5722.76808755, 5715.87555157,\n",
       "       5709.05139892, 5688.98644547, 5682.4330333 , 5675.94661067,\n",
       "       5669.5269004 , 5663.17362587, 5644.50965806, 5638.41937051,\n",
       "       5632.39414338, 5626.43370319, 5620.53777697, 5603.23436064,\n",
       "       5597.59377141, 5592.01633933, 5586.50179461, 5581.04986801,\n",
       "       5565.0671122 , 5559.86297603, 5554.72011962, 5549.63827686,\n",
       "       5544.61718221, 5529.91573918, 5525.13499188, 5515.75151957,\n",
       "       5511.14827028, 5497.68933547, 5493.31909394, 5489.00645497,\n",
       "       5484.75115985, 5480.55295042, 5468.29826247, 5464.32582465,\n",
       "       5460.40918959, 5456.54810228, 5441.65414902, 5438.06699393,\n",
       "       5434.53386766, 5431.05451892, 5427.62869691, 5417.66989145,\n",
       "       5414.45567917, 5411.29374765, 5408.18384929, 5405.12573698,\n",
       "       5396.25965355, 5393.40622523, 5390.60335547, 5387.85080037,\n",
       "       5377.33886657, 5374.83424443, 5372.37848453, 5367.61259107,\n",
       "       5360.82422925, 5358.65661658, 5356.53619567, 5354.46273002,\n",
       "       5352.43598361, 5346.63370778, 5344.79148893, 5342.99481725,\n",
       "       5333.15827623, 5331.67394506, 5330.23331319, 5328.83615203,\n",
       "       5323.67766068, 5322.49444238, 5321.3533342 , 5320.25411126,\n",
       "       5317.20551258, 5316.27159197, 5315.37843995, 5314.52583476,\n",
       "       5313.71355519, 5311.51646594, 5310.86328724, 5310.24933598,\n",
       "       5309.67439413, 5309.13824416, 5307.76037821, 5307.3772311 ,\n",
       "       5307.03179617, 5306.72385908, 5306.45320599, 5305.86282041,\n",
       "       5305.73917564, 5305.65175366, 5305.60034382, 5305.58473597,\n",
       "       5305.75063103, 5305.87614043, 5306.03640909, 5306.23123005,\n",
       "       5306.46039686, 5307.35191603, 5307.71641249, 5308.11423054,\n",
       "       5308.54516692, 5309.00901889, 5310.59604884, 5311.18954631,\n",
       "       5311.81495358, 5312.47207108, 5313.16069976, 5315.41367036,\n",
       "       5316.22636387, 5317.06958125, 5317.94312662, 5321.73668895,\n",
       "       5322.75895459, 5323.81038404, 5324.89078511, 5325.99996616,\n",
       "       5329.49828047, 5330.7206754 , 5331.97089994, 5333.2487656 ,\n",
       "       5334.55408443, 5340.04615066, 5341.48593438, 5349.07622297,\n",
       "       5350.67127222, 5352.29156029, 5353.93690608, 5355.60712902,\n",
       "       5360.76526299, 5362.53319941, 5364.32511804, 5366.1408415 ,\n",
       "       5367.98019291, 5373.63825399, 5375.570359  , 5377.5252155 ,\n",
       "       5379.50264979, 5381.50248869, 5387.63470916, 5389.72244525,\n",
       "       5391.83172798, 5393.96238733, 5396.11425381, 5402.69540915,\n",
       "       5404.9304199 , 5407.18579828, 5409.46137798, 5411.75699321,\n",
       "       5418.76240211, 5421.13651213, 5423.52983666, 5425.94221308,\n",
       "       5428.37347928, 5435.77900363, 5438.28421863, 5440.80752086,\n",
       "       5443.34875142, 5445.9077519 , 5453.68979678, 5456.31830351,\n",
       "       5458.96379609, 5461.62611928, 5464.30511839, 5472.4406321 ,\n",
       "       5475.1847984 , 5477.94487501, 5480.72071041, 5483.51215358,\n",
       "       5491.9786276 , 5494.83100236, 5512.25216876, 5515.20548194,\n",
       "       5518.17263199, 5521.15347475, 5524.14786661, 5533.21090853,\n",
       "       5536.25807117, 5539.31807275, 5542.3907728 , 5545.47603142,\n",
       "       5554.80576733, 5557.93987153, 5561.0858426 , 5564.24354378,\n",
       "       5567.41283885, 5576.98893305, 5580.20325197, 5583.42849157,\n",
       "       5586.66451878, 5589.91120107, 5599.71386106, 5603.00184893,\n",
       "       5606.29983715, 5609.60769635, 5612.9252977 , 5622.93527417,\n",
       "       5626.29056629, 5633.02834253, 5636.41057583, 5646.60916269,\n",
       "       5650.02557544, 5653.45022547, 5656.88299082, 5660.32375005,\n",
       "       5670.69278439, 5674.16431519, 5677.64324056, 5695.14466451,\n",
       "       5698.66549187, 5702.19289693, 5719.92459576, 5723.48907924,\n",
       "       5727.05934943, 5730.63529543, 5734.21680689, 5744.99363832,\n",
       "       5748.59631856, 5752.20402038, 5755.81663658, 5759.4340605 ,\n",
       "       5770.31411984, 5773.94971854, 5777.58959956, 5781.2336594 ,\n",
       "       5784.88179508, 5795.84963543, 5799.51305537, 5803.18004423,\n",
       "       5806.8505022 , 5810.52433002, 5821.5650477 , 5825.25137271,\n",
       "       5828.9405791 , 5832.63257078, 5836.32725217, 5847.42648669,\n",
       "       5851.13098167, 5854.83769638, 5858.54653841, 5873.40134994,\n",
       "       5877.11946087, 5880.83915572, 5884.5603458 , 5888.28294291,\n",
       "       5899.45830245, 5903.18565636, 5906.91398427, 5910.64320117,\n",
       "       5914.37322256, 5925.56727669, 5929.29968168, 5933.03247662,\n",
       "       5936.76558018, 5940.49891156, 5951.69947259, 5955.43291784,\n",
       "       5959.16619485, 5966.63193412, 5977.82735757, 5981.55801332,\n",
       "       5985.2879685 , 5989.01714917, 5992.74548192, 6003.9246665 ,\n",
       "       6007.64888407, 6011.37189459, 6015.09362784, 6018.8140141 ,\n",
       "       6029.96640175, 6033.68071349, 6037.3933376 , 6041.10420754,\n",
       "       6055.92883311, 6059.62995248, 6063.32892948, 6067.02570128,\n",
       "       6070.72020555, 6081.78949789, 6085.47431939, 6089.15656967,\n",
       "       6092.83618957, 6096.51312047, 6107.52720085, 6111.19280005,\n",
       "       6114.85542504, 6118.51502036, 6122.17153107, 6133.12201421,\n",
       "       6136.76564776, 6140.40592997, 6144.04280908, 6147.67623384,\n",
       "       6158.55527767, 6162.17438328, 6165.78978629, 6169.40143863,\n",
       "       6173.00929276, 6183.8095984 , 6187.40179485, 6208.86885105,\n",
       "       6212.43193818, 6215.99069778, 6219.54508918, 6223.09507224,\n",
       "       6233.71817772, 6237.25013644, 6244.30021334, 6247.81825809,\n",
       "       6258.34398799, 6265.33712359, 6268.82638463, 6272.31073065,\n",
       "       6282.73395892, 6286.19832781, 6289.65762581, 6293.11182331,\n",
       "       6296.56089125, 6306.87703501, 6310.30530463, 6313.72830729,\n",
       "       6317.1460171 , 6320.55840867, 6330.76342826, 6334.15430379,\n",
       "       6337.53974217, 6340.91972118, 6344.29421917, 6354.38461813,\n",
       "       6357.73698581, 6361.08377202, 6364.42495823, 6367.76052648,\n",
       "       6377.73335155, 6381.0462787 , 6384.35350591, 6387.65501837,\n",
       "       6390.95080179, 6400.80364292, 6404.07637792, 6407.34332038,\n",
       "       6410.6044592 , 6413.85978377, 6423.5907741 , 6430.04885943,\n",
       "       6433.26910579, 6436.48347856, 6446.09129444, 6449.28211455,\n",
       "       6452.46703454, 6455.64605068, 6458.81915978, 6468.30302075,\n",
       "       6471.45248025, 6474.59602464, 6477.73365388, 6480.86536848,\n",
       "       6490.2250373 , 6493.33310884, 6499.53154288, 6502.62191324,\n",
       "       6511.85769584, 6517.98550296, 6521.04061263, 6524.08987005,\n",
       "       6533.2026156 , 6536.22855345, 6539.24868642, 6542.26302554,\n",
       "       6545.27158241, 6554.26268326, 6557.24823751, 6560.22807534,\n",
       "       6563.20221151, 6566.17066128, 6575.04205298, 6577.98792055,\n",
       "       6580.92818604, 6583.86286789, 6586.79198509, 6595.5461464 ,\n",
       "       6598.45320526, 6601.35480226, 6604.25095952, 6607.14169973,\n",
       "       6615.7816526 , 6618.65096182, 6621.51497524, 6624.3737187 ,\n",
       "       6627.22721857, 6635.75652817, 6638.58932785, 6641.41702369,\n",
       "       6644.2396452 , 6647.05722245, 6655.47999713, 6658.27770848,\n",
       "       6661.07053378, 6663.85850626, 6666.64165967, 6674.962551  ,\n",
       "       6677.72677626, 6680.48635915, 6683.24133658, 6685.99174602,\n",
       "       6694.21594875, 6696.94847125, 6702.40043836, 6705.11996474,\n",
       "       6713.25321685, 6715.95600096, 6718.65470766, 6721.34938124,\n",
       "       6724.04006655, 6732.08864919, 6734.76384039, 6737.43527543,\n",
       "       6740.10300234, 6742.76706964, 6750.73780718, 6753.38773198,\n",
       "       6756.03424777, 6758.67740625, 6761.31725966, 6769.21751968,\n",
       "       6771.84468566, 6774.46881565, 6777.08996503, 6779.70818974,\n",
       "       6787.545883  , 6790.15297884, 6792.75743754, 6795.35931822,\n",
       "       6797.95868048, 6805.74226096, 6808.33215636, 6810.91983938,\n",
       "       6813.50537281, 6816.08881995, 6823.82728482, 6826.40303058,\n",
       "       6828.97701457, 6831.54930327, 6834.11996369, 6841.82285331,\n",
       "       6844.3876813 , 6846.95122398, 6849.51355155, 6852.0747347 ,\n",
       "       6859.75213266, 6862.30945579, 6864.86599596, 6867.42182705,\n",
       "       6869.97702345, 6877.63955653, 6880.1929688 , 6882.74612631,\n",
       "       6885.29910665, 6895.51082608, 6898.06410254, 6900.61767833,\n",
       "       6903.17163471, 6905.72605348, 6913.39290992, 6915.95000671,\n",
       "       6918.50798276, 6921.06692305, 6923.62691305, 6931.31404414,\n",
       "       6933.87909845, 6936.44563783, 6939.01375095, 6941.58352698,\n",
       "       6949.30373231, 6951.8810624 , 6954.46050923, 6957.04216517,\n",
       "       6959.62612309, 6967.39274545, 6972.58373013, 6975.18347996,\n",
       "       6977.7861967 , 6985.61312206, 6988.22868276, 6990.84770115,\n",
       "       6993.470277  , 6996.09651055, 7003.99816811, 7006.64004577,\n",
       "       7009.28609041, 7011.93640546, 7014.59109489, 7022.58245704,\n",
       "       7025.25569419, 7027.93383347, 7030.61698199, 7033.30524744,\n",
       "       7044.11165   , 7046.82713337, 7052.27553335, 7060.49339463,\n",
       "       7063.24520263, 7066.00346064, 7068.76828317, 7071.53978529,\n",
       "       7079.89552752, 7082.69490901, 7085.50155324, 7088.31557845,\n",
       "       7091.13710336, 7099.64787174, 7102.50059352, 7105.36141665,\n",
       "       7108.23046305, 7111.10785516, 7119.79133809, 7122.70334801,\n",
       "       7125.62432377, 7128.55439097, 7131.49367574, 7140.36810482,\n",
       "       7143.34553182, 7146.332815  , 7149.33008367, 7152.33746764,\n",
       "       7161.42161765, 7164.47077174, 7167.53069821, 7170.60153007,\n",
       "       7182.9965898 , 7186.12396203, 7189.26304873, 7192.41398659,\n",
       "       7195.57691282, 7205.13900192, 7208.35126444, 7211.57620936,\n",
       "       7214.81397708, 7251.31640611, 7254.71918986, 7258.13666951,\n",
       "       7261.56899283, 7265.01630812, 7278.95847371, 7282.48299199,\n",
       "       7286.02340317, 7289.57985927, 7300.34702498, 7303.96919131,\n",
       "       7307.60817049, 7314.93718858, 7326.06070846, 7329.80384175,\n",
       "       7337.34399756, 7341.14133834, 7352.6443328 , 7356.51619159,\n",
       "       7360.40708364, 7364.31717151, 7368.2466183 , 7380.15275095,\n",
       "       7384.16127484, 7388.189981  , 7392.23903569, 7396.3086057 ,\n",
       "       7408.64208335, 7412.79539301, 7416.97005982, 7421.16625373,\n",
       "       7425.38414522, 7438.16971789, 7442.47611506, 7446.80507012,\n",
       "       7451.15675672, 7455.53134904, 7468.79430995, 7473.26227743,\n",
       "       7477.75402942, 7482.26974325, 7486.8095968 , 7500.57578235,\n",
       "       7505.21398402, 7509.87722267, 7514.56567934, 7519.27953559,\n",
       "       7533.57532542, 7538.39260621, 7543.23620233, 7548.10629851,\n",
       "       7553.00308   , 7567.85539692, 7572.86078284, 7577.89378831,\n",
       "       7582.95460173, 7588.04341208, 7603.4797221 , 7608.68242024,\n",
       "       7613.91406798, 7619.17485747, 7624.46498134, 7640.51329369,\n",
       "       7645.92269217, 7651.36239621, 7656.83260163, 7662.33350476,\n",
       "       7679.02237188, 7684.64803991, 7695.9946376 , 7701.71596681,\n",
       "       7719.07448431, 7724.92617217, 7730.81095509, 7736.72903626,\n",
       "       7742.68061942, 7760.73842612, 7766.82606516, 7772.94823279,\n",
       "       7779.10513592, 7785.29698197, 7804.08425991, 7810.41796253,\n",
       "       7816.78765316, 7823.19354239, 7829.63584134, 7849.18331574,\n",
       "       7855.77337543, 7862.40090839, 7869.06612893, 7875.76925186,\n",
       "       7896.10819116, 7902.96508245, 7909.86095816, 7916.79603629,\n",
       "       7923.77053534, 7944.93275117, 7952.06712967, 7959.24202961,\n",
       "       7966.45767267, 7973.71428106, 7995.73212825, 8003.15483065,\n",
       "       8010.61961736, 8018.12671376, 8025.67634576, 8048.58272235,\n",
       "       8056.30476639, 8064.07048348, 8071.8801027 , 8079.73385366,\n",
       "       8103.56220089, 8111.59478537, 8119.67265753, 8127.79605012,\n",
       "       8135.96519645, 8160.74949875, 8169.10400357, 8177.50543653,\n",
       "       8185.9540341 , 8194.45003328, 8220.2248183 , 8228.91280439,\n",
       "       8237.64938497, 8246.43480021, 8255.26929078, 8282.06962935,\n",
       "       8291.10283874, 8300.18633482, 8309.32036147, 8318.50516305,\n",
       "       8346.36666922, 8355.75702497, 8365.19938551, 8374.69399837,\n",
       "       8384.24111165, 8413.19994266, 8422.95954894, 8432.77290393,\n",
       "       8442.64025891, 8452.56186563, 8482.65472192, 8492.79586393,\n",
       "       8502.99252448])"
      ]
     },
     "execution_count": 25,
     "metadata": {},
     "output_type": "execute_result"
    }
   ],
   "source": [
    "SVR_poly = make_pipeline(StandardScaler(), SVR(kernel='poly', C=1e3, degree=4, epsilon=0.1, coef0=1))\n",
    "SVR_poly.fit(test_dates_data, test_prices_data)\n",
    "SVR_poly_test = SVR_poly.predict(test_dates_data)\n",
    "SVR_poly_test"
   ]
  },
  {
   "cell_type": "code",
   "execution_count": 26,
   "metadata": {
    "colab": {
     "base_uri": "https://localhost:8080/",
     "height": 403
    },
    "executionInfo": {
     "elapsed": 80,
     "status": "ok",
     "timestamp": 1640161341809,
     "user": {
      "displayName": "Antonius Ricky",
      "photoUrl": "https://lh3.googleusercontent.com/a/default-user=s64",
      "userId": "13788256783846812684"
     },
     "user_tz": -420
    },
    "id": "i1en8pvK3IZZ",
    "outputId": "07835c58-af54-4c05-c539-7cecc169f155"
   },
   "outputs": [
    {
     "data": {
      "image/png": "[encoded data removed]",
      "text/plain": [
       "<Figure size 1200x600 with 1 Axes>"
      ]
     },
     "metadata": {},
     "output_type": "display_data"
    }
   ],
   "source": [
    "plt.figure(figsize = (12,6))\n",
    "plt.title('RBF - Stock Market Prediction Using 2020 - 2021 Data')\n",
    "plt.plot(test_dates_data, test_prices_data, color= 'red', label= 'Real Stock Price')\n",
    "plt.plot(test_actual_dates, SVR_linear_test, color= 'blue', label= 'Linear model Predicted Price')\n",
    "plt.plot(test_actual_dates, SVR_rbfk_test, color= 'yellow', label= 'RBF model Predicted Price')\n",
    "plt.plot(test_actual_dates, SVR_poly_test, color= 'green', label= 'Poly model Predicted Price') \n",
    "plt.xlabel('Date')\n",
    "plt.ylabel('Price')\n",
    "plt.legend()\n",
    "plt.show()"
   ]
  },
  {
   "cell_type": "code",
   "execution_count": 27,
   "metadata": {
    "colab": {
     "base_uri": "https://localhost:8080/"
    },
    "executionInfo": {
     "elapsed": 77,
     "status": "ok",
     "timestamp": 1640161341811,
     "user": {
      "displayName": "Antonius Ricky",
      "photoUrl": "https://lh3.googleusercontent.com/a/default-user=s64",
      "userId": "13788256783846812684"
     },
     "user_tz": -420
    },
    "id": "vUmjQQgZBFmU",
    "outputId": "5da4901a-7899-4e60-aa57-afe48b6fe3a7"
   },
   "outputs": [
    {
     "name": "stdout",
     "output_type": "stream",
     "text": [
      "SVR RBF Train RMSE: 12.00\n",
      "SVR RBF Train R2 Score: 1.00\n",
      "SVR RBF Train MAE Score: 3.94\n",
      "SVR RBF Test RMSE: 38.71\n",
      "SVR RBF Test R2 Score: 1.00\n",
      "SVR RBF Test MAE Score: 15.34\n"
     ]
    }
   ],
   "source": [
    "from sklearn.metrics import r2_score\n",
    "from sklearn.metrics import mean_squared_error\n",
    "from sklearn.metrics import mean_absolute_error\n",
    "\n",
    "print(\"SVR RBF Train RMSE: %.2f\"\n",
    "      % np.sqrt(mean_squared_error(prices_data, SVR_rbfk_train)))\n",
    "\n",
    "print(\"SVR RBF Train R2 Score: %.2f\"\n",
    "      % r2_score(prices_data, SVR_rbfk_train))\n",
    "\n",
    "print(\"SVR RBF Train MAE Score: %.2f\"\n",
    "      % mean_absolute_error(prices_data, SVR_rbfk_train))\n",
    "\n",
    "print(\"SVR RBF Test RMSE: %.2f\"\n",
    "      % np.sqrt(mean_squared_error(test_prices_data, SVR_rbfk_test)))\n",
    "\n",
    "print(\"SVR RBF Test R2 Score: %.2f\"\n",
    "      % r2_score(test_prices_data, SVR_rbfk_test))\n",
    "\n",
    "print(\"SVR RBF Test MAE Score: %.2f\"\n",
    "      % mean_absolute_error(test_prices_data, SVR_rbfk_test))\n"
   ]
  },
  {
   "cell_type": "code",
   "execution_count": 28,
   "metadata": {
    "colab": {
     "base_uri": "https://localhost:8080/"
    },
    "executionInfo": {
     "elapsed": 67,
     "status": "ok",
     "timestamp": 1640161341814,
     "user": {
      "displayName": "Antonius Ricky",
      "photoUrl": "https://lh3.googleusercontent.com/a/default-user=s64",
      "userId": "13788256783846812684"
     },
     "user_tz": -420
    },
    "id": "qoNp4IJ20Pw_",
    "outputId": "c8ac59f9-20d2-40a9-f884-e122b59ba4b7"
   },
   "outputs": [
    {
     "name": "stdout",
     "output_type": "stream",
     "text": [
      "SVR Linear Train RMSE: 486.32\n",
      "SVR Linear Train R2 Score: 0.86\n",
      "SVR Linear Train MAE Score: 352.54\n",
      "SVR Linear Test RMSE: 651.45\n",
      "SVR Linear Test R2 Score: 0.54\n",
      "SVR Linear Test MAE Score: 538.09\n"
     ]
    }
   ],
   "source": [
    "print(\"SVR Linear Train RMSE: %.2f\"\n",
    "      % np.sqrt(mean_squared_error(prices_data, SVR_linear_train)))\n",
    "\n",
    "print(\"SVR Linear Train R2 Score: %.2f\"\n",
    "      % r2_score(prices_data, SVR_linear_train))\n",
    "\n",
    "print(\"SVR Linear Train MAE Score: %.2f\"\n",
    "      % mean_absolute_error(prices_data, SVR_linear_train))\n",
    "\n",
    "print(\"SVR Linear Test RMSE: %.2f\"\n",
    "      % np.sqrt(mean_squared_error(test_prices_data, SVR_linear_test)))\n",
    "\n",
    "print(\"SVR Linear Test R2 Score: %.2f\"\n",
    "      % r2_score(test_prices_data, SVR_linear_test))\n",
    "\n",
    "print(\"SVR Linear Test MAE Score: %.2f\"\n",
    "      % mean_absolute_error(test_prices_data, SVR_linear_test))"
   ]
  },
  {
   "cell_type": "code",
   "execution_count": 29,
   "metadata": {
    "colab": {
     "base_uri": "https://localhost:8080/"
    },
    "executionInfo": {
     "elapsed": 68,
     "status": "ok",
     "timestamp": 1640161341821,
     "user": {
      "displayName": "Antonius Ricky",
      "photoUrl": "https://lh3.googleusercontent.com/a/default-user=s64",
      "userId": "13788256783846812684"
     },
     "user_tz": -420
    },
    "id": "fzC1dbwHbTEi",
    "outputId": "b6389b09-2961-470f-f5d8-907a2384e90c"
   },
   "outputs": [
    {
     "name": "stdout",
     "output_type": "stream",
     "text": [
      "SVR Poly Train RMSE: 161.60\n",
      "SVR Poly Train R2 Score: 0.99\n",
      "SVR Poly Train MAE Score: 122.26\n",
      "SVR Poly Test RMSE: 413.84\n",
      "SVR Poly Test R2 Score: 0.81\n",
      "SVR Poly Test MAE Score: 337.79\n"
     ]
    }
   ],
   "source": [
    "print(\"SVR Poly Train RMSE: %.2f\"\n",
    "      % np.sqrt(mean_squared_error(prices_data, SVR_poly_train)))\n",
    "\n",
    "print(\"SVR Poly Train R2 Score: %.2f\"\n",
    "      % r2_score(prices_data, SVR_poly_train))\n",
    "\n",
    "print(\"SVR Poly Train MAE Score: %.2f\"\n",
    "      % mean_absolute_error(prices_data, SVR_poly_train))\n",
    "\n",
    "print(\"SVR Poly Test RMSE: %.2f\"\n",
    "      % np.sqrt(mean_squared_error(test_prices_data, SVR_poly_test)))\n",
    "\n",
    "print(\"SVR Poly Test R2 Score: %.2f\"\n",
    "      % r2_score(test_prices_data, SVR_poly_test))\n",
    "\n",
    "print(\"SVR Poly Test MAE Score: %.2f\"\n",
    "      % mean_absolute_error(test_prices_data, SVR_poly_test))"
   ]
  }
 ],
 "metadata": {
  "colab": {
   "collapsed_sections": [],
   "name": "Stock Market Prediction with SVM RBF.ipynb",
   "provenance": [
    {
     "file_id": "1GOnNCVBamIyfI08scEyKb9lcXKGbSi7J",
     "timestamp": 1638709843686
    }
   ]
  },
  "kernelspec": {
   "display_name": "base",
   "language": "python",
   "name": "python3"
  },
  "language_info": {
   "codemirror_mode": {
    "name": "ipython",
    "version": 3
   },
   "file_extension": ".py",
   "mimetype": "text/x-python",
   "name": "python",
   "nbconvert_exporter": "python",
   "pygments_lexer": "ipython3",
   "version": "3.9.13"
  }
 },
 "nbformat": 4,
 "nbformat_minor": 4
}
